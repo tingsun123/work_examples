{
 "cells": [
  {
   "cell_type": "markdown",
   "metadata": {},
   "source": [
    "# Journey Data Attrition Analysis\n",
    "### Ting Sun -- Oct, 2019"
   ]
  },
  {
   "cell_type": "code",
   "execution_count": 1,
   "metadata": {},
   "outputs": [],
   "source": [
    "import pandas as pd\n",
    "import os\n",
    "import numpy as np\n",
    "import seaborn as sns"
   ]
  },
  {
   "cell_type": "code",
   "execution_count": 2,
   "metadata": {},
   "outputs": [
    {
     "data": {
      "text/plain": [
       "7"
      ]
     },
     "execution_count": 2,
     "metadata": {},
     "output_type": "execute_result"
    }
   ],
   "source": [
    "import gc\n",
    "gc.collect()"
   ]
  },
  {
   "cell_type": "code",
   "execution_count": 3,
   "metadata": {},
   "outputs": [],
   "source": [
    "from sklearn.model_selection import train_test_split\n",
    "from sklearn.preprocessing import StandardScaler"
   ]
  },
  {
   "cell_type": "code",
   "execution_count": 4,
   "metadata": {},
   "outputs": [],
   "source": [
    "from sklearn.utils import resample\n",
    "from sklearn.metrics import confusion_matrix, precision_recall_curve\n",
    "from sklearn.metrics import recall_score, classification_report, auc, roc_curve,roc_auc_score\n",
    "from sklearn.linear_model import LogisticRegression\n",
    "from sklearn import metrics\n",
    "from sklearn.metrics import confusion_matrix\n",
    "from sklearn.metrics import classification_report\n",
    "from xgboost import XGBClassifier\n",
    "from sklearn.neighbors import KNeighborsClassifier\n",
    "from sklearn.tree import DecisionTreeClassifier\n",
    "from sklearn.ensemble import RandomForestClassifier\n",
    "from sklearn.svm import SVC\n",
    "from sklearn.ensemble import GradientBoostingClassifier\n"
   ]
  },
  {
   "cell_type": "code",
   "execution_count": 5,
   "metadata": {},
   "outputs": [],
   "source": [
    "import pandas_profiling as pandprof"
   ]
  },
  {
   "cell_type": "code",
   "execution_count": 6,
   "metadata": {},
   "outputs": [],
   "source": [
    "import matplotlib.pyplot as plt\n",
    "#import scikitplot as skplt\n",
    "from sklearn import metrics"
   ]
  },
  {
   "cell_type": "code",
   "execution_count": 7,
   "metadata": {
    "scrolled": true
   },
   "outputs": [
    {
     "name": "stderr",
     "output_type": "stream",
     "text": [
      "C:\\Users\\tsun04\\AppData\\Local\\Continuum\\anaconda3\\lib\\site-packages\\h5py\\__init__.py:36: FutureWarning: Conversion of the second argument of issubdtype from `float` to `np.floating` is deprecated. In future, it will be treated as `np.float64 == np.dtype(float).type`.\n",
      "  from ._conv import register_converters as _register_converters\n"
     ]
    }
   ],
   "source": [
    "from imblearn.over_sampling import SMOTE"
   ]
  },
  {
   "cell_type": "code",
   "execution_count": 8,
   "metadata": {},
   "outputs": [],
   "source": [
    "import csv\n",
    "import itertools"
   ]
  },
  {
   "cell_type": "code",
   "execution_count": 9,
   "metadata": {},
   "outputs": [],
   "source": [
    "from tensorflow.python.keras.layers import Input, Dense, Dropout,LSTM\n",
    "from tensorflow.python.keras.models import Model, load_model\n"
   ]
  },
  {
   "cell_type": "code",
   "execution_count": 10,
   "metadata": {},
   "outputs": [],
   "source": [
    "\n",
    "from tensorflow.python.keras.callbacks import ModelCheckpoint, TensorBoard\n",
    "from tensorflow.python.keras import regularizers, Sequential"
   ]
  },
  {
   "cell_type": "code",
   "execution_count": null,
   "metadata": {},
   "outputs": [],
   "source": []
  },
  {
   "cell_type": "code",
   "execution_count": 11,
   "metadata": {},
   "outputs": [],
   "source": [
    "univ=pd.read_csv('..\\jrn_universe_201909wk1_embed.csv', skiprows=1,encoding='utf-8',sep=\",\",quoting=csv.QUOTE_NONE,engine='python',\n",
    "                names= ['idx','ocif_id','class','v1',\t'v2',\t'v3',\t'v4',\t'v5',\t'v6',\t'v7',\t'v8',\t'v9',\t'v10',\t'v11',\t'v12',\t'v13',\t'v14',\t'v15',\t'v16',\t'v17',\t'v18',\t'v19',\t'v20',\t'v21',\t'v22',\t'v23',\t'v24',\t'v25',\t'v26',\t'v27',\t'v28',\t'v29',\t'v30',\t'v31',\t'v32',\t'v33',\t'v34',\t'v35',\t'v36',\t'v37',\t'v38',\t'v39',\t'v40',\t'v41',\t'v42',\t'v43',\t'v44',\t'v45',\t'v46',\t'v47',\t'v48',\t'v49',\t'v50',\n",
    "])"
   ]
  },
  {
   "cell_type": "code",
   "execution_count": 12,
   "metadata": {
    "scrolled": true
   },
   "outputs": [
    {
     "data": {
      "text/html": [
       "<div>\n",
       "<style scoped>\n",
       "    .dataframe tbody tr th:only-of-type {\n",
       "        vertical-align: middle;\n",
       "    }\n",
       "\n",
       "    .dataframe tbody tr th {\n",
       "        vertical-align: top;\n",
       "    }\n",
       "\n",
       "    .dataframe thead th {\n",
       "        text-align: right;\n",
       "    }\n",
       "</style>\n",
       "<table border=\"1\" class=\"dataframe\">\n",
       "  <thead>\n",
       "    <tr style=\"text-align: right;\">\n",
       "      <th></th>\n",
       "      <th>idx</th>\n",
       "      <th>ocif_id</th>\n",
       "      <th>class</th>\n",
       "      <th>v1</th>\n",
       "      <th>v2</th>\n",
       "      <th>v3</th>\n",
       "      <th>v4</th>\n",
       "      <th>v5</th>\n",
       "      <th>v6</th>\n",
       "      <th>v7</th>\n",
       "      <th>...</th>\n",
       "      <th>v41</th>\n",
       "      <th>v42</th>\n",
       "      <th>v43</th>\n",
       "      <th>v44</th>\n",
       "      <th>v45</th>\n",
       "      <th>v46</th>\n",
       "      <th>v47</th>\n",
       "      <th>v48</th>\n",
       "      <th>v49</th>\n",
       "      <th>v50</th>\n",
       "    </tr>\n",
       "  </thead>\n",
       "  <tbody>\n",
       "    <tr>\n",
       "      <th>0</th>\n",
       "      <td>0</td>\n",
       "      <td>001069464216288</td>\n",
       "      <td>0</td>\n",
       "      <td>-1.433111</td>\n",
       "      <td>5.209958</td>\n",
       "      <td>-5.731508</td>\n",
       "      <td>0.873382</td>\n",
       "      <td>-1.761791</td>\n",
       "      <td>-0.173951</td>\n",
       "      <td>4.373620</td>\n",
       "      <td>...</td>\n",
       "      <td>5.822658</td>\n",
       "      <td>-1.575693</td>\n",
       "      <td>-0.734080</td>\n",
       "      <td>-0.788835</td>\n",
       "      <td>-0.537356</td>\n",
       "      <td>-4.471012</td>\n",
       "      <td>-5.095016</td>\n",
       "      <td>-6.633667</td>\n",
       "      <td>2.481604</td>\n",
       "      <td>-6.480044</td>\n",
       "    </tr>\n",
       "    <tr>\n",
       "      <th>1</th>\n",
       "      <td>1</td>\n",
       "      <td>001069464307179</td>\n",
       "      <td>0</td>\n",
       "      <td>-3.739344</td>\n",
       "      <td>7.331641</td>\n",
       "      <td>-4.983212</td>\n",
       "      <td>-1.271056</td>\n",
       "      <td>-2.616382</td>\n",
       "      <td>-0.294269</td>\n",
       "      <td>3.283833</td>\n",
       "      <td>...</td>\n",
       "      <td>0.312733</td>\n",
       "      <td>-2.865328</td>\n",
       "      <td>-2.334048</td>\n",
       "      <td>-0.861015</td>\n",
       "      <td>-4.896544</td>\n",
       "      <td>-1.938946</td>\n",
       "      <td>4.658707</td>\n",
       "      <td>-6.747419</td>\n",
       "      <td>1.286169</td>\n",
       "      <td>-4.215518</td>\n",
       "    </tr>\n",
       "    <tr>\n",
       "      <th>2</th>\n",
       "      <td>2</td>\n",
       "      <td>001069464309050</td>\n",
       "      <td>0</td>\n",
       "      <td>-2.707020</td>\n",
       "      <td>-3.267683</td>\n",
       "      <td>-0.910116</td>\n",
       "      <td>-0.940657</td>\n",
       "      <td>-7.300041</td>\n",
       "      <td>0.589323</td>\n",
       "      <td>-0.006612</td>\n",
       "      <td>...</td>\n",
       "      <td>-6.223355</td>\n",
       "      <td>-10.784649</td>\n",
       "      <td>-1.112462</td>\n",
       "      <td>-1.100864</td>\n",
       "      <td>-5.309468</td>\n",
       "      <td>-1.130732</td>\n",
       "      <td>-2.145075</td>\n",
       "      <td>0.037013</td>\n",
       "      <td>1.472310</td>\n",
       "      <td>-4.965487</td>\n",
       "    </tr>\n",
       "    <tr>\n",
       "      <th>3</th>\n",
       "      <td>3</td>\n",
       "      <td>001069466113872</td>\n",
       "      <td>0</td>\n",
       "      <td>-1.426828</td>\n",
       "      <td>1.852410</td>\n",
       "      <td>-1.614281</td>\n",
       "      <td>-0.114438</td>\n",
       "      <td>-2.819932</td>\n",
       "      <td>-1.379477</td>\n",
       "      <td>0.344765</td>\n",
       "      <td>...</td>\n",
       "      <td>0.076467</td>\n",
       "      <td>0.022537</td>\n",
       "      <td>-0.445504</td>\n",
       "      <td>-1.891142</td>\n",
       "      <td>-1.251115</td>\n",
       "      <td>-0.819161</td>\n",
       "      <td>0.934334</td>\n",
       "      <td>-1.805593</td>\n",
       "      <td>-0.036279</td>\n",
       "      <td>-1.130304</td>\n",
       "    </tr>\n",
       "    <tr>\n",
       "      <th>4</th>\n",
       "      <td>4</td>\n",
       "      <td>001069467716456</td>\n",
       "      <td>0</td>\n",
       "      <td>-3.074671</td>\n",
       "      <td>5.708027</td>\n",
       "      <td>-3.455483</td>\n",
       "      <td>-1.740084</td>\n",
       "      <td>-1.422159</td>\n",
       "      <td>-2.152689</td>\n",
       "      <td>4.925292</td>\n",
       "      <td>...</td>\n",
       "      <td>-4.247244</td>\n",
       "      <td>-5.694802</td>\n",
       "      <td>-1.734305</td>\n",
       "      <td>-0.610952</td>\n",
       "      <td>-2.392882</td>\n",
       "      <td>-1.109465</td>\n",
       "      <td>4.785700</td>\n",
       "      <td>-5.106378</td>\n",
       "      <td>-0.321304</td>\n",
       "      <td>-3.152390</td>\n",
       "    </tr>\n",
       "  </tbody>\n",
       "</table>\n",
       "<p>5 rows × 53 columns</p>\n",
       "</div>"
      ],
      "text/plain": [
       "   idx          ocif_id  class        v1        v2        v3        v4  \\\n",
       "0    0  001069464216288      0 -1.433111  5.209958 -5.731508  0.873382   \n",
       "1    1  001069464307179      0 -3.739344  7.331641 -4.983212 -1.271056   \n",
       "2    2  001069464309050      0 -2.707020 -3.267683 -0.910116 -0.940657   \n",
       "3    3  001069466113872      0 -1.426828  1.852410 -1.614281 -0.114438   \n",
       "4    4  001069467716456      0 -3.074671  5.708027 -3.455483 -1.740084   \n",
       "\n",
       "         v5        v6        v7    ...          v41        v42       v43  \\\n",
       "0 -1.761791 -0.173951  4.373620    ...     5.822658  -1.575693 -0.734080   \n",
       "1 -2.616382 -0.294269  3.283833    ...     0.312733  -2.865328 -2.334048   \n",
       "2 -7.300041  0.589323 -0.006612    ...    -6.223355 -10.784649 -1.112462   \n",
       "3 -2.819932 -1.379477  0.344765    ...     0.076467   0.022537 -0.445504   \n",
       "4 -1.422159 -2.152689  4.925292    ...    -4.247244  -5.694802 -1.734305   \n",
       "\n",
       "        v44       v45       v46       v47       v48       v49       v50  \n",
       "0 -0.788835 -0.537356 -4.471012 -5.095016 -6.633667  2.481604 -6.480044  \n",
       "1 -0.861015 -4.896544 -1.938946  4.658707 -6.747419  1.286169 -4.215518  \n",
       "2 -1.100864 -5.309468 -1.130732 -2.145075  0.037013  1.472310 -4.965487  \n",
       "3 -1.891142 -1.251115 -0.819161  0.934334 -1.805593 -0.036279 -1.130304  \n",
       "4 -0.610952 -2.392882 -1.109465  4.785700 -5.106378 -0.321304 -3.152390  \n",
       "\n",
       "[5 rows x 53 columns]"
      ]
     },
     "execution_count": 12,
     "metadata": {},
     "output_type": "execute_result"
    }
   ],
   "source": [
    "univ.head()"
   ]
  },
  {
   "cell_type": "code",
   "execution_count": 13,
   "metadata": {
    "scrolled": true
   },
   "outputs": [],
   "source": [
    "#remove quote and change type to float:\n",
    "\n",
    "#univ['v1']=univ.v1.str.replace('\"', '').astype('float64')\n"
   ]
  },
  {
   "cell_type": "code",
   "execution_count": 14,
   "metadata": {},
   "outputs": [],
   "source": [
    "#univ['v50']=univ.v50.str.replace('\"', '').astype('float64')"
   ]
  },
  {
   "cell_type": "code",
   "execution_count": 15,
   "metadata": {},
   "outputs": [],
   "source": [
    "#univ['ocif_id']=univ['ocif_id'].astype('str')"
   ]
  },
  {
   "cell_type": "code",
   "execution_count": 16,
   "metadata": {},
   "outputs": [
    {
     "data": {
      "text/plain": [
       "idx          int64\n",
       "ocif_id     object\n",
       "class        int64\n",
       "v1         float64\n",
       "v2         float64\n",
       "v3         float64\n",
       "v4         float64\n",
       "v5         float64\n",
       "v6         float64\n",
       "v7         float64\n",
       "v8         float64\n",
       "v9         float64\n",
       "v10        float64\n",
       "v11        float64\n",
       "v12        float64\n",
       "v13        float64\n",
       "v14        float64\n",
       "v15        float64\n",
       "v16        float64\n",
       "v17        float64\n",
       "v18        float64\n",
       "v19        float64\n",
       "v20        float64\n",
       "v21        float64\n",
       "v22        float64\n",
       "v23        float64\n",
       "v24        float64\n",
       "v25        float64\n",
       "v26        float64\n",
       "v27        float64\n",
       "v28        float64\n",
       "v29        float64\n",
       "v30        float64\n",
       "v31        float64\n",
       "v32        float64\n",
       "v33        float64\n",
       "v34        float64\n",
       "v35        float64\n",
       "v36        float64\n",
       "v37        float64\n",
       "v38        float64\n",
       "v39        float64\n",
       "v40        float64\n",
       "v41        float64\n",
       "v42        float64\n",
       "v43        float64\n",
       "v44        float64\n",
       "v45        float64\n",
       "v46        float64\n",
       "v47        float64\n",
       "v48        float64\n",
       "v49        float64\n",
       "v50        float64\n",
       "dtype: object"
      ]
     },
     "execution_count": 16,
     "metadata": {},
     "output_type": "execute_result"
    }
   ],
   "source": [
    "univ.dtypes"
   ]
  },
  {
   "cell_type": "markdown",
   "metadata": {},
   "source": [
    "## Data Exploration"
   ]
  },
  {
   "cell_type": "code",
   "execution_count": 15,
   "metadata": {},
   "outputs": [],
   "source": [
    "# check data to see whether it needs to be scaled (change the range of data) or normalized (change the distribution of data). \n",
    "#train test split\n"
   ]
  },
  {
   "cell_type": "code",
   "execution_count": 190,
   "metadata": {},
   "outputs": [
    {
     "data": {
      "text/plain": [
       "0"
      ]
     },
     "execution_count": 190,
     "metadata": {},
     "output_type": "execute_result"
    }
   ],
   "source": [
    "univ.isnull().sum().max()"
   ]
  },
  {
   "cell_type": "code",
   "execution_count": 191,
   "metadata": {},
   "outputs": [
    {
     "name": "stdout",
     "output_type": "stream",
     "text": [
      "Not Attrited 99.31 % of the dataset\n",
      "Attrited 0.69 % of the dataset\n"
     ]
    }
   ],
   "source": [
    "# The classes are heavily skewed we need to solve this issue later.\n",
    "print('Not Attrited', round(univ['class'].value_counts()[0]/len(univ) * 100,2), '% of the dataset')\n",
    "print('Attrited', round(univ['class'].value_counts()[1]/len(univ) * 100,2), '% of the dataset')"
   ]
  },
  {
   "cell_type": "code",
   "execution_count": 192,
   "metadata": {},
   "outputs": [
    {
     "data": {
      "text/plain": [
       "Text(0.5,1,'Class Distributions \\n (0: Not Attrited || 1: Attrited)')"
      ]
     },
     "execution_count": 192,
     "metadata": {},
     "output_type": "execute_result"
    },
    {
     "data": {
      "image/png": "[encoded data removed]",
      "text/plain": [
       "<matplotlib.figure.Figure at 0x2051769a550>"
      ]
     },
     "metadata": {},
     "output_type": "display_data"
    }
   ],
   "source": [
    "colors = [\"#0101DF\", \"#DF0101\"]\n",
    "\n",
    "sns.countplot('class', data=univ, palette=colors)\n",
    "plt.title('Class Distributions \\n (0: Not Attrited || 1: Attrited)', fontsize=14)"
   ]
  },
  {
   "cell_type": "code",
   "execution_count": 193,
   "metadata": {},
   "outputs": [],
   "source": [
    "# random undersampling"
   ]
  },
  {
   "cell_type": "code",
   "execution_count": 194,
   "metadata": {},
   "outputs": [],
   "source": [
    "univ = univ.sample(frac=1)"
   ]
  },
  {
   "cell_type": "code",
   "execution_count": 195,
   "metadata": {},
   "outputs": [
    {
     "data": {
      "text/plain": [
       "0    1000000\n",
       "1       6950\n",
       "Name: class, dtype: int64"
      ]
     },
     "execution_count": 195,
     "metadata": {},
     "output_type": "execute_result"
    }
   ],
   "source": [
    "univ['class'].value_counts()"
   ]
  },
  {
   "cell_type": "code",
   "execution_count": 196,
   "metadata": {},
   "outputs": [],
   "source": [
    "# amount of fraud classes 492 rows.\n",
    "attr_df = univ.loc[univ['class'] == 1]\n",
    "non_attr_df = univ.loc[univ['class'] == 0][:6950]"
   ]
  },
  {
   "cell_type": "code",
   "execution_count": 197,
   "metadata": {},
   "outputs": [
    {
     "data": {
      "text/html": [
       "<div>\n",
       "<style scoped>\n",
       "    .dataframe tbody tr th:only-of-type {\n",
       "        vertical-align: middle;\n",
       "    }\n",
       "\n",
       "    .dataframe tbody tr th {\n",
       "        vertical-align: top;\n",
       "    }\n",
       "\n",
       "    .dataframe thead th {\n",
       "        text-align: right;\n",
       "    }\n",
       "</style>\n",
       "<table border=\"1\" class=\"dataframe\">\n",
       "  <thead>\n",
       "    <tr style=\"text-align: right;\">\n",
       "      <th></th>\n",
       "      <th>idx</th>\n",
       "      <th>ocif_id</th>\n",
       "      <th>class</th>\n",
       "      <th>v1</th>\n",
       "      <th>v2</th>\n",
       "      <th>v3</th>\n",
       "      <th>v4</th>\n",
       "      <th>v5</th>\n",
       "      <th>v6</th>\n",
       "      <th>v7</th>\n",
       "      <th>...</th>\n",
       "      <th>v41</th>\n",
       "      <th>v42</th>\n",
       "      <th>v43</th>\n",
       "      <th>v44</th>\n",
       "      <th>v45</th>\n",
       "      <th>v46</th>\n",
       "      <th>v47</th>\n",
       "      <th>v48</th>\n",
       "      <th>v49</th>\n",
       "      <th>v50</th>\n",
       "    </tr>\n",
       "  </thead>\n",
       "  <tbody>\n",
       "    <tr>\n",
       "      <th>698483</th>\n",
       "      <td>698483</td>\n",
       "      <td>622235256468300</td>\n",
       "      <td>1</td>\n",
       "      <td>-0.061317</td>\n",
       "      <td>1.806205</td>\n",
       "      <td>-0.985280</td>\n",
       "      <td>0.723257</td>\n",
       "      <td>-0.150136</td>\n",
       "      <td>0.493264</td>\n",
       "      <td>0.521288</td>\n",
       "      <td>...</td>\n",
       "      <td>-2.110341</td>\n",
       "      <td>-0.416235</td>\n",
       "      <td>-1.787688</td>\n",
       "      <td>0.763193</td>\n",
       "      <td>0.844660</td>\n",
       "      <td>-0.968006</td>\n",
       "      <td>-2.702138</td>\n",
       "      <td>1.254500</td>\n",
       "      <td>1.723318</td>\n",
       "      <td>-1.563630</td>\n",
       "    </tr>\n",
       "    <tr>\n",
       "      <th>940964</th>\n",
       "      <td>940964</td>\n",
       "      <td>911273362798200</td>\n",
       "      <td>1</td>\n",
       "      <td>2.985120</td>\n",
       "      <td>-6.230031</td>\n",
       "      <td>0.609142</td>\n",
       "      <td>-2.970578</td>\n",
       "      <td>-2.319840</td>\n",
       "      <td>-9.232622</td>\n",
       "      <td>-18.139338</td>\n",
       "      <td>...</td>\n",
       "      <td>-1.833820</td>\n",
       "      <td>-4.580018</td>\n",
       "      <td>6.683041</td>\n",
       "      <td>5.814193</td>\n",
       "      <td>9.424515</td>\n",
       "      <td>-9.408113</td>\n",
       "      <td>-4.746937</td>\n",
       "      <td>-9.840550</td>\n",
       "      <td>-0.385886</td>\n",
       "      <td>0.242633</td>\n",
       "    </tr>\n",
       "    <tr>\n",
       "      <th>110931</th>\n",
       "      <td>110931</td>\n",
       "      <td>121229426114900</td>\n",
       "      <td>0</td>\n",
       "      <td>-36.938955</td>\n",
       "      <td>-10.270570</td>\n",
       "      <td>1.170734</td>\n",
       "      <td>-29.250171</td>\n",
       "      <td>-38.721248</td>\n",
       "      <td>46.180543</td>\n",
       "      <td>-4.837774</td>\n",
       "      <td>...</td>\n",
       "      <td>-15.867753</td>\n",
       "      <td>-26.400995</td>\n",
       "      <td>-23.360987</td>\n",
       "      <td>55.759847</td>\n",
       "      <td>74.261524</td>\n",
       "      <td>-31.258027</td>\n",
       "      <td>20.465858</td>\n",
       "      <td>-44.840886</td>\n",
       "      <td>54.463840</td>\n",
       "      <td>7.115733</td>\n",
       "    </tr>\n",
       "    <tr>\n",
       "      <th>45713</th>\n",
       "      <td>45713</td>\n",
       "      <td>109188194816800</td>\n",
       "      <td>1</td>\n",
       "      <td>-0.061317</td>\n",
       "      <td>1.806205</td>\n",
       "      <td>-0.985280</td>\n",
       "      <td>0.723257</td>\n",
       "      <td>-0.150136</td>\n",
       "      <td>0.493264</td>\n",
       "      <td>0.521288</td>\n",
       "      <td>...</td>\n",
       "      <td>-2.110341</td>\n",
       "      <td>-0.416235</td>\n",
       "      <td>-1.787688</td>\n",
       "      <td>0.763193</td>\n",
       "      <td>0.844660</td>\n",
       "      <td>-0.968006</td>\n",
       "      <td>-2.702138</td>\n",
       "      <td>1.254500</td>\n",
       "      <td>1.723318</td>\n",
       "      <td>-1.563630</td>\n",
       "    </tr>\n",
       "    <tr>\n",
       "      <th>902881</th>\n",
       "      <td>902881</td>\n",
       "      <td>824007369981700</td>\n",
       "      <td>1</td>\n",
       "      <td>-1.088705</td>\n",
       "      <td>1.860114</td>\n",
       "      <td>-0.799609</td>\n",
       "      <td>-0.555963</td>\n",
       "      <td>0.285191</td>\n",
       "      <td>1.739980</td>\n",
       "      <td>-0.706848</td>\n",
       "      <td>...</td>\n",
       "      <td>-1.029931</td>\n",
       "      <td>-1.179335</td>\n",
       "      <td>-0.287097</td>\n",
       "      <td>-0.425259</td>\n",
       "      <td>1.193300</td>\n",
       "      <td>-0.495081</td>\n",
       "      <td>-1.850443</td>\n",
       "      <td>0.045532</td>\n",
       "      <td>0.505519</td>\n",
       "      <td>-1.539724</td>\n",
       "    </tr>\n",
       "  </tbody>\n",
       "</table>\n",
       "<p>5 rows × 53 columns</p>\n",
       "</div>"
      ],
      "text/plain": [
       "           idx          ocif_id  class         v1         v2        v3  \\\n",
       "698483  698483  622235256468300      1  -0.061317   1.806205 -0.985280   \n",
       "940964  940964  911273362798200      1   2.985120  -6.230031  0.609142   \n",
       "110931  110931  121229426114900      0 -36.938955 -10.270570  1.170734   \n",
       "45713    45713  109188194816800      1  -0.061317   1.806205 -0.985280   \n",
       "902881  902881  824007369981700      1  -1.088705   1.860114 -0.799609   \n",
       "\n",
       "               v4         v5         v6         v7    ...           v41  \\\n",
       "698483   0.723257  -0.150136   0.493264   0.521288    ...     -2.110341   \n",
       "940964  -2.970578  -2.319840  -9.232622 -18.139338    ...     -1.833820   \n",
       "110931 -29.250171 -38.721248  46.180543  -4.837774    ...    -15.867753   \n",
       "45713    0.723257  -0.150136   0.493264   0.521288    ...     -2.110341   \n",
       "902881  -0.555963   0.285191   1.739980  -0.706848    ...     -1.029931   \n",
       "\n",
       "              v42        v43        v44        v45        v46        v47  \\\n",
       "698483  -0.416235  -1.787688   0.763193   0.844660  -0.968006  -2.702138   \n",
       "940964  -4.580018   6.683041   5.814193   9.424515  -9.408113  -4.746937   \n",
       "110931 -26.400995 -23.360987  55.759847  74.261524 -31.258027  20.465858   \n",
       "45713   -0.416235  -1.787688   0.763193   0.844660  -0.968006  -2.702138   \n",
       "902881  -1.179335  -0.287097  -0.425259   1.193300  -0.495081  -1.850443   \n",
       "\n",
       "              v48        v49       v50  \n",
       "698483   1.254500   1.723318 -1.563630  \n",
       "940964  -9.840550  -0.385886  0.242633  \n",
       "110931 -44.840886  54.463840  7.115733  \n",
       "45713    1.254500   1.723318 -1.563630  \n",
       "902881   0.045532   0.505519 -1.539724  \n",
       "\n",
       "[5 rows x 53 columns]"
      ]
     },
     "execution_count": 197,
     "metadata": {},
     "output_type": "execute_result"
    }
   ],
   "source": [
    "normal_distributed_df = pd.concat([attr_df, non_attr_df])\n",
    "\n",
    "# Shuffle dataframe rows\n",
    "new_df = normal_distributed_df.sample(frac=1, random_state=42)\n",
    "\n",
    "new_df.head()"
   ]
  },
  {
   "cell_type": "code",
   "execution_count": 198,
   "metadata": {},
   "outputs": [],
   "source": [
    "from scipy import stats\n"
   ]
  },
  {
   "cell_type": "code",
   "execution_count": 199,
   "metadata": {},
   "outputs": [
    {
     "data": {
      "text/plain": [
       "PointbiserialrResult(correlation=-0.0032443295023001427, pvalue=0.0011315760343701049)"
      ]
     },
     "execution_count": 199,
     "metadata": {},
     "output_type": "execute_result"
    }
   ],
   "source": [
    "stats.pointbiserialr(univ['v49'],univ['class'])"
   ]
  },
  {
   "cell_type": "code",
   "execution_count": null,
   "metadata": {},
   "outputs": [],
   "source": []
  },
  {
   "cell_type": "code",
   "execution_count": 26,
   "metadata": {},
   "outputs": [],
   "source": [
    "# Correlation Matrices"
   ]
  },
  {
   "cell_type": "code",
   "execution_count": 27,
   "metadata": {},
   "outputs": [
    {
     "data": {
      "text/plain": [
       "-0.019511231154688845"
      ]
     },
     "execution_count": 27,
     "metadata": {},
     "output_type": "execute_result"
    }
   ],
   "source": [
    "univ['class'].corr(univ['v33'])"
   ]
  },
  {
   "cell_type": "code",
   "execution_count": 28,
   "metadata": {},
   "outputs": [
    {
     "data": {
      "text/plain": [
       "-0.0032443295023001683"
      ]
     },
     "execution_count": 28,
     "metadata": {},
     "output_type": "execute_result"
    }
   ],
   "source": [
    "univ['class'].corr(univ['v49'])"
   ]
  },
  {
   "cell_type": "code",
   "execution_count": 29,
   "metadata": {},
   "outputs": [
    {
     "data": {
      "image/png": "[encoded data removed]",
      "text/plain": [
       "<matplotlib.figure.Figure at 0x1e517e17128>"
      ]
     },
     "metadata": {},
     "output_type": "display_data"
    }
   ],
   "source": [
    "\n",
    "f, (ax1, ax2) = plt.subplots(2, 1, figsize=(34,30))\n",
    "\n",
    "# Entire DataFrame\n",
    "corr = univ.corr()\n",
    "sns.heatmap(corr, cmap='coolwarm_r', annot_kws={'size':20}, ax=ax1)\n",
    "ax1.set_title(\"Imbalanced Correlation Matrix \\n \", fontsize=14)\n",
    "\n",
    "sub_sample_corr = new_df.corr()\n",
    "sns.heatmap(sub_sample_corr, cmap='coolwarm_r', annot_kws={'size':20}, ax=ax2)\n",
    "ax2.set_title('SubSample Correlation Matrix \\n (use for reference)', fontsize=14)\n",
    "plt.show()"
   ]
  },
  {
   "cell_type": "code",
   "execution_count": null,
   "metadata": {},
   "outputs": [],
   "source": []
  },
  {
   "cell_type": "code",
   "execution_count": 200,
   "metadata": {},
   "outputs": [
    {
     "data": {
      "text/plain": [
       "(13900, 53)"
      ]
     },
     "execution_count": 200,
     "metadata": {},
     "output_type": "execute_result"
    }
   ],
   "source": [
    "new_df.shape"
   ]
  },
  {
   "cell_type": "code",
   "execution_count": 201,
   "metadata": {},
   "outputs": [],
   "source": [
    "# train_test split:\n",
    "#training_data, testing_data = train_test_split(new_df, test_size=0.2, random_state = 22)"
   ]
  },
  {
   "cell_type": "code",
   "execution_count": 202,
   "metadata": {},
   "outputs": [],
   "source": [
    "y=new_df['class']"
   ]
  },
  {
   "cell_type": "code",
   "execution_count": 203,
   "metadata": {},
   "outputs": [],
   "source": [
    "X=new_df.loc[:, (new_df.columns != 'class') & (new_df.columns != 'ocif_id') & (new_df.columns != 'idx')]"
   ]
  },
  {
   "cell_type": "code",
   "execution_count": 204,
   "metadata": {},
   "outputs": [
    {
     "data": {
      "text/html": [
       "<div>\n",
       "<style scoped>\n",
       "    .dataframe tbody tr th:only-of-type {\n",
       "        vertical-align: middle;\n",
       "    }\n",
       "\n",
       "    .dataframe tbody tr th {\n",
       "        vertical-align: top;\n",
       "    }\n",
       "\n",
       "    .dataframe thead th {\n",
       "        text-align: right;\n",
       "    }\n",
       "</style>\n",
       "<table border=\"1\" class=\"dataframe\">\n",
       "  <thead>\n",
       "    <tr style=\"text-align: right;\">\n",
       "      <th></th>\n",
       "      <th>v1</th>\n",
       "      <th>v2</th>\n",
       "      <th>v3</th>\n",
       "      <th>v4</th>\n",
       "      <th>v5</th>\n",
       "      <th>v6</th>\n",
       "      <th>v7</th>\n",
       "      <th>v8</th>\n",
       "      <th>v9</th>\n",
       "      <th>v10</th>\n",
       "      <th>...</th>\n",
       "      <th>v41</th>\n",
       "      <th>v42</th>\n",
       "      <th>v43</th>\n",
       "      <th>v44</th>\n",
       "      <th>v45</th>\n",
       "      <th>v46</th>\n",
       "      <th>v47</th>\n",
       "      <th>v48</th>\n",
       "      <th>v49</th>\n",
       "      <th>v50</th>\n",
       "    </tr>\n",
       "  </thead>\n",
       "  <tbody>\n",
       "    <tr>\n",
       "      <th>698483</th>\n",
       "      <td>-0.061317</td>\n",
       "      <td>1.806205</td>\n",
       "      <td>-0.985280</td>\n",
       "      <td>0.723257</td>\n",
       "      <td>-0.150136</td>\n",
       "      <td>0.493264</td>\n",
       "      <td>0.521288</td>\n",
       "      <td>-2.480397</td>\n",
       "      <td>-0.963013</td>\n",
       "      <td>0.300467</td>\n",
       "      <td>...</td>\n",
       "      <td>-2.110341</td>\n",
       "      <td>-0.416235</td>\n",
       "      <td>-1.787688</td>\n",
       "      <td>0.763193</td>\n",
       "      <td>0.844660</td>\n",
       "      <td>-0.968006</td>\n",
       "      <td>-2.702138</td>\n",
       "      <td>1.254500</td>\n",
       "      <td>1.723318</td>\n",
       "      <td>-1.563630</td>\n",
       "    </tr>\n",
       "    <tr>\n",
       "      <th>940964</th>\n",
       "      <td>2.985120</td>\n",
       "      <td>-6.230031</td>\n",
       "      <td>0.609142</td>\n",
       "      <td>-2.970578</td>\n",
       "      <td>-2.319840</td>\n",
       "      <td>-9.232622</td>\n",
       "      <td>-18.139338</td>\n",
       "      <td>0.014659</td>\n",
       "      <td>-7.951917</td>\n",
       "      <td>10.889421</td>\n",
       "      <td>...</td>\n",
       "      <td>-1.833820</td>\n",
       "      <td>-4.580018</td>\n",
       "      <td>6.683041</td>\n",
       "      <td>5.814193</td>\n",
       "      <td>9.424515</td>\n",
       "      <td>-9.408113</td>\n",
       "      <td>-4.746937</td>\n",
       "      <td>-9.840550</td>\n",
       "      <td>-0.385886</td>\n",
       "      <td>0.242633</td>\n",
       "    </tr>\n",
       "    <tr>\n",
       "      <th>110931</th>\n",
       "      <td>-36.938955</td>\n",
       "      <td>-10.270570</td>\n",
       "      <td>1.170734</td>\n",
       "      <td>-29.250171</td>\n",
       "      <td>-38.721248</td>\n",
       "      <td>46.180543</td>\n",
       "      <td>-4.837774</td>\n",
       "      <td>-12.467940</td>\n",
       "      <td>-77.946099</td>\n",
       "      <td>60.086772</td>\n",
       "      <td>...</td>\n",
       "      <td>-15.867753</td>\n",
       "      <td>-26.400995</td>\n",
       "      <td>-23.360987</td>\n",
       "      <td>55.759847</td>\n",
       "      <td>74.261524</td>\n",
       "      <td>-31.258027</td>\n",
       "      <td>20.465858</td>\n",
       "      <td>-44.840886</td>\n",
       "      <td>54.463840</td>\n",
       "      <td>7.115733</td>\n",
       "    </tr>\n",
       "    <tr>\n",
       "      <th>45713</th>\n",
       "      <td>-0.061317</td>\n",
       "      <td>1.806205</td>\n",
       "      <td>-0.985280</td>\n",
       "      <td>0.723257</td>\n",
       "      <td>-0.150136</td>\n",
       "      <td>0.493264</td>\n",
       "      <td>0.521288</td>\n",
       "      <td>-2.480397</td>\n",
       "      <td>-0.963013</td>\n",
       "      <td>0.300467</td>\n",
       "      <td>...</td>\n",
       "      <td>-2.110341</td>\n",
       "      <td>-0.416235</td>\n",
       "      <td>-1.787688</td>\n",
       "      <td>0.763193</td>\n",
       "      <td>0.844660</td>\n",
       "      <td>-0.968006</td>\n",
       "      <td>-2.702138</td>\n",
       "      <td>1.254500</td>\n",
       "      <td>1.723318</td>\n",
       "      <td>-1.563630</td>\n",
       "    </tr>\n",
       "    <tr>\n",
       "      <th>902881</th>\n",
       "      <td>-1.088705</td>\n",
       "      <td>1.860114</td>\n",
       "      <td>-0.799609</td>\n",
       "      <td>-0.555963</td>\n",
       "      <td>0.285191</td>\n",
       "      <td>1.739980</td>\n",
       "      <td>-0.706848</td>\n",
       "      <td>-1.798470</td>\n",
       "      <td>-0.631217</td>\n",
       "      <td>-0.163728</td>\n",
       "      <td>...</td>\n",
       "      <td>-1.029931</td>\n",
       "      <td>-1.179335</td>\n",
       "      <td>-0.287097</td>\n",
       "      <td>-0.425259</td>\n",
       "      <td>1.193300</td>\n",
       "      <td>-0.495081</td>\n",
       "      <td>-1.850443</td>\n",
       "      <td>0.045532</td>\n",
       "      <td>0.505519</td>\n",
       "      <td>-1.539724</td>\n",
       "    </tr>\n",
       "  </tbody>\n",
       "</table>\n",
       "<p>5 rows × 50 columns</p>\n",
       "</div>"
      ],
      "text/plain": [
       "               v1         v2        v3         v4         v5         v6  \\\n",
       "698483  -0.061317   1.806205 -0.985280   0.723257  -0.150136   0.493264   \n",
       "940964   2.985120  -6.230031  0.609142  -2.970578  -2.319840  -9.232622   \n",
       "110931 -36.938955 -10.270570  1.170734 -29.250171 -38.721248  46.180543   \n",
       "45713   -0.061317   1.806205 -0.985280   0.723257  -0.150136   0.493264   \n",
       "902881  -1.088705   1.860114 -0.799609  -0.555963   0.285191   1.739980   \n",
       "\n",
       "               v7         v8         v9        v10    ...           v41  \\\n",
       "698483   0.521288  -2.480397  -0.963013   0.300467    ...     -2.110341   \n",
       "940964 -18.139338   0.014659  -7.951917  10.889421    ...     -1.833820   \n",
       "110931  -4.837774 -12.467940 -77.946099  60.086772    ...    -15.867753   \n",
       "45713    0.521288  -2.480397  -0.963013   0.300467    ...     -2.110341   \n",
       "902881  -0.706848  -1.798470  -0.631217  -0.163728    ...     -1.029931   \n",
       "\n",
       "              v42        v43        v44        v45        v46        v47  \\\n",
       "698483  -0.416235  -1.787688   0.763193   0.844660  -0.968006  -2.702138   \n",
       "940964  -4.580018   6.683041   5.814193   9.424515  -9.408113  -4.746937   \n",
       "110931 -26.400995 -23.360987  55.759847  74.261524 -31.258027  20.465858   \n",
       "45713   -0.416235  -1.787688   0.763193   0.844660  -0.968006  -2.702138   \n",
       "902881  -1.179335  -0.287097  -0.425259   1.193300  -0.495081  -1.850443   \n",
       "\n",
       "              v48        v49       v50  \n",
       "698483   1.254500   1.723318 -1.563630  \n",
       "940964  -9.840550  -0.385886  0.242633  \n",
       "110931 -44.840886  54.463840  7.115733  \n",
       "45713    1.254500   1.723318 -1.563630  \n",
       "902881   0.045532   0.505519 -1.539724  \n",
       "\n",
       "[5 rows x 50 columns]"
      ]
     },
     "execution_count": 204,
     "metadata": {},
     "output_type": "execute_result"
    }
   ],
   "source": [
    "X.head()"
   ]
  },
  {
   "cell_type": "code",
   "execution_count": 205,
   "metadata": {},
   "outputs": [],
   "source": [
    "X_train, X_test, y_train, y_test = train_test_split(X, y, test_size=0.3, random_state=0)"
   ]
  },
  {
   "cell_type": "code",
   "execution_count": 206,
   "metadata": {},
   "outputs": [],
   "source": [
    "#simple logistic regression"
   ]
  },
  {
   "cell_type": "code",
   "execution_count": 207,
   "metadata": {},
   "outputs": [
    {
     "data": {
      "text/plain": [
       "(4170, 50)"
      ]
     },
     "execution_count": 207,
     "metadata": {},
     "output_type": "execute_result"
    }
   ],
   "source": [
    "X_test.shape"
   ]
  },
  {
   "cell_type": "code",
   "execution_count": 208,
   "metadata": {
    "scrolled": true
   },
   "outputs": [
    {
     "name": "stderr",
     "output_type": "stream",
     "text": [
      "C:\\Users\\tsun04\\AppData\\Local\\Continuum\\anaconda3\\lib\\site-packages\\sklearn\\linear_model\\logistic.py:432: FutureWarning: Default solver will be changed to 'lbfgs' in 0.22. Specify a solver to silence this warning.\n",
      "  FutureWarning)\n"
     ]
    },
    {
     "data": {
      "text/plain": [
       "LogisticRegression(C=1.0, class_weight=None, dual=False, fit_intercept=True,\n",
       "                   intercept_scaling=1, l1_ratio=None, max_iter=100,\n",
       "                   multi_class='warn', n_jobs=None, penalty='l2',\n",
       "                   random_state=None, solver='warn', tol=0.0001, verbose=0,\n",
       "                   warm_start=False)"
      ]
     },
     "execution_count": 208,
     "metadata": {},
     "output_type": "execute_result"
    }
   ],
   "source": [
    "logreg = LogisticRegression()\n",
    "logreg.fit(X_train, y_train)"
   ]
  },
  {
   "cell_type": "code",
   "execution_count": 209,
   "metadata": {},
   "outputs": [
    {
     "name": "stdout",
     "output_type": "stream",
     "text": [
      "Accuracy of logistic regresbsion classifier on test set: 0.83\n"
     ]
    }
   ],
   "source": [
    "y_pred = logreg.predict(X_test)\n",
    "print('Accuracy of logistic regresbsion classifier on test set: {:.2f}'.format(logreg.score(X_test, y_test)))"
   ]
  },
  {
   "cell_type": "code",
   "execution_count": 210,
   "metadata": {
    "scrolled": true
   },
   "outputs": [
    {
     "data": {
      "text/plain": [
       "1    2086\n",
       "0    2084\n",
       "Name: class, dtype: int64"
      ]
     },
     "execution_count": 210,
     "metadata": {},
     "output_type": "execute_result"
    }
   ],
   "source": [
    "y_test.value_counts()"
   ]
  },
  {
   "cell_type": "code",
   "execution_count": 211,
   "metadata": {},
   "outputs": [
    {
     "name": "stdout",
     "output_type": "stream",
     "text": [
      "[[1825  259]\n",
      " [ 430 1656]]\n"
     ]
    }
   ],
   "source": [
    "print(confusion_matrix(y_test, y_pred))"
   ]
  },
  {
   "cell_type": "code",
   "execution_count": 212,
   "metadata": {},
   "outputs": [
    {
     "name": "stdout",
     "output_type": "stream",
     "text": [
      "              precision    recall  f1-score   support\n",
      "\n",
      "           0       0.81      0.88      0.84      2084\n",
      "           1       0.86      0.79      0.83      2086\n",
      "\n",
      "    accuracy                           0.83      4170\n",
      "   macro avg       0.84      0.83      0.83      4170\n",
      "weighted avg       0.84      0.83      0.83      4170\n",
      "\n"
     ]
    }
   ],
   "source": [
    "from sklearn.metrics import classification_report\n",
    "print(classification_report(y_test, y_pred))"
   ]
  },
  {
   "cell_type": "code",
   "execution_count": 213,
   "metadata": {
    "scrolled": true
   },
   "outputs": [
    {
     "data": {
      "image/png": "[encoded data removed]",
      "text/plain": [
       "<matplotlib.figure.Figure at 0x20517692c18>"
      ]
     },
     "metadata": {},
     "output_type": "display_data"
    }
   ],
   "source": [
    "from sklearn.metrics import roc_auc_score\n",
    "from sklearn.metrics import roc_curve\n",
    "logit_roc_auc = roc_auc_score(y_test, logreg.predict(X_test))\n",
    "fpr, tpr, thresholds = roc_curve(y_test, logreg.predict_proba(X_test)[:,1])\n",
    "plt.figure()\n",
    "plt.plot(fpr, tpr, label='Logistic Regression (area = %0.2f)' % logit_roc_auc)\n",
    "plt.plot([0, 1], [0, 1],'r--')\n",
    "plt.xlim([0.0, 1.0])\n",
    "plt.ylim([0.0, 1.05])\n",
    "plt.xlabel('False Positive Rate')\n",
    "plt.ylabel('True Positive Rate')\n",
    "plt.title('Receiver operating characteristic')\n",
    "plt.legend(loc=\"lower right\")\n",
    "plt.savefig('Log_ROC')\n",
    "plt.show()"
   ]
  },
  {
   "cell_type": "code",
   "execution_count": 67,
   "metadata": {},
   "outputs": [],
   "source": [
    "#plot classification report\n",
    "def plot_classification_report(classificationReport,\n",
    "                               title='Classification report',\n",
    "                               cmap='RdBu'):\n",
    "\n",
    "    classificationReport = classificationReport.replace('\\n\\n', '\\n')\n",
    "    classificationReport = classificationReport.replace(' / ', '/')\n",
    "    lines = classificationReport.split('\\n')\n",
    "\n",
    "    classes, plotMat, support, class_names = [], [], [], []\n",
    "    for line in lines[1:]:  # if you don't want avg/total result, then change [1:] into [1:-1]\n",
    "        t = line.strip().split()\n",
    "        if len(t) < 2:\n",
    "            continue\n",
    "        classes.append(t[0])\n",
    "        v = [float(x) for x in t[1: len(t) - 1]]\n",
    "        support.append(int(t[-1]))\n",
    "        class_names.append(t[0])\n",
    "        plotMat.append(v)\n",
    "\n",
    "    plotMat = np.array(plotMat)\n",
    "    xticklabels = ['Precision', 'Recall', 'F1-score']\n",
    "    yticklabels = ['{0} ({1})'.format(class_names[idx], sup)\n",
    "                   for idx, sup in enumerate(support)]\n",
    "\n",
    "    plt.imshow(plotMat, interpolation='nearest', cmap=cmap, aspect='auto')\n",
    "    plt.title(title)\n",
    "    plt.colorbar()\n",
    "    plt.xticks(np.arange(3), xticklabels, rotation=45)\n",
    "    plt.yticks(np.arange(len(classes)), yticklabels)\n",
    "\n",
    "    upper_thresh = plotMat.min() + (plotMat.max() - plotMat.min()) / 10 * 8\n",
    "    lower_thresh = plotMat.min() + (plotMat.max() - plotMat.min()) / 10 * 2\n",
    "    for i, j in itertools.product(range(plotMat.shape[0]), range(plotMat.shape[1])):\n",
    "        plt.text(j, i, format(plotMat[i, j], '.2f'),\n",
    "                 horizontalalignment=\"center\",\n",
    "                 color=\"white\" if (plotMat[i, j] > upper_thresh or plotMat[i, j] < lower_thresh) else \"black\",fontsize=12,fontweight='bold')\n",
    "\n",
    "    plt.ylabel('Metrics')\n",
    "    plt.xlabel('Classes')\n",
    "    plt.tight_layout()"
   ]
  },
  {
   "cell_type": "code",
   "execution_count": 44,
   "metadata": {},
   "outputs": [
    {
     "data": {
      "text/plain": [
       "'              precision    recall  f1-score   support\\n\\n           0       0.81      0.89      0.85      2084\\n           1       0.88      0.79      0.83      2086\\n\\n    accuracy                           0.84      4170\\n   macro avg       0.84      0.84      0.84      4170\\nweighted avg       0.84      0.84      0.84      4170\\n'"
      ]
     },
     "execution_count": 44,
     "metadata": {},
     "output_type": "execute_result"
    }
   ],
   "source": [
    "classification_report(y_test, y_pred)"
   ]
  },
  {
   "cell_type": "code",
   "execution_count": 52,
   "metadata": {},
   "outputs": [
    {
     "ename": "NameError",
     "evalue": "name 'y_test' is not defined",
     "output_type": "error",
     "traceback": [
      "\u001b[1;31m---------------------------------------------------------------------------\u001b[0m",
      "\u001b[1;31mNameError\u001b[0m                                 Traceback (most recent call last)",
      "\u001b[1;32m<ipython-input-52-9c3dd3568f27>\u001b[0m in \u001b[0;36m<module>\u001b[1;34m()\u001b[0m\n\u001b[1;32m----> 1\u001b[1;33m \u001b[0mlen\u001b[0m\u001b[1;33m(\u001b[0m\u001b[0mclassification_report\u001b[0m\u001b[1;33m(\u001b[0m\u001b[0my_test\u001b[0m\u001b[1;33m,\u001b[0m \u001b[0my_pred\u001b[0m\u001b[1;33m)\u001b[0m\u001b[1;33m)\u001b[0m\u001b[1;33m\u001b[0m\u001b[1;33m\u001b[0m\u001b[0m\n\u001b[0m",
      "\u001b[1;31mNameError\u001b[0m: name 'y_test' is not defined"
     ]
    }
   ],
   "source": [
    "len(classification_report(y_test, y_pred))"
   ]
  },
  {
   "cell_type": "code",
   "execution_count": 61,
   "metadata": {},
   "outputs": [],
   "source": [
    "sampleClassificationReport = \"\"\"            precision    recall  f1-score   support\\n\\n           0       0.81      0.89      0.85      2084\\n           1       0.88      0.79      0.83      2086\\n\\n    \"\"\""
   ]
  },
  {
   "cell_type": "code",
   "execution_count": 62,
   "metadata": {},
   "outputs": [
    {
     "data": {
      "text/plain": [
       "166"
      ]
     },
     "execution_count": 62,
     "metadata": {},
     "output_type": "execute_result"
    }
   ],
   "source": [
    "len(sampleClassificationReport)"
   ]
  },
  {
   "cell_type": "code",
   "execution_count": 46,
   "metadata": {},
   "outputs": [
    {
     "data": {
      "image/png": "[encoded data removed]",
      "text/plain": [
       "<matplotlib.figure.Figure at 0x1e509f9ccc0>"
      ]
     },
     "metadata": {},
     "output_type": "display_data"
    }
   ],
   "source": [
    "plt.figure(figsize=(10,6))\n",
    "plot_classification_report(sampleClassificationReport)\n",
    "plt.show()"
   ]
  },
  {
   "cell_type": "code",
   "execution_count": null,
   "metadata": {},
   "outputs": [],
   "source": []
  },
  {
   "cell_type": "markdown",
   "metadata": {},
   "source": [
    "## remove vars that are highly correlated from base dataframe based on profile report"
   ]
  },
  {
   "cell_type": "code",
   "execution_count": 17,
   "metadata": {},
   "outputs": [
    {
     "data": {
      "text/plain": [
       "(1006950, 53)"
      ]
     },
     "execution_count": 17,
     "metadata": {},
     "output_type": "execute_result"
    }
   ],
   "source": [
    "univ.shape"
   ]
  },
  {
   "cell_type": "code",
   "execution_count": 18,
   "metadata": {},
   "outputs": [
    {
     "data": {
      "text/plain": [
       "71"
      ]
     },
     "execution_count": 18,
     "metadata": {},
     "output_type": "execute_result"
    }
   ],
   "source": [
    "import gc\n",
    "gc.collect()"
   ]
  },
  {
   "cell_type": "code",
   "execution_count": 19,
   "metadata": {},
   "outputs": [],
   "source": [
    "univ1=univ.drop(['v25','v45'], axis = 1) "
   ]
  },
  {
   "cell_type": "code",
   "execution_count": 20,
   "metadata": {},
   "outputs": [
    {
     "data": {
      "text/html": [
       "<div>\n",
       "<style scoped>\n",
       "    .dataframe tbody tr th:only-of-type {\n",
       "        vertical-align: middle;\n",
       "    }\n",
       "\n",
       "    .dataframe tbody tr th {\n",
       "        vertical-align: top;\n",
       "    }\n",
       "\n",
       "    .dataframe thead th {\n",
       "        text-align: right;\n",
       "    }\n",
       "</style>\n",
       "<table border=\"1\" class=\"dataframe\">\n",
       "  <thead>\n",
       "    <tr style=\"text-align: right;\">\n",
       "      <th></th>\n",
       "      <th>idx</th>\n",
       "      <th>ocif_id</th>\n",
       "      <th>class</th>\n",
       "      <th>v1</th>\n",
       "      <th>v2</th>\n",
       "      <th>v3</th>\n",
       "      <th>v4</th>\n",
       "      <th>v5</th>\n",
       "      <th>v6</th>\n",
       "      <th>v7</th>\n",
       "      <th>...</th>\n",
       "      <th>v40</th>\n",
       "      <th>v41</th>\n",
       "      <th>v42</th>\n",
       "      <th>v43</th>\n",
       "      <th>v44</th>\n",
       "      <th>v46</th>\n",
       "      <th>v47</th>\n",
       "      <th>v48</th>\n",
       "      <th>v49</th>\n",
       "      <th>v50</th>\n",
       "    </tr>\n",
       "  </thead>\n",
       "  <tbody>\n",
       "    <tr>\n",
       "      <th>0</th>\n",
       "      <td>0</td>\n",
       "      <td>001069464216288</td>\n",
       "      <td>0</td>\n",
       "      <td>-1.433111</td>\n",
       "      <td>5.209958</td>\n",
       "      <td>-5.731508</td>\n",
       "      <td>0.873382</td>\n",
       "      <td>-1.761791</td>\n",
       "      <td>-0.173951</td>\n",
       "      <td>4.373620</td>\n",
       "      <td>...</td>\n",
       "      <td>0.259572</td>\n",
       "      <td>5.822658</td>\n",
       "      <td>-1.575693</td>\n",
       "      <td>-0.734080</td>\n",
       "      <td>-0.788835</td>\n",
       "      <td>-4.471012</td>\n",
       "      <td>-5.095016</td>\n",
       "      <td>-6.633667</td>\n",
       "      <td>2.481604</td>\n",
       "      <td>-6.480044</td>\n",
       "    </tr>\n",
       "    <tr>\n",
       "      <th>1</th>\n",
       "      <td>1</td>\n",
       "      <td>001069464307179</td>\n",
       "      <td>0</td>\n",
       "      <td>-3.739344</td>\n",
       "      <td>7.331641</td>\n",
       "      <td>-4.983212</td>\n",
       "      <td>-1.271056</td>\n",
       "      <td>-2.616382</td>\n",
       "      <td>-0.294269</td>\n",
       "      <td>3.283833</td>\n",
       "      <td>...</td>\n",
       "      <td>-1.629192</td>\n",
       "      <td>0.312733</td>\n",
       "      <td>-2.865328</td>\n",
       "      <td>-2.334048</td>\n",
       "      <td>-0.861015</td>\n",
       "      <td>-1.938946</td>\n",
       "      <td>4.658707</td>\n",
       "      <td>-6.747419</td>\n",
       "      <td>1.286169</td>\n",
       "      <td>-4.215518</td>\n",
       "    </tr>\n",
       "    <tr>\n",
       "      <th>2</th>\n",
       "      <td>2</td>\n",
       "      <td>001069464309050</td>\n",
       "      <td>0</td>\n",
       "      <td>-2.707020</td>\n",
       "      <td>-3.267683</td>\n",
       "      <td>-0.910116</td>\n",
       "      <td>-0.940657</td>\n",
       "      <td>-7.300041</td>\n",
       "      <td>0.589323</td>\n",
       "      <td>-0.006612</td>\n",
       "      <td>...</td>\n",
       "      <td>3.712376</td>\n",
       "      <td>-6.223355</td>\n",
       "      <td>-10.784649</td>\n",
       "      <td>-1.112462</td>\n",
       "      <td>-1.100864</td>\n",
       "      <td>-1.130732</td>\n",
       "      <td>-2.145075</td>\n",
       "      <td>0.037013</td>\n",
       "      <td>1.472310</td>\n",
       "      <td>-4.965487</td>\n",
       "    </tr>\n",
       "    <tr>\n",
       "      <th>3</th>\n",
       "      <td>3</td>\n",
       "      <td>001069466113872</td>\n",
       "      <td>0</td>\n",
       "      <td>-1.426828</td>\n",
       "      <td>1.852410</td>\n",
       "      <td>-1.614281</td>\n",
       "      <td>-0.114438</td>\n",
       "      <td>-2.819932</td>\n",
       "      <td>-1.379477</td>\n",
       "      <td>0.344765</td>\n",
       "      <td>...</td>\n",
       "      <td>0.049793</td>\n",
       "      <td>0.076467</td>\n",
       "      <td>0.022537</td>\n",
       "      <td>-0.445504</td>\n",
       "      <td>-1.891142</td>\n",
       "      <td>-0.819161</td>\n",
       "      <td>0.934334</td>\n",
       "      <td>-1.805593</td>\n",
       "      <td>-0.036279</td>\n",
       "      <td>-1.130304</td>\n",
       "    </tr>\n",
       "    <tr>\n",
       "      <th>4</th>\n",
       "      <td>4</td>\n",
       "      <td>001069467716456</td>\n",
       "      <td>0</td>\n",
       "      <td>-3.074671</td>\n",
       "      <td>5.708027</td>\n",
       "      <td>-3.455483</td>\n",
       "      <td>-1.740084</td>\n",
       "      <td>-1.422159</td>\n",
       "      <td>-2.152689</td>\n",
       "      <td>4.925292</td>\n",
       "      <td>...</td>\n",
       "      <td>-2.404101</td>\n",
       "      <td>-4.247244</td>\n",
       "      <td>-5.694802</td>\n",
       "      <td>-1.734305</td>\n",
       "      <td>-0.610952</td>\n",
       "      <td>-1.109465</td>\n",
       "      <td>4.785700</td>\n",
       "      <td>-5.106378</td>\n",
       "      <td>-0.321304</td>\n",
       "      <td>-3.152390</td>\n",
       "    </tr>\n",
       "  </tbody>\n",
       "</table>\n",
       "<p>5 rows × 51 columns</p>\n",
       "</div>"
      ],
      "text/plain": [
       "   idx          ocif_id  class        v1        v2        v3        v4  \\\n",
       "0    0  001069464216288      0 -1.433111  5.209958 -5.731508  0.873382   \n",
       "1    1  001069464307179      0 -3.739344  7.331641 -4.983212 -1.271056   \n",
       "2    2  001069464309050      0 -2.707020 -3.267683 -0.910116 -0.940657   \n",
       "3    3  001069466113872      0 -1.426828  1.852410 -1.614281 -0.114438   \n",
       "4    4  001069467716456      0 -3.074671  5.708027 -3.455483 -1.740084   \n",
       "\n",
       "         v5        v6        v7    ...          v40       v41        v42  \\\n",
       "0 -1.761791 -0.173951  4.373620    ...     0.259572  5.822658  -1.575693   \n",
       "1 -2.616382 -0.294269  3.283833    ...    -1.629192  0.312733  -2.865328   \n",
       "2 -7.300041  0.589323 -0.006612    ...     3.712376 -6.223355 -10.784649   \n",
       "3 -2.819932 -1.379477  0.344765    ...     0.049793  0.076467   0.022537   \n",
       "4 -1.422159 -2.152689  4.925292    ...    -2.404101 -4.247244  -5.694802   \n",
       "\n",
       "        v43       v44       v46       v47       v48       v49       v50  \n",
       "0 -0.734080 -0.788835 -4.471012 -5.095016 -6.633667  2.481604 -6.480044  \n",
       "1 -2.334048 -0.861015 -1.938946  4.658707 -6.747419  1.286169 -4.215518  \n",
       "2 -1.112462 -1.100864 -1.130732 -2.145075  0.037013  1.472310 -4.965487  \n",
       "3 -0.445504 -1.891142 -0.819161  0.934334 -1.805593 -0.036279 -1.130304  \n",
       "4 -1.734305 -0.610952 -1.109465  4.785700 -5.106378 -0.321304 -3.152390  \n",
       "\n",
       "[5 rows x 51 columns]"
      ]
     },
     "execution_count": 20,
     "metadata": {},
     "output_type": "execute_result"
    }
   ],
   "source": [
    "univ1.head()"
   ]
  },
  {
   "cell_type": "markdown",
   "metadata": {},
   "source": [
    "## smote oversampling "
   ]
  },
  {
   "cell_type": "code",
   "execution_count": 21,
   "metadata": {},
   "outputs": [],
   "source": [
    "os = SMOTE(random_state=9)"
   ]
  },
  {
   "cell_type": "code",
   "execution_count": 22,
   "metadata": {},
   "outputs": [],
   "source": [
    "smoteY=univ1['class']"
   ]
  },
  {
   "cell_type": "code",
   "execution_count": 23,
   "metadata": {},
   "outputs": [],
   "source": [
    "smoteX=univ1.loc[:, (univ1.columns != 'class') & (univ1.columns != 'ocif_id') & (univ1.columns != 'idx')]"
   ]
  },
  {
   "cell_type": "code",
   "execution_count": 24,
   "metadata": {},
   "outputs": [],
   "source": [
    "sX_train, sX_test, sy_train, sy_test = train_test_split(smoteX, smoteY, test_size=0.3, random_state=8)"
   ]
  },
  {
   "cell_type": "code",
   "execution_count": 25,
   "metadata": {},
   "outputs": [],
   "source": [
    "os_data_X,os_data_y=os.fit_sample(sX_train, sy_train)\n"
   ]
  },
  {
   "cell_type": "code",
   "execution_count": 26,
   "metadata": {},
   "outputs": [
    {
     "data": {
      "text/plain": [
       "(302085, 48)"
      ]
     },
     "execution_count": 26,
     "metadata": {},
     "output_type": "execute_result"
    }
   ],
   "source": [
    "sX_test.shape"
   ]
  },
  {
   "cell_type": "code",
   "execution_count": 27,
   "metadata": {},
   "outputs": [
    {
     "data": {
      "text/plain": [
       "(704865, 48)"
      ]
     },
     "execution_count": 27,
     "metadata": {},
     "output_type": "execute_result"
    }
   ],
   "source": [
    "sX_train.shape"
   ]
  },
  {
   "cell_type": "code",
   "execution_count": 28,
   "metadata": {},
   "outputs": [],
   "source": [
    "columns = sX_train.columns"
   ]
  },
  {
   "cell_type": "code",
   "execution_count": 29,
   "metadata": {},
   "outputs": [],
   "source": [
    "os_data_X = pd.DataFrame(data=os_data_X,columns=columns )\n",
    "os_data_y= pd.DataFrame(data=os_data_y,columns=['y'])"
   ]
  },
  {
   "cell_type": "code",
   "execution_count": 30,
   "metadata": {},
   "outputs": [
    {
     "data": {
      "text/html": [
       "<div>\n",
       "<style scoped>\n",
       "    .dataframe tbody tr th:only-of-type {\n",
       "        vertical-align: middle;\n",
       "    }\n",
       "\n",
       "    .dataframe tbody tr th {\n",
       "        vertical-align: top;\n",
       "    }\n",
       "\n",
       "    .dataframe thead th {\n",
       "        text-align: right;\n",
       "    }\n",
       "</style>\n",
       "<table border=\"1\" class=\"dataframe\">\n",
       "  <thead>\n",
       "    <tr style=\"text-align: right;\">\n",
       "      <th></th>\n",
       "      <th>y</th>\n",
       "    </tr>\n",
       "  </thead>\n",
       "  <tbody>\n",
       "    <tr>\n",
       "      <th>0</th>\n",
       "      <td>0</td>\n",
       "    </tr>\n",
       "    <tr>\n",
       "      <th>1</th>\n",
       "      <td>0</td>\n",
       "    </tr>\n",
       "    <tr>\n",
       "      <th>2</th>\n",
       "      <td>0</td>\n",
       "    </tr>\n",
       "    <tr>\n",
       "      <th>3</th>\n",
       "      <td>0</td>\n",
       "    </tr>\n",
       "    <tr>\n",
       "      <th>4</th>\n",
       "      <td>0</td>\n",
       "    </tr>\n",
       "  </tbody>\n",
       "</table>\n",
       "</div>"
      ],
      "text/plain": [
       "   y\n",
       "0  0\n",
       "1  0\n",
       "2  0\n",
       "3  0\n",
       "4  0"
      ]
     },
     "execution_count": 30,
     "metadata": {},
     "output_type": "execute_result"
    }
   ],
   "source": [
    "os_data_y.head()"
   ]
  },
  {
   "cell_type": "code",
   "execution_count": 31,
   "metadata": {},
   "outputs": [
    {
     "data": {
      "text/plain": [
       "1    700011\n",
       "0    700011\n",
       "Name: y, dtype: int64"
      ]
     },
     "execution_count": 31,
     "metadata": {},
     "output_type": "execute_result"
    }
   ],
   "source": [
    "os_data_y['y'].value_counts()"
   ]
  },
  {
   "cell_type": "code",
   "execution_count": 32,
   "metadata": {},
   "outputs": [],
   "source": [
    "## we now have balanced training dataset. we can do Recursive Feature Elimination (RFE)\n"
   ]
  },
  {
   "cell_type": "code",
   "execution_count": 33,
   "metadata": {},
   "outputs": [],
   "source": [
    "#from sklearn.feature_selection import RFE"
   ]
  },
  {
   "cell_type": "code",
   "execution_count": 34,
   "metadata": {},
   "outputs": [],
   "source": [
    "#logreg = LogisticRegression()"
   ]
  },
  {
   "cell_type": "code",
   "execution_count": 35,
   "metadata": {},
   "outputs": [],
   "source": [
    "#rfe = RFE(logreg, 30)"
   ]
  },
  {
   "cell_type": "code",
   "execution_count": 36,
   "metadata": {},
   "outputs": [],
   "source": [
    "#rfe1 = rfe.fit(os_data_X,os_data_y)"
   ]
  },
  {
   "cell_type": "code",
   "execution_count": 37,
   "metadata": {},
   "outputs": [],
   "source": [
    "#print(rfe1.ranking_)"
   ]
  },
  {
   "cell_type": "code",
   "execution_count": 38,
   "metadata": {},
   "outputs": [],
   "source": [
    "#rfe.support_"
   ]
  },
  {
   "cell_type": "code",
   "execution_count": 39,
   "metadata": {},
   "outputs": [],
   "source": [
    "#fncol=os_data_X.columns[rfe.support_]"
   ]
  },
  {
   "cell_type": "code",
   "execution_count": 70,
   "metadata": {},
   "outputs": [],
   "source": [
    "#find the most significant 30 columns. and drop the other 14. \n",
    "\n",
    "#os_data_X1 = pd.DataFrame(data=os_data_X,columns=fncol )"
   ]
  },
  {
   "cell_type": "code",
   "execution_count": 71,
   "metadata": {},
   "outputs": [],
   "source": [
    "#os_data_X1.shape"
   ]
  },
  {
   "cell_type": "code",
   "execution_count": 72,
   "metadata": {},
   "outputs": [],
   "source": [
    "# p values are all significant. we are good to go. "
   ]
  },
  {
   "cell_type": "markdown",
   "metadata": {},
   "source": [
    "# Implement simple classifiers"
   ]
  },
  {
   "cell_type": "code",
   "execution_count": 40,
   "metadata": {},
   "outputs": [],
   "source": [
    "import pickle"
   ]
  },
  {
   "cell_type": "code",
   "execution_count": 25,
   "metadata": {},
   "outputs": [],
   "source": [
    "\n",
    "\n",
    "classifiers = {\n",
    "    \"LogisiticRegression\": LogisticRegression(random_state=10),\n",
    "     \"KNearest\": KNeighborsClassifier(),\n",
    "    \"DecisionTreeClassifier\": DecisionTreeClassifier(random_state=10),\n",
    "    #\"GradientBoostingClassifier\":GradientBoostingClassifier(random_state=3457),\n",
    "    #\"Support Vector Classifier\": SVC(random_state=10),\n",
    "    \"XGBoostClassifier\": XGBClassifier(random_state=3457)\n",
    "}"
   ]
  },
  {
   "cell_type": "code",
   "execution_count": null,
   "metadata": {},
   "outputs": [
    {
     "name": "stderr",
     "output_type": "stream",
     "text": [
      "C:\\Users\\tsun04\\AppData\\Local\\Continuum\\anaconda3\\lib\\site-packages\\sklearn\\utils\\validation.py:724: DataConversionWarning: A column-vector y was passed when a 1d array was expected. Please change the shape of y to (n_samples, ), for example using ravel().\n",
      "  y = column_or_1d(y, warn=True)\n",
      "C:\\Users\\tsun04\\AppData\\Local\\Continuum\\anaconda3\\lib\\site-packages\\sklearn\\svm\\base.py:193: FutureWarning: The default value of gamma will change from 'auto' to 'scale' in version 0.22 to account better for unscaled features. Set gamma explicitly to 'auto' or 'scale' to avoid this warning.\n",
      "  \"avoid this warning.\", FutureWarning)\n"
     ]
    }
   ],
   "source": [
    "#svm\n",
    "svmreg=SVC(random_state=10).fit(os_data_X, os_data_y)"
   ]
  },
  {
   "cell_type": "code",
   "execution_count": null,
   "metadata": {},
   "outputs": [],
   "source": [
    "print(\"SVM as a testing score of \" ,svmreg.score(sX_test, sy_test))"
   ]
  },
  {
   "cell_type": "code",
   "execution_count": null,
   "metadata": {},
   "outputs": [],
   "source": [
    "filename = 'svmModel.sav'\n",
    "pickle.dump(svmreg, open(filename, 'wb'))"
   ]
  },
  {
   "cell_type": "code",
   "execution_count": null,
   "metadata": {},
   "outputs": [],
   "source": []
  },
  {
   "cell_type": "code",
   "execution_count": 172,
   "metadata": {
    "scrolled": true
   },
   "outputs": [
    {
     "name": "stderr",
     "output_type": "stream",
     "text": [
      "C:\\Users\\tsun04\\AppData\\Local\\Continuum\\anaconda3\\lib\\site-packages\\sklearn\\linear_model\\logistic.py:432: FutureWarning: Default solver will be changed to 'lbfgs' in 0.22. Specify a solver to silence this warning.\n",
      "  FutureWarning)\n",
      "C:\\Users\\tsun04\\AppData\\Local\\Continuum\\anaconda3\\lib\\site-packages\\sklearn\\utils\\validation.py:724: DataConversionWarning: A column-vector y was passed when a 1d array was expected. Please change the shape of y to (n_samples, ), for example using ravel().\n",
      "  y = column_or_1d(y, warn=True)\n"
     ]
    }
   ],
   "source": [
    "logreg=LogisticRegression(random_state=10).fit(os_data_X, os_data_y)\n"
   ]
  },
  {
   "cell_type": "code",
   "execution_count": 173,
   "metadata": {},
   "outputs": [
    {
     "name": "stdout",
     "output_type": "stream",
     "text": [
      "LogisticRegression as a testing score of  0.889550954201632\n"
     ]
    }
   ],
   "source": [
    "print(\"LogisticRegression as a testing score of \" ,logreg.score(sX_test, sy_test))"
   ]
  },
  {
   "cell_type": "code",
   "execution_count": 37,
   "metadata": {},
   "outputs": [],
   "source": [
    "logregpred=logreg.predict(sX_test)"
   ]
  },
  {
   "cell_type": "code",
   "execution_count": 174,
   "metadata": {},
   "outputs": [],
   "source": [
    "filename = 'logregModel.sav'\n",
    "pickle.dump(logreg, open(filename, 'wb'))"
   ]
  },
  {
   "cell_type": "code",
   "execution_count": 175,
   "metadata": {},
   "outputs": [],
   "source": [
    "logregpred=pickle.load(open('logregModel.sav', 'rb')).predict(sX_test)"
   ]
  },
  {
   "cell_type": "code",
   "execution_count": 40,
   "metadata": {},
   "outputs": [],
   "source": [
    "dtreereg=DecisionTreeClassifier(random_state=10).fit(os_data_X, os_data_y)\n"
   ]
  },
  {
   "cell_type": "code",
   "execution_count": 41,
   "metadata": {},
   "outputs": [
    {
     "name": "stdout",
     "output_type": "stream",
     "text": [
      "DecisionTreeClassifier as a testing score of  0.9501266199910621\n"
     ]
    }
   ],
   "source": [
    "print(\"DecisionTreeClassifier as a testing score of \" ,dtreereg.score(sX_test, sy_test))"
   ]
  },
  {
   "cell_type": "code",
   "execution_count": 42,
   "metadata": {},
   "outputs": [],
   "source": [
    "dtreepred=dtreereg.predict(sX_test)"
   ]
  },
  {
   "cell_type": "code",
   "execution_count": 43,
   "metadata": {},
   "outputs": [],
   "source": [
    "filename = 'dtreeModel.sav'\n",
    "pickle.dump(dtreereg, open(filename, 'wb'))"
   ]
  },
  {
   "cell_type": "code",
   "execution_count": 44,
   "metadata": {},
   "outputs": [
    {
     "name": "stderr",
     "output_type": "stream",
     "text": [
      "C:\\Users\\tsun04\\AppData\\Local\\Continuum\\anaconda3\\lib\\site-packages\\sklearn\\preprocessing\\label.py:219: DataConversionWarning: A column-vector y was passed when a 1d array was expected. Please change the shape of y to (n_samples, ), for example using ravel().\n",
      "  y = column_or_1d(y, warn=True)\n",
      "C:\\Users\\tsun04\\AppData\\Local\\Continuum\\anaconda3\\lib\\site-packages\\sklearn\\preprocessing\\label.py:252: DataConversionWarning: A column-vector y was passed when a 1d array was expected. Please change the shape of y to (n_samples, ), for example using ravel().\n",
      "  y = column_or_1d(y, warn=True)\n"
     ]
    }
   ],
   "source": [
    "xbgreg=XGBClassifier(random_state=3457).fit(os_data_X, os_data_y)"
   ]
  },
  {
   "cell_type": "code",
   "execution_count": 45,
   "metadata": {},
   "outputs": [
    {
     "name": "stdout",
     "output_type": "stream",
     "text": [
      "XGBClassifier as a testing score of  0.9050101792541835\n"
     ]
    }
   ],
   "source": [
    "print(\"XGBClassifier as a testing score of \" ,xbgreg.score(sX_test, sy_test))\n"
   ]
  },
  {
   "cell_type": "code",
   "execution_count": 46,
   "metadata": {},
   "outputs": [],
   "source": [
    "\n",
    "xgbpred=xbgreg.predict(sX_test)"
   ]
  },
  {
   "cell_type": "code",
   "execution_count": 47,
   "metadata": {},
   "outputs": [],
   "source": [
    "filename = 'XGBModel.sav'\n",
    "pickle.dump(xbgreg, open(filename, 'wb'))"
   ]
  },
  {
   "cell_type": "code",
   "execution_count": 48,
   "metadata": {
    "scrolled": true
   },
   "outputs": [
    {
     "name": "stderr",
     "output_type": "stream",
     "text": [
      "C:\\Users\\tsun04\\AppData\\Local\\Continuum\\anaconda3\\lib\\site-packages\\sklearn\\ensemble\\gradient_boosting.py:1450: DataConversionWarning: A column-vector y was passed when a 1d array was expected. Please change the shape of y to (n_samples, ), for example using ravel().\n",
      "  y = column_or_1d(y, warn=True)\n"
     ]
    }
   ],
   "source": [
    "gradbreg=GradientBoostingClassifier(random_state=10).fit(os_data_X, os_data_y)\n"
   ]
  },
  {
   "cell_type": "code",
   "execution_count": 49,
   "metadata": {},
   "outputs": [
    {
     "name": "stdout",
     "output_type": "stream",
     "text": [
      "GradientBoostingClassifier testing score of  0.9068242382110995\n"
     ]
    }
   ],
   "source": [
    "print(\"GradientBoostingClassifier testing score of \" ,gradbreg.score(sX_test, sy_test))"
   ]
  },
  {
   "cell_type": "code",
   "execution_count": 50,
   "metadata": {},
   "outputs": [],
   "source": [
    "gradbpred=gradbreg.predict(sX_test)"
   ]
  },
  {
   "cell_type": "code",
   "execution_count": 51,
   "metadata": {},
   "outputs": [],
   "source": [
    "filename = 'gradientbModel.sav'\n",
    "pickle.dump(gradbreg, open(filename, 'wb'))"
   ]
  },
  {
   "cell_type": "code",
   "execution_count": 122,
   "metadata": {},
   "outputs": [],
   "source": [
    "#alg_lst=[] "
   ]
  },
  {
   "cell_type": "code",
   "execution_count": 118,
   "metadata": {},
   "outputs": [
    {
     "data": {
      "text/plain": [
       "'              precision    recall  f1-score   support\\n\\n           0       1.00      0.89      0.94    299989\\n           1       0.05      0.80      0.09      2096\\n\\n    accuracy                           0.89    302085\\n   macro avg       0.52      0.85      0.52    302085\\nweighted avg       0.99      0.89      0.94    302085\\n'"
      ]
     },
     "execution_count": 118,
     "metadata": {},
     "output_type": "execute_result"
    }
   ],
   "source": [
    "classification_report(sy_test, logregpred)"
   ]
  },
  {
   "cell_type": "code",
   "execution_count": 29,
   "metadata": {},
   "outputs": [],
   "source": [
    "def plot_classification_report_ax(classificationReport,pos,\n",
    "                               title='Classification report',\n",
    "                               cmap='RdBu'):\n",
    "\n",
    "    classificationReport = classificationReport.replace('\\n\\n', '\\n')\n",
    "    classificationReport = classificationReport.replace(' / ', '/')\n",
    "    lines = classificationReport.split('\\n')\n",
    "\n",
    "    classes, plotMat, support, class_names = [], [], [], []\n",
    "    for line in lines[1:]:  # if you don't want avg/total result, then change [1:] into [1:-1]\n",
    "        t = line.strip().split()\n",
    "        if len(t) < 2:\n",
    "            continue\n",
    "        classes.append(t[0])\n",
    "        v = [float(x) for x in t[1: len(t) - 1]]\n",
    "        support.append(int(t[-1]))\n",
    "        class_names.append(t[0])\n",
    "        plotMat.append(v)\n",
    "\n",
    "    plotMat = np.array(plotMat)\n",
    "    \n",
    "    pos.set_xticks(np.arange(3))\n",
    "    pos.set_yticks(np.arange(len(classes)))\n",
    "    pos.set_xticklabels(['Precision', 'Recall', 'F1-score'])\n",
    "    pos.set_yticklabels(['{0} ({1})'.format(class_names[idx], sup)\n",
    "                   for idx, sup in enumerate(support)])\n",
    "\n",
    "    \n",
    "    pos.imshow(plotMat, interpolation='nearest', cmap=cmap, aspect='auto')\n",
    "    pos.set_title(title,fontsize=20,fontweight='bold')\n",
    "    #pos.colorbar()\n",
    "    \n",
    "\n",
    "    upper_thresh = plotMat.min() + (plotMat.max() - plotMat.min()) / 10 * 8\n",
    "    lower_thresh = plotMat.min() + (plotMat.max() - plotMat.min()) / 10 * 2\n",
    "    for i, j in itertools.product(range(plotMat.shape[0]), range(plotMat.shape[1])):\n",
    "        pos.text(j, i, format(plotMat[i, j], '.2f'),\n",
    "                 horizontalalignment=\"center\",\n",
    "                 color=\"white\" if (plotMat[i, j] > upper_thresh or plotMat[i, j] < lower_thresh) else \"black\",fontsize=25,fontweight='bold')\n",
    "\n",
    "    pos.set_ylabel('Metrics')\n",
    "    pos.set_xlabel('Classes')"
   ]
  },
  {
   "cell_type": "code",
   "execution_count": 30,
   "metadata": {},
   "outputs": [],
   "source": [
    "logregpred=pickle.load(open('logregModel.sav', 'rb')).predict(sX_test)\n",
    "dtreepred=pickle.load(open('dtreeModel.sav', 'rb')).predict(sX_test)\n",
    "xgbpred=pickle.load(open('XGBModel.sav', 'rb')).predict(sX_test)\n",
    "gradbpred=pickle.load(open('gradientbModel.sav', 'rb')).predict(sX_test)"
   ]
  },
  {
   "cell_type": "code",
   "execution_count": 34,
   "metadata": {},
   "outputs": [
    {
     "data": {
      "image/png": "[encoded data removed]",
      "text/plain": [
       "<matplotlib.figure.Figure at 0x12495759a58>"
      ]
     },
     "metadata": {},
     "output_type": "display_data"
    }
   ],
   "source": [
    "fig, ax = plt.subplots(2, 2,figsize=(22,14))\n",
    "\n",
    "plot_classification_report_ax(classification_report(sy_test, logregpred)[:166],title='Logistic Regression Classification report',pos=ax[0][0])\n",
    "plot_classification_report_ax(classification_report(sy_test, gradbpred)[:166],title='Gradient Boosting Classification report',pos=ax[0][1])\n",
    "plot_classification_report_ax(classification_report(sy_test, dtreepred)[:166],title='Decision Tree Classification report',pos=ax[1][0])\n",
    "plot_classification_report_ax(classification_report(sy_test, xgbpred)[:166],title='Xgboost Classification report',pos=ax[1][1])\n",
    "plt.savefig('classification_report.png')\n",
    "plt.show()"
   ]
  },
  {
   "cell_type": "code",
   "execution_count": 70,
   "metadata": {},
   "outputs": [
    {
     "data": {
      "text/plain": [
       "array([[267040,  32949],\n",
       "       [   416,   1680]], dtype=int64)"
      ]
     },
     "execution_count": 70,
     "metadata": {},
     "output_type": "execute_result"
    }
   ],
   "source": [
    "confusion_matrix(sy_test, logregpred)"
   ]
  },
  {
   "cell_type": "code",
   "execution_count": 65,
   "metadata": {
    "scrolled": true
   },
   "outputs": [
    {
     "data": {
      "text/plain": [
       "'\\nfor key, classifier in classifiers.items():\\n    clafit=classifier.fit(os_data_X, os_data_y)\\n    alg_lst.append(clafit)\\n    testing_score = clafit.score( sX_test, sy_test)\\n    \\n    print(\"Classifiers: \", classifier.__class__.__name__, \"Has a testing score of {:.2f}\".format(testing_score))\\n '"
      ]
     },
     "execution_count": 65,
     "metadata": {},
     "output_type": "execute_result"
    }
   ],
   "source": [
    "'''\n",
    "for key, classifier in classifiers.items():\n",
    "    clafit=classifier.fit(os_data_X, os_data_y)\n",
    "    alg_lst.append(clafit)\n",
    "    testing_score = clafit.score( sX_test, sy_test)\n",
    "    \n",
    "    print(\"Classifiers: \", classifier.__class__.__name__, \"Has a testing score of {:.2f}\".format(testing_score))\n",
    " '''   "
   ]
  },
  {
   "cell_type": "code",
   "execution_count": null,
   "metadata": {},
   "outputs": [],
   "source": [
    "#predictions:\n",
    "'''\n",
    "logregpred=alg_lst[0].predict(sX_test)\n",
    "knpred=alg_lst[1].predict(sX_test)\n",
    "dtreepred=alg_lst[2].predict(sX_test)\n",
    "xgbpred=alg_lst[3].predict(sX_test)\n",
    "'''"
   ]
  },
  {
   "cell_type": "code",
   "execution_count": 49,
   "metadata": {},
   "outputs": [],
   "source": [
    "logregpred=pickle.load(open('logregModel.sav', 'rb')).predict_proba(sX_test)[:,1]\n",
    "\n"
   ]
  },
  {
   "cell_type": "code",
   "execution_count": 50,
   "metadata": {},
   "outputs": [
    {
     "data": {
      "text/plain": [
       "array([0.67567754, 0.07482852, 0.31867509, ..., 0.06799816, 0.17166702,\n",
       "       0.17659678])"
      ]
     },
     "execution_count": 50,
     "metadata": {},
     "output_type": "execute_result"
    }
   ],
   "source": [
    "logregpred"
   ]
  },
  {
   "cell_type": "code",
   "execution_count": 51,
   "metadata": {},
   "outputs": [],
   "source": [
    "dtreepred=pickle.load(open('dtreeModel.sav', 'rb')).predict_proba(sX_test)[:,1]\n",
    "xgbpred=pickle.load(open('XGBModel.sav', 'rb')).predict_proba(sX_test)[:,1]\n",
    "gradbpred=pickle.load(open('gradientbModel.sav', 'rb')).predict_proba(sX_test)[:,1]"
   ]
  },
  {
   "cell_type": "code",
   "execution_count": 52,
   "metadata": {},
   "outputs": [],
   "source": [
    "log_fpr, log_tpr, log_thresold = roc_curve(sy_test, logregpred)"
   ]
  },
  {
   "cell_type": "code",
   "execution_count": 53,
   "metadata": {},
   "outputs": [],
   "source": [
    "log_fpr, log_tpr, log_thresold = roc_curve(sy_test, logregpred)\n",
    "knear_fpr, knear_tpr, knear_threshold = roc_curve(sy_test, dtreepred)\n",
    "svc_fpr, svc_tpr, svc_threshold = roc_curve(sy_test, xgbpred)\n",
    "tree_fpr, tree_tpr, tree_threshold = roc_curve(sy_test, gradbpred)\n"
   ]
  },
  {
   "cell_type": "code",
   "execution_count": 54,
   "metadata": {},
   "outputs": [
    {
     "data": {
      "image/png": "[encoded data removed]",
      "text/plain": [
       "<matplotlib.figure.Figure at 0x15ba2074f28>"
      ]
     },
     "metadata": {},
     "output_type": "display_data"
    }
   ],
   "source": [
    "\n",
    "\n",
    "def graph_roc_curve_multiple(log_fpr, log_tpr, knear_fpr, knear_tpr, svc_fpr, svc_tpr, tree_fpr, tree_tpr):\n",
    "    plt.figure(figsize=(16,8))\n",
    "    plt.title('ROC Curve \\n Embedding Features', fontsize=18)\n",
    "    plt.plot(log_fpr, log_tpr, label='Logistic Regression Classifier Score: {:.4f}'.format(roc_auc_score(sy_test, logregpred)))\n",
    "    plt.plot(knear_fpr, knear_tpr, label='Decision tree Classifier Score: {:.4f}'.format(roc_auc_score(sy_test, dtreepred)))\n",
    "    plt.plot(svc_fpr, svc_tpr, label='Xgboost Classifier Score: {:.4f}'.format(roc_auc_score(sy_test, xgbpred)))\n",
    "    plt.plot(tree_fpr, tree_tpr, label='Gradient Boosting Classifier Score: {:.4f}'.format(roc_auc_score(sy_test, gradbpred)))\n",
    "    plt.plot([0, 1], [0, 1], 'k--')\n",
    "    plt.axis([-0.01, 1, 0, 1])\n",
    "    plt.xlabel('False Positive Rate', fontsize=16)\n",
    "    plt.ylabel('True Positive Rate', fontsize=16)\n",
    "    plt.annotate('Minimum ROC Score of 50% \\n (This is the minimum score to get)', xy=(0.5, 0.5), xytext=(0.6, 0.3),\n",
    "                arrowprops=dict(facecolor='#6E726D', shrink=0.05),\n",
    "                )\n",
    "    plt.legend()\n",
    "    \n",
    "graph_roc_curve_multiple(log_fpr, log_tpr, knear_fpr, knear_tpr, svc_fpr, svc_tpr, tree_fpr, tree_tpr)\n",
    "plt.savefig('roc2.png')\n",
    "plt.show()"
   ]
  },
  {
   "cell_type": "code",
   "execution_count": null,
   "metadata": {},
   "outputs": [],
   "source": []
  },
  {
   "cell_type": "markdown",
   "metadata": {},
   "source": [
    "## check for overfitting"
   ]
  },
  {
   "cell_type": "code",
   "execution_count": 56,
   "metadata": {},
   "outputs": [],
   "source": [
    "logregpred=pickle.load(open('logregModel.sav', 'rb'))\n",
    "dtreepred=pickle.load(open('dtreeModel.sav', 'rb'))\n",
    "xgbpred=pickle.load(open('XGBModel.sav', 'rb'))\n",
    "gradbpred=pickle.load(open('gradientbModel.sav', 'rb'))"
   ]
  },
  {
   "cell_type": "code",
   "execution_count": 58,
   "metadata": {},
   "outputs": [
    {
     "data": {
      "text/plain": [
       "0.8888581501422258"
      ]
     },
     "execution_count": 58,
     "metadata": {},
     "output_type": "execute_result"
    }
   ],
   "source": [
    "logregpred.score( sX_train,sy_train)"
   ]
  },
  {
   "cell_type": "code",
   "execution_count": 60,
   "metadata": {},
   "outputs": [
    {
     "data": {
      "text/plain": [
       "0.889550954201632"
      ]
     },
     "execution_count": 60,
     "metadata": {},
     "output_type": "execute_result"
    }
   ],
   "source": [
    "logregpred.score( sX_test,sy_test)"
   ]
  },
  {
   "cell_type": "markdown",
   "metadata": {},
   "source": [
    "## Auto Encoder Model"
   ]
  },
  {
   "cell_type": "markdown",
   "metadata": {},
   "source": [
    "The point of using autoencoders is to use the input data as its own label, and come up with some useful intermediate representation (encoding). Then when running a prediction, and feeding in input data that does not fit well to the intermediate representation, then output signal that it does not fit well. This is known as **Reconstruction Error**.\n",
    "\n",
    "For this reason we drop the attrited customer data from the training, in order to come up with an encoding for \"normal\" (non-fraudulant) transactions. After the model is trained, the hope is that feeding in attrited data will easily be flagged."
   ]
  },
  {
   "cell_type": "code",
   "execution_count": 130,
   "metadata": {},
   "outputs": [
    {
     "data": {
      "text/plain": [
       "27419"
      ]
     },
     "execution_count": 130,
     "metadata": {},
     "output_type": "execute_result"
    }
   ],
   "source": [
    "import gc\n",
    "gc.collect()"
   ]
  },
  {
   "cell_type": "code",
   "execution_count": 19,
   "metadata": {},
   "outputs": [],
   "source": [
    "univ2=univ1.drop(['idx','ocif_id'],axis = 1)"
   ]
  },
  {
   "cell_type": "code",
   "execution_count": 20,
   "metadata": {},
   "outputs": [
    {
     "data": {
      "text/plain": [
       "(1006950, 49)"
      ]
     },
     "execution_count": 20,
     "metadata": {},
     "output_type": "execute_result"
    }
   ],
   "source": [
    "univ2.shape"
   ]
  },
  {
   "cell_type": "code",
   "execution_count": 21,
   "metadata": {},
   "outputs": [],
   "source": [
    "# split the data 70/30, training to testing\n",
    "train_x, test_x = train_test_split(univ2, test_size=0.25, random_state=10)\n"
   ]
  },
  {
   "cell_type": "code",
   "execution_count": 22,
   "metadata": {},
   "outputs": [
    {
     "data": {
      "text/plain": [
       "(755212, 49)"
      ]
     },
     "execution_count": 22,
     "metadata": {},
     "output_type": "execute_result"
    }
   ],
   "source": [
    "train_x.shape"
   ]
  },
  {
   "cell_type": "code",
   "execution_count": 23,
   "metadata": {},
   "outputs": [
    {
     "data": {
      "text/plain": [
       "(251738, 49)"
      ]
     },
     "execution_count": 23,
     "metadata": {},
     "output_type": "execute_result"
    }
   ],
   "source": [
    "test_x.shape"
   ]
  },
  {
   "cell_type": "code",
   "execution_count": 24,
   "metadata": {},
   "outputs": [
    {
     "data": {
      "text/plain": [
       "Index(['class', 'v1', 'v2', 'v3', 'v4', 'v5', 'v6', 'v7', 'v8', 'v9', 'v10',\n",
       "       'v11', 'v12', 'v13', 'v14', 'v15', 'v16', 'v17', 'v18', 'v19', 'v20',\n",
       "       'v21', 'v22', 'v23', 'v24', 'v26', 'v27', 'v28', 'v29', 'v30', 'v31',\n",
       "       'v32', 'v33', 'v34', 'v35', 'v36', 'v37', 'v38', 'v39', 'v40', 'v41',\n",
       "       'v42', 'v43', 'v44', 'v46', 'v47', 'v48', 'v49', 'v50'],\n",
       "      dtype='object')"
      ]
     },
     "execution_count": 24,
     "metadata": {},
     "output_type": "execute_result"
    }
   ],
   "source": [
    "train_x.columns"
   ]
  },
  {
   "cell_type": "code",
   "execution_count": 25,
   "metadata": {},
   "outputs": [],
   "source": [
    "#data scaling:\n"
   ]
  },
  {
   "cell_type": "code",
   "execution_count": 26,
   "metadata": {},
   "outputs": [],
   "source": [
    "\n",
    "# take out the attrited transactions from training data\n",
    "attri_df = train_x[train_x['class'] == 1]\n",
    "# keep only normala transaction data in training set\n",
    "train_x = train_x[train_x['class'] == 0]\n",
    "\n",
    "train_y=train_x['class']\n",
    "# drop the class column (labels) from training set\n",
    "train_x = train_x.drop(['class'], axis=1)\n",
    "\n",
    "# create labels for test data\n",
    "test_y = test_x['class']\n",
    "# drop the labels from test data itself\n",
    "test_x = test_x.drop(['class'], axis=1)\n"
   ]
  },
  {
   "cell_type": "code",
   "execution_count": 27,
   "metadata": {},
   "outputs": [
    {
     "data": {
      "text/plain": [
       "(750019, 48)"
      ]
     },
     "execution_count": 27,
     "metadata": {},
     "output_type": "execute_result"
    }
   ],
   "source": [
    "train_x.shape"
   ]
  },
  {
   "cell_type": "code",
   "execution_count": 28,
   "metadata": {},
   "outputs": [
    {
     "data": {
      "text/plain": [
       "(251738, 48)"
      ]
     },
     "execution_count": 28,
     "metadata": {},
     "output_type": "execute_result"
    }
   ],
   "source": [
    "test_x.shape"
   ]
  },
  {
   "cell_type": "code",
   "execution_count": 29,
   "metadata": {},
   "outputs": [],
   "source": [
    "\n",
    "# transform to ndarray\n",
    "train_x = train_x.values\n",
    "test_x = test_x.values"
   ]
  },
  {
   "cell_type": "code",
   "execution_count": 30,
   "metadata": {},
   "outputs": [],
   "source": [
    "# take out labels from remaining fraud data (taken out from training set)\n",
    "attri_y = attri_df['class']\n",
    "attri_x = attri_df.drop(['class'], axis=1).values\n",
    "\n",
    "# extend test data and label with additional attri. data\n",
    "test_x_extended = np.concatenate((attri_x, test_x), axis=0)\n",
    "test_y_extended = pd.concat([attri_y, test_y])"
   ]
  },
  {
   "cell_type": "code",
   "execution_count": 70,
   "metadata": {},
   "outputs": [],
   "source": [
    "# model train\n",
    "nb_epoch = 40\n",
    "batch_size = 256\n",
    "input_dim = train_x.shape[1] #num of columns, 30\n",
    "encoding_dim = 25\n",
    "hidden_dim = int(encoding_dim / 2) #i.e. 7\n",
    "learning_rate = 1e-7"
   ]
  },
  {
   "cell_type": "code",
   "execution_count": 45,
   "metadata": {},
   "outputs": [
    {
     "data": {
      "text/html": [
       "<div>\n",
       "<style scoped>\n",
       "    .dataframe tbody tr th:only-of-type {\n",
       "        vertical-align: middle;\n",
       "    }\n",
       "\n",
       "    .dataframe tbody tr th {\n",
       "        vertical-align: top;\n",
       "    }\n",
       "\n",
       "    .dataframe thead th {\n",
       "        text-align: right;\n",
       "    }\n",
       "</style>\n",
       "<table border=\"1\" class=\"dataframe\">\n",
       "  <thead>\n",
       "    <tr style=\"text-align: right;\">\n",
       "      <th></th>\n",
       "      <th>class</th>\n",
       "      <th>v1</th>\n",
       "      <th>v2</th>\n",
       "      <th>v3</th>\n",
       "      <th>v4</th>\n",
       "      <th>v5</th>\n",
       "      <th>v6</th>\n",
       "      <th>v7</th>\n",
       "      <th>v8</th>\n",
       "      <th>v9</th>\n",
       "      <th>...</th>\n",
       "      <th>v40</th>\n",
       "      <th>v41</th>\n",
       "      <th>v42</th>\n",
       "      <th>v43</th>\n",
       "      <th>v44</th>\n",
       "      <th>v46</th>\n",
       "      <th>v47</th>\n",
       "      <th>v48</th>\n",
       "      <th>v49</th>\n",
       "      <th>v50</th>\n",
       "    </tr>\n",
       "  </thead>\n",
       "  <tbody>\n",
       "    <tr>\n",
       "      <th>389957</th>\n",
       "      <td>1</td>\n",
       "      <td>-14.350712</td>\n",
       "      <td>13.498200</td>\n",
       "      <td>-0.105010</td>\n",
       "      <td>4.261710</td>\n",
       "      <td>2.984765</td>\n",
       "      <td>6.196604</td>\n",
       "      <td>0.269666</td>\n",
       "      <td>11.042134</td>\n",
       "      <td>-7.983256</td>\n",
       "      <td>...</td>\n",
       "      <td>-1.425015</td>\n",
       "      <td>5.324176</td>\n",
       "      <td>-13.339277</td>\n",
       "      <td>2.874523</td>\n",
       "      <td>-2.148390</td>\n",
       "      <td>-15.757398</td>\n",
       "      <td>-8.983431</td>\n",
       "      <td>-6.659501</td>\n",
       "      <td>-4.491578</td>\n",
       "      <td>7.126879</td>\n",
       "    </tr>\n",
       "    <tr>\n",
       "      <th>704699</th>\n",
       "      <td>1</td>\n",
       "      <td>-0.941130</td>\n",
       "      <td>2.516539</td>\n",
       "      <td>1.870903</td>\n",
       "      <td>-1.231343</td>\n",
       "      <td>-2.652858</td>\n",
       "      <td>-0.053338</td>\n",
       "      <td>1.350356</td>\n",
       "      <td>-2.213702</td>\n",
       "      <td>-2.205999</td>\n",
       "      <td>...</td>\n",
       "      <td>2.113593</td>\n",
       "      <td>1.650707</td>\n",
       "      <td>-1.066604</td>\n",
       "      <td>-1.774615</td>\n",
       "      <td>2.469664</td>\n",
       "      <td>-1.500854</td>\n",
       "      <td>-3.485169</td>\n",
       "      <td>2.968484</td>\n",
       "      <td>0.347652</td>\n",
       "      <td>-0.351574</td>\n",
       "    </tr>\n",
       "    <tr>\n",
       "      <th>404318</th>\n",
       "      <td>1</td>\n",
       "      <td>-0.591794</td>\n",
       "      <td>-0.047734</td>\n",
       "      <td>0.502996</td>\n",
       "      <td>1.372792</td>\n",
       "      <td>-1.717392</td>\n",
       "      <td>-1.525901</td>\n",
       "      <td>-0.170646</td>\n",
       "      <td>-2.471298</td>\n",
       "      <td>-1.255905</td>\n",
       "      <td>...</td>\n",
       "      <td>1.110406</td>\n",
       "      <td>-0.908789</td>\n",
       "      <td>-0.265722</td>\n",
       "      <td>-0.428091</td>\n",
       "      <td>1.944988</td>\n",
       "      <td>-1.354265</td>\n",
       "      <td>-4.053022</td>\n",
       "      <td>-0.837662</td>\n",
       "      <td>1.586439</td>\n",
       "      <td>-1.301075</td>\n",
       "    </tr>\n",
       "    <tr>\n",
       "      <th>864474</th>\n",
       "      <td>1</td>\n",
       "      <td>-0.460905</td>\n",
       "      <td>1.200171</td>\n",
       "      <td>-1.077723</td>\n",
       "      <td>0.563381</td>\n",
       "      <td>-0.704507</td>\n",
       "      <td>0.336176</td>\n",
       "      <td>0.809928</td>\n",
       "      <td>-2.412844</td>\n",
       "      <td>-0.338330</td>\n",
       "      <td>...</td>\n",
       "      <td>-0.768663</td>\n",
       "      <td>-1.533480</td>\n",
       "      <td>-0.291181</td>\n",
       "      <td>-1.696405</td>\n",
       "      <td>0.471515</td>\n",
       "      <td>-0.931972</td>\n",
       "      <td>-1.405667</td>\n",
       "      <td>1.039211</td>\n",
       "      <td>1.067912</td>\n",
       "      <td>-1.464605</td>\n",
       "    </tr>\n",
       "    <tr>\n",
       "      <th>522984</th>\n",
       "      <td>1</td>\n",
       "      <td>-0.061317</td>\n",
       "      <td>1.806205</td>\n",
       "      <td>-0.985280</td>\n",
       "      <td>0.723257</td>\n",
       "      <td>-0.150136</td>\n",
       "      <td>0.493264</td>\n",
       "      <td>0.521288</td>\n",
       "      <td>-2.480397</td>\n",
       "      <td>-0.963013</td>\n",
       "      <td>...</td>\n",
       "      <td>-0.910028</td>\n",
       "      <td>-2.110341</td>\n",
       "      <td>-0.416235</td>\n",
       "      <td>-1.787688</td>\n",
       "      <td>0.763193</td>\n",
       "      <td>-0.968006</td>\n",
       "      <td>-2.702138</td>\n",
       "      <td>1.254500</td>\n",
       "      <td>1.723318</td>\n",
       "      <td>-1.563630</td>\n",
       "    </tr>\n",
       "  </tbody>\n",
       "</table>\n",
       "<p>5 rows × 49 columns</p>\n",
       "</div>"
      ],
      "text/plain": [
       "        class         v1         v2        v3        v4        v5        v6  \\\n",
       "389957      1 -14.350712  13.498200 -0.105010  4.261710  2.984765  6.196604   \n",
       "704699      1  -0.941130   2.516539  1.870903 -1.231343 -2.652858 -0.053338   \n",
       "404318      1  -0.591794  -0.047734  0.502996  1.372792 -1.717392 -1.525901   \n",
       "864474      1  -0.460905   1.200171 -1.077723  0.563381 -0.704507  0.336176   \n",
       "522984      1  -0.061317   1.806205 -0.985280  0.723257 -0.150136  0.493264   \n",
       "\n",
       "              v7         v8        v9    ...          v40       v41  \\\n",
       "389957  0.269666  11.042134 -7.983256    ...    -1.425015  5.324176   \n",
       "704699  1.350356  -2.213702 -2.205999    ...     2.113593  1.650707   \n",
       "404318 -0.170646  -2.471298 -1.255905    ...     1.110406 -0.908789   \n",
       "864474  0.809928  -2.412844 -0.338330    ...    -0.768663 -1.533480   \n",
       "522984  0.521288  -2.480397 -0.963013    ...    -0.910028 -2.110341   \n",
       "\n",
       "              v42       v43       v44        v46       v47       v48  \\\n",
       "389957 -13.339277  2.874523 -2.148390 -15.757398 -8.983431 -6.659501   \n",
       "704699  -1.066604 -1.774615  2.469664  -1.500854 -3.485169  2.968484   \n",
       "404318  -0.265722 -0.428091  1.944988  -1.354265 -4.053022 -0.837662   \n",
       "864474  -0.291181 -1.696405  0.471515  -0.931972 -1.405667  1.039211   \n",
       "522984  -0.416235 -1.787688  0.763193  -0.968006 -2.702138  1.254500   \n",
       "\n",
       "             v49       v50  \n",
       "389957 -4.491578  7.126879  \n",
       "704699  0.347652 -0.351574  \n",
       "404318  1.586439 -1.301075  \n",
       "864474  1.067912 -1.464605  \n",
       "522984  1.723318 -1.563630  \n",
       "\n",
       "[5 rows x 49 columns]"
      ]
     },
     "execution_count": 45,
     "metadata": {},
     "output_type": "execute_result"
    }
   ],
   "source": [
    "attri_df.head()"
   ]
  },
  {
   "cell_type": "code",
   "execution_count": 46,
   "metadata": {},
   "outputs": [
    {
     "name": "stdout",
     "output_type": "stream",
     "text": [
      "WARNING:tensorflow:From C:\\Users\\tsun04\\AppData\\Local\\Continuum\\anaconda3\\lib\\site-packages\\tensorflow\\python\\ops\\resource_variable_ops.py:435: colocate_with (from tensorflow.python.framework.ops) is deprecated and will be removed in a future version.\n",
      "Instructions for updating:\n",
      "Colocations handled automatically by placer.\n"
     ]
    }
   ],
   "source": [
    "\n",
    "\n",
    "input_layer = Input(shape=(input_dim, ))\n",
    "encoder = Dense(encoding_dim, activation=\"tanh\", activity_regularizer=regularizers.l1(learning_rate))(input_layer)\n",
    "encoder = Dense(hidden_dim, activation=\"relu\")(encoder)\n",
    "decoder = Dense(hidden_dim, activation='tanh')(encoder)\n",
    "decoder = Dense(input_dim, activation='relu')(decoder)\n",
    "autoencoder = Model(inputs=input_layer, outputs=decoder)"
   ]
  },
  {
   "cell_type": "code",
   "execution_count": 86,
   "metadata": {},
   "outputs": [
    {
     "data": {
      "text/plain": [
       "(array([0], dtype=int64), array([750019], dtype=int64))"
      ]
     },
     "execution_count": 86,
     "metadata": {},
     "output_type": "execute_result"
    }
   ],
   "source": [
    "np.unique(train_y, return_counts=True)"
   ]
  },
  {
   "cell_type": "code",
   "execution_count": 87,
   "metadata": {},
   "outputs": [
    {
     "data": {
      "text/plain": [
       "(array([0, 1], dtype=int64), array([249981,   1757], dtype=int64))"
      ]
     },
     "execution_count": 87,
     "metadata": {},
     "output_type": "execute_result"
    }
   ],
   "source": [
    "np.unique(test_y, return_counts=True)"
   ]
  },
  {
   "cell_type": "code",
   "execution_count": 51,
   "metadata": {},
   "outputs": [
    {
     "data": {
      "text/plain": [
       "(750019, 48)"
      ]
     },
     "execution_count": 51,
     "metadata": {},
     "output_type": "execute_result"
    }
   ],
   "source": [
    "train_x.shape"
   ]
  },
  {
   "cell_type": "code",
   "execution_count": 50,
   "metadata": {},
   "outputs": [
    {
     "data": {
      "text/plain": [
       "(251738, 48)"
      ]
     },
     "execution_count": 50,
     "metadata": {},
     "output_type": "execute_result"
    }
   ],
   "source": [
    "test_x.shape"
   ]
  },
  {
   "cell_type": "code",
   "execution_count": 17,
   "metadata": {},
   "outputs": [],
   "source": [
    "# data scaling before autoencoding:\n",
    "\n",
    "scaler = StandardScaler()"
   ]
  },
  {
   "cell_type": "code",
   "execution_count": 242,
   "metadata": {},
   "outputs": [],
   "source": [
    "scaled_trainx=scaler.fit_transform(train_x)"
   ]
  },
  {
   "cell_type": "code",
   "execution_count": 243,
   "metadata": {},
   "outputs": [
    {
     "data": {
      "text/plain": [
       "(750019, 48)"
      ]
     },
     "execution_count": 243,
     "metadata": {},
     "output_type": "execute_result"
    }
   ],
   "source": [
    "scaled_trainx.shape"
   ]
  },
  {
   "cell_type": "code",
   "execution_count": 244,
   "metadata": {},
   "outputs": [],
   "source": [
    "scaled_testx=scaler.fit_transform(test_x)"
   ]
  },
  {
   "cell_type": "code",
   "execution_count": 245,
   "metadata": {},
   "outputs": [
    {
     "data": {
      "text/plain": [
       "(251738, 48)"
      ]
     },
     "execution_count": 245,
     "metadata": {},
     "output_type": "execute_result"
    }
   ],
   "source": [
    "scaled_testx.shape"
   ]
  },
  {
   "cell_type": "code",
   "execution_count": 71,
   "metadata": {},
   "outputs": [
    {
     "name": "stdout",
     "output_type": "stream",
     "text": [
      "Train on 750019 samples, validate on 251738 samples\n",
      "Epoch 1/40\n",
      "750019/750019 [==============================] - 22s 29us/sample - loss: 0.6400 - acc: 0.4948 - val_loss: 0.6081 - val_acc: 0.4056\n",
      "Epoch 2/40\n",
      "750019/750019 [==============================] - 17s 23us/sample - loss: 0.6387 - acc: 0.5170 - val_loss: 0.6250 - val_acc: 0.4088\n",
      "Epoch 3/40\n",
      "750019/750019 [==============================] - 15s 21us/sample - loss: 0.6305 - acc: 0.5050 - val_loss: 0.6279 - val_acc: 0.4109\n",
      "Epoch 4/40\n",
      "750019/750019 [==============================] - 17s 22us/sample - loss: 0.6372 - acc: 0.4841 - val_loss: 0.5886 - val_acc: 0.4169\n",
      "Epoch 5/40\n",
      "750019/750019 [==============================] - 18s 24us/sample - loss: 0.6187 - acc: 0.5230 - val_loss: 0.5836 - val_acc: 0.4483\n",
      "Epoch 6/40\n",
      "750019/750019 [==============================] - 18s 25us/sample - loss: 0.6422 - acc: 0.4911 - val_loss: 0.6054 - val_acc: 0.3761\n",
      "Epoch 7/40\n",
      "750019/750019 [==============================] - 18s 24us/sample - loss: 0.6270 - acc: 0.4835 - val_loss: 0.6124 - val_acc: 0.4247\n",
      "Epoch 8/40\n",
      "750019/750019 [==============================] - 18s 24us/sample - loss: 0.6307 - acc: 0.5000 - val_loss: 0.5978 - val_acc: 0.4350\n",
      "Epoch 9/40\n",
      "750019/750019 [==============================] - 19s 25us/sample - loss: 0.6177 - acc: 0.5164 - val_loss: 0.5776 - val_acc: 0.4397\n",
      "Epoch 10/40\n",
      "750019/750019 [==============================] - 18s 24us/sample - loss: 0.6175 - acc: 0.5159 - val_loss: 0.6040 - val_acc: 0.4172\n",
      "Epoch 11/40\n",
      "750019/750019 [==============================] - 18s 24us/sample - loss: 0.6153 - acc: 0.5190 - val_loss: 0.5894 - val_acc: 0.4222\n",
      "Epoch 12/40\n",
      "750019/750019 [==============================] - 20s 27us/sample - loss: 0.6162 - acc: 0.5234 - val_loss: 0.5992 - val_acc: 0.4383\n",
      "Epoch 13/40\n",
      "750019/750019 [==============================] - 23s 30us/sample - loss: 0.6271 - acc: 0.5282 - val_loss: 0.5765 - val_acc: 0.4570\n",
      "Epoch 14/40\n",
      "750019/750019 [==============================] - 21s 28us/sample - loss: 0.6323 - acc: 0.5123 - val_loss: 0.5974 - val_acc: 0.4390\n",
      "Epoch 15/40\n",
      "750019/750019 [==============================] - 20s 27us/sample - loss: 0.6254 - acc: 0.5391 - val_loss: 0.6081 - val_acc: 0.4249\n",
      "Epoch 16/40\n",
      "750019/750019 [==============================] - 22s 29us/sample - loss: 0.6261 - acc: 0.5304 - val_loss: 0.5972 - val_acc: 0.4551\n",
      "Epoch 17/40\n",
      "750019/750019 [==============================] - 19s 25us/sample - loss: 0.6332 - acc: 0.5251 - val_loss: 0.5950 - val_acc: 0.4460\n",
      "Epoch 18/40\n",
      "750019/750019 [==============================] - 16s 21us/sample - loss: 0.6343 - acc: 0.5203 - val_loss: 0.5906 - val_acc: 0.4227\n",
      "Epoch 19/40\n",
      "750019/750019 [==============================] - 18s 24us/sample - loss: 0.6302 - acc: 0.5084 - val_loss: 0.6349 - val_acc: 0.4297\n",
      "Epoch 20/40\n",
      "750019/750019 [==============================] - 17s 23us/sample - loss: 0.6346 - acc: 0.4966 - val_loss: 0.5874 - val_acc: 0.4327\n",
      "Epoch 21/40\n",
      "750019/750019 [==============================] - 17s 23us/sample - loss: 0.6285 - acc: 0.5135 - val_loss: 0.5821 - val_acc: 0.3943\n",
      "Epoch 22/40\n",
      "750019/750019 [==============================] - 18s 24us/sample - loss: 0.6283 - acc: 0.5182 - val_loss: 0.6443 - val_acc: 0.4158\n",
      "Epoch 23/40\n",
      "750019/750019 [==============================] - 17s 22us/sample - loss: 0.6282 - acc: 0.5390 - val_loss: 0.5921 - val_acc: 0.4712\n",
      "Epoch 24/40\n",
      "750019/750019 [==============================] - 17s 23us/sample - loss: 0.6217 - acc: 0.5410 - val_loss: 0.6529 - val_acc: 0.4427\n",
      "Epoch 25/40\n",
      "750019/750019 [==============================] - 16s 22us/sample - loss: 0.6399 - acc: 0.5002 - val_loss: 0.6111 - val_acc: 0.4521\n",
      "Epoch 26/40\n",
      "750019/750019 [==============================] - 16s 21us/sample - loss: 0.6340 - acc: 0.5263 - val_loss: 0.5964 - val_acc: 0.4688\n",
      "Epoch 27/40\n",
      "750019/750019 [==============================] - 16s 21us/sample - loss: 0.6283 - acc: 0.5365 - val_loss: 0.5907 - val_acc: 0.4643\n",
      "Epoch 28/40\n",
      "750019/750019 [==============================] - 16s 22us/sample - loss: 0.6282 - acc: 0.5328 - val_loss: 0.6426 - val_acc: 0.3430\n",
      "Epoch 29/40\n",
      "750019/750019 [==============================] - 15s 21us/sample - loss: 0.6366 - acc: 0.5215 - val_loss: 0.6441 - val_acc: 0.3912\n",
      "Epoch 30/40\n",
      "750019/750019 [==============================] - 16s 21us/sample - loss: 0.6370 - acc: 0.5121 - val_loss: 0.6204 - val_acc: 0.4124\n",
      "Epoch 31/40\n",
      "750019/750019 [==============================] - 15s 21us/sample - loss: 0.6310 - acc: 0.5242 - val_loss: 0.6164 - val_acc: 0.4347\n",
      "Epoch 32/40\n",
      "750019/750019 [==============================] - 16s 21us/sample - loss: 0.6492 - acc: 0.5015 - val_loss: 0.6584 - val_acc: 0.4572\n",
      "Epoch 33/40\n",
      "750019/750019 [==============================] - 16s 21us/sample - loss: 0.6399 - acc: 0.5236 - val_loss: 0.5978 - val_acc: 0.4533\n",
      "Epoch 34/40\n",
      "750019/750019 [==============================] - 15s 21us/sample - loss: 0.6279 - acc: 0.5290 - val_loss: 0.5973 - val_acc: 0.4584\n",
      "Epoch 35/40\n",
      "750019/750019 [==============================] - 15s 21us/sample - loss: 0.6398 - acc: 0.5097 - val_loss: 0.6046 - val_acc: 0.4466\n",
      "Epoch 36/40\n",
      "750019/750019 [==============================] - 16s 21us/sample - loss: 0.6341 - acc: 0.5137 - val_loss: 0.6177 - val_acc: 0.4278\n",
      "Epoch 37/40\n",
      "750019/750019 [==============================] - 16s 21us/sample - loss: 0.6380 - acc: 0.4851 - val_loss: 0.6028 - val_acc: 0.4360\n",
      "Epoch 38/40\n",
      "750019/750019 [==============================] - 15s 20us/sample - loss: 0.6350 - acc: 0.4973 - val_loss: 0.6167 - val_acc: 0.4216\n",
      "Epoch 39/40\n",
      "750019/750019 [==============================] - 15s 20us/sample - loss: 0.6356 - acc: 0.4798 - val_loss: 0.6405 - val_acc: 0.4105\n",
      "Epoch 40/40\n",
      "750019/750019 [==============================] - 16s 22us/sample - loss: 0.6324 - acc: 0.4881 - val_loss: 0.5949 - val_acc: 0.4352\n"
     ]
    }
   ],
   "source": [
    "autoencoder.compile(metrics=['accuracy'],\n",
    "                    loss='mean_squared_error',\n",
    "                    optimizer='adam')\n",
    "\n",
    "cp = ModelCheckpoint(filepath=\"autoencoder_attr.h5\",\n",
    "                               save_best_only=True,\n",
    "                               verbose=0)\n",
    "\n",
    "history = autoencoder.fit(scaled_trainx, scaled_trainx,\n",
    "                    epochs=nb_epoch,\n",
    "                    batch_size=batch_size,\n",
    "                    shuffle=True,\n",
    "                    validation_data=(scaled_testx, scaled_testx),\n",
    "                    verbose=1,\n",
    "                    callbacks=[cp]).history"
   ]
  },
  {
   "cell_type": "code",
   "execution_count": 15,
   "metadata": {},
   "outputs": [
    {
     "name": "stdout",
     "output_type": "stream",
     "text": [
      "WARNING:tensorflow:From C:\\Users\\tsun04\\AppData\\Local\\Continuum\\anaconda3\\lib\\site-packages\\tensorflow\\python\\ops\\resource_variable_ops.py:435: colocate_with (from tensorflow.python.framework.ops) is deprecated and will be removed in a future version.\n",
      "Instructions for updating:\n",
      "Colocations handled automatically by placer.\n",
      "WARNING:tensorflow:From C:\\Users\\tsun04\\AppData\\Local\\Continuum\\anaconda3\\lib\\site-packages\\tensorflow\\python\\keras\\utils\\losses_utils.py:170: to_float (from tensorflow.python.ops.math_ops) is deprecated and will be removed in a future version.\n",
      "Instructions for updating:\n",
      "Use tf.cast instead.\n",
      "WARNING:tensorflow:From C:\\Users\\tsun04\\AppData\\Local\\Continuum\\anaconda3\\lib\\site-packages\\tensorflow\\python\\ops\\math_ops.py:3066: to_int32 (from tensorflow.python.ops.math_ops) is deprecated and will be removed in a future version.\n",
      "Instructions for updating:\n",
      "Use tf.cast instead.\n"
     ]
    }
   ],
   "source": [
    "autoencoder = load_model('autoencoder_attr.h5')"
   ]
  },
  {
   "cell_type": "code",
   "execution_count": 16,
   "metadata": {},
   "outputs": [
    {
     "name": "stdout",
     "output_type": "stream",
     "text": [
      "_________________________________________________________________\n",
      "Layer (type)                 Output Shape              Param #   \n",
      "=================================================================\n",
      "input_1 (InputLayer)         (None, 48)                0         \n",
      "_________________________________________________________________\n",
      "dense (Dense)                (None, 25)                1225      \n",
      "_________________________________________________________________\n",
      "dense_1 (Dense)              (None, 12)                312       \n",
      "_________________________________________________________________\n",
      "dense_2 (Dense)              (None, 12)                156       \n",
      "_________________________________________________________________\n",
      "dense_3 (Dense)              (None, 48)                624       \n",
      "=================================================================\n",
      "Total params: 2,317\n",
      "Trainable params: 2,317\n",
      "Non-trainable params: 0\n",
      "_________________________________________________________________\n"
     ]
    }
   ],
   "source": [
    "autoencoder.summary()"
   ]
  },
  {
   "cell_type": "code",
   "execution_count": 72,
   "metadata": {},
   "outputs": [
    {
     "data": {
      "image/png": "[encoded data removed]",
      "text/plain": [
       "<matplotlib.figure.Figure at 0x249c4249da0>"
      ]
     },
     "metadata": {},
     "output_type": "display_data"
    }
   ],
   "source": [
    "plt.plot(history['acc'], linewidth=2, label='Train')\n",
    "plt.plot(history['val_acc'], linewidth=2, label='Test')\n",
    "plt.legend(loc='lower right')\n",
    "plt.title('Model training and testing accuracy')\n",
    "plt.ylabel('Accuracy')\n",
    "plt.xlabel('Epoch')\n",
    "plt.show()"
   ]
  },
  {
   "cell_type": "code",
   "execution_count": 31,
   "metadata": {},
   "outputs": [],
   "source": [
    "scaled_testx_ext=scaler.fit_transform(test_x_extended)"
   ]
  },
  {
   "cell_type": "code",
   "execution_count": 32,
   "metadata": {},
   "outputs": [
    {
     "data": {
      "text/plain": [
       "(256931, 48)"
      ]
     },
     "execution_count": 32,
     "metadata": {},
     "output_type": "execute_result"
    }
   ],
   "source": [
    "scaled_testx_ext.shape"
   ]
  },
  {
   "cell_type": "code",
   "execution_count": 33,
   "metadata": {},
   "outputs": [],
   "source": [
    "preds = autoencoder.predict(scaled_testx_ext)"
   ]
  },
  {
   "cell_type": "code",
   "execution_count": 34,
   "metadata": {},
   "outputs": [
    {
     "data": {
      "text/plain": [
       "(256931, 48)"
      ]
     },
     "execution_count": 34,
     "metadata": {},
     "output_type": "execute_result"
    }
   ],
   "source": [
    "preds.shape"
   ]
  },
  {
   "cell_type": "code",
   "execution_count": 35,
   "metadata": {},
   "outputs": [],
   "source": [
    "mse = np.mean(np.power(scaled_testx_ext - preds, 2), axis=1)"
   ]
  },
  {
   "cell_type": "code",
   "execution_count": 36,
   "metadata": {},
   "outputs": [
    {
     "data": {
      "text/html": [
       "<div>\n",
       "<style scoped>\n",
       "    .dataframe tbody tr th:only-of-type {\n",
       "        vertical-align: middle;\n",
       "    }\n",
       "\n",
       "    .dataframe tbody tr th {\n",
       "        vertical-align: top;\n",
       "    }\n",
       "\n",
       "    .dataframe thead th {\n",
       "        text-align: right;\n",
       "    }\n",
       "</style>\n",
       "<table border=\"1\" class=\"dataframe\">\n",
       "  <thead>\n",
       "    <tr style=\"text-align: right;\">\n",
       "      <th></th>\n",
       "      <th>Actual</th>\n",
       "      <th>Reconstruction_error</th>\n",
       "    </tr>\n",
       "  </thead>\n",
       "  <tbody>\n",
       "    <tr>\n",
       "      <th>count</th>\n",
       "      <td>256931.00000</td>\n",
       "      <td>256931.000000</td>\n",
       "    </tr>\n",
       "    <tr>\n",
       "      <th>mean</th>\n",
       "      <td>0.02705</td>\n",
       "      <td>0.591933</td>\n",
       "    </tr>\n",
       "    <tr>\n",
       "      <th>std</th>\n",
       "      <td>0.16223</td>\n",
       "      <td>22.683817</td>\n",
       "    </tr>\n",
       "    <tr>\n",
       "      <th>min</th>\n",
       "      <td>0.00000</td>\n",
       "      <td>0.006588</td>\n",
       "    </tr>\n",
       "    <tr>\n",
       "      <th>25%</th>\n",
       "      <td>0.00000</td>\n",
       "      <td>0.045546</td>\n",
       "    </tr>\n",
       "    <tr>\n",
       "      <th>50%</th>\n",
       "      <td>0.00000</td>\n",
       "      <td>0.073024</td>\n",
       "    </tr>\n",
       "    <tr>\n",
       "      <th>75%</th>\n",
       "      <td>0.00000</td>\n",
       "      <td>0.189929</td>\n",
       "    </tr>\n",
       "    <tr>\n",
       "      <th>max</th>\n",
       "      <td>1.00000</td>\n",
       "      <td>9025.748849</td>\n",
       "    </tr>\n",
       "  </tbody>\n",
       "</table>\n",
       "</div>"
      ],
      "text/plain": [
       "             Actual  Reconstruction_error\n",
       "count  256931.00000         256931.000000\n",
       "mean        0.02705              0.591933\n",
       "std         0.16223             22.683817\n",
       "min         0.00000              0.006588\n",
       "25%         0.00000              0.045546\n",
       "50%         0.00000              0.073024\n",
       "75%         0.00000              0.189929\n",
       "max         1.00000           9025.748849"
      ]
     },
     "execution_count": 36,
     "metadata": {},
     "output_type": "execute_result"
    }
   ],
   "source": [
    "\n",
    "\n",
    "error_df = pd.DataFrame({'Reconstruction_error': mse,\n",
    "                        'Actual': test_y_extended})\n",
    "error_df.describe()"
   ]
  },
  {
   "cell_type": "code",
   "execution_count": 252,
   "metadata": {},
   "outputs": [],
   "source": [
    "#add stats for the reconstr. erro"
   ]
  },
  {
   "cell_type": "code",
   "execution_count": 253,
   "metadata": {},
   "outputs": [
    {
     "data": {
      "text/plain": [
       "(array([2.56921e+05, 4.00000e+00, 2.00000e+00, 3.00000e+00, 0.00000e+00,\n",
       "        0.00000e+00, 0.00000e+00, 0.00000e+00, 0.00000e+00, 1.00000e+00]),\n",
       " array([6.58804005e-03, 9.02580814e+02, 1.80515504e+03, 2.70772927e+03,\n",
       "        3.61030349e+03, 4.51287772e+03, 5.41545194e+03, 6.31802617e+03,\n",
       "        7.22060040e+03, 8.12317462e+03, 9.02574885e+03]),\n",
       " <a list of 10 Patch objects>)"
      ]
     },
     "execution_count": 253,
     "metadata": {},
     "output_type": "execute_result"
    },
    {
     "data": {
      "image/png": "[encoded data removed]",
      "text/plain": [
       "<matplotlib.figure.Figure at 0x12451e843c8>"
      ]
     },
     "metadata": {},
     "output_type": "display_data"
    }
   ],
   "source": [
    "plt.hist(error_df['Reconstruction_error'])"
   ]
  },
  {
   "cell_type": "code",
   "execution_count": 82,
   "metadata": {},
   "outputs": [
    {
     "data": {
      "text/plain": [
       "(6950, 249981, 0.027050064024971687)"
      ]
     },
     "execution_count": 82,
     "metadata": {},
     "output_type": "execute_result"
    }
   ],
   "source": [
    "num_attr = error_df.Actual[error_df.Actual == 1].count()\n",
    "num_normal = error_df.Actual[error_df.Actual == 0].count()\n",
    "no_skill_level = num_attr/(num_attr + num_normal)\n",
    "\n",
    "num_attr, num_normal, no_skill_level"
   ]
  },
  {
   "cell_type": "code",
   "execution_count": 101,
   "metadata": {},
   "outputs": [],
   "source": [
    "reconErr1=error_df[error_df.Reconstruction_error<1]"
   ]
  },
  {
   "cell_type": "code",
   "execution_count": 102,
   "metadata": {},
   "outputs": [
    {
     "data": {
      "text/plain": [
       "(array([148356.,  47181.,  17756.,  10210.,   4558.,   5641.,   2190.,\n",
       "          4043.,   1599.,    892.]),\n",
       " array([0.00670708, 0.10603158, 0.20535607, 0.30468056, 0.40400506,\n",
       "        0.50332955, 0.60265404, 0.70197854, 0.80130303, 0.90062752,\n",
       "        0.99995202]),\n",
       " <a list of 10 Patch objects>)"
      ]
     },
     "execution_count": 102,
     "metadata": {},
     "output_type": "execute_result"
    },
    {
     "data": {
      "image/png": "[encoded data removed]",
      "text/plain": [
       "<matplotlib.figure.Figure at 0x249b5767fd0>"
      ]
     },
     "metadata": {},
     "output_type": "display_data"
    }
   ],
   "source": [
    "plt.hist(reconErr1['Reconstruction_error'])"
   ]
  },
  {
   "cell_type": "code",
   "execution_count": 103,
   "metadata": {},
   "outputs": [],
   "source": [
    "precision_rt, recall_rt, threshold_rt = precision_recall_curve(reconErr1.Actual, reconErr1.Reconstruction_error)"
   ]
  },
  {
   "cell_type": "code",
   "execution_count": 104,
   "metadata": {},
   "outputs": [
    {
     "data": {
      "image/png": "[encoded data removed]",
      "text/plain": [
       "<matplotlib.figure.Figure at 0x249b3388550>"
      ]
     },
     "metadata": {},
     "output_type": "display_data"
    }
   ],
   "source": [
    "plt.plot(threshold_rt, precision_rt[1:], label=\"Precision\",linewidth=2)\n",
    "plt.plot(threshold_rt, recall_rt[1:], label=\"Recall\",linewidth=2)\n",
    "plt.title('Precision and recall for different threshold values')\n",
    "plt.xlabel('Threshold')\n",
    "plt.ylabel('Precision/Recall')\n",
    "plt.legend()\n",
    "plt.show()"
   ]
  },
  {
   "cell_type": "code",
   "execution_count": 107,
   "metadata": {},
   "outputs": [],
   "source": [
    "threshold_fixed=0.07"
   ]
  },
  {
   "cell_type": "code",
   "execution_count": 108,
   "metadata": {},
   "outputs": [
    {
     "data": {
      "image/png": "[encoded data removed]",
      "text/plain": [
       "<matplotlib.figure.Figure at 0x249b481c5f8>"
      ]
     },
     "metadata": {},
     "output_type": "display_data"
    }
   ],
   "source": [
    "\n",
    "groups = reconErr1.groupby('Actual')\n",
    "fig, ax = plt.subplots()\n",
    "\n",
    "for name, group in groups:\n",
    "    ax.plot(group.index, group.Reconstruction_error, marker='o', ms=3.5, linestyle='',\n",
    "            label= \"Attrited\" if name == 1 else \"Normal\")\n",
    "ax.hlines(threshold_fixed, ax.get_xlim()[0], ax.get_xlim()[1], colors=\"r\", zorder=100, label='Threshold')\n",
    "ax.legend()\n",
    "plt.title(\"Reconstruction error for different classes\")\n",
    "plt.ylabel(\"Reconstruction error\")\n",
    "plt.xlabel(\"Data point index\")\n",
    "plt.show();"
   ]
  },
  {
   "cell_type": "code",
   "execution_count": 37,
   "metadata": {},
   "outputs": [
    {
     "name": "stdout",
     "output_type": "stream",
     "text": [
      "              precision    recall  f1-score   support\n",
      "\n",
      "           0       0.99      0.48      0.65    249981\n",
      "           1       0.04      0.82      0.08      6950\n",
      "\n",
      "    accuracy                           0.49    256931\n",
      "   macro avg       0.52      0.65      0.36    256931\n",
      "weighted avg       0.96      0.49      0.63    256931\n",
      "\n"
     ]
    }
   ],
   "source": [
    "preds_y_binary = [1 if e > 0.07 else 0 for e in error_df.Reconstruction_error]\n",
    "\n",
    "print(classification_report(test_y_extended, preds_y_binary))"
   ]
  },
  {
   "cell_type": "code",
   "execution_count": 255,
   "metadata": {},
   "outputs": [
    {
     "data": {
      "text/plain": [
       "array([[120340, 129641],\n",
       "       [  1218,   5732]], dtype=int64)"
      ]
     },
     "execution_count": 255,
     "metadata": {},
     "output_type": "execute_result"
    }
   ],
   "source": [
    "conf_matrix = confusion_matrix(error_df.Actual, preds_y_binary)\n",
    "conf_matrix"
   ]
  },
  {
   "cell_type": "code",
   "execution_count": 256,
   "metadata": {},
   "outputs": [
    {
     "data": {
      "image/png": "[encoded data removed]",
      "text/plain": [
       "<matplotlib.figure.Figure at 0x123ebc83400>"
      ]
     },
     "metadata": {},
     "output_type": "display_data"
    }
   ],
   "source": [
    "LABELS = [\"non-attri\",\"attrited\"]\n",
    "plt.figure(figsize=(6,6))\n",
    "sns.heatmap(conf_matrix, xticklabels=LABELS, yticklabels=LABELS, annot=True, fmt=\"d\");\n",
    "plt.title(\"Confusion matrix with Embedding Features\")\n",
    "plt.ylabel('True class')\n",
    "plt.xlabel('Predicted class')\n",
    "plt.show()"
   ]
  },
  {
   "cell_type": "code",
   "execution_count": 38,
   "metadata": {},
   "outputs": [
    {
     "data": {
      "text/plain": [
       "0.6530723937896978"
      ]
     },
     "execution_count": 38,
     "metadata": {},
     "output_type": "execute_result"
    }
   ],
   "source": [
    "roc_auc_score(test_y_extended, preds_y_binary)"
   ]
  },
  {
   "cell_type": "markdown",
   "metadata": {},
   "source": [
    "### model seems to be not complex engough. try LSTM"
   ]
  },
  {
   "cell_type": "code",
   "execution_count": 186,
   "metadata": {},
   "outputs": [],
   "source": [
    "nb_epoch = 30\n",
    "batch_size = 256\n",
    "input_dim = train_x.shape[1] #num of columns, 30\n",
    "encoding_dim1 = 30\n",
    "encoding_dim2 = 15\n",
    "hidden_dim = int(encoding_dim2 / 2) #i.e. 7\n",
    "learning_rate = 1e-7"
   ]
  },
  {
   "cell_type": "code",
   "execution_count": 204,
   "metadata": {},
   "outputs": [],
   "source": [
    "def define_models(input_dim, output_dim):\n",
    "    ## define the encoder architecture \n",
    "    ## input : sequence \n",
    "    ## output : encoder states \n",
    "    input_layer = Input(shape=(input_dim, ))\n",
    "    encoder = Dense(encoding_dim1, activation=\"tanh\", activity_regularizer=regularizers.l1(learning_rate))(input_layer)\n",
    "    encoder = Dense(encoding_dim2, activation=\"softmax\", activity_regularizer=regularizers.l1(learning_rate))(encoder)\n",
    "    encoder = Dense(hidden_dim, activation=\"relu\")(encoder)\n",
    "    decoder = Dense(hidden_dim, activation='tanh')(encoder)\n",
    "    decoder = Dense(encoding_dim2, activation='tanh')(decoder)\n",
    "    decoder = Dense(encoding_dim1, activation='softmax')(decoder)\n",
    "    decoder = Dense(input_dim, activation='relu')(decoder)\n",
    "    autoencoder = Model(inputs=input_layer, outputs=decoder)\n",
    "    \n",
    "    return autoencoder\n",
    "\n"
   ]
  },
  {
   "cell_type": "code",
   "execution_count": 205,
   "metadata": {},
   "outputs": [],
   "source": [
    "autoencoder_lstm = define_models(input_dim, input_dim)"
   ]
  },
  {
   "cell_type": "code",
   "execution_count": 206,
   "metadata": {},
   "outputs": [
    {
     "name": "stdout",
     "output_type": "stream",
     "text": [
      "_________________________________________________________________\n",
      "Layer (type)                 Output Shape              Param #   \n",
      "=================================================================\n",
      "input_35 (InputLayer)        (None, 48)                0         \n",
      "_________________________________________________________________\n",
      "dense_53 (Dense)             (None, 30)                1470      \n",
      "_________________________________________________________________\n",
      "dense_54 (Dense)             (None, 15)                465       \n",
      "_________________________________________________________________\n",
      "dense_55 (Dense)             (None, 7)                 112       \n",
      "_________________________________________________________________\n",
      "dense_56 (Dense)             (None, 7)                 56        \n",
      "_________________________________________________________________\n",
      "dense_57 (Dense)             (None, 15)                120       \n",
      "_________________________________________________________________\n",
      "dense_58 (Dense)             (None, 30)                480       \n",
      "_________________________________________________________________\n",
      "dense_59 (Dense)             (None, 48)                1488      \n",
      "=================================================================\n",
      "Total params: 4,191\n",
      "Trainable params: 4,191\n",
      "Non-trainable params: 0\n",
      "_________________________________________________________________\n"
     ]
    }
   ],
   "source": [
    "autoencoder_lstm.summary()"
   ]
  },
  {
   "cell_type": "code",
   "execution_count": 197,
   "metadata": {},
   "outputs": [
    {
     "data": {
      "text/plain": [
       "750019"
      ]
     },
     "execution_count": 197,
     "metadata": {},
     "output_type": "execute_result"
    }
   ],
   "source": [
    "scaled_trainx.shape[0]"
   ]
  },
  {
   "cell_type": "code",
   "execution_count": 198,
   "metadata": {},
   "outputs": [],
   "source": [
    "scaled_trainx1=scaled_trainx.reshape(scaled_trainx.shape[0], 1, input_dim)"
   ]
  },
  {
   "cell_type": "code",
   "execution_count": 199,
   "metadata": {},
   "outputs": [],
   "source": [
    "scaled_testx1=scaled_testx.reshape(scaled_testx.shape[0], 1, input_dim)"
   ]
  },
  {
   "cell_type": "code",
   "execution_count": 200,
   "metadata": {},
   "outputs": [
    {
     "data": {
      "text/plain": [
       "numpy.ndarray"
      ]
     },
     "execution_count": 200,
     "metadata": {},
     "output_type": "execute_result"
    }
   ],
   "source": [
    "type(scaled_trainx1)"
   ]
  },
  {
   "cell_type": "code",
   "execution_count": 201,
   "metadata": {},
   "outputs": [
    {
     "data": {
      "text/plain": [
       "(251738, 1, 48)"
      ]
     },
     "execution_count": 201,
     "metadata": {},
     "output_type": "execute_result"
    }
   ],
   "source": [
    "scaled_testx1.shape"
   ]
  },
  {
   "cell_type": "code",
   "execution_count": 207,
   "metadata": {},
   "outputs": [
    {
     "name": "stdout",
     "output_type": "stream",
     "text": [
      "Train on 750019 samples, validate on 251738 samples\n",
      "Epoch 1/30\n",
      "750019/750019 [==============================] - 20s 26us/sample - loss: 0.8690 - acc: 0.2997 - val_loss: 0.7879 - val_acc: 0.3312\n",
      "Epoch 2/30\n",
      "750019/750019 [==============================] - 18s 24us/sample - loss: 0.7820 - acc: 0.3855 - val_loss: 0.7403 - val_acc: 0.3319\n",
      "Epoch 3/30\n",
      "750019/750019 [==============================] - 17s 23us/sample - loss: 0.7529 - acc: 0.3969 - val_loss: 0.7179 - val_acc: 0.3501\n",
      "Epoch 4/30\n",
      "750019/750019 [==============================] - 19s 25us/sample - loss: 0.7360 - acc: 0.4341 - val_loss: 0.7008 - val_acc: 0.3873\n",
      "Epoch 5/30\n",
      "750019/750019 [==============================] - 21s 28us/sample - loss: 0.7228 - acc: 0.4186 - val_loss: 0.6878 - val_acc: 0.3719\n",
      "Epoch 6/30\n",
      "750019/750019 [==============================] - 21s 27us/sample - loss: 0.7132 - acc: 0.4176 - val_loss: 0.6795 - val_acc: 0.3540\n",
      "Epoch 7/30\n",
      "750019/750019 [==============================] - 24s 32us/sample - loss: 0.7068 - acc: 0.4232 - val_loss: 0.6756 - val_acc: 0.3395\n",
      "Epoch 8/30\n",
      "750019/750019 [==============================] - 20s 26us/sample - loss: 0.7013 - acc: 0.4255 - val_loss: 0.6714 - val_acc: 0.3641\n",
      "Epoch 9/30\n",
      "750019/750019 [==============================] - 20s 27us/sample - loss: 0.6953 - acc: 0.4257 - val_loss: 0.6628 - val_acc: 0.3543\n",
      "Epoch 10/30\n",
      "750019/750019 [==============================] - 23s 31us/sample - loss: 0.6903 - acc: 0.4305 - val_loss: 0.6552 - val_acc: 0.3467\n",
      "Epoch 11/30\n",
      "750019/750019 [==============================] - 21s 28us/sample - loss: 0.6878 - acc: 0.4236 - val_loss: 0.6574 - val_acc: 0.3730\n",
      "Epoch 12/30\n",
      "750019/750019 [==============================] - 22s 30us/sample - loss: 0.6849 - acc: 0.4216 - val_loss: 0.6494 - val_acc: 0.3842\n",
      "Epoch 13/30\n",
      "750019/750019 [==============================] - 23s 31us/sample - loss: 0.6821 - acc: 0.4264 - val_loss: 0.6480 - val_acc: 0.3649\n",
      "Epoch 14/30\n",
      "750019/750019 [==============================] - 22s 29us/sample - loss: 0.6811 - acc: 0.4292 - val_loss: 0.6468 - val_acc: 0.3591\n",
      "Epoch 15/30\n",
      "750019/750019 [==============================] - 21s 28us/sample - loss: 0.6829 - acc: 0.4265 - val_loss: 0.6651 - val_acc: 0.3845\n",
      "Epoch 16/30\n",
      "750019/750019 [==============================] - 18s 24us/sample - loss: 0.6850 - acc: 0.4264 - val_loss: 0.6456 - val_acc: 0.3807\n",
      "Epoch 17/30\n",
      "750019/750019 [==============================] - 19s 25us/sample - loss: 0.6772 - acc: 0.4264 - val_loss: 0.6464 - val_acc: 0.3566\n",
      "Epoch 18/30\n",
      "750019/750019 [==============================] - 15s 20us/sample - loss: 0.6756 - acc: 0.4254 - val_loss: 0.6394 - val_acc: 0.3692\n",
      "Epoch 19/30\n",
      "750019/750019 [==============================] - 14s 18us/sample - loss: 0.6837 - acc: 0.4331 - val_loss: 0.6439 - val_acc: 0.3799\n",
      "Epoch 20/30\n",
      "750019/750019 [==============================] - 15s 19us/sample - loss: 0.6798 - acc: 0.4300 - val_loss: 0.6458 - val_acc: 0.4062\n",
      "Epoch 21/30\n",
      "750019/750019 [==============================] - 15s 20us/sample - loss: 0.6749 - acc: 0.4378 - val_loss: 0.6531 - val_acc: 0.3903\n",
      "Epoch 22/30\n",
      "750019/750019 [==============================] - 14s 19us/sample - loss: 0.6779 - acc: 0.4311 - val_loss: 0.6539 - val_acc: 0.3516\n",
      "Epoch 23/30\n",
      "750019/750019 [==============================] - 16s 22us/sample - loss: 0.6723 - acc: 0.4404 - val_loss: 0.6319 - val_acc: 0.3896\n",
      "Epoch 24/30\n",
      "750019/750019 [==============================] - 17s 22us/sample - loss: 0.6694 - acc: 0.4579 - val_loss: 0.6302 - val_acc: 0.4110\n",
      "Epoch 25/30\n",
      "750019/750019 [==============================] - 14s 19us/sample - loss: 0.6730 - acc: 0.4534 - val_loss: 0.6324 - val_acc: 0.4208\n",
      "Epoch 26/30\n",
      "750019/750019 [==============================] - 16s 21us/sample - loss: 0.6715 - acc: 0.4530 - val_loss: 0.6306 - val_acc: 0.3601\n",
      "Epoch 27/30\n",
      "750019/750019 [==============================] - 17s 22us/sample - loss: 0.6706 - acc: 0.4377 - val_loss: 0.6313 - val_acc: 0.4037\n",
      "Epoch 28/30\n",
      "750019/750019 [==============================] - 17s 22us/sample - loss: 0.6755 - acc: 0.4414 - val_loss: 0.6466 - val_acc: 0.3875\n",
      "Epoch 29/30\n",
      "750019/750019 [==============================] - 18s 24us/sample - loss: 0.6749 - acc: 0.4399 - val_loss: 0.6322 - val_acc: 0.3840\n",
      "Epoch 30/30\n",
      "750019/750019 [==============================] - 15s 19us/sample - loss: 0.6802 - acc: 0.4305 - val_loss: 0.6374 - val_acc: 0.3501\n"
     ]
    }
   ],
   "source": [
    "autoencoder_lstm.compile(metrics=['accuracy'],\n",
    "                    loss='mean_squared_error',\n",
    "                    optimizer='adam')\n",
    "\n",
    "cp = ModelCheckpoint(filepath=\"autoencoder_lstm.h5\",\n",
    "                               save_best_only=True,\n",
    "                               verbose=0)\n",
    "\n",
    "history_lstm = autoencoder_lstm.fit(np.array(scaled_trainx), np.array(scaled_trainx),\n",
    "                    epochs=nb_epoch,\n",
    "                    batch_size=batch_size,\n",
    "                    shuffle=True,\n",
    "                    validation_data=(scaled_testx, scaled_testx),\n",
    "                    verbose=1,\n",
    "                    callbacks=[cp]).history"
   ]
  },
  {
   "cell_type": "code",
   "execution_count": null,
   "metadata": {},
   "outputs": [],
   "source": []
  },
  {
   "cell_type": "code",
   "execution_count": null,
   "metadata": {},
   "outputs": [],
   "source": []
  },
  {
   "cell_type": "code",
   "execution_count": null,
   "metadata": {},
   "outputs": [],
   "source": []
  },
  {
   "cell_type": "code",
   "execution_count": null,
   "metadata": {},
   "outputs": [],
   "source": []
  },
  {
   "cell_type": "markdown",
   "metadata": {},
   "source": [
    "## create profile report\n"
   ]
  },
  {
   "cell_type": "code",
   "execution_count": 103,
   "metadata": {},
   "outputs": [],
   "source": [
    "pandasreport=pandprof.ProfileReport(univ)"
   ]
  },
  {
   "cell_type": "code",
   "execution_count": 104,
   "metadata": {},
   "outputs": [],
   "source": [
    "pandasreport.to_file(\"Sequence_Embedding_fn_EDA.html\")"
   ]
  },
  {
   "cell_type": "code",
   "execution_count": null,
   "metadata": {},
   "outputs": [],
   "source": []
  },
  {
   "cell_type": "code",
   "execution_count": 20,
   "metadata": {},
   "outputs": [],
   "source": []
  },
  {
   "cell_type": "code",
   "execution_count": null,
   "metadata": {},
   "outputs": [],
   "source": []
  }
 ],
 "metadata": {
  "kernelspec": {
   "display_name": "Python 3",
   "language": "python",
   "name": "python3"
  },
  "language_info": {
   "codemirror_mode": {
    "name": "ipython",
    "version": 3
   },
   "file_extension": ".py",
   "mimetype": "text/x-python",
   "name": "python",
   "nbconvert_exporter": "python",
   "pygments_lexer": "ipython3",
   "version": "3.6.7"
  }
 },
 "nbformat": 4,
 "nbformat_minor": 2
}
