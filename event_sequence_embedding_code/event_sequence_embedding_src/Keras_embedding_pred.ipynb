{
 "cells": [
  {
   "cell_type": "markdown",
   "metadata": {},
   "source": [
    "# Journey Data Attrition Analysis\n",
    "### Ting Sun -- Nov, 2019"
   ]
  },
  {
   "cell_type": "code",
   "execution_count": 1,
   "metadata": {},
   "outputs": [],
   "source": [
    "import pandas as pd\n",
    "import os\n",
    "import numpy as np\n",
    "import seaborn as sns"
   ]
  },
  {
   "cell_type": "code",
   "execution_count": 2,
   "metadata": {},
   "outputs": [
    {
     "data": {
      "text/plain": [
       "7"
      ]
     },
     "execution_count": 2,
     "metadata": {},
     "output_type": "execute_result"
    }
   ],
   "source": [
    "import gc\n",
    "gc.collect()"
   ]
  },
  {
   "cell_type": "code",
   "execution_count": 3,
   "metadata": {},
   "outputs": [],
   "source": [
    "from sklearn.model_selection import train_test_split\n",
    "from sklearn.preprocessing import StandardScaler"
   ]
  },
  {
   "cell_type": "code",
   "execution_count": 4,
   "metadata": {},
   "outputs": [],
   "source": [
    "from sklearn.utils import resample\n",
    "from sklearn.metrics import confusion_matrix, precision_recall_curve\n",
    "from sklearn.metrics import recall_score, classification_report, auc, roc_curve,roc_auc_score\n",
    "from sklearn.linear_model import LogisticRegression\n",
    "from sklearn import metrics\n",
    "from sklearn.metrics import confusion_matrix\n",
    "from sklearn.metrics import classification_report\n",
    "from xgboost import XGBClassifier\n",
    "from sklearn.neighbors import KNeighborsClassifier\n",
    "from sklearn.tree import DecisionTreeClassifier\n",
    "from sklearn.ensemble import RandomForestClassifier\n",
    "from sklearn.svm import SVC\n",
    "from sklearn.ensemble import GradientBoostingClassifier\n"
   ]
  },
  {
   "cell_type": "code",
   "execution_count": 5,
   "metadata": {},
   "outputs": [],
   "source": [
    "import pandas_profiling as pandprof"
   ]
  },
  {
   "cell_type": "code",
   "execution_count": 6,
   "metadata": {},
   "outputs": [],
   "source": [
    "import matplotlib.pyplot as plt\n",
    "#import scikitplot as skplt\n",
    "from sklearn import metrics"
   ]
  },
  {
   "cell_type": "code",
   "execution_count": 7,
   "metadata": {
    "scrolled": true
   },
   "outputs": [
    {
     "name": "stderr",
     "output_type": "stream",
     "text": [
      "C:\\Users\\tsun04\\AppData\\Local\\Continuum\\anaconda3\\lib\\site-packages\\h5py\\__init__.py:36: FutureWarning: Conversion of the second argument of issubdtype from `float` to `np.floating` is deprecated. In future, it will be treated as `np.float64 == np.dtype(float).type`.\n",
      "  from ._conv import register_converters as _register_converters\n"
     ]
    }
   ],
   "source": [
    "from imblearn.over_sampling import SMOTE"
   ]
  },
  {
   "cell_type": "code",
   "execution_count": 8,
   "metadata": {},
   "outputs": [],
   "source": [
    "import csv\n",
    "import itertools"
   ]
  },
  {
   "cell_type": "code",
   "execution_count": 9,
   "metadata": {},
   "outputs": [],
   "source": [
    "from tensorflow.python.keras.layers import Input, Dense, Dropout,LSTM\n",
    "from tensorflow.python.keras.models import Model, load_model\n"
   ]
  },
  {
   "cell_type": "code",
   "execution_count": 10,
   "metadata": {},
   "outputs": [],
   "source": [
    "\n",
    "from tensorflow.python.keras.callbacks import ModelCheckpoint, TensorBoard\n",
    "from tensorflow.python.keras import regularizers, Sequential"
   ]
  },
  {
   "cell_type": "code",
   "execution_count": 11,
   "metadata": {},
   "outputs": [],
   "source": [
    "from tensorflow.python.keras.preprocessing.text import one_hot\n",
    "from tensorflow.python.keras.preprocessing.sequence import pad_sequences\n",
    "from tensorflow.python.keras.models import Sequential\n",
    "from tensorflow.python.keras.layers import Dense\n",
    "from tensorflow.python.keras.layers import Flatten\n",
    "from tensorflow.python.keras.layers.embeddings import Embedding"
   ]
  },
  {
   "cell_type": "code",
   "execution_count": 12,
   "metadata": {},
   "outputs": [],
   "source": [
    "from tensorflow.python.keras.preprocessing.text import Tokenizer"
   ]
  },
  {
   "cell_type": "code",
   "execution_count": 13,
   "metadata": {},
   "outputs": [],
   "source": [
    "import os\n",
    "import pandas as pd"
   ]
  },
  {
   "cell_type": "code",
   "execution_count": 14,
   "metadata": {},
   "outputs": [
    {
     "name": "stderr",
     "output_type": "stream",
     "text": [
      "C:\\Users\\tsun04\\AppData\\Local\\Continuum\\anaconda3\\lib\\site-packages\\IPython\\core\\interactiveshell.py:2728: DtypeWarning: Columns (1) have mixed types. Specify dtype option on import or set low_memory=False.\n",
      "  interactivity=interactivity, compiler=compiler, result=result)\n"
     ]
    }
   ],
   "source": [
    "univ=pd.read_csv('C:\\\\Users\\\\tsun04\\\\event_sequence_embedding\\\\JRN_UNIVERSE_201909WK1_FLATTEN2.csv', encoding='utf-8',sep=\",\") #Read excel file"
   ]
  },
  {
   "cell_type": "code",
   "execution_count": 15,
   "metadata": {
    "scrolled": true
   },
   "outputs": [
    {
     "data": {
      "text/html": [
       "<div>\n",
       "<style scoped>\n",
       "    .dataframe tbody tr th:only-of-type {\n",
       "        vertical-align: middle;\n",
       "    }\n",
       "\n",
       "    .dataframe tbody tr th {\n",
       "        vertical-align: top;\n",
       "    }\n",
       "\n",
       "    .dataframe thead th {\n",
       "        text-align: right;\n",
       "    }\n",
       "</style>\n",
       "<table border=\"1\" class=\"dataframe\">\n",
       "  <thead>\n",
       "    <tr style=\"text-align: right;\">\n",
       "      <th></th>\n",
       "      <th>trim_eventseq</th>\n",
       "      <th>OCIF_id</th>\n",
       "      <th>attrited</th>\n",
       "    </tr>\n",
       "  </thead>\n",
       "  <tbody>\n",
       "    <tr>\n",
       "      <th>0</th>\n",
       "      <td>opt257</td>\n",
       "      <td>001069464216288</td>\n",
       "      <td>0</td>\n",
       "    </tr>\n",
       "    <tr>\n",
       "      <th>1</th>\n",
       "      <td>opt465</td>\n",
       "      <td>001069464307179</td>\n",
       "      <td>0</td>\n",
       "    </tr>\n",
       "    <tr>\n",
       "      <th>2</th>\n",
       "      <td>opt302</td>\n",
       "      <td>001069464309050</td>\n",
       "      <td>0</td>\n",
       "    </tr>\n",
       "    <tr>\n",
       "      <th>3</th>\n",
       "      <td>opt082 opt137</td>\n",
       "      <td>001069466113872</td>\n",
       "      <td>0</td>\n",
       "    </tr>\n",
       "    <tr>\n",
       "      <th>4</th>\n",
       "      <td>opt460 opt421</td>\n",
       "      <td>001069467716456</td>\n",
       "      <td>0</td>\n",
       "    </tr>\n",
       "  </tbody>\n",
       "</table>\n",
       "</div>"
      ],
      "text/plain": [
       "   trim_eventseq          OCIF_id  attrited\n",
       "0         opt257  001069464216288         0\n",
       "1         opt465  001069464307179         0\n",
       "2         opt302  001069464309050         0\n",
       "3  opt082 opt137  001069466113872         0\n",
       "4  opt460 opt421  001069467716456         0"
      ]
     },
     "execution_count": 15,
     "metadata": {},
     "output_type": "execute_result"
    }
   ],
   "source": [
    "univ.head()"
   ]
  },
  {
   "cell_type": "code",
   "execution_count": 16,
   "metadata": {
    "scrolled": false
   },
   "outputs": [
    {
     "data": {
      "text/plain": [
       "trim_eventseq    object\n",
       "OCIF_id          object\n",
       "attrited          int64\n",
       "dtype: object"
      ]
     },
     "execution_count": 16,
     "metadata": {},
     "output_type": "execute_result"
    }
   ],
   "source": [
    "univ.dtypes"
   ]
  },
  {
   "cell_type": "code",
   "execution_count": 17,
   "metadata": {},
   "outputs": [
    {
     "data": {
      "text/plain": [
       "0"
      ]
     },
     "execution_count": 17,
     "metadata": {},
     "output_type": "execute_result"
    }
   ],
   "source": [
    "#remove 'trn031' for modeling\n",
    "\n",
    "univ['trim_eventseq'].str.contains('trn031').values.sum()"
   ]
  },
  {
   "cell_type": "code",
   "execution_count": 18,
   "metadata": {},
   "outputs": [],
   "source": [
    "docseq=np.array(univ['trim_eventseq'])"
   ]
  },
  {
   "cell_type": "code",
   "execution_count": 19,
   "metadata": {},
   "outputs": [],
   "source": [
    "labels=np.array(univ['attrited'])"
   ]
  },
  {
   "cell_type": "code",
   "execution_count": 20,
   "metadata": {},
   "outputs": [
    {
     "data": {
      "text/plain": [
       "array(['opt302', 'opt302', 'opt182', 'opt302', 'opt256', 'opt302',\n",
       "       'opt257 opt465', 'opt256', 'opt256', 'opt252', 'opt084', 'opt302',\n",
       "       'opt294', 'opt527', 'opt460', 'opt456', 'opt253', 'opt342 opt412',\n",
       "       'opt482 opt465 opt228', 'opt565 opt412', 'opt290', 'opt429',\n",
       "       'opt256', 'opt527', 'opt302', 'opt283', 'opt137', 'opt465',\n",
       "       'opt302', 'opt253', 'opt234 opt257', 'opt256', 'opt317', 'opt302',\n",
       "       'opt137 opt302 opt137', 'opt456', 'opt252', 'opt284', 'opt454',\n",
       "       'opt256', 'opt249', 'opt257', 'opt226', 'opt257', 'opt302',\n",
       "       'opt256', 'opt089', 'opt253', 'opt283', 'opt302', 'opt302',\n",
       "       'opt257', 'opt319', 'opt294', 'opt465 opt527', 'opt565 opt410',\n",
       "       'opt252 opt082', 'opt454', 'opt527', 'opt527', 'opt137', 'opt290',\n",
       "       'opt283', 'opt252', 'opt302', 'opt302', 'opt253', 'opt179',\n",
       "       'opt082', 'opt292', 'opt257', 'opt137', 'opt454', 'opt290',\n",
       "       'opt137', 'opt417', 'opt465', 'opt296', 'opt527', 'opt509',\n",
       "       'opt226', 'opt087', 'opt252', 'opt089', 'opt137 opt082', 'opt465',\n",
       "       'opt454', 'opt527', 'opt454', 'opt456', 'opt137', 'opt358',\n",
       "       'opt257', 'opt137', 'opt256', 'opt137', 'opt465 opt527 opt319',\n",
       "       'opt454', 'opt387', 'opt558 opt322'], dtype=object)"
      ]
     },
     "execution_count": 20,
     "metadata": {},
     "output_type": "execute_result"
    }
   ],
   "source": [
    "docseq[200:300]"
   ]
  },
  {
   "cell_type": "code",
   "execution_count": 21,
   "metadata": {},
   "outputs": [],
   "source": [
    "#samp_doc=docseq[:100000]"
   ]
  },
  {
   "cell_type": "code",
   "execution_count": 22,
   "metadata": {},
   "outputs": [],
   "source": [
    "#samp_label=labels[:100000]"
   ]
  },
  {
   "cell_type": "code",
   "execution_count": 23,
   "metadata": {},
   "outputs": [],
   "source": [
    "all_words = []\n",
    "for sent in docseq:\n",
    "    for word in sent.split(' '):        \n",
    "        all_words.append(word.strip())"
   ]
  },
  {
   "cell_type": "code",
   "execution_count": 24,
   "metadata": {},
   "outputs": [
    {
     "name": "stdout",
     "output_type": "stream",
     "text": [
      "1474\n"
     ]
    }
   ],
   "source": [
    "unique_words = set(all_words)\n",
    "print(len(unique_words))"
   ]
  },
  {
   "cell_type": "code",
   "execution_count": 25,
   "metadata": {},
   "outputs": [],
   "source": [
    "embedded_sentences = [one_hot(sent, len(unique_words)) for sent in docseq]"
   ]
  },
  {
   "cell_type": "code",
   "execution_count": 26,
   "metadata": {},
   "outputs": [
    {
     "data": {
      "text/plain": [
       "[[47],\n",
       " [244],\n",
       " [951],\n",
       " [1149, 680],\n",
       " [1424, 623],\n",
       " [923, 498],\n",
       " [680],\n",
       " [1075],\n",
       " [315],\n",
       " [47]]"
      ]
     },
     "execution_count": 26,
     "metadata": {},
     "output_type": "execute_result"
    }
   ],
   "source": [
    "embedded_sentences[:10]"
   ]
  },
  {
   "cell_type": "code",
   "execution_count": 27,
   "metadata": {},
   "outputs": [],
   "source": [
    "def find_max_list(list):\n",
    "    list_len = [len(i) for i in list]\n",
    "    return(max(list_len))"
   ]
  },
  {
   "cell_type": "code",
   "execution_count": 28,
   "metadata": {},
   "outputs": [],
   "source": [
    "max_len=find_max_list(embedded_sentences)"
   ]
  },
  {
   "cell_type": "code",
   "execution_count": 29,
   "metadata": {},
   "outputs": [
    {
     "data": {
      "text/plain": [
       "499"
      ]
     },
     "execution_count": 29,
     "metadata": {},
     "output_type": "execute_result"
    }
   ],
   "source": [
    "max_len"
   ]
  },
  {
   "cell_type": "code",
   "execution_count": 30,
   "metadata": {},
   "outputs": [
    {
     "name": "stdout",
     "output_type": "stream",
     "text": [
      "[[  47    0    0 ...    0    0    0]\n",
      " [ 244    0    0 ...    0    0    0]\n",
      " [ 951    0    0 ...    0    0    0]\n",
      " ...\n",
      " [1075    0    0 ...    0    0    0]\n",
      " [ 315    0    0 ...    0    0    0]\n",
      " [  47    0    0 ...    0    0    0]]\n"
     ]
    }
   ],
   "source": [
    "padded_sentences = pad_sequences(embedded_sentences, max_len, padding='post')\n",
    "print(padded_sentences[:10])\n"
   ]
  },
  {
   "cell_type": "code",
   "execution_count": 31,
   "metadata": {},
   "outputs": [],
   "source": [
    "vocab_length=len(unique_words)"
   ]
  },
  {
   "cell_type": "code",
   "execution_count": 32,
   "metadata": {},
   "outputs": [
    {
     "data": {
      "text/plain": [
       "499"
      ]
     },
     "execution_count": 32,
     "metadata": {},
     "output_type": "execute_result"
    }
   ],
   "source": [
    "max_len"
   ]
  },
  {
   "cell_type": "code",
   "execution_count": 33,
   "metadata": {},
   "outputs": [
    {
     "data": {
      "text/plain": [
       "numpy.ndarray"
      ]
     },
     "execution_count": 33,
     "metadata": {},
     "output_type": "execute_result"
    }
   ],
   "source": [
    "type(padded_sentences)"
   ]
  },
  {
   "cell_type": "code",
   "execution_count": 34,
   "metadata": {},
   "outputs": [
    {
     "data": {
      "text/html": [
       "<div>\n",
       "<style scoped>\n",
       "    .dataframe tbody tr th:only-of-type {\n",
       "        vertical-align: middle;\n",
       "    }\n",
       "\n",
       "    .dataframe tbody tr th {\n",
       "        vertical-align: top;\n",
       "    }\n",
       "\n",
       "    .dataframe thead th {\n",
       "        text-align: right;\n",
       "    }\n",
       "</style>\n",
       "<table border=\"1\" class=\"dataframe\">\n",
       "  <thead>\n",
       "    <tr style=\"text-align: right;\">\n",
       "      <th></th>\n",
       "      <th>trim_eventseq</th>\n",
       "      <th>OCIF_id</th>\n",
       "      <th>attrited</th>\n",
       "    </tr>\n",
       "  </thead>\n",
       "  <tbody>\n",
       "    <tr>\n",
       "      <th>0</th>\n",
       "      <td>opt257</td>\n",
       "      <td>001069464216288</td>\n",
       "      <td>0</td>\n",
       "    </tr>\n",
       "    <tr>\n",
       "      <th>1</th>\n",
       "      <td>opt465</td>\n",
       "      <td>001069464307179</td>\n",
       "      <td>0</td>\n",
       "    </tr>\n",
       "    <tr>\n",
       "      <th>2</th>\n",
       "      <td>opt302</td>\n",
       "      <td>001069464309050</td>\n",
       "      <td>0</td>\n",
       "    </tr>\n",
       "    <tr>\n",
       "      <th>3</th>\n",
       "      <td>opt082 opt137</td>\n",
       "      <td>001069466113872</td>\n",
       "      <td>0</td>\n",
       "    </tr>\n",
       "    <tr>\n",
       "      <th>4</th>\n",
       "      <td>opt460 opt421</td>\n",
       "      <td>001069467716456</td>\n",
       "      <td>0</td>\n",
       "    </tr>\n",
       "  </tbody>\n",
       "</table>\n",
       "</div>"
      ],
      "text/plain": [
       "   trim_eventseq          OCIF_id  attrited\n",
       "0         opt257  001069464216288         0\n",
       "1         opt465  001069464307179         0\n",
       "2         opt302  001069464309050         0\n",
       "3  opt082 opt137  001069466113872         0\n",
       "4  opt460 opt421  001069467716456         0"
      ]
     },
     "execution_count": 34,
     "metadata": {},
     "output_type": "execute_result"
    }
   ],
   "source": [
    "univ.head()"
   ]
  },
  {
   "cell_type": "code",
   "execution_count": 35,
   "metadata": {},
   "outputs": [
    {
     "data": {
      "text/plain": [
       "(1006927, 499)"
      ]
     },
     "execution_count": 35,
     "metadata": {},
     "output_type": "execute_result"
    }
   ],
   "source": [
    "padded_sentences.shape"
   ]
  },
  {
   "cell_type": "code",
   "execution_count": 36,
   "metadata": {},
   "outputs": [
    {
     "data": {
      "text/plain": [
       "(1006927, 3)"
      ]
     },
     "execution_count": 36,
     "metadata": {},
     "output_type": "execute_result"
    }
   ],
   "source": [
    "univ.shape"
   ]
  },
  {
   "cell_type": "code",
   "execution_count": 37,
   "metadata": {},
   "outputs": [],
   "source": [
    "dftry=pd.DataFrame(padded_sentences)"
   ]
  },
  {
   "cell_type": "code",
   "execution_count": 38,
   "metadata": {},
   "outputs": [
    {
     "data": {
      "text/plain": [
       "RangeIndex(start=0, stop=499, step=1)"
      ]
     },
     "execution_count": 38,
     "metadata": {},
     "output_type": "execute_result"
    }
   ],
   "source": [
    "dftry.columns"
   ]
  },
  {
   "cell_type": "code",
   "execution_count": 39,
   "metadata": {},
   "outputs": [],
   "source": [
    "univ1=pd.concat([univ,dftry],axis=1)"
   ]
  },
  {
   "cell_type": "code",
   "execution_count": 40,
   "metadata": {},
   "outputs": [
    {
     "data": {
      "text/plain": [
       "(1006927, 502)"
      ]
     },
     "execution_count": 40,
     "metadata": {},
     "output_type": "execute_result"
    }
   ],
   "source": [
    "univ1.shape"
   ]
  },
  {
   "cell_type": "code",
   "execution_count": null,
   "metadata": {},
   "outputs": [],
   "source": []
  },
  {
   "cell_type": "markdown",
   "metadata": {},
   "source": [
    "## smote oversampling "
   ]
  },
  {
   "cell_type": "code",
   "execution_count": 41,
   "metadata": {},
   "outputs": [],
   "source": [
    "os = SMOTE(random_state=9)"
   ]
  },
  {
   "cell_type": "code",
   "execution_count": 42,
   "metadata": {},
   "outputs": [],
   "source": [
    "smoteY=univ1['attrited']"
   ]
  },
  {
   "cell_type": "code",
   "execution_count": 45,
   "metadata": {},
   "outputs": [],
   "source": [
    "smoteX=univ1.loc[:, (univ1.columns != 'attrited') & (univ1.columns != 'OCIF_id') & (univ1.columns != 'trim_eventseq')]"
   ]
  },
  {
   "cell_type": "code",
   "execution_count": 46,
   "metadata": {},
   "outputs": [
    {
     "data": {
      "text/html": [
       "<div>\n",
       "<style scoped>\n",
       "    .dataframe tbody tr th:only-of-type {\n",
       "        vertical-align: middle;\n",
       "    }\n",
       "\n",
       "    .dataframe tbody tr th {\n",
       "        vertical-align: top;\n",
       "    }\n",
       "\n",
       "    .dataframe thead th {\n",
       "        text-align: right;\n",
       "    }\n",
       "</style>\n",
       "<table border=\"1\" class=\"dataframe\">\n",
       "  <thead>\n",
       "    <tr style=\"text-align: right;\">\n",
       "      <th></th>\n",
       "      <th>0</th>\n",
       "      <th>1</th>\n",
       "      <th>2</th>\n",
       "      <th>3</th>\n",
       "      <th>4</th>\n",
       "      <th>5</th>\n",
       "      <th>6</th>\n",
       "      <th>7</th>\n",
       "      <th>8</th>\n",
       "      <th>9</th>\n",
       "      <th>...</th>\n",
       "      <th>489</th>\n",
       "      <th>490</th>\n",
       "      <th>491</th>\n",
       "      <th>492</th>\n",
       "      <th>493</th>\n",
       "      <th>494</th>\n",
       "      <th>495</th>\n",
       "      <th>496</th>\n",
       "      <th>497</th>\n",
       "      <th>498</th>\n",
       "    </tr>\n",
       "  </thead>\n",
       "  <tbody>\n",
       "    <tr>\n",
       "      <th>0</th>\n",
       "      <td>47</td>\n",
       "      <td>0</td>\n",
       "      <td>0</td>\n",
       "      <td>0</td>\n",
       "      <td>0</td>\n",
       "      <td>0</td>\n",
       "      <td>0</td>\n",
       "      <td>0</td>\n",
       "      <td>0</td>\n",
       "      <td>0</td>\n",
       "      <td>...</td>\n",
       "      <td>0</td>\n",
       "      <td>0</td>\n",
       "      <td>0</td>\n",
       "      <td>0</td>\n",
       "      <td>0</td>\n",
       "      <td>0</td>\n",
       "      <td>0</td>\n",
       "      <td>0</td>\n",
       "      <td>0</td>\n",
       "      <td>0</td>\n",
       "    </tr>\n",
       "    <tr>\n",
       "      <th>1</th>\n",
       "      <td>244</td>\n",
       "      <td>0</td>\n",
       "      <td>0</td>\n",
       "      <td>0</td>\n",
       "      <td>0</td>\n",
       "      <td>0</td>\n",
       "      <td>0</td>\n",
       "      <td>0</td>\n",
       "      <td>0</td>\n",
       "      <td>0</td>\n",
       "      <td>...</td>\n",
       "      <td>0</td>\n",
       "      <td>0</td>\n",
       "      <td>0</td>\n",
       "      <td>0</td>\n",
       "      <td>0</td>\n",
       "      <td>0</td>\n",
       "      <td>0</td>\n",
       "      <td>0</td>\n",
       "      <td>0</td>\n",
       "      <td>0</td>\n",
       "    </tr>\n",
       "    <tr>\n",
       "      <th>2</th>\n",
       "      <td>951</td>\n",
       "      <td>0</td>\n",
       "      <td>0</td>\n",
       "      <td>0</td>\n",
       "      <td>0</td>\n",
       "      <td>0</td>\n",
       "      <td>0</td>\n",
       "      <td>0</td>\n",
       "      <td>0</td>\n",
       "      <td>0</td>\n",
       "      <td>...</td>\n",
       "      <td>0</td>\n",
       "      <td>0</td>\n",
       "      <td>0</td>\n",
       "      <td>0</td>\n",
       "      <td>0</td>\n",
       "      <td>0</td>\n",
       "      <td>0</td>\n",
       "      <td>0</td>\n",
       "      <td>0</td>\n",
       "      <td>0</td>\n",
       "    </tr>\n",
       "    <tr>\n",
       "      <th>3</th>\n",
       "      <td>1149</td>\n",
       "      <td>680</td>\n",
       "      <td>0</td>\n",
       "      <td>0</td>\n",
       "      <td>0</td>\n",
       "      <td>0</td>\n",
       "      <td>0</td>\n",
       "      <td>0</td>\n",
       "      <td>0</td>\n",
       "      <td>0</td>\n",
       "      <td>...</td>\n",
       "      <td>0</td>\n",
       "      <td>0</td>\n",
       "      <td>0</td>\n",
       "      <td>0</td>\n",
       "      <td>0</td>\n",
       "      <td>0</td>\n",
       "      <td>0</td>\n",
       "      <td>0</td>\n",
       "      <td>0</td>\n",
       "      <td>0</td>\n",
       "    </tr>\n",
       "    <tr>\n",
       "      <th>4</th>\n",
       "      <td>1424</td>\n",
       "      <td>623</td>\n",
       "      <td>0</td>\n",
       "      <td>0</td>\n",
       "      <td>0</td>\n",
       "      <td>0</td>\n",
       "      <td>0</td>\n",
       "      <td>0</td>\n",
       "      <td>0</td>\n",
       "      <td>0</td>\n",
       "      <td>...</td>\n",
       "      <td>0</td>\n",
       "      <td>0</td>\n",
       "      <td>0</td>\n",
       "      <td>0</td>\n",
       "      <td>0</td>\n",
       "      <td>0</td>\n",
       "      <td>0</td>\n",
       "      <td>0</td>\n",
       "      <td>0</td>\n",
       "      <td>0</td>\n",
       "    </tr>\n",
       "  </tbody>\n",
       "</table>\n",
       "<p>5 rows × 499 columns</p>\n",
       "</div>"
      ],
      "text/plain": [
       "    0    1    2    3    4    5    6    7    8    9   ...   489  490  491  492  \\\n",
       "0    47    0    0    0    0    0    0    0    0    0 ...     0    0    0    0   \n",
       "1   244    0    0    0    0    0    0    0    0    0 ...     0    0    0    0   \n",
       "2   951    0    0    0    0    0    0    0    0    0 ...     0    0    0    0   \n",
       "3  1149  680    0    0    0    0    0    0    0    0 ...     0    0    0    0   \n",
       "4  1424  623    0    0    0    0    0    0    0    0 ...     0    0    0    0   \n",
       "\n",
       "   493  494  495  496  497  498  \n",
       "0    0    0    0    0    0    0  \n",
       "1    0    0    0    0    0    0  \n",
       "2    0    0    0    0    0    0  \n",
       "3    0    0    0    0    0    0  \n",
       "4    0    0    0    0    0    0  \n",
       "\n",
       "[5 rows x 499 columns]"
      ]
     },
     "execution_count": 46,
     "metadata": {},
     "output_type": "execute_result"
    }
   ],
   "source": [
    "smoteX.head()"
   ]
  },
  {
   "cell_type": "code",
   "execution_count": 47,
   "metadata": {},
   "outputs": [],
   "source": [
    "sX_train, sX_test, sy_train, sy_test = train_test_split(smoteX, smoteY, test_size=0.3, random_state=8)"
   ]
  },
  {
   "cell_type": "code",
   "execution_count": 48,
   "metadata": {},
   "outputs": [],
   "source": [
    "os_data_X,os_data_y=os.fit_sample(sX_train, sy_train)\n"
   ]
  },
  {
   "cell_type": "code",
   "execution_count": 49,
   "metadata": {},
   "outputs": [
    {
     "data": {
      "text/plain": [
       "(302079, 499)"
      ]
     },
     "execution_count": 49,
     "metadata": {},
     "output_type": "execute_result"
    }
   ],
   "source": [
    "sX_test.shape"
   ]
  },
  {
   "cell_type": "code",
   "execution_count": 50,
   "metadata": {},
   "outputs": [
    {
     "data": {
      "text/plain": [
       "(704848, 499)"
      ]
     },
     "execution_count": 50,
     "metadata": {},
     "output_type": "execute_result"
    }
   ],
   "source": [
    "sX_train.shape"
   ]
  },
  {
   "cell_type": "code",
   "execution_count": 51,
   "metadata": {},
   "outputs": [],
   "source": [
    "columns = sX_train.columns"
   ]
  },
  {
   "cell_type": "code",
   "execution_count": 52,
   "metadata": {},
   "outputs": [],
   "source": [
    "os_data_X = pd.DataFrame(data=os_data_X,columns=columns )\n",
    "os_data_y= pd.DataFrame(data=os_data_y,columns=['y'])"
   ]
  },
  {
   "cell_type": "code",
   "execution_count": 53,
   "metadata": {},
   "outputs": [
    {
     "data": {
      "text/html": [
       "<div>\n",
       "<style scoped>\n",
       "    .dataframe tbody tr th:only-of-type {\n",
       "        vertical-align: middle;\n",
       "    }\n",
       "\n",
       "    .dataframe tbody tr th {\n",
       "        vertical-align: top;\n",
       "    }\n",
       "\n",
       "    .dataframe thead th {\n",
       "        text-align: right;\n",
       "    }\n",
       "</style>\n",
       "<table border=\"1\" class=\"dataframe\">\n",
       "  <thead>\n",
       "    <tr style=\"text-align: right;\">\n",
       "      <th></th>\n",
       "      <th>y</th>\n",
       "    </tr>\n",
       "  </thead>\n",
       "  <tbody>\n",
       "    <tr>\n",
       "      <th>0</th>\n",
       "      <td>0</td>\n",
       "    </tr>\n",
       "    <tr>\n",
       "      <th>1</th>\n",
       "      <td>0</td>\n",
       "    </tr>\n",
       "    <tr>\n",
       "      <th>2</th>\n",
       "      <td>0</td>\n",
       "    </tr>\n",
       "    <tr>\n",
       "      <th>3</th>\n",
       "      <td>0</td>\n",
       "    </tr>\n",
       "    <tr>\n",
       "      <th>4</th>\n",
       "      <td>0</td>\n",
       "    </tr>\n",
       "  </tbody>\n",
       "</table>\n",
       "</div>"
      ],
      "text/plain": [
       "   y\n",
       "0  0\n",
       "1  0\n",
       "2  0\n",
       "3  0\n",
       "4  0"
      ]
     },
     "execution_count": 53,
     "metadata": {},
     "output_type": "execute_result"
    }
   ],
   "source": [
    "os_data_y.head()"
   ]
  },
  {
   "cell_type": "code",
   "execution_count": 54,
   "metadata": {},
   "outputs": [
    {
     "data": {
      "text/plain": [
       "1    700004\n",
       "0    700004\n",
       "Name: y, dtype: int64"
      ]
     },
     "execution_count": 54,
     "metadata": {},
     "output_type": "execute_result"
    }
   ],
   "source": [
    "os_data_y['y'].value_counts()"
   ]
  },
  {
   "cell_type": "code",
   "execution_count": null,
   "metadata": {},
   "outputs": [],
   "source": []
  },
  {
   "cell_type": "code",
   "execution_count": null,
   "metadata": {},
   "outputs": [],
   "source": []
  },
  {
   "cell_type": "code",
   "execution_count": null,
   "metadata": {},
   "outputs": [],
   "source": []
  },
  {
   "cell_type": "markdown",
   "metadata": {},
   "source": [
    "## training MLP with embedding layers"
   ]
  },
  {
   "cell_type": "code",
   "execution_count": 55,
   "metadata": {},
   "outputs": [
    {
     "name": "stdout",
     "output_type": "stream",
     "text": [
      "WARNING:tensorflow:From C:\\Users\\tsun04\\AppData\\Local\\Continuum\\anaconda3\\lib\\site-packages\\tensorflow\\python\\ops\\resource_variable_ops.py:435: colocate_with (from tensorflow.python.framework.ops) is deprecated and will be removed in a future version.\n",
      "Instructions for updating:\n",
      "Colocations handled automatically by placer.\n",
      "_________________________________________________________________\n",
      "Layer (type)                 Output Shape              Param #   \n",
      "=================================================================\n",
      "embedding (Embedding)        (None, 499, 20)           29480     \n",
      "_________________________________________________________________\n",
      "flatten (Flatten)            (None, 9980)              0         \n",
      "_________________________________________________________________\n",
      "dense (Dense)                (None, 1)                 9981      \n",
      "=================================================================\n",
      "Total params: 39,461\n",
      "Trainable params: 39,461\n",
      "Non-trainable params: 0\n",
      "_________________________________________________________________\n",
      "None\n"
     ]
    }
   ],
   "source": [
    "model = Sequential()\n",
    "model.add(Embedding(vocab_length, 20, input_length=max_len))\n",
    "model.add(Flatten())\n",
    "model.add(Dense(1, activation='sigmoid'))\n",
    "# compile the model\n",
    "model.compile(optimizer='adam', loss='binary_crossentropy', metrics=['accuracy'])\n",
    "# summarize the model\n",
    "print(model.summary())"
   ]
  },
  {
   "cell_type": "code",
   "execution_count": 56,
   "metadata": {},
   "outputs": [
    {
     "data": {
      "text/plain": [
       "(1400008, 499)"
      ]
     },
     "execution_count": 56,
     "metadata": {},
     "output_type": "execute_result"
    }
   ],
   "source": [
    "os_data_X.shape"
   ]
  },
  {
   "cell_type": "code",
   "execution_count": 57,
   "metadata": {},
   "outputs": [],
   "source": [
    "smot_seq=np.array(os_data_X)"
   ]
  },
  {
   "cell_type": "code",
   "execution_count": 58,
   "metadata": {},
   "outputs": [],
   "source": [
    "labels=np.array(os_data_y)"
   ]
  },
  {
   "cell_type": "code",
   "execution_count": 59,
   "metadata": {},
   "outputs": [
    {
     "data": {
      "text/plain": [
       "(302079,)"
      ]
     },
     "execution_count": 59,
     "metadata": {},
     "output_type": "execute_result"
    }
   ],
   "source": [
    "sy_test.shape"
   ]
  },
  {
   "cell_type": "code",
   "execution_count": 60,
   "metadata": {},
   "outputs": [],
   "source": [
    "smot_testX=np.array(sX_test)"
   ]
  },
  {
   "cell_type": "code",
   "execution_count": 61,
   "metadata": {},
   "outputs": [],
   "source": [
    "smot_testy=np.array(sy_test)"
   ]
  },
  {
   "cell_type": "code",
   "execution_count": 78,
   "metadata": {},
   "outputs": [],
   "source": [
    "mcp_save = ModelCheckpoint('mdl_wts.hdf5', save_best_only=True, monitor='val_acc', mode='max')"
   ]
  },
  {
   "cell_type": "code",
   "execution_count": 79,
   "metadata": {},
   "outputs": [
    {
     "name": "stdout",
     "output_type": "stream",
     "text": [
      "Train on 1400008 samples, validate on 302079 samples\n",
      "Epoch 1/40\n",
      "1400008/1400008 [==============================] - 316s 226us/sample - loss: 0.1444 - acc: 0.9426 - val_loss: 0.1685 - val_acc: 0.9514\n",
      "Epoch 2/40\n",
      "1400008/1400008 [==============================] - 340s 243us/sample - loss: 0.1438 - acc: 0.9428 - val_loss: 0.1606 - val_acc: 0.9482\n",
      "Epoch 3/40\n",
      "1400008/1400008 [==============================] - 353s 252us/sample - loss: 0.1436 - acc: 0.9428 - val_loss: 0.1656 - val_acc: 0.9473\n",
      "Epoch 4/40\n",
      "1400008/1400008 [==============================] - 275s 197us/sample - loss: 0.1434 - acc: 0.9430 - val_loss: 0.1603 - val_acc: 0.9474\n",
      "Epoch 5/40\n",
      "1400008/1400008 [==============================] - 265s 189us/sample - loss: 0.1432 - acc: 0.9429 - val_loss: 0.1676 - val_acc: 0.9556\n",
      "Epoch 6/40\n",
      "1400008/1400008 [==============================] - 276s 197us/sample - loss: 0.1431 - acc: 0.9430 - val_loss: 0.1512 - val_acc: 0.9569\n",
      "Epoch 7/40\n",
      "1400008/1400008 [==============================] - 361s 258us/sample - loss: 0.1429 - acc: 0.9430 - val_loss: 0.1560 - val_acc: 0.9574\n",
      "Epoch 8/40\n",
      "1400008/1400008 [==============================] - 333s 238us/sample - loss: 0.1428 - acc: 0.9431 - val_loss: 0.1542 - val_acc: 0.9580\n",
      "Epoch 9/40\n",
      "1400008/1400008 [==============================] - 245s 175us/sample - loss: 0.1427 - acc: 0.9431 - val_loss: 0.1644 - val_acc: 0.9556\n",
      "Epoch 10/40\n",
      "1400008/1400008 [==============================] - 306s 219us/sample - loss: 0.1426 - acc: 0.9432 - val_loss: 0.1607 - val_acc: 0.9565\n",
      "Epoch 11/40\n",
      "1400008/1400008 [==============================] - 264s 188us/sample - loss: 0.1425 - acc: 0.9432 - val_loss: 0.1745 - val_acc: 0.9533\n",
      "Epoch 12/40\n",
      "1400008/1400008 [==============================] - 268s 191us/sample - loss: 0.1424 - acc: 0.9432 - val_loss: 0.1673 - val_acc: 0.9543\n",
      "Epoch 13/40\n",
      "1400008/1400008 [==============================] - 293s 209us/sample - loss: 0.1424 - acc: 0.9432 - val_loss: 0.1555 - val_acc: 0.9562\n",
      "Epoch 14/40\n",
      "1400008/1400008 [==============================] - 304s 217us/sample - loss: 0.1424 - acc: 0.9432 - val_loss: 0.1569 - val_acc: 0.9566\n",
      "Epoch 15/40\n",
      "1400008/1400008 [==============================] - 319s 228us/sample - loss: 0.1423 - acc: 0.9432 - val_loss: 0.1591 - val_acc: 0.9550\n",
      "Epoch 16/40\n",
      "1400008/1400008 [==============================] - 310s 222us/sample - loss: 0.1423 - acc: 0.9433 - val_loss: 0.1927 - val_acc: 0.9459\n",
      "Epoch 17/40\n",
      "1400008/1400008 [==============================] - 298s 213us/sample - loss: 0.1422 - acc: 0.9432 - val_loss: 0.1579 - val_acc: 0.9570\n",
      "Epoch 18/40\n",
      "1400008/1400008 [==============================] - 350s 250us/sample - loss: 0.1422 - acc: 0.9433 - val_loss: 0.1489 - val_acc: 0.9568\n",
      "Epoch 19/40\n",
      "1400008/1400008 [==============================] - 383s 274us/sample - loss: 0.1422 - acc: 0.9433 - val_loss: 0.1453 - val_acc: 0.9573\n",
      "Epoch 20/40\n",
      "1400008/1400008 [==============================] - 351s 251us/sample - loss: 0.1421 - acc: 0.9433 - val_loss: 0.1685 - val_acc: 0.9555\n",
      "Epoch 21/40\n",
      "1400008/1400008 [==============================] - 332s 237us/sample - loss: 0.1421 - acc: 0.9432 - val_loss: 0.1640 - val_acc: 0.9552\n",
      "Epoch 22/40\n",
      "1400008/1400008 [==============================] - 328s 234us/sample - loss: 0.1420 - acc: 0.9433 - val_loss: 0.1511 - val_acc: 0.9564\n",
      "Epoch 23/40\n",
      "1400008/1400008 [==============================] - 302s 216us/sample - loss: 0.1419 - acc: 0.9433 - val_loss: 0.1638 - val_acc: 0.9542\n",
      "Epoch 24/40\n",
      "1400008/1400008 [==============================] - 308s 220us/sample - loss: 0.1419 - acc: 0.9433 - val_loss: 0.1728 - val_acc: 0.9555\n",
      "Epoch 25/40\n",
      "1400008/1400008 [==============================] - 322s 230us/sample - loss: 0.1420 - acc: 0.9434 - val_loss: 0.1613 - val_acc: 0.9558\n",
      "Epoch 26/40\n",
      "1400008/1400008 [==============================] - 281s 201us/sample - loss: 0.1419 - acc: 0.9433 - val_loss: 0.1738 - val_acc: 0.9550\n",
      "Epoch 27/40\n",
      "1400008/1400008 [==============================] - 259s 185us/sample - loss: 0.1418 - acc: 0.9433 - val_loss: 0.1957 - val_acc: 0.9453\n",
      "Epoch 28/40\n",
      "1400008/1400008 [==============================] - 280s 200us/sample - loss: 0.1418 - acc: 0.9434 - val_loss: 0.1844 - val_acc: 0.9453\n",
      "Epoch 29/40\n",
      "1400008/1400008 [==============================] - 272s 194us/sample - loss: 0.1419 - acc: 0.9434 - val_loss: 0.1616 - val_acc: 0.9560\n",
      "Epoch 30/40\n",
      "1400008/1400008 [==============================] - 292s 209us/sample - loss: 0.1418 - acc: 0.9433 - val_loss: 0.1658 - val_acc: 0.9558\n",
      "Epoch 31/40\n",
      "1400008/1400008 [==============================] - 288s 206us/sample - loss: 0.1417 - acc: 0.9434 - val_loss: 0.1723 - val_acc: 0.9563\n",
      "Epoch 32/40\n",
      "1400008/1400008 [==============================] - 281s 201us/sample - loss: 0.1418 - acc: 0.9433 - val_loss: 0.1617 - val_acc: 0.9561\n",
      "Epoch 33/40\n",
      "1400008/1400008 [==============================] - 307s 219us/sample - loss: 0.1418 - acc: 0.9434 - val_loss: 0.1614 - val_acc: 0.9560\n",
      "Epoch 34/40\n",
      "1400008/1400008 [==============================] - 352s 252us/sample - loss: 0.1418 - acc: 0.9434 - val_loss: 0.1619 - val_acc: 0.9561\n",
      "Epoch 35/40\n",
      "1400008/1400008 [==============================] - 322s 230us/sample - loss: 0.1417 - acc: 0.9433 - val_loss: 0.1658 - val_acc: 0.9549\n",
      "Epoch 36/40\n",
      "1400008/1400008 [==============================] - 390s 279us/sample - loss: 0.1418 - acc: 0.9434 - val_loss: 0.1612 - val_acc: 0.9565\n",
      "Epoch 37/40\n",
      "1400008/1400008 [==============================] - 373s 266us/sample - loss: 0.1417 - acc: 0.9434 - val_loss: 0.1648 - val_acc: 0.9562\n",
      "Epoch 38/40\n",
      "1400008/1400008 [==============================] - 361s 258us/sample - loss: 0.1417 - acc: 0.9434 - val_loss: 0.1680 - val_acc: 0.9551\n",
      "Epoch 39/40\n",
      "1400008/1400008 [==============================] - 314s 224us/sample - loss: 0.1417 - acc: 0.9433 - val_loss: 0.1204 - val_acc: 0.9608\n",
      "Epoch 40/40\n",
      "1400008/1400008 [==============================] - 304s 217us/sample - loss: 0.1417 - acc: 0.9434 - val_loss: 0.1771 - val_acc: 0.9561\n"
     ]
    }
   ],
   "source": [
    "\n",
    "# fit the model\n",
    "train_hist=model.fit(smot_seq, labels, epochs=40, verbose=1\n",
    "                    ,validation_data =(smot_testX,smot_testy),callbacks=[ mcp_save]).history\n",
    "\n"
   ]
  },
  {
   "cell_type": "code",
   "execution_count": 80,
   "metadata": {},
   "outputs": [
    {
     "data": {
      "text/plain": [
       "[0.95138025,\n",
       " 0.9481824,\n",
       " 0.9472754,\n",
       " 0.94744754,\n",
       " 0.9555911,\n",
       " 0.9568954,\n",
       " 0.9574019,\n",
       " 0.9579845,\n",
       " 0.95561093,\n",
       " 0.9564783,\n",
       " 0.95328707,\n",
       " 0.95433974,\n",
       " 0.9562002,\n",
       " 0.9565544,\n",
       " 0.9550283,\n",
       " 0.9458751,\n",
       " 0.9569517,\n",
       " 0.9568292,\n",
       " 0.9572926,\n",
       " 0.9554918,\n",
       " 0.9552236,\n",
       " 0.9563558,\n",
       " 0.95417094,\n",
       " 0.95545536,\n",
       " 0.95576984,\n",
       " 0.9549555,\n",
       " 0.9452527,\n",
       " 0.94530237,\n",
       " 0.95603466,\n",
       " 0.95575994,\n",
       " 0.9563194,\n",
       " 0.9560744,\n",
       " 0.95603466,\n",
       " 0.9561307,\n",
       " 0.9549224,\n",
       " 0.9565312,\n",
       " 0.95618695,\n",
       " 0.95507467,\n",
       " 0.9608447,\n",
       " 0.9561141]"
      ]
     },
     "execution_count": 80,
     "metadata": {},
     "output_type": "execute_result"
    }
   ],
   "source": [
    "train_hist['val_acc']"
   ]
  },
  {
   "cell_type": "code",
   "execution_count": 81,
   "metadata": {},
   "outputs": [
    {
     "data": {
      "image/png": "[encoded data removed]",
      "text/plain": [
       "<matplotlib.figure.Figure at 0x14b0f3caf98>"
      ]
     },
     "metadata": {},
     "output_type": "display_data"
    }
   ],
   "source": [
    "plt.plot(train_hist['acc'], linewidth=2, label='Train')\n",
    "plt.plot(train_hist['val_acc'], linewidth=2, label='Test')\n",
    "plt.legend(loc='lower right')\n",
    "plt.title('Model accuracy')\n",
    "plt.ylabel('Accuracy')\n",
    "plt.xlabel('Epoch')\n",
    "plt.show()"
   ]
  },
  {
   "cell_type": "code",
   "execution_count": 82,
   "metadata": {},
   "outputs": [],
   "source": [
    "model=load_model('mdl_wts.hdf5')"
   ]
  },
  {
   "cell_type": "code",
   "execution_count": 83,
   "metadata": {},
   "outputs": [],
   "source": [
    "y_pred = model.predict_proba(smot_testX)"
   ]
  },
  {
   "cell_type": "code",
   "execution_count": 84,
   "metadata": {},
   "outputs": [],
   "source": [
    "y_binpred=model.predict_classes(smot_testX)"
   ]
  },
  {
   "cell_type": "code",
   "execution_count": 85,
   "metadata": {},
   "outputs": [
    {
     "data": {
      "text/plain": [
       "(302079, 1)"
      ]
     },
     "execution_count": 85,
     "metadata": {},
     "output_type": "execute_result"
    }
   ],
   "source": [
    "y_binpred.shape"
   ]
  },
  {
   "cell_type": "code",
   "execution_count": 75,
   "metadata": {},
   "outputs": [],
   "source": [
    "from sklearn.metrics import roc_auc_score,roc_curve,accuracy_score"
   ]
  },
  {
   "cell_type": "code",
   "execution_count": 86,
   "metadata": {},
   "outputs": [
    {
     "data": {
      "text/plain": [
       "0.9608446797029916"
      ]
     },
     "execution_count": 86,
     "metadata": {},
     "output_type": "execute_result"
    }
   ],
   "source": [
    "accuracy_score(smot_testy,y_binpred)"
   ]
  },
  {
   "cell_type": "code",
   "execution_count": 88,
   "metadata": {},
   "outputs": [
    {
     "data": {
      "text/plain": [
       "0.8163590216808747"
      ]
     },
     "execution_count": 88,
     "metadata": {},
     "output_type": "execute_result"
    }
   ],
   "source": [
    "roc_auc_score(smot_testy,y_pred)"
   ]
  },
  {
   "cell_type": "code",
   "execution_count": 90,
   "metadata": {},
   "outputs": [],
   "source": [
    "log_fpr, log_tpr, log_thresold = roc_curve(smot_testy, y_pred)"
   ]
  },
  {
   "cell_type": "code",
   "execution_count": 92,
   "metadata": {
    "scrolled": true
   },
   "outputs": [
    {
     "data": {
      "image/png": "[encoded data removed]",
      "text/plain": [
       "<matplotlib.figure.Figure at 0x14b11d843c8>"
      ]
     },
     "metadata": {},
     "output_type": "display_data"
    }
   ],
   "source": [
    "plt.figure(figsize=(16,8))\n",
    "plt.title('ROC Curve \\n Embedding Features', fontsize=18)\n",
    "plt.plot(log_fpr, log_tpr, label='MLP: {:.4f}'.format(roc_auc_score(smot_testy, y_pred)))\n",
    "plt.plot([0, 1], [0, 1], 'k--')\n",
    "plt.axis([-0.01, 1, 0, 1])\n",
    "plt.xlabel('False Positive Rate', fontsize=16)\n",
    "plt.ylabel('True Positive Rate', fontsize=16)\n",
    "plt.legend()\n",
    "plt.show()"
   ]
  },
  {
   "cell_type": "code",
   "execution_count": 69,
   "metadata": {},
   "outputs": [],
   "source": [
    "from sklearn.metrics import classification_report\n"
   ]
  },
  {
   "cell_type": "code",
   "execution_count": 93,
   "metadata": {},
   "outputs": [
    {
     "name": "stdout",
     "output_type": "stream",
     "text": [
      "              precision    recall  f1-score   support\n",
      "\n",
      "           0       1.00      0.96      0.98    299989\n",
      "           1       0.09      0.52      0.15      2090\n",
      "\n",
      "    accuracy                           0.96    302079\n",
      "   macro avg       0.54      0.74      0.57    302079\n",
      "weighted avg       0.99      0.96      0.97    302079\n",
      "\n"
     ]
    }
   ],
   "source": [
    "print(classification_report(smot_testy, y_binpred))"
   ]
  },
  {
   "cell_type": "code",
   "execution_count": 95,
   "metadata": {},
   "outputs": [
    {
     "data": {
      "text/plain": [
       "array([[289173,  10816],\n",
       "       [  1012,   1078]], dtype=int64)"
      ]
     },
     "execution_count": 95,
     "metadata": {},
     "output_type": "execute_result"
    }
   ],
   "source": [
    "confusion_matrix(smot_testy, y_binpred)"
   ]
  },
  {
   "cell_type": "markdown",
   "metadata": {},
   "source": [
    "## check for overfitting"
   ]
  },
  {
   "cell_type": "code",
   "execution_count": 96,
   "metadata": {},
   "outputs": [],
   "source": [
    "#logregpred.score( sX_train,sy_train)"
   ]
  },
  {
   "cell_type": "code",
   "execution_count": 97,
   "metadata": {},
   "outputs": [],
   "source": [
    "#logregpred.score( sX_test,sy_test)"
   ]
  },
  {
   "cell_type": "markdown",
   "metadata": {},
   "source": [
    "## create profile report\n"
   ]
  },
  {
   "cell_type": "code",
   "execution_count": 103,
   "metadata": {},
   "outputs": [],
   "source": [
    "#pandasreport=pandprof.ProfileReport(univ)"
   ]
  },
  {
   "cell_type": "code",
   "execution_count": 104,
   "metadata": {},
   "outputs": [],
   "source": [
    "#pandasreport.to_file(\"Sequence_Embedding_fn_EDA.html\")"
   ]
  },
  {
   "cell_type": "code",
   "execution_count": null,
   "metadata": {},
   "outputs": [],
   "source": []
  },
  {
   "cell_type": "code",
   "execution_count": 20,
   "metadata": {},
   "outputs": [],
   "source": []
  },
  {
   "cell_type": "code",
   "execution_count": null,
   "metadata": {},
   "outputs": [],
   "source": []
  }
 ],
 "metadata": {
  "kernelspec": {
   "display_name": "Python 3",
   "language": "python",
   "name": "python3"
  },
  "language_info": {
   "codemirror_mode": {
    "name": "ipython",
    "version": 3
   },
   "file_extension": ".py",
   "mimetype": "text/x-python",
   "name": "python",
   "nbconvert_exporter": "python",
   "pygments_lexer": "ipython3",
   "version": "3.6.7"
  }
 },
 "nbformat": 4,
 "nbformat_minor": 2
}
