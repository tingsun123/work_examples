{
 "cells": [
  {
   "cell_type": "code",
   "execution_count": 1,
   "metadata": {},
   "outputs": [],
   "source": [
    "import os\n",
    "import pandas as pd\n",
    "import matplotlib.pyplot as plt"
   ]
  },
  {
   "cell_type": "code",
   "execution_count": 4,
   "metadata": {},
   "outputs": [],
   "source": [
    "import plotly.express as px"
   ]
  },
  {
   "cell_type": "code",
   "execution_count": 20,
   "metadata": {},
   "outputs": [],
   "source": [
    "import numpy as np"
   ]
  },
  {
   "cell_type": "code",
   "execution_count": 2,
   "metadata": {},
   "outputs": [],
   "source": [
    "univ=pd.read_csv('C:\\\\Users\\\\tsun04\\\\event_sequence_embedding\\\\CORTAB_MULTIGRAM_full_sel.csv', encoding='utf-8',sep=\",\") #Read excel file"
   ]
  },
  {
   "cell_type": "code",
   "execution_count": 3,
   "metadata": {},
   "outputs": [
    {
     "data": {
      "text/html": [
       "<div>\n",
       "<style scoped>\n",
       "    .dataframe tbody tr th:only-of-type {\n",
       "        vertical-align: middle;\n",
       "    }\n",
       "\n",
       "    .dataframe tbody tr th {\n",
       "        vertical-align: top;\n",
       "    }\n",
       "\n",
       "    .dataframe thead th {\n",
       "        text-align: right;\n",
       "    }\n",
       "</style>\n",
       "<table border=\"1\" class=\"dataframe\">\n",
       "  <thead>\n",
       "    <tr style=\"text-align: right;\">\n",
       "      <th></th>\n",
       "      <th>_name_</th>\n",
       "      <th>attrited</th>\n",
       "      <th>grm_size</th>\n",
       "      <th>attr_abs</th>\n",
       "      <th>rank</th>\n",
       "    </tr>\n",
       "  </thead>\n",
       "  <tbody>\n",
       "    <tr>\n",
       "      <th>0</th>\n",
       "      <td>trn142_trn038</td>\n",
       "      <td>0.142464</td>\n",
       "      <td>2</td>\n",
       "      <td>0.142464</td>\n",
       "      <td>1</td>\n",
       "    </tr>\n",
       "    <tr>\n",
       "      <th>1</th>\n",
       "      <td>trn078_trn286</td>\n",
       "      <td>0.088694</td>\n",
       "      <td>2</td>\n",
       "      <td>0.088694</td>\n",
       "      <td>2</td>\n",
       "    </tr>\n",
       "    <tr>\n",
       "      <th>2</th>\n",
       "      <td>trn064_trn060</td>\n",
       "      <td>0.075341</td>\n",
       "      <td>2</td>\n",
       "      <td>0.075341</td>\n",
       "      <td>3</td>\n",
       "    </tr>\n",
       "    <tr>\n",
       "      <th>3</th>\n",
       "      <td>act041_act073</td>\n",
       "      <td>0.069709</td>\n",
       "      <td>2</td>\n",
       "      <td>0.069709</td>\n",
       "      <td>4</td>\n",
       "    </tr>\n",
       "    <tr>\n",
       "      <th>4</th>\n",
       "      <td>ivr076_hub001</td>\n",
       "      <td>0.062763</td>\n",
       "      <td>2</td>\n",
       "      <td>0.062763</td>\n",
       "      <td>5</td>\n",
       "    </tr>\n",
       "  </tbody>\n",
       "</table>\n",
       "</div>"
      ],
      "text/plain": [
       "          _name_  attrited  grm_size  attr_abs  rank\n",
       "0  trn142_trn038  0.142464         2  0.142464     1\n",
       "1  trn078_trn286  0.088694         2  0.088694     2\n",
       "2  trn064_trn060  0.075341         2  0.075341     3\n",
       "3  act041_act073  0.069709         2  0.069709     4\n",
       "4  ivr076_hub001  0.062763         2  0.062763     5"
      ]
     },
     "execution_count": 3,
     "metadata": {},
     "output_type": "execute_result"
    }
   ],
   "source": [
    "univ.head()"
   ]
  },
  {
   "cell_type": "code",
   "execution_count": 17,
   "metadata": {},
   "outputs": [],
   "source": [
    "mapingdf=pd.read_csv('C:\\\\Users\\\\tsun04\\\\event_sequence_embedding\\\\event_mapping.csv', encoding='latin-1',sep=\",\")"
   ]
  },
  {
   "cell_type": "code",
   "execution_count": 18,
   "metadata": {},
   "outputs": [
    {
     "data": {
      "text/html": [
       "<div>\n",
       "<style scoped>\n",
       "    .dataframe tbody tr th:only-of-type {\n",
       "        vertical-align: middle;\n",
       "    }\n",
       "\n",
       "    .dataframe tbody tr th {\n",
       "        vertical-align: top;\n",
       "    }\n",
       "\n",
       "    .dataframe thead th {\n",
       "        text-align: right;\n",
       "    }\n",
       "</style>\n",
       "<table border=\"1\" class=\"dataframe\">\n",
       "  <thead>\n",
       "    <tr style=\"text-align: right;\">\n",
       "      <th></th>\n",
       "      <th>event_name</th>\n",
       "      <th>nbr_text</th>\n",
       "    </tr>\n",
       "  </thead>\n",
       "  <tbody>\n",
       "    <tr>\n",
       "      <th>0</th>\n",
       "      <td>done.compliance.</td>\n",
       "      <td>act001</td>\n",
       "    </tr>\n",
       "    <tr>\n",
       "      <th>1</th>\n",
       "      <td>done.compliance.review</td>\n",
       "      <td>act002</td>\n",
       "    </tr>\n",
       "    <tr>\n",
       "      <th>2</th>\n",
       "      <td>done.compliance.review:pre-work</td>\n",
       "      <td>act003</td>\n",
       "    </tr>\n",
       "    <tr>\n",
       "      <th>3</th>\n",
       "      <td>done.compliance.security/verification</td>\n",
       "      <td>act004</td>\n",
       "    </tr>\n",
       "    <tr>\n",
       "      <th>4</th>\n",
       "      <td>done.correspondence-inactive.</td>\n",
       "      <td>act005</td>\n",
       "    </tr>\n",
       "  </tbody>\n",
       "</table>\n",
       "</div>"
      ],
      "text/plain": [
       "                              event_name nbr_text\n",
       "0                       done.compliance.   act001\n",
       "1                 done.compliance.review   act002\n",
       "2        done.compliance.review:pre-work   act003\n",
       "3  done.compliance.security/verification   act004\n",
       "4          done.correspondence-inactive.   act005"
      ]
     },
     "execution_count": 18,
     "metadata": {},
     "output_type": "execute_result"
    }
   ],
   "source": [
    "mapingdf.head()"
   ]
  },
  {
   "cell_type": "code",
   "execution_count": 28,
   "metadata": {},
   "outputs": [],
   "source": [
    "mappingdict=dict(zip(mapingdf.nbr_text,mapingdf.event_name))"
   ]
  },
  {
   "cell_type": "code",
   "execution_count": 25,
   "metadata": {},
   "outputs": [],
   "source": [
    "ngram=np.array(univ['_name_'].str.split('_'))"
   ]
  },
  {
   "cell_type": "code",
   "execution_count": 63,
   "metadata": {},
   "outputs": [
    {
     "data": {
      "text/plain": [
       "(400,)"
      ]
     },
     "execution_count": 63,
     "metadata": {},
     "output_type": "execute_result"
    }
   ],
   "source": [
    "ngram.shape"
   ]
  },
  {
   "cell_type": "code",
   "execution_count": 39,
   "metadata": {},
   "outputs": [],
   "source": []
  },
  {
   "cell_type": "code",
   "execution_count": 89,
   "metadata": {},
   "outputs": [],
   "source": [
    "colarray=[]\n",
    "for ng in ngram:\n",
    "    rowarray=\"\"\n",
    "    for l in ng:\n",
    "        #print(l)\n",
    "        if rowarray!=\"\":\n",
    "            rowarray=mappingdict[l]+\"+\"+rowarray\n",
    "        else:\n",
    "            rowarray=mappingdict[l]\n",
    "    colarray.append(rowarray)   "
   ]
  },
  {
   "cell_type": "code",
   "execution_count": 90,
   "metadata": {},
   "outputs": [],
   "source": [
    "pd_name=np.array(colarray)"
   ]
  },
  {
   "cell_type": "code",
   "execution_count": 91,
   "metadata": {},
   "outputs": [
    {
     "data": {
      "text/plain": [
       "array(['cr_10_branch_initiated_-_curdate+inquiries_account_balance'],\n",
       "      dtype='<U206')"
      ]
     },
     "execution_count": 91,
     "metadata": {},
     "output_type": "execute_result"
    }
   ],
   "source": [
    "pd_name[:1]"
   ]
  },
  {
   "cell_type": "code",
   "execution_count": 92,
   "metadata": {},
   "outputs": [],
   "source": [
    "univ['rec_name']=pd.Series(pd_name)"
   ]
  },
  {
   "cell_type": "code",
   "execution_count": 93,
   "metadata": {},
   "outputs": [
    {
     "data": {
      "text/html": [
       "<div>\n",
       "<style scoped>\n",
       "    .dataframe tbody tr th:only-of-type {\n",
       "        vertical-align: middle;\n",
       "    }\n",
       "\n",
       "    .dataframe tbody tr th {\n",
       "        vertical-align: top;\n",
       "    }\n",
       "\n",
       "    .dataframe thead th {\n",
       "        text-align: right;\n",
       "    }\n",
       "</style>\n",
       "<table border=\"1\" class=\"dataframe\">\n",
       "  <thead>\n",
       "    <tr style=\"text-align: right;\">\n",
       "      <th></th>\n",
       "      <th>_name_</th>\n",
       "      <th>attrited</th>\n",
       "      <th>grm_size</th>\n",
       "      <th>attr_abs</th>\n",
       "      <th>rank</th>\n",
       "      <th>rec_name</th>\n",
       "    </tr>\n",
       "  </thead>\n",
       "  <tbody>\n",
       "    <tr>\n",
       "      <th>0</th>\n",
       "      <td>trn142_trn038</td>\n",
       "      <td>0.142464</td>\n",
       "      <td>2</td>\n",
       "      <td>0.142464</td>\n",
       "      <td>1</td>\n",
       "      <td>cr_10_branch_initiated_-_curdate+inquiries_acc...</td>\n",
       "    </tr>\n",
       "    <tr>\n",
       "      <th>1</th>\n",
       "      <td>trn078_trn286</td>\n",
       "      <td>0.088694</td>\n",
       "      <td>2</td>\n",
       "      <td>0.088694</td>\n",
       "      <td>2</td>\n",
       "      <td>withdrawal+dr_blank_withdrawal</td>\n",
       "    </tr>\n",
       "    <tr>\n",
       "      <th>2</th>\n",
       "      <td>trn064_trn060</td>\n",
       "      <td>0.075341</td>\n",
       "      <td>2</td>\n",
       "      <td>0.075341</td>\n",
       "      <td>3</td>\n",
       "      <td>deposit_debit_10+dr_10_branch_initiated_-_curdate</td>\n",
       "    </tr>\n",
       "    <tr>\n",
       "      <th>3</th>\n",
       "      <td>act041_act073</td>\n",
       "      <td>0.069709</td>\n",
       "      <td>2</td>\n",
       "      <td>0.069709</td>\n",
       "      <td>4</td>\n",
       "      <td>done_fulfill/complete.customercontact.salesand...</td>\n",
       "    </tr>\n",
       "    <tr>\n",
       "      <th>4</th>\n",
       "      <td>ivr076_hub001</td>\n",
       "      <td>0.062763</td>\n",
       "      <td>2</td>\n",
       "      <td>0.062763</td>\n",
       "      <td>5</td>\n",
       "      <td>arrival_event+transferred_to_agentsuccessful_t...</td>\n",
       "    </tr>\n",
       "  </tbody>\n",
       "</table>\n",
       "</div>"
      ],
      "text/plain": [
       "          _name_  attrited  grm_size  attr_abs  rank  \\\n",
       "0  trn142_trn038  0.142464         2  0.142464     1   \n",
       "1  trn078_trn286  0.088694         2  0.088694     2   \n",
       "2  trn064_trn060  0.075341         2  0.075341     3   \n",
       "3  act041_act073  0.069709         2  0.069709     4   \n",
       "4  ivr076_hub001  0.062763         2  0.062763     5   \n",
       "\n",
       "                                            rec_name  \n",
       "0  cr_10_branch_initiated_-_curdate+inquiries_acc...  \n",
       "1                     withdrawal+dr_blank_withdrawal  \n",
       "2  deposit_debit_10+dr_10_branch_initiated_-_curdate  \n",
       "3  done_fulfill/complete.customercontact.salesand...  \n",
       "4  arrival_event+transferred_to_agentsuccessful_t...  "
      ]
     },
     "execution_count": 93,
     "metadata": {},
     "output_type": "execute_result"
    }
   ],
   "source": [
    "univ.head()"
   ]
  },
  {
   "cell_type": "code",
   "execution_count": 95,
   "metadata": {},
   "outputs": [
    {
     "data": {
      "application/vnd.plotly.v1+json": {
       "config": {
        "plotlyServerURL": "https://plot.ly"
       },
       "data": [
        {
         "alignmentgroup": "True",
         "hoverlabel": {
          "namelength": 0
         },
         "hovertemplate": "rec_name=%{x}<br>attrited=%{y}",
         "legendgroup": "",
         "marker": {
          "color": "#636efa"
         },
         "name": "",
         "offsetgroup": "",
         "orientation": "v",
         "showlegend": false,
         "textposition": "auto",
         "type": "bar",
         "x": [
          "cr_10_branch_initiated_-_curdate+inquiries_account_balance",
          "withdrawal+dr_blank_withdrawal",
          "deposit_debit_10+dr_10_branch_initiated_-_curdate",
          "done_fulfill/complete.customercontact.salesandservicelead+done.directbankingcontact.manualauthentication",
          "arrival_event+transferred_to_agentsuccessful_transfer_with_cti_data.",
          "inquiries_transaction_history+inquiries_transaction_history",
          "dr_10_branch_initiated_-_curdate+dr_blank_withdrawal",
          "credit_10_reverse_charge+credit_10_reverse_charge",
          "credit_10_reverse_charge+spcl_20_amend_account_status_transaction",
          "cr_10_branch_initiated_-_curdate+inquiries_3_linked_accounts",
          "done.directbankingcontact.manualauthentication+arrival_event",
          "transferred_to_agentsuccessful_transfer_with_cti_data.+ivr_session_endall_other_request",
          "ivr_session_endall_other_request+authentication_challengessuccess",
          "spcl_20_amend_account_status_transaction+inquiries_14_account_details",
          "transfer_mech_accounts+tfr_11_customer_initiated_-_curdate",
          "cr_10_branch_initiated_-_curdate+spcl_20_amend_account_status_transaction",
          "closed.accountadministration.bmo.com-present_id_at_branch+arrival_event",
          "dr_10_branch_initiated_-_curdate+cr_9__cti_issue",
          "departure_event+closed.accountadministration.bmo.com-present_id_at_branch",
          "dr_blank_withdrawal+inquiries_transaction_history",
          "dr_blank_withdrawal+departure_event",
          "departure_event+done.directbankingcontact.manualauthentication",
          "authentication_card_numbersuccess+ivr_session_start_",
          "authentication_challengessuccess+authentication_card_numbersuccess",
          "credit_10_reverse_charge+inquiries_transaction_history",
          "open_7_-_misc_amends_(amdafls)+inquiries_account_details",
          "dr_blank_withdrawal+inquiries_account_details",
          "inquiries_transaction_history+cr_20__customer_initiated_loan",
          "cr_10_branch_initiated_-_curdate+inquiries_14_account_details",
          "arrival_event+cr_10_branch_initiated_-_curdate",
          "dr_10_branch_initiated_-_curdate+inquiries_transaction_history",
          "done_fulfill/complete.customercontact.salesandservicelead+done.directbankingcontact.",
          "inquiries_transaction_history+departure_event",
          "closed.non-financialtransactions.other_non-financials+arrival_event",
          "cr_10_branch_initiated_-_curdate+departure_event",
          "closed.accountadministration.bmo.com-present_id_at_branch+departure_event",
          "departure_event+closed.non-financialtransactions.other_non-financials",
          "dr_10_branch_initiated_-_curdate+tfr_11_customer_initiated_-_curdate",
          "inquiries_14_account_details+departure_event",
          "inquiries_14_account_details+cr_10_branch_initiated_-_curdate",
          "tfr_11_customer_initiated_-_curdate+inquiries_transaction_history",
          "arrival_event+departure_event",
          "inquiries_account_details+inquiries_account_details",
          "credit_10_reverse_charge+cr_10_branch_initiated_-_curdate",
          "departure_event+arrival_event",
          "cr_20__customer_initiated_loan+inquiries_transaction_history",
          "done_decline.customercontact.salesandservicelead+done.directbankingcontact.manualauthentication",
          "cr_10_branch_initiated_-_curdate+inquiries_transaction_history",
          "dr_10_branch_initiated_-_curdate+inquiries_account_balance",
          "inquiries_account_balance+deposit_debit_10",
          "arrival_event+credit_10_reverse_charge",
          "departure_event+open.customernote.accountoperation",
          "tfr_11_customer_initiated_-_curdate+inquiries_account_details",
          "departure_event+open.financialtransactions.account_close",
          "inquiries_14_account_details+credit_10_reverse_charge",
          "done.directbankingcontact.outboundfollow-up+arrival_event",
          "departure_event+done_fulfill/complete.customercontact.salesandservicelead",
          "inquiries_14_account_details+inquiries_transaction_history",
          "arrival_event+unofficial_payoff_request",
          "dr_10_branch_initiated_-_curdate+inquiries_account_details",
          "open.customernote.accountoperation+arrival_event",
          "inquiries_account_details+departure_event",
          "cr_10_branch_initiated_-_curdate+withdrawal",
          "arrival_event+done.directbankingcontact.manualauthentication",
          "done.directbankingcontact.+arrival_event",
          "credit_10_reverse_charge+withdrawal",
          "credit_10_reverse_charge+transfer_mech_accounts",
          "signout+getfeatureconfigurations",
          "getfeatureconfigurations+getappconfig",
          "open.non-financialtransactions.other_non-financials+arrival_event",
          "dr_blank_withdrawal+transfer_mech_accounts",
          "done.directbankingcontact.manualauthentication+transferred_to_agentsuccessful_transfer_with_cti_data.",
          "inquiries_account_balance+credit_10_reverse_charge",
          "dr_10_branch_initiated_-_curdate+credit_10_reverse_charge",
          "getbannerad+initotpsession",
          "credit_10_reverse_charge+inquiries_account_details",
          "initotpsession+isotppilotenabled",
          "inquiries_account_details+inquiries_transaction_history",
          "departure_event+open.non-financialtransactions.other_non-financials",
          "departure_event+closed.investigations.customer_complaint",
          "mps_-_mid-tier_plan_linkage+moa_-_mid-tier_account_open",
          "open.creditcard.credit_card_processing+arrival_event",
          "inquiries_transaction_history+inquiries_account_details",
          "departure_event+open.creditcard.credit_card_processing",
          "dr_10_branch_initiated_-_curdate+departure_event",
          "inquiries_account_history+departure_event",
          "cr_9__cti_issue+credit_10_reverse_charge",
          "done_fulfill/complete.customercontact.salesandservicelead+departure_event",
          "transferred_to_agentsuccessful_transfer_with_cti_data.+ivr_session_endauthentication_failed",
          "inquiries_transaction_history+credit_10_reverse_charge",
          "keepalive+getbannerad",
          "closed.loans.line_of_credit_processing+arrival_event",
          "departure_event+done.directbankingcontact.",
          "arrival_event+mps_-_mid-tier_plan_linkage",
          "login_success+activateuserrealms",
          "isotppilotenabled+login_success",
          "inquiries_14_account_details+spcl_20_amend_account_status_transaction",
          "departure_event+done.directbankingcontact.outboundfollow-up",
          "closed.investigations.customer_complaint+arrival_event",
          "unofficial_payoff_request+signout"
         ],
         "xaxis": "x",
         "y": [
          0.14246373269999998,
          0.0886936232,
          0.0753406327,
          0.0697089774,
          0.062762834,
          0.0612130788,
          0.0605948634,
          0.052005712,
          0.0497401154,
          0.047398595599999996,
          0.043110543700000004,
          0.0416662426,
          0.040960957799999996,
          0.037729309100000004,
          0.036819334700000005,
          0.036568855899999995,
          0.0362796246,
          0.035647176600000004,
          0.035123911699999996,
          0.0331631746,
          0.0325186984,
          0.0321892466,
          0.031187020299999996,
          0.030968434,
          0.0309583477,
          0.030812264500000002,
          0.0293821392,
          0.027882667599999997,
          0.0274246871,
          0.025810255299999998,
          0.0254222544,
          0.0252986656,
          0.0250869073,
          0.024822285099999997,
          0.0246664125,
          0.0246499761,
          0.0244653342,
          0.0242126544,
          0.024136955499999998,
          0.0236238827,
          0.0234907799,
          0.0233714409,
          0.0225481675,
          0.0223266981,
          0.022118677799999997,
          0.0213207507,
          0.0209067059,
          0.02073163,
          0.0202874999,
          0.0198575932,
          0.0196045216,
          0.019500626,
          0.0194779174,
          0.0194132894,
          0.0193788798,
          0.019308806,
          0.0191648547,
          0.0191208199,
          -0.0188213,
          0.0185315015,
          0.0183614834,
          0.0180799416,
          0.0179546003,
          0.017927104699999998,
          0.0174075225,
          0.0172805038,
          0.0171996473,
          -0.017132717,
          -0.017126917,
          0.017044143,
          0.0167994071,
          0.0167977742,
          0.0167039803,
          0.016583469,
          -0.016515553,
          0.0163303639,
          -0.016307612,
          0.0160532637,
          0.0159566066,
          0.0158606828,
          0.015706499999999998,
          0.015689103700000002,
          0.0155976432,
          0.015548873400000001,
          0.015436268700000002,
          -0.015307161000000001,
          0.015211599499999999,
          0.0151573199,
          0.015137823500000001,
          0.0149863797,
          -0.014918103,
          0.014834378600000002,
          0.0145001917,
          0.0144957141,
          -0.014457092,
          -0.01429315,
          0.014291218500000001,
          0.014219119399999999,
          0.0142006438,
          -0.014084707
         ],
         "yaxis": "y"
        }
       ],
       "layout": {
        "barmode": "relative",
        "height": 600,
        "legend": {
         "tracegroupgap": 0
        },
        "template": {
         "data": {
          "bar": [
           {
            "error_x": {
             "color": "#2a3f5f"
            },
            "error_y": {
             "color": "#2a3f5f"
            },
            "marker": {
             "line": {
              "color": "#E5ECF6",
              "width": 0.5
             }
            },
            "type": "bar"
           }
          ],
          "barpolar": [
           {
            "marker": {
             "line": {
              "color": "#E5ECF6",
              "width": 0.5
             }
            },
            "type": "barpolar"
           }
          ],
          "carpet": [
           {
            "aaxis": {
             "endlinecolor": "#2a3f5f",
             "gridcolor": "white",
             "linecolor": "white",
             "minorgridcolor": "white",
             "startlinecolor": "#2a3f5f"
            },
            "baxis": {
             "endlinecolor": "#2a3f5f",
             "gridcolor": "white",
             "linecolor": "white",
             "minorgridcolor": "white",
             "startlinecolor": "#2a3f5f"
            },
            "type": "carpet"
           }
          ],
          "choropleth": [
           {
            "colorbar": {
             "outlinewidth": 0,
             "ticks": ""
            },
            "type": "choropleth"
           }
          ],
          "contour": [
           {
            "colorbar": {
             "outlinewidth": 0,
             "ticks": ""
            },
            "colorscale": [
             [
              0,
              "#0d0887"
             ],
             [
              0.1111111111111111,
              "#46039f"
             ],
             [
              0.2222222222222222,
              "#7201a8"
             ],
             [
              0.3333333333333333,
              "#9c179e"
             ],
             [
              0.4444444444444444,
              "#bd3786"
             ],
             [
              0.5555555555555556,
              "#d8576b"
             ],
             [
              0.6666666666666666,
              "#ed7953"
             ],
             [
              0.7777777777777778,
              "#fb9f3a"
             ],
             [
              0.8888888888888888,
              "#fdca26"
             ],
             [
              1,
              "#f0f921"
             ]
            ],
            "type": "contour"
           }
          ],
          "contourcarpet": [
           {
            "colorbar": {
             "outlinewidth": 0,
             "ticks": ""
            },
            "type": "contourcarpet"
           }
          ],
          "heatmap": [
           {
            "colorbar": {
             "outlinewidth": 0,
             "ticks": ""
            },
            "colorscale": [
             [
              0,
              "#0d0887"
             ],
             [
              0.1111111111111111,
              "#46039f"
             ],
             [
              0.2222222222222222,
              "#7201a8"
             ],
             [
              0.3333333333333333,
              "#9c179e"
             ],
             [
              0.4444444444444444,
              "#bd3786"
             ],
             [
              0.5555555555555556,
              "#d8576b"
             ],
             [
              0.6666666666666666,
              "#ed7953"
             ],
             [
              0.7777777777777778,
              "#fb9f3a"
             ],
             [
              0.8888888888888888,
              "#fdca26"
             ],
             [
              1,
              "#f0f921"
             ]
            ],
            "type": "heatmap"
           }
          ],
          "heatmapgl": [
           {
            "colorbar": {
             "outlinewidth": 0,
             "ticks": ""
            },
            "colorscale": [
             [
              0,
              "#0d0887"
             ],
             [
              0.1111111111111111,
              "#46039f"
             ],
             [
              0.2222222222222222,
              "#7201a8"
             ],
             [
              0.3333333333333333,
              "#9c179e"
             ],
             [
              0.4444444444444444,
              "#bd3786"
             ],
             [
              0.5555555555555556,
              "#d8576b"
             ],
             [
              0.6666666666666666,
              "#ed7953"
             ],
             [
              0.7777777777777778,
              "#fb9f3a"
             ],
             [
              0.8888888888888888,
              "#fdca26"
             ],
             [
              1,
              "#f0f921"
             ]
            ],
            "type": "heatmapgl"
           }
          ],
          "histogram": [
           {
            "marker": {
             "colorbar": {
              "outlinewidth": 0,
              "ticks": ""
             }
            },
            "type": "histogram"
           }
          ],
          "histogram2d": [
           {
            "colorbar": {
             "outlinewidth": 0,
             "ticks": ""
            },
            "colorscale": [
             [
              0,
              "#0d0887"
             ],
             [
              0.1111111111111111,
              "#46039f"
             ],
             [
              0.2222222222222222,
              "#7201a8"
             ],
             [
              0.3333333333333333,
              "#9c179e"
             ],
             [
              0.4444444444444444,
              "#bd3786"
             ],
             [
              0.5555555555555556,
              "#d8576b"
             ],
             [
              0.6666666666666666,
              "#ed7953"
             ],
             [
              0.7777777777777778,
              "#fb9f3a"
             ],
             [
              0.8888888888888888,
              "#fdca26"
             ],
             [
              1,
              "#f0f921"
             ]
            ],
            "type": "histogram2d"
           }
          ],
          "histogram2dcontour": [
           {
            "colorbar": {
             "outlinewidth": 0,
             "ticks": ""
            },
            "colorscale": [
             [
              0,
              "#0d0887"
             ],
             [
              0.1111111111111111,
              "#46039f"
             ],
             [
              0.2222222222222222,
              "#7201a8"
             ],
             [
              0.3333333333333333,
              "#9c179e"
             ],
             [
              0.4444444444444444,
              "#bd3786"
             ],
             [
              0.5555555555555556,
              "#d8576b"
             ],
             [
              0.6666666666666666,
              "#ed7953"
             ],
             [
              0.7777777777777778,
              "#fb9f3a"
             ],
             [
              0.8888888888888888,
              "#fdca26"
             ],
             [
              1,
              "#f0f921"
             ]
            ],
            "type": "histogram2dcontour"
           }
          ],
          "mesh3d": [
           {
            "colorbar": {
             "outlinewidth": 0,
             "ticks": ""
            },
            "type": "mesh3d"
           }
          ],
          "parcoords": [
           {
            "line": {
             "colorbar": {
              "outlinewidth": 0,
              "ticks": ""
             }
            },
            "type": "parcoords"
           }
          ],
          "scatter": [
           {
            "marker": {
             "colorbar": {
              "outlinewidth": 0,
              "ticks": ""
             }
            },
            "type": "scatter"
           }
          ],
          "scatter3d": [
           {
            "line": {
             "colorbar": {
              "outlinewidth": 0,
              "ticks": ""
             }
            },
            "marker": {
             "colorbar": {
              "outlinewidth": 0,
              "ticks": ""
             }
            },
            "type": "scatter3d"
           }
          ],
          "scattercarpet": [
           {
            "marker": {
             "colorbar": {
              "outlinewidth": 0,
              "ticks": ""
             }
            },
            "type": "scattercarpet"
           }
          ],
          "scattergeo": [
           {
            "marker": {
             "colorbar": {
              "outlinewidth": 0,
              "ticks": ""
             }
            },
            "type": "scattergeo"
           }
          ],
          "scattergl": [
           {
            "marker": {
             "colorbar": {
              "outlinewidth": 0,
              "ticks": ""
             }
            },
            "type": "scattergl"
           }
          ],
          "scattermapbox": [
           {
            "marker": {
             "colorbar": {
              "outlinewidth": 0,
              "ticks": ""
             }
            },
            "type": "scattermapbox"
           }
          ],
          "scatterpolar": [
           {
            "marker": {
             "colorbar": {
              "outlinewidth": 0,
              "ticks": ""
             }
            },
            "type": "scatterpolar"
           }
          ],
          "scatterpolargl": [
           {
            "marker": {
             "colorbar": {
              "outlinewidth": 0,
              "ticks": ""
             }
            },
            "type": "scatterpolargl"
           }
          ],
          "scatterternary": [
           {
            "marker": {
             "colorbar": {
              "outlinewidth": 0,
              "ticks": ""
             }
            },
            "type": "scatterternary"
           }
          ],
          "surface": [
           {
            "colorbar": {
             "outlinewidth": 0,
             "ticks": ""
            },
            "colorscale": [
             [
              0,
              "#0d0887"
             ],
             [
              0.1111111111111111,
              "#46039f"
             ],
             [
              0.2222222222222222,
              "#7201a8"
             ],
             [
              0.3333333333333333,
              "#9c179e"
             ],
             [
              0.4444444444444444,
              "#bd3786"
             ],
             [
              0.5555555555555556,
              "#d8576b"
             ],
             [
              0.6666666666666666,
              "#ed7953"
             ],
             [
              0.7777777777777778,
              "#fb9f3a"
             ],
             [
              0.8888888888888888,
              "#fdca26"
             ],
             [
              1,
              "#f0f921"
             ]
            ],
            "type": "surface"
           }
          ],
          "table": [
           {
            "cells": {
             "fill": {
              "color": "#EBF0F8"
             },
             "line": {
              "color": "white"
             }
            },
            "header": {
             "fill": {
              "color": "#C8D4E3"
             },
             "line": {
              "color": "white"
             }
            },
            "type": "table"
           }
          ]
         },
         "layout": {
          "annotationdefaults": {
           "arrowcolor": "#2a3f5f",
           "arrowhead": 0,
           "arrowwidth": 1
          },
          "colorscale": {
           "diverging": [
            [
             0,
             "#8e0152"
            ],
            [
             0.1,
             "#c51b7d"
            ],
            [
             0.2,
             "#de77ae"
            ],
            [
             0.3,
             "#f1b6da"
            ],
            [
             0.4,
             "#fde0ef"
            ],
            [
             0.5,
             "#f7f7f7"
            ],
            [
             0.6,
             "#e6f5d0"
            ],
            [
             0.7,
             "#b8e186"
            ],
            [
             0.8,
             "#7fbc41"
            ],
            [
             0.9,
             "#4d9221"
            ],
            [
             1,
             "#276419"
            ]
           ],
           "sequential": [
            [
             0,
             "#0d0887"
            ],
            [
             0.1111111111111111,
             "#46039f"
            ],
            [
             0.2222222222222222,
             "#7201a8"
            ],
            [
             0.3333333333333333,
             "#9c179e"
            ],
            [
             0.4444444444444444,
             "#bd3786"
            ],
            [
             0.5555555555555556,
             "#d8576b"
            ],
            [
             0.6666666666666666,
             "#ed7953"
            ],
            [
             0.7777777777777778,
             "#fb9f3a"
            ],
            [
             0.8888888888888888,
             "#fdca26"
            ],
            [
             1,
             "#f0f921"
            ]
           ],
           "sequentialminus": [
            [
             0,
             "#0d0887"
            ],
            [
             0.1111111111111111,
             "#46039f"
            ],
            [
             0.2222222222222222,
             "#7201a8"
            ],
            [
             0.3333333333333333,
             "#9c179e"
            ],
            [
             0.4444444444444444,
             "#bd3786"
            ],
            [
             0.5555555555555556,
             "#d8576b"
            ],
            [
             0.6666666666666666,
             "#ed7953"
            ],
            [
             0.7777777777777778,
             "#fb9f3a"
            ],
            [
             0.8888888888888888,
             "#fdca26"
            ],
            [
             1,
             "#f0f921"
            ]
           ]
          },
          "colorway": [
           "#636efa",
           "#EF553B",
           "#00cc96",
           "#ab63fa",
           "#FFA15A",
           "#19d3f3",
           "#FF6692",
           "#B6E880",
           "#FF97FF",
           "#FECB52"
          ],
          "font": {
           "color": "#2a3f5f"
          },
          "geo": {
           "bgcolor": "white",
           "lakecolor": "white",
           "landcolor": "#E5ECF6",
           "showlakes": true,
           "showland": true,
           "subunitcolor": "white"
          },
          "hoverlabel": {
           "align": "left"
          },
          "hovermode": "closest",
          "mapbox": {
           "style": "light"
          },
          "paper_bgcolor": "white",
          "plot_bgcolor": "#E5ECF6",
          "polar": {
           "angularaxis": {
            "gridcolor": "white",
            "linecolor": "white",
            "ticks": ""
           },
           "bgcolor": "#E5ECF6",
           "radialaxis": {
            "gridcolor": "white",
            "linecolor": "white",
            "ticks": ""
           }
          },
          "scene": {
           "xaxis": {
            "backgroundcolor": "#E5ECF6",
            "gridcolor": "white",
            "gridwidth": 2,
            "linecolor": "white",
            "showbackground": true,
            "ticks": "",
            "zerolinecolor": "white"
           },
           "yaxis": {
            "backgroundcolor": "#E5ECF6",
            "gridcolor": "white",
            "gridwidth": 2,
            "linecolor": "white",
            "showbackground": true,
            "ticks": "",
            "zerolinecolor": "white"
           },
           "zaxis": {
            "backgroundcolor": "#E5ECF6",
            "gridcolor": "white",
            "gridwidth": 2,
            "linecolor": "white",
            "showbackground": true,
            "ticks": "",
            "zerolinecolor": "white"
           }
          },
          "shapedefaults": {
           "line": {
            "color": "#2a3f5f"
           }
          },
          "ternary": {
           "aaxis": {
            "gridcolor": "white",
            "linecolor": "white",
            "ticks": ""
           },
           "baxis": {
            "gridcolor": "white",
            "linecolor": "white",
            "ticks": ""
           },
           "bgcolor": "#E5ECF6",
           "caxis": {
            "gridcolor": "white",
            "linecolor": "white",
            "ticks": ""
           }
          },
          "title": {
           "x": 0.05
          },
          "xaxis": {
           "automargin": true,
           "gridcolor": "white",
           "linecolor": "white",
           "ticks": "",
           "zerolinecolor": "white",
           "zerolinewidth": 2
          },
          "yaxis": {
           "automargin": true,
           "gridcolor": "white",
           "linecolor": "white",
           "ticks": "",
           "zerolinecolor": "white",
           "zerolinewidth": 2
          }
         }
        },
        "title": {
         "text": "Gram_size=2"
        },
        "xaxis": {
         "anchor": "y",
         "domain": [
          0,
          0.98
         ],
         "title": {
          "text": "rec_name"
         }
        },
        "yaxis": {
         "anchor": "x",
         "domain": [
          0,
          1
         ],
         "title": {
          "text": "attrited"
         }
        }
       }
      },
      "text/html": [
       "<div>\n",
       "        \n",
       "        \n",
       "            <div id=\"ca23d5e9-7b9c-4e38-b7de-50d19c836d01\" class=\"plotly-graph-div\" style=\"height:600px; width:100%;\"></div>\n",
       "            <script type=\"text/javascript\">\n",
       "                require([\"plotly\"], function(Plotly) {\n",
       "                    window.PLOTLYENV=window.PLOTLYENV || {};\n",
       "                    \n",
       "                if (document.getElementById(\"ca23d5e9-7b9c-4e38-b7de-50d19c836d01\")) {\n",
       "                    Plotly.newPlot(\n",
       "                        'ca23d5e9-7b9c-4e38-b7de-50d19c836d01',\n",
       "                        [{\"alignmentgroup\": \"True\", \"hoverlabel\": {\"namelength\": 0}, \"hovertemplate\": \"rec_name=%{x}<br>attrited=%{y}\", \"legendgroup\": \"\", \"marker\": {\"color\": \"#636efa\"}, \"name\": \"\", \"offsetgroup\": \"\", \"orientation\": \"v\", \"showlegend\": false, \"textposition\": \"auto\", \"type\": \"bar\", \"x\": [\"cr_10_branch_initiated_-_curdate+inquiries_account_balance\", \"withdrawal+dr_blank_withdrawal\", \"deposit_debit_10+dr_10_branch_initiated_-_curdate\", \"done_fulfill/complete.customercontact.salesandservicelead+done.directbankingcontact.manualauthentication\", \"arrival_event+transferred_to_agentsuccessful_transfer_with_cti_data.\", \"inquiries_transaction_history+inquiries_transaction_history\", \"dr_10_branch_initiated_-_curdate+dr_blank_withdrawal\", \"credit_10_reverse_charge+credit_10_reverse_charge\", \"credit_10_reverse_charge+spcl_20_amend_account_status_transaction\", \"cr_10_branch_initiated_-_curdate+inquiries_3_linked_accounts\", \"done.directbankingcontact.manualauthentication+arrival_event\", \"transferred_to_agentsuccessful_transfer_with_cti_data.+ivr_session_endall_other_request\", \"ivr_session_endall_other_request+authentication_challengessuccess\", \"spcl_20_amend_account_status_transaction+inquiries_14_account_details\", \"transfer_mech_accounts+tfr_11_customer_initiated_-_curdate\", \"cr_10_branch_initiated_-_curdate+spcl_20_amend_account_status_transaction\", \"closed.accountadministration.bmo.com-present_id_at_branch+arrival_event\", \"dr_10_branch_initiated_-_curdate+cr_9__cti_issue\", \"departure_event+closed.accountadministration.bmo.com-present_id_at_branch\", \"dr_blank_withdrawal+inquiries_transaction_history\", \"dr_blank_withdrawal+departure_event\", \"departure_event+done.directbankingcontact.manualauthentication\", \"authentication_card_numbersuccess+ivr_session_start_\", \"authentication_challengessuccess+authentication_card_numbersuccess\", \"credit_10_reverse_charge+inquiries_transaction_history\", \"open_7_-_misc_amends_(amdafls)+inquiries_account_details\", \"dr_blank_withdrawal+inquiries_account_details\", \"inquiries_transaction_history+cr_20__customer_initiated_loan\", \"cr_10_branch_initiated_-_curdate+inquiries_14_account_details\", \"arrival_event+cr_10_branch_initiated_-_curdate\", \"dr_10_branch_initiated_-_curdate+inquiries_transaction_history\", \"done_fulfill/complete.customercontact.salesandservicelead+done.directbankingcontact.\", \"inquiries_transaction_history+departure_event\", \"closed.non-financialtransactions.other_non-financials+arrival_event\", \"cr_10_branch_initiated_-_curdate+departure_event\", \"closed.accountadministration.bmo.com-present_id_at_branch+departure_event\", \"departure_event+closed.non-financialtransactions.other_non-financials\", \"dr_10_branch_initiated_-_curdate+tfr_11_customer_initiated_-_curdate\", \"inquiries_14_account_details+departure_event\", \"inquiries_14_account_details+cr_10_branch_initiated_-_curdate\", \"tfr_11_customer_initiated_-_curdate+inquiries_transaction_history\", \"arrival_event+departure_event\", \"inquiries_account_details+inquiries_account_details\", \"credit_10_reverse_charge+cr_10_branch_initiated_-_curdate\", \"departure_event+arrival_event\", \"cr_20__customer_initiated_loan+inquiries_transaction_history\", \"done_decline.customercontact.salesandservicelead+done.directbankingcontact.manualauthentication\", \"cr_10_branch_initiated_-_curdate+inquiries_transaction_history\", \"dr_10_branch_initiated_-_curdate+inquiries_account_balance\", \"inquiries_account_balance+deposit_debit_10\", \"arrival_event+credit_10_reverse_charge\", \"departure_event+open.customernote.accountoperation\", \"tfr_11_customer_initiated_-_curdate+inquiries_account_details\", \"departure_event+open.financialtransactions.account_close\", \"inquiries_14_account_details+credit_10_reverse_charge\", \"done.directbankingcontact.outboundfollow-up+arrival_event\", \"departure_event+done_fulfill/complete.customercontact.salesandservicelead\", \"inquiries_14_account_details+inquiries_transaction_history\", \"arrival_event+unofficial_payoff_request\", \"dr_10_branch_initiated_-_curdate+inquiries_account_details\", \"open.customernote.accountoperation+arrival_event\", \"inquiries_account_details+departure_event\", \"cr_10_branch_initiated_-_curdate+withdrawal\", \"arrival_event+done.directbankingcontact.manualauthentication\", \"done.directbankingcontact.+arrival_event\", \"credit_10_reverse_charge+withdrawal\", \"credit_10_reverse_charge+transfer_mech_accounts\", \"signout+getfeatureconfigurations\", \"getfeatureconfigurations+getappconfig\", \"open.non-financialtransactions.other_non-financials+arrival_event\", \"dr_blank_withdrawal+transfer_mech_accounts\", \"done.directbankingcontact.manualauthentication+transferred_to_agentsuccessful_transfer_with_cti_data.\", \"inquiries_account_balance+credit_10_reverse_charge\", \"dr_10_branch_initiated_-_curdate+credit_10_reverse_charge\", \"getbannerad+initotpsession\", \"credit_10_reverse_charge+inquiries_account_details\", \"initotpsession+isotppilotenabled\", \"inquiries_account_details+inquiries_transaction_history\", \"departure_event+open.non-financialtransactions.other_non-financials\", \"departure_event+closed.investigations.customer_complaint\", \"mps_-_mid-tier_plan_linkage+moa_-_mid-tier_account_open\", \"open.creditcard.credit_card_processing+arrival_event\", \"inquiries_transaction_history+inquiries_account_details\", \"departure_event+open.creditcard.credit_card_processing\", \"dr_10_branch_initiated_-_curdate+departure_event\", \"inquiries_account_history+departure_event\", \"cr_9__cti_issue+credit_10_reverse_charge\", \"done_fulfill/complete.customercontact.salesandservicelead+departure_event\", \"transferred_to_agentsuccessful_transfer_with_cti_data.+ivr_session_endauthentication_failed\", \"inquiries_transaction_history+credit_10_reverse_charge\", \"keepalive+getbannerad\", \"closed.loans.line_of_credit_processing+arrival_event\", \"departure_event+done.directbankingcontact.\", \"arrival_event+mps_-_mid-tier_plan_linkage\", \"login_success+activateuserrealms\", \"isotppilotenabled+login_success\", \"inquiries_14_account_details+spcl_20_amend_account_status_transaction\", \"departure_event+done.directbankingcontact.outboundfollow-up\", \"closed.investigations.customer_complaint+arrival_event\", \"unofficial_payoff_request+signout\"], \"xaxis\": \"x\", \"y\": [0.14246373269999998, 0.0886936232, 0.0753406327, 0.0697089774, 0.062762834, 0.0612130788, 0.0605948634, 0.052005712, 0.0497401154, 0.047398595599999996, 0.043110543700000004, 0.0416662426, 0.040960957799999996, 0.037729309100000004, 0.036819334700000005, 0.036568855899999995, 0.0362796246, 0.035647176600000004, 0.035123911699999996, 0.0331631746, 0.0325186984, 0.0321892466, 0.031187020299999996, 0.030968434, 0.0309583477, 0.030812264500000002, 0.0293821392, 0.027882667599999997, 0.0274246871, 0.025810255299999998, 0.0254222544, 0.0252986656, 0.0250869073, 0.024822285099999997, 0.0246664125, 0.0246499761, 0.0244653342, 0.0242126544, 0.024136955499999998, 0.0236238827, 0.0234907799, 0.0233714409, 0.0225481675, 0.0223266981, 0.022118677799999997, 0.0213207507, 0.0209067059, 0.02073163, 0.0202874999, 0.0198575932, 0.0196045216, 0.019500626, 0.0194779174, 0.0194132894, 0.0193788798, 0.019308806, 0.0191648547, 0.0191208199, -0.0188213, 0.0185315015, 0.0183614834, 0.0180799416, 0.0179546003, 0.017927104699999998, 0.0174075225, 0.0172805038, 0.0171996473, -0.017132717, -0.017126917, 0.017044143, 0.0167994071, 0.0167977742, 0.0167039803, 0.016583469, -0.016515553, 0.0163303639, -0.016307612, 0.0160532637, 0.0159566066, 0.0158606828, 0.015706499999999998, 0.015689103700000002, 0.0155976432, 0.015548873400000001, 0.015436268700000002, -0.015307161000000001, 0.015211599499999999, 0.0151573199, 0.015137823500000001, 0.0149863797, -0.014918103, 0.014834378600000002, 0.0145001917, 0.0144957141, -0.014457092, -0.01429315, 0.014291218500000001, 0.014219119399999999, 0.0142006438, -0.014084707], \"yaxis\": \"y\"}],\n",
       "                        {\"barmode\": \"relative\", \"height\": 600, \"legend\": {\"tracegroupgap\": 0}, \"template\": {\"data\": {\"bar\": [{\"error_x\": {\"color\": \"#2a3f5f\"}, \"error_y\": {\"color\": \"#2a3f5f\"}, \"marker\": {\"line\": {\"color\": \"#E5ECF6\", \"width\": 0.5}}, \"type\": \"bar\"}], \"barpolar\": [{\"marker\": {\"line\": {\"color\": \"#E5ECF6\", \"width\": 0.5}}, \"type\": \"barpolar\"}], \"carpet\": [{\"aaxis\": {\"endlinecolor\": \"#2a3f5f\", \"gridcolor\": \"white\", \"linecolor\": \"white\", \"minorgridcolor\": \"white\", \"startlinecolor\": \"#2a3f5f\"}, \"baxis\": {\"endlinecolor\": \"#2a3f5f\", \"gridcolor\": \"white\", \"linecolor\": \"white\", \"minorgridcolor\": \"white\", \"startlinecolor\": \"#2a3f5f\"}, \"type\": \"carpet\"}], \"choropleth\": [{\"colorbar\": {\"outlinewidth\": 0, \"ticks\": \"\"}, \"type\": \"choropleth\"}], \"contour\": [{\"colorbar\": {\"outlinewidth\": 0, \"ticks\": \"\"}, \"colorscale\": [[0.0, \"#0d0887\"], [0.1111111111111111, \"#46039f\"], [0.2222222222222222, \"#7201a8\"], [0.3333333333333333, \"#9c179e\"], [0.4444444444444444, \"#bd3786\"], [0.5555555555555556, \"#d8576b\"], [0.6666666666666666, \"#ed7953\"], [0.7777777777777778, \"#fb9f3a\"], [0.8888888888888888, \"#fdca26\"], [1.0, \"#f0f921\"]], \"type\": \"contour\"}], \"contourcarpet\": [{\"colorbar\": {\"outlinewidth\": 0, \"ticks\": \"\"}, \"type\": \"contourcarpet\"}], \"heatmap\": [{\"colorbar\": {\"outlinewidth\": 0, \"ticks\": \"\"}, \"colorscale\": [[0.0, \"#0d0887\"], [0.1111111111111111, \"#46039f\"], [0.2222222222222222, \"#7201a8\"], [0.3333333333333333, \"#9c179e\"], [0.4444444444444444, \"#bd3786\"], [0.5555555555555556, \"#d8576b\"], [0.6666666666666666, \"#ed7953\"], [0.7777777777777778, \"#fb9f3a\"], [0.8888888888888888, \"#fdca26\"], [1.0, \"#f0f921\"]], \"type\": \"heatmap\"}], \"heatmapgl\": [{\"colorbar\": {\"outlinewidth\": 0, \"ticks\": \"\"}, \"colorscale\": [[0.0, \"#0d0887\"], [0.1111111111111111, \"#46039f\"], [0.2222222222222222, \"#7201a8\"], [0.3333333333333333, \"#9c179e\"], [0.4444444444444444, \"#bd3786\"], [0.5555555555555556, \"#d8576b\"], [0.6666666666666666, \"#ed7953\"], [0.7777777777777778, \"#fb9f3a\"], [0.8888888888888888, \"#fdca26\"], [1.0, \"#f0f921\"]], \"type\": \"heatmapgl\"}], \"histogram\": [{\"marker\": {\"colorbar\": {\"outlinewidth\": 0, \"ticks\": \"\"}}, \"type\": \"histogram\"}], \"histogram2d\": [{\"colorbar\": {\"outlinewidth\": 0, \"ticks\": \"\"}, \"colorscale\": [[0.0, \"#0d0887\"], [0.1111111111111111, \"#46039f\"], [0.2222222222222222, \"#7201a8\"], [0.3333333333333333, \"#9c179e\"], [0.4444444444444444, \"#bd3786\"], [0.5555555555555556, \"#d8576b\"], [0.6666666666666666, \"#ed7953\"], [0.7777777777777778, \"#fb9f3a\"], [0.8888888888888888, \"#fdca26\"], [1.0, \"#f0f921\"]], \"type\": \"histogram2d\"}], \"histogram2dcontour\": [{\"colorbar\": {\"outlinewidth\": 0, \"ticks\": \"\"}, \"colorscale\": [[0.0, \"#0d0887\"], [0.1111111111111111, \"#46039f\"], [0.2222222222222222, \"#7201a8\"], [0.3333333333333333, \"#9c179e\"], [0.4444444444444444, \"#bd3786\"], [0.5555555555555556, \"#d8576b\"], [0.6666666666666666, \"#ed7953\"], [0.7777777777777778, \"#fb9f3a\"], [0.8888888888888888, \"#fdca26\"], [1.0, \"#f0f921\"]], \"type\": \"histogram2dcontour\"}], \"mesh3d\": [{\"colorbar\": {\"outlinewidth\": 0, \"ticks\": \"\"}, \"type\": \"mesh3d\"}], \"parcoords\": [{\"line\": {\"colorbar\": {\"outlinewidth\": 0, \"ticks\": \"\"}}, \"type\": \"parcoords\"}], \"scatter\": [{\"marker\": {\"colorbar\": {\"outlinewidth\": 0, \"ticks\": \"\"}}, \"type\": \"scatter\"}], \"scatter3d\": [{\"line\": {\"colorbar\": {\"outlinewidth\": 0, \"ticks\": \"\"}}, \"marker\": {\"colorbar\": {\"outlinewidth\": 0, \"ticks\": \"\"}}, \"type\": \"scatter3d\"}], \"scattercarpet\": [{\"marker\": {\"colorbar\": {\"outlinewidth\": 0, \"ticks\": \"\"}}, \"type\": \"scattercarpet\"}], \"scattergeo\": [{\"marker\": {\"colorbar\": {\"outlinewidth\": 0, \"ticks\": \"\"}}, \"type\": \"scattergeo\"}], \"scattergl\": [{\"marker\": {\"colorbar\": {\"outlinewidth\": 0, \"ticks\": \"\"}}, \"type\": \"scattergl\"}], \"scattermapbox\": [{\"marker\": {\"colorbar\": {\"outlinewidth\": 0, \"ticks\": \"\"}}, \"type\": \"scattermapbox\"}], \"scatterpolar\": [{\"marker\": {\"colorbar\": {\"outlinewidth\": 0, \"ticks\": \"\"}}, \"type\": \"scatterpolar\"}], \"scatterpolargl\": [{\"marker\": {\"colorbar\": {\"outlinewidth\": 0, \"ticks\": \"\"}}, \"type\": \"scatterpolargl\"}], \"scatterternary\": [{\"marker\": {\"colorbar\": {\"outlinewidth\": 0, \"ticks\": \"\"}}, \"type\": \"scatterternary\"}], \"surface\": [{\"colorbar\": {\"outlinewidth\": 0, \"ticks\": \"\"}, \"colorscale\": [[0.0, \"#0d0887\"], [0.1111111111111111, \"#46039f\"], [0.2222222222222222, \"#7201a8\"], [0.3333333333333333, \"#9c179e\"], [0.4444444444444444, \"#bd3786\"], [0.5555555555555556, \"#d8576b\"], [0.6666666666666666, \"#ed7953\"], [0.7777777777777778, \"#fb9f3a\"], [0.8888888888888888, \"#fdca26\"], [1.0, \"#f0f921\"]], \"type\": \"surface\"}], \"table\": [{\"cells\": {\"fill\": {\"color\": \"#EBF0F8\"}, \"line\": {\"color\": \"white\"}}, \"header\": {\"fill\": {\"color\": \"#C8D4E3\"}, \"line\": {\"color\": \"white\"}}, \"type\": \"table\"}]}, \"layout\": {\"annotationdefaults\": {\"arrowcolor\": \"#2a3f5f\", \"arrowhead\": 0, \"arrowwidth\": 1}, \"colorscale\": {\"diverging\": [[0, \"#8e0152\"], [0.1, \"#c51b7d\"], [0.2, \"#de77ae\"], [0.3, \"#f1b6da\"], [0.4, \"#fde0ef\"], [0.5, \"#f7f7f7\"], [0.6, \"#e6f5d0\"], [0.7, \"#b8e186\"], [0.8, \"#7fbc41\"], [0.9, \"#4d9221\"], [1, \"#276419\"]], \"sequential\": [[0.0, \"#0d0887\"], [0.1111111111111111, \"#46039f\"], [0.2222222222222222, \"#7201a8\"], [0.3333333333333333, \"#9c179e\"], [0.4444444444444444, \"#bd3786\"], [0.5555555555555556, \"#d8576b\"], [0.6666666666666666, \"#ed7953\"], [0.7777777777777778, \"#fb9f3a\"], [0.8888888888888888, \"#fdca26\"], [1.0, \"#f0f921\"]], \"sequentialminus\": [[0.0, \"#0d0887\"], [0.1111111111111111, \"#46039f\"], [0.2222222222222222, \"#7201a8\"], [0.3333333333333333, \"#9c179e\"], [0.4444444444444444, \"#bd3786\"], [0.5555555555555556, \"#d8576b\"], [0.6666666666666666, \"#ed7953\"], [0.7777777777777778, \"#fb9f3a\"], [0.8888888888888888, \"#fdca26\"], [1.0, \"#f0f921\"]]}, \"colorway\": [\"#636efa\", \"#EF553B\", \"#00cc96\", \"#ab63fa\", \"#FFA15A\", \"#19d3f3\", \"#FF6692\", \"#B6E880\", \"#FF97FF\", \"#FECB52\"], \"font\": {\"color\": \"#2a3f5f\"}, \"geo\": {\"bgcolor\": \"white\", \"lakecolor\": \"white\", \"landcolor\": \"#E5ECF6\", \"showlakes\": true, \"showland\": true, \"subunitcolor\": \"white\"}, \"hoverlabel\": {\"align\": \"left\"}, \"hovermode\": \"closest\", \"mapbox\": {\"style\": \"light\"}, \"paper_bgcolor\": \"white\", \"plot_bgcolor\": \"#E5ECF6\", \"polar\": {\"angularaxis\": {\"gridcolor\": \"white\", \"linecolor\": \"white\", \"ticks\": \"\"}, \"bgcolor\": \"#E5ECF6\", \"radialaxis\": {\"gridcolor\": \"white\", \"linecolor\": \"white\", \"ticks\": \"\"}}, \"scene\": {\"xaxis\": {\"backgroundcolor\": \"#E5ECF6\", \"gridcolor\": \"white\", \"gridwidth\": 2, \"linecolor\": \"white\", \"showbackground\": true, \"ticks\": \"\", \"zerolinecolor\": \"white\"}, \"yaxis\": {\"backgroundcolor\": \"#E5ECF6\", \"gridcolor\": \"white\", \"gridwidth\": 2, \"linecolor\": \"white\", \"showbackground\": true, \"ticks\": \"\", \"zerolinecolor\": \"white\"}, \"zaxis\": {\"backgroundcolor\": \"#E5ECF6\", \"gridcolor\": \"white\", \"gridwidth\": 2, \"linecolor\": \"white\", \"showbackground\": true, \"ticks\": \"\", \"zerolinecolor\": \"white\"}}, \"shapedefaults\": {\"line\": {\"color\": \"#2a3f5f\"}}, \"ternary\": {\"aaxis\": {\"gridcolor\": \"white\", \"linecolor\": \"white\", \"ticks\": \"\"}, \"baxis\": {\"gridcolor\": \"white\", \"linecolor\": \"white\", \"ticks\": \"\"}, \"bgcolor\": \"#E5ECF6\", \"caxis\": {\"gridcolor\": \"white\", \"linecolor\": \"white\", \"ticks\": \"\"}}, \"title\": {\"x\": 0.05}, \"xaxis\": {\"automargin\": true, \"gridcolor\": \"white\", \"linecolor\": \"white\", \"ticks\": \"\", \"zerolinecolor\": \"white\", \"zerolinewidth\": 2}, \"yaxis\": {\"automargin\": true, \"gridcolor\": \"white\", \"linecolor\": \"white\", \"ticks\": \"\", \"zerolinecolor\": \"white\", \"zerolinewidth\": 2}}}, \"title\": {\"text\": \"Gram_size=2\"}, \"xaxis\": {\"anchor\": \"y\", \"domain\": [0.0, 0.98], \"title\": {\"text\": \"rec_name\"}}, \"yaxis\": {\"anchor\": \"x\", \"domain\": [0.0, 1.0], \"title\": {\"text\": \"attrited\"}}},\n",
       "                        {\"responsive\": true}\n",
       "                    ).then(function(){\n",
       "                            \n",
       "var gd = document.getElementById('ca23d5e9-7b9c-4e38-b7de-50d19c836d01');\n",
       "var x = new MutationObserver(function (mutations, observer) {{\n",
       "        var display = window.getComputedStyle(gd).display;\n",
       "        if (!display || display === 'none') {{\n",
       "            console.log([gd, 'removed!']);\n",
       "            Plotly.purge(gd);\n",
       "            observer.disconnect();\n",
       "        }}\n",
       "}});\n",
       "\n",
       "// Listen for the removal of the full notebook cells\n",
       "var notebookContainer = gd.closest('#notebook-container');\n",
       "if (notebookContainer) {{\n",
       "    x.observe(notebookContainer, {childList: true});\n",
       "}}\n",
       "\n",
       "// Listen for the clearing of the current output cell\n",
       "var outputEl = gd.closest('.output');\n",
       "if (outputEl) {{\n",
       "    x.observe(outputEl, {childList: true});\n",
       "}}\n",
       "\n",
       "                        })\n",
       "                };\n",
       "                });\n",
       "            </script>\n",
       "        </div>"
      ]
     },
     "metadata": {},
     "output_type": "display_data"
    }
   ],
   "source": [
    "fig = px.bar(univ[univ.grm_size==2], x=\"rec_name\", y=\"attrited\", orientation='v',title='Gram_size=2')\n",
    "\n",
    "fig.show()"
   ]
  },
  {
   "cell_type": "code",
   "execution_count": 96,
   "metadata": {},
   "outputs": [
    {
     "data": {
      "application/vnd.plotly.v1+json": {
       "config": {
        "plotlyServerURL": "https://plot.ly"
       },
       "data": [
        {
         "alignmentgroup": "True",
         "hoverlabel": {
          "namelength": 0
         },
         "hovertemplate": "rec_name=%{x}<br>attrited=%{y}",
         "legendgroup": "",
         "marker": {
          "color": "#636efa"
         },
         "name": "",
         "offsetgroup": "",
         "orientation": "v",
         "showlegend": false,
         "textposition": "auto",
         "type": "bar",
         "x": [
          "done_fulfill/complete.customercontact.salesandservicelead+done.directbankingcontact.manualauthentication+arrival_event",
          "arrival_event+transferred_to_agentsuccessful_transfer_with_cti_data.+ivr_session_endall_other_request",
          "departure_event+done_fulfill/complete.customercontact.salesandservicelead+done.directbankingcontact.manualauthentication",
          "deposit_debit_10+dr_10_branch_initiated_-_curdate+dr_blank_withdrawal",
          "done.directbankingcontact.manualauthentication+arrival_event+transferred_to_agentsuccessful_transfer_with_cti_data.",
          "open_7_-_misc_amends_(amdafls)+inquiries_account_details+inquiries_3_linked_accounts",
          "credit_10_reverse_charge+spcl_20_amend_account_status_transaction+inquiries_14_account_details",
          "withdrawal+dr_blank_withdrawal+inquiries_transaction_history",
          "withdrawal+dr_blank_withdrawal+departure_event",
          "done_fulfill/complete.customercontact.salesandservicelead+departure_event+done.directbankingcontact.manualauthentication",
          "transferred_to_agentsuccessful_transfer_with_cti_data.+ivr_session_endall_other_request+authentication_challengessuccess",
          "inquiries_transaction_history+withdrawal+dr_blank_withdrawal",
          "ivr_session_endall_other_request+authentication_challengessuccess+authentication_card_numbersuccess",
          "deposit_debit_10+dr_10_branch_initiated_-_curdate+inquiries_transaction_history",
          "cr_10_branch_initiated_-_curdate+spcl_20_amend_account_status_transaction+inquiries_14_account_details",
          "departure_event+done.directbankingcontact.manualauthentication+arrival_event",
          "departure_event+closed.accountadministration.bmo.com-present_id_at_branch+arrival_event",
          "done.directbankingcontact.+arrival_event+transferred_to_agentsuccessful_transfer_with_cti_data.",
          "authentication_challengessuccess+authentication_card_numbersuccess+ivr_session_start_",
          "dr_blank_withdrawal+departure_event+arrival_event",
          "credit_10_reverse_charge+inquiries_transaction_history+departure_event",
          "inquiries_account_balance+deposit_debit_10+dr_10_branch_initiated_-_curdate",
          "inquiries_transaction_history+departure_event+arrival_event",
          "done_decline.customercontact.salesandservicelead+done.directbankingcontact.manualauthentication+arrival_event",
          "deposit_debit_10+dr_10_branch_initiated_-_curdate+inquiries_account_details",
          "departure_event+done_fulfill/complete.customercontact.salesandservicelead+done.directbankingcontact.",
          "done_fulfill/complete.customercontact.salesandservicelead+departure_event+done.directbankingcontact.",
          "done.directbankingcontact.outboundfollow-up+arrival_event+departure_event",
          "dr_blank_withdrawal+inquiries_transaction_history+departure_event",
          "arrival_event+transferred_to_agentsuccessful_transfer_with_cti_data.+ivr_session_endauthentication_failed",
          "departure_event+arrival_event+departure_event",
          "departure_event+closed.non-financialtransactions.other_non-financials+arrival_event",
          "inquiries_transaction_history+deposit_debit_10+dr_10_branch_initiated_-_curdate",
          "done_fulfill/complete.customercontact.salesandservicelead+done.directbankingcontact.+arrival_event",
          "arrival_event+departure_event+arrival_event",
          "done.directbankingcontact.manualauthentication+transferred_to_agentsuccessful_transfer_with_cti_data.+ivr_session_endall_other_request",
          "closed.non-financialtransactions.other_non-financials+arrival_event+departure_event",
          "spcl_20_amend_account_status_transaction+inquiries_14_account_details+departure_event",
          "deposit_debit_10+dr_10_branch_initiated_-_curdate+tfr_11_customer_initiated_-_curdate",
          "deposit_debit_10+dr_10_branch_initiated_-_curdate+departure_event",
          "deposit_debit_10+dr_10_branch_initiated_-_curdate+inquiries_account_balance",
          "arrival_event+deposit_debit_10+dr_10_branch_initiated_-_curdate",
          "cr_10_branch_initiated_-_curdate+inquiries_transaction_history+departure_event",
          "transfer_mech_accounts+tfr_11_customer_initiated_-_curdate+inquiries_account_details",
          "transfer_mech_accounts+tfr_11_customer_initiated_-_curdate+inquiries_transaction_history",
          "spcl_20_amend_account_status_transaction+inquiries_14_account_details+inquiries_account_details",
          "departure_event+arrival_event+transferred_to_agentsuccessful_transfer_with_cti_data.",
          "closed.accountadministration.bmo.com-present_id_at_branch+arrival_event+departure_event",
          "spcl_20_amend_account_status_transaction+inquiries_14_account_details+inquiries_transaction_history",
          "inquiries_14_account_details+inquiries_transaction_history+departure_event",
          "cr_10_branch_initiated_-_curdate+departure_event+arrival_event",
          "tfr_11_customer_initiated_-_curdate+inquiries_transaction_history+departure_event",
          "departure_event+open.customernote.accountoperation+arrival_event",
          "inquiries_account_details+deposit_debit_10+dr_10_branch_initiated_-_curdate",
          "authentication_card_numbersuccess+ivr_session_start_+triad_cda",
          "signout+getfeatureconfigurations+getappconfig",
          "inquiries_14_account_details+departure_event+arrival_event",
          "departure_event+arrival_event+credit_10_reverse_charge",
          "transfer_mech_accounts+tfr_11_customer_initiated_-_curdate+departure_event",
          "arrival_event+done.directbankingcontact.manualauthentication+arrival_event",
          "inquiries_account_details+departure_event+arrival_event",
          "deposit_debit_10+dr_10_branch_initiated_-_curdate+credit_10_reverse_charge",
          "departure_event+done.directbankingcontact.outboundfollow-up+arrival_event",
          "departure_event+arrival_event+cr_10_branch_initiated_-_curdate",
          "dr_10_branch_initiated_-_curdate+departure_event+arrival_event",
          "getbannerad+initotpsession+isotppilotenabled",
          "open.customernote.accountoperation+arrival_event+departure_event",
          "credit_10_reverse_charge+cr_10_branch_initiated_-_curdate+inquiries_transaction_history",
          "done.directbankingcontact.manualauthentication+arrival_event+triad_cda",
          "departure_event+done.directbankingcontact.+arrival_event",
          "departure_event+open.non-financialtransactions.other_non-financials+arrival_event",
          "arrival_event+mps_-_mid-tier_plan_linkage+moa_-_mid-tier_account_open",
          "departure_event+open.creditcard.credit_card_processing+arrival_event",
          "deposit+deposit_debit_10+dr_10_branch_initiated_-_curdate",
          "keepalive+getbannerad+initotpsession",
          "departure_event+arrival_event+done.directbankingcontact.manualauthentication",
          "departure_event+closed.loans.line_of_credit_processing+arrival_event",
          "inquiries_transaction_history+inquiries_account_details+departure_event",
          "inquiries_14_account_details+spcl_20_amend_account_status_transaction+inquiries_14_account_details",
          "departure_event+done_decline.customercontact.salesandservicelead+done.directbankingcontact.manualauthentication",
          "isotppilotenabled+login_success+activateuserrealms",
          "departure_event+closed.investigations.customer_complaint+arrival_event",
          "deposit_debit_10+dr_10_branch_initiated_-_curdate+transfer_mech_accounts",
          "done_fulfill/complete.customercontact.salesandservicelead+done_decline.customercontact.salesandservicelead+done.directbankingcontact.manualauthentication",
          "inquiries_account_details+inquiries_transaction_history+departure_event",
          "arrival_event+unofficial_payoff_request+signout",
          "unofficial_payoff_request+signout+getfeatureconfigurations",
          "departure_event+arrival_event+mps_-_mid-tier_plan_linkage",
          "dr_10_branch_initiated_-_curdate+deposit_debit_10+dr_10_branch_initiated_-_curdate",
          "login_success+activateuserrealms+arrival_event",
          "initotpsession+isotppilotenabled+login_success",
          "done_fulfill/complete.customercontact.salesandservicelead+done.directbankingcontact.manualauthentication+done.directbankingcontact.",
          "arrival_event+open_7_-_misc_amends_(amdafls)+inquiries_account_details",
          "inquiries_14_account_details+inquiries_account_details+departure_event",
          "arrival_event+authentication_card_numbersuccess+ivr_session_start_",
          "arrival_event+transferred_to_agentsuccessful_transfer_with_cti_data.+ivr_session_endone_transaction",
          "inquiries_account_balance+departure_event+arrival_event",
          "spcl_20_amend_account_status_transaction+inquiries_14_account_details+spcl_20_amend_account_status_transaction",
          "inquiries_transaction_history+spcl_20_amend_account_status_transaction+inquiries_14_account_details",
          "tfr_11_customer_initiated_-_curdate+inquiries_transaction_history+inquiries_account_details"
         ],
         "xaxis": "x",
         "y": [
          0.07049685259999999,
          0.0675981244,
          0.0674891077,
          0.0598840731,
          0.0588162946,
          0.0554414908,
          0.0497401154,
          0.0445372745,
          0.0427923383,
          0.0418031675,
          0.041358696,
          0.040686186,
          0.0399561065,
          0.038170071,
          0.0368399667,
          0.035087544500000005,
          0.0335565296,
          0.033081287200000004,
          0.0318683236,
          0.0295383658,
          0.0280600915,
          0.026753515800000002,
          0.025501898500000002,
          0.025354913700000002,
          0.025277425099999997,
          0.0247250798,
          0.024621560499999997,
          0.024078217599999997,
          0.0239893919,
          0.0239723254,
          0.0239175818,
          0.023719755099999996,
          0.023542604300000002,
          0.0229212888,
          0.0228382731,
          0.0217577885,
          0.021676651800000002,
          0.0213897174,
          0.0213672437,
          0.0211526533,
          0.0202518027,
          0.0201106379,
          0.0200416157,
          0.0200300382,
          0.0199531313,
          0.019931564199999998,
          0.019674532800000002,
          0.018798231999999998,
          0.018380806200000002,
          0.0183432547,
          0.0182203419,
          0.0180279711,
          0.0180225406,
          0.0175444695,
          0.0173642803,
          -0.017125401000000002,
          0.0171195596,
          0.016594043500000003,
          0.0165610943,
          0.016547141,
          0.0162775827,
          0.01621334,
          0.0161506274,
          0.0161458235,
          0.0160654784,
          -0.015782716999999998,
          0.015453600900000001,
          0.0151754178,
          0.015165519399999999,
          0.015070380800000002,
          0.014888546899999999,
          0.014883031100000001,
          0.0148211856,
          0.0146249864,
          -0.014568171999999999,
          0.0145491927,
          0.0144819422,
          0.01441876,
          0.0143280827,
          0.0143142727,
          -0.014284993999999999,
          0.0142807626,
          0.014230546299999999,
          0.0141396927,
          0.014067314,
          -0.01406467,
          -0.014059721,
          0.0136909171,
          0.0136867252,
          -0.013641778,
          -0.013623586000000002,
          0.013602597,
          0.013602597,
          0.0134128687,
          0.013344419299999999,
          0.013342808400000001,
          0.013299009799999999,
          0.0132831866,
          0.013188503600000002,
          0.013173626499999999
         ],
         "yaxis": "y"
        }
       ],
       "layout": {
        "barmode": "relative",
        "height": 600,
        "legend": {
         "tracegroupgap": 0
        },
        "template": {
         "data": {
          "bar": [
           {
            "error_x": {
             "color": "#2a3f5f"
            },
            "error_y": {
             "color": "#2a3f5f"
            },
            "marker": {
             "line": {
              "color": "#E5ECF6",
              "width": 0.5
             }
            },
            "type": "bar"
           }
          ],
          "barpolar": [
           {
            "marker": {
             "line": {
              "color": "#E5ECF6",
              "width": 0.5
             }
            },
            "type": "barpolar"
           }
          ],
          "carpet": [
           {
            "aaxis": {
             "endlinecolor": "#2a3f5f",
             "gridcolor": "white",
             "linecolor": "white",
             "minorgridcolor": "white",
             "startlinecolor": "#2a3f5f"
            },
            "baxis": {
             "endlinecolor": "#2a3f5f",
             "gridcolor": "white",
             "linecolor": "white",
             "minorgridcolor": "white",
             "startlinecolor": "#2a3f5f"
            },
            "type": "carpet"
           }
          ],
          "choropleth": [
           {
            "colorbar": {
             "outlinewidth": 0,
             "ticks": ""
            },
            "type": "choropleth"
           }
          ],
          "contour": [
           {
            "colorbar": {
             "outlinewidth": 0,
             "ticks": ""
            },
            "colorscale": [
             [
              0,
              "#0d0887"
             ],
             [
              0.1111111111111111,
              "#46039f"
             ],
             [
              0.2222222222222222,
              "#7201a8"
             ],
             [
              0.3333333333333333,
              "#9c179e"
             ],
             [
              0.4444444444444444,
              "#bd3786"
             ],
             [
              0.5555555555555556,
              "#d8576b"
             ],
             [
              0.6666666666666666,
              "#ed7953"
             ],
             [
              0.7777777777777778,
              "#fb9f3a"
             ],
             [
              0.8888888888888888,
              "#fdca26"
             ],
             [
              1,
              "#f0f921"
             ]
            ],
            "type": "contour"
           }
          ],
          "contourcarpet": [
           {
            "colorbar": {
             "outlinewidth": 0,
             "ticks": ""
            },
            "type": "contourcarpet"
           }
          ],
          "heatmap": [
           {
            "colorbar": {
             "outlinewidth": 0,
             "ticks": ""
            },
            "colorscale": [
             [
              0,
              "#0d0887"
             ],
             [
              0.1111111111111111,
              "#46039f"
             ],
             [
              0.2222222222222222,
              "#7201a8"
             ],
             [
              0.3333333333333333,
              "#9c179e"
             ],
             [
              0.4444444444444444,
              "#bd3786"
             ],
             [
              0.5555555555555556,
              "#d8576b"
             ],
             [
              0.6666666666666666,
              "#ed7953"
             ],
             [
              0.7777777777777778,
              "#fb9f3a"
             ],
             [
              0.8888888888888888,
              "#fdca26"
             ],
             [
              1,
              "#f0f921"
             ]
            ],
            "type": "heatmap"
           }
          ],
          "heatmapgl": [
           {
            "colorbar": {
             "outlinewidth": 0,
             "ticks": ""
            },
            "colorscale": [
             [
              0,
              "#0d0887"
             ],
             [
              0.1111111111111111,
              "#46039f"
             ],
             [
              0.2222222222222222,
              "#7201a8"
             ],
             [
              0.3333333333333333,
              "#9c179e"
             ],
             [
              0.4444444444444444,
              "#bd3786"
             ],
             [
              0.5555555555555556,
              "#d8576b"
             ],
             [
              0.6666666666666666,
              "#ed7953"
             ],
             [
              0.7777777777777778,
              "#fb9f3a"
             ],
             [
              0.8888888888888888,
              "#fdca26"
             ],
             [
              1,
              "#f0f921"
             ]
            ],
            "type": "heatmapgl"
           }
          ],
          "histogram": [
           {
            "marker": {
             "colorbar": {
              "outlinewidth": 0,
              "ticks": ""
             }
            },
            "type": "histogram"
           }
          ],
          "histogram2d": [
           {
            "colorbar": {
             "outlinewidth": 0,
             "ticks": ""
            },
            "colorscale": [
             [
              0,
              "#0d0887"
             ],
             [
              0.1111111111111111,
              "#46039f"
             ],
             [
              0.2222222222222222,
              "#7201a8"
             ],
             [
              0.3333333333333333,
              "#9c179e"
             ],
             [
              0.4444444444444444,
              "#bd3786"
             ],
             [
              0.5555555555555556,
              "#d8576b"
             ],
             [
              0.6666666666666666,
              "#ed7953"
             ],
             [
              0.7777777777777778,
              "#fb9f3a"
             ],
             [
              0.8888888888888888,
              "#fdca26"
             ],
             [
              1,
              "#f0f921"
             ]
            ],
            "type": "histogram2d"
           }
          ],
          "histogram2dcontour": [
           {
            "colorbar": {
             "outlinewidth": 0,
             "ticks": ""
            },
            "colorscale": [
             [
              0,
              "#0d0887"
             ],
             [
              0.1111111111111111,
              "#46039f"
             ],
             [
              0.2222222222222222,
              "#7201a8"
             ],
             [
              0.3333333333333333,
              "#9c179e"
             ],
             [
              0.4444444444444444,
              "#bd3786"
             ],
             [
              0.5555555555555556,
              "#d8576b"
             ],
             [
              0.6666666666666666,
              "#ed7953"
             ],
             [
              0.7777777777777778,
              "#fb9f3a"
             ],
             [
              0.8888888888888888,
              "#fdca26"
             ],
             [
              1,
              "#f0f921"
             ]
            ],
            "type": "histogram2dcontour"
           }
          ],
          "mesh3d": [
           {
            "colorbar": {
             "outlinewidth": 0,
             "ticks": ""
            },
            "type": "mesh3d"
           }
          ],
          "parcoords": [
           {
            "line": {
             "colorbar": {
              "outlinewidth": 0,
              "ticks": ""
             }
            },
            "type": "parcoords"
           }
          ],
          "scatter": [
           {
            "marker": {
             "colorbar": {
              "outlinewidth": 0,
              "ticks": ""
             }
            },
            "type": "scatter"
           }
          ],
          "scatter3d": [
           {
            "line": {
             "colorbar": {
              "outlinewidth": 0,
              "ticks": ""
             }
            },
            "marker": {
             "colorbar": {
              "outlinewidth": 0,
              "ticks": ""
             }
            },
            "type": "scatter3d"
           }
          ],
          "scattercarpet": [
           {
            "marker": {
             "colorbar": {
              "outlinewidth": 0,
              "ticks": ""
             }
            },
            "type": "scattercarpet"
           }
          ],
          "scattergeo": [
           {
            "marker": {
             "colorbar": {
              "outlinewidth": 0,
              "ticks": ""
             }
            },
            "type": "scattergeo"
           }
          ],
          "scattergl": [
           {
            "marker": {
             "colorbar": {
              "outlinewidth": 0,
              "ticks": ""
             }
            },
            "type": "scattergl"
           }
          ],
          "scattermapbox": [
           {
            "marker": {
             "colorbar": {
              "outlinewidth": 0,
              "ticks": ""
             }
            },
            "type": "scattermapbox"
           }
          ],
          "scatterpolar": [
           {
            "marker": {
             "colorbar": {
              "outlinewidth": 0,
              "ticks": ""
             }
            },
            "type": "scatterpolar"
           }
          ],
          "scatterpolargl": [
           {
            "marker": {
             "colorbar": {
              "outlinewidth": 0,
              "ticks": ""
             }
            },
            "type": "scatterpolargl"
           }
          ],
          "scatterternary": [
           {
            "marker": {
             "colorbar": {
              "outlinewidth": 0,
              "ticks": ""
             }
            },
            "type": "scatterternary"
           }
          ],
          "surface": [
           {
            "colorbar": {
             "outlinewidth": 0,
             "ticks": ""
            },
            "colorscale": [
             [
              0,
              "#0d0887"
             ],
             [
              0.1111111111111111,
              "#46039f"
             ],
             [
              0.2222222222222222,
              "#7201a8"
             ],
             [
              0.3333333333333333,
              "#9c179e"
             ],
             [
              0.4444444444444444,
              "#bd3786"
             ],
             [
              0.5555555555555556,
              "#d8576b"
             ],
             [
              0.6666666666666666,
              "#ed7953"
             ],
             [
              0.7777777777777778,
              "#fb9f3a"
             ],
             [
              0.8888888888888888,
              "#fdca26"
             ],
             [
              1,
              "#f0f921"
             ]
            ],
            "type": "surface"
           }
          ],
          "table": [
           {
            "cells": {
             "fill": {
              "color": "#EBF0F8"
             },
             "line": {
              "color": "white"
             }
            },
            "header": {
             "fill": {
              "color": "#C8D4E3"
             },
             "line": {
              "color": "white"
             }
            },
            "type": "table"
           }
          ]
         },
         "layout": {
          "annotationdefaults": {
           "arrowcolor": "#2a3f5f",
           "arrowhead": 0,
           "arrowwidth": 1
          },
          "colorscale": {
           "diverging": [
            [
             0,
             "#8e0152"
            ],
            [
             0.1,
             "#c51b7d"
            ],
            [
             0.2,
             "#de77ae"
            ],
            [
             0.3,
             "#f1b6da"
            ],
            [
             0.4,
             "#fde0ef"
            ],
            [
             0.5,
             "#f7f7f7"
            ],
            [
             0.6,
             "#e6f5d0"
            ],
            [
             0.7,
             "#b8e186"
            ],
            [
             0.8,
             "#7fbc41"
            ],
            [
             0.9,
             "#4d9221"
            ],
            [
             1,
             "#276419"
            ]
           ],
           "sequential": [
            [
             0,
             "#0d0887"
            ],
            [
             0.1111111111111111,
             "#46039f"
            ],
            [
             0.2222222222222222,
             "#7201a8"
            ],
            [
             0.3333333333333333,
             "#9c179e"
            ],
            [
             0.4444444444444444,
             "#bd3786"
            ],
            [
             0.5555555555555556,
             "#d8576b"
            ],
            [
             0.6666666666666666,
             "#ed7953"
            ],
            [
             0.7777777777777778,
             "#fb9f3a"
            ],
            [
             0.8888888888888888,
             "#fdca26"
            ],
            [
             1,
             "#f0f921"
            ]
           ],
           "sequentialminus": [
            [
             0,
             "#0d0887"
            ],
            [
             0.1111111111111111,
             "#46039f"
            ],
            [
             0.2222222222222222,
             "#7201a8"
            ],
            [
             0.3333333333333333,
             "#9c179e"
            ],
            [
             0.4444444444444444,
             "#bd3786"
            ],
            [
             0.5555555555555556,
             "#d8576b"
            ],
            [
             0.6666666666666666,
             "#ed7953"
            ],
            [
             0.7777777777777778,
             "#fb9f3a"
            ],
            [
             0.8888888888888888,
             "#fdca26"
            ],
            [
             1,
             "#f0f921"
            ]
           ]
          },
          "colorway": [
           "#636efa",
           "#EF553B",
           "#00cc96",
           "#ab63fa",
           "#FFA15A",
           "#19d3f3",
           "#FF6692",
           "#B6E880",
           "#FF97FF",
           "#FECB52"
          ],
          "font": {
           "color": "#2a3f5f"
          },
          "geo": {
           "bgcolor": "white",
           "lakecolor": "white",
           "landcolor": "#E5ECF6",
           "showlakes": true,
           "showland": true,
           "subunitcolor": "white"
          },
          "hoverlabel": {
           "align": "left"
          },
          "hovermode": "closest",
          "mapbox": {
           "style": "light"
          },
          "paper_bgcolor": "white",
          "plot_bgcolor": "#E5ECF6",
          "polar": {
           "angularaxis": {
            "gridcolor": "white",
            "linecolor": "white",
            "ticks": ""
           },
           "bgcolor": "#E5ECF6",
           "radialaxis": {
            "gridcolor": "white",
            "linecolor": "white",
            "ticks": ""
           }
          },
          "scene": {
           "xaxis": {
            "backgroundcolor": "#E5ECF6",
            "gridcolor": "white",
            "gridwidth": 2,
            "linecolor": "white",
            "showbackground": true,
            "ticks": "",
            "zerolinecolor": "white"
           },
           "yaxis": {
            "backgroundcolor": "#E5ECF6",
            "gridcolor": "white",
            "gridwidth": 2,
            "linecolor": "white",
            "showbackground": true,
            "ticks": "",
            "zerolinecolor": "white"
           },
           "zaxis": {
            "backgroundcolor": "#E5ECF6",
            "gridcolor": "white",
            "gridwidth": 2,
            "linecolor": "white",
            "showbackground": true,
            "ticks": "",
            "zerolinecolor": "white"
           }
          },
          "shapedefaults": {
           "line": {
            "color": "#2a3f5f"
           }
          },
          "ternary": {
           "aaxis": {
            "gridcolor": "white",
            "linecolor": "white",
            "ticks": ""
           },
           "baxis": {
            "gridcolor": "white",
            "linecolor": "white",
            "ticks": ""
           },
           "bgcolor": "#E5ECF6",
           "caxis": {
            "gridcolor": "white",
            "linecolor": "white",
            "ticks": ""
           }
          },
          "title": {
           "x": 0.05
          },
          "xaxis": {
           "automargin": true,
           "gridcolor": "white",
           "linecolor": "white",
           "ticks": "",
           "zerolinecolor": "white",
           "zerolinewidth": 2
          },
          "yaxis": {
           "automargin": true,
           "gridcolor": "white",
           "linecolor": "white",
           "ticks": "",
           "zerolinecolor": "white",
           "zerolinewidth": 2
          }
         }
        },
        "title": {
         "text": "Gram_size=3"
        },
        "xaxis": {
         "anchor": "y",
         "domain": [
          0,
          0.98
         ],
         "title": {
          "text": "rec_name"
         }
        },
        "yaxis": {
         "anchor": "x",
         "domain": [
          0,
          1
         ],
         "title": {
          "text": "attrited"
         }
        }
       }
      },
      "text/html": [
       "<div>\n",
       "        \n",
       "        \n",
       "            <div id=\"e6f1e1d4-e911-417f-ac22-f14cde3a01cc\" class=\"plotly-graph-div\" style=\"height:600px; width:100%;\"></div>\n",
       "            <script type=\"text/javascript\">\n",
       "                require([\"plotly\"], function(Plotly) {\n",
       "                    window.PLOTLYENV=window.PLOTLYENV || {};\n",
       "                    \n",
       "                if (document.getElementById(\"e6f1e1d4-e911-417f-ac22-f14cde3a01cc\")) {\n",
       "                    Plotly.newPlot(\n",
       "                        'e6f1e1d4-e911-417f-ac22-f14cde3a01cc',\n",
       "                        [{\"alignmentgroup\": \"True\", \"hoverlabel\": {\"namelength\": 0}, \"hovertemplate\": \"rec_name=%{x}<br>attrited=%{y}\", \"legendgroup\": \"\", \"marker\": {\"color\": \"#636efa\"}, \"name\": \"\", \"offsetgroup\": \"\", \"orientation\": \"v\", \"showlegend\": false, \"textposition\": \"auto\", \"type\": \"bar\", \"x\": [\"done_fulfill/complete.customercontact.salesandservicelead+done.directbankingcontact.manualauthentication+arrival_event\", \"arrival_event+transferred_to_agentsuccessful_transfer_with_cti_data.+ivr_session_endall_other_request\", \"departure_event+done_fulfill/complete.customercontact.salesandservicelead+done.directbankingcontact.manualauthentication\", \"deposit_debit_10+dr_10_branch_initiated_-_curdate+dr_blank_withdrawal\", \"done.directbankingcontact.manualauthentication+arrival_event+transferred_to_agentsuccessful_transfer_with_cti_data.\", \"open_7_-_misc_amends_(amdafls)+inquiries_account_details+inquiries_3_linked_accounts\", \"credit_10_reverse_charge+spcl_20_amend_account_status_transaction+inquiries_14_account_details\", \"withdrawal+dr_blank_withdrawal+inquiries_transaction_history\", \"withdrawal+dr_blank_withdrawal+departure_event\", \"done_fulfill/complete.customercontact.salesandservicelead+departure_event+done.directbankingcontact.manualauthentication\", \"transferred_to_agentsuccessful_transfer_with_cti_data.+ivr_session_endall_other_request+authentication_challengessuccess\", \"inquiries_transaction_history+withdrawal+dr_blank_withdrawal\", \"ivr_session_endall_other_request+authentication_challengessuccess+authentication_card_numbersuccess\", \"deposit_debit_10+dr_10_branch_initiated_-_curdate+inquiries_transaction_history\", \"cr_10_branch_initiated_-_curdate+spcl_20_amend_account_status_transaction+inquiries_14_account_details\", \"departure_event+done.directbankingcontact.manualauthentication+arrival_event\", \"departure_event+closed.accountadministration.bmo.com-present_id_at_branch+arrival_event\", \"done.directbankingcontact.+arrival_event+transferred_to_agentsuccessful_transfer_with_cti_data.\", \"authentication_challengessuccess+authentication_card_numbersuccess+ivr_session_start_\", \"dr_blank_withdrawal+departure_event+arrival_event\", \"credit_10_reverse_charge+inquiries_transaction_history+departure_event\", \"inquiries_account_balance+deposit_debit_10+dr_10_branch_initiated_-_curdate\", \"inquiries_transaction_history+departure_event+arrival_event\", \"done_decline.customercontact.salesandservicelead+done.directbankingcontact.manualauthentication+arrival_event\", \"deposit_debit_10+dr_10_branch_initiated_-_curdate+inquiries_account_details\", \"departure_event+done_fulfill/complete.customercontact.salesandservicelead+done.directbankingcontact.\", \"done_fulfill/complete.customercontact.salesandservicelead+departure_event+done.directbankingcontact.\", \"done.directbankingcontact.outboundfollow-up+arrival_event+departure_event\", \"dr_blank_withdrawal+inquiries_transaction_history+departure_event\", \"arrival_event+transferred_to_agentsuccessful_transfer_with_cti_data.+ivr_session_endauthentication_failed\", \"departure_event+arrival_event+departure_event\", \"departure_event+closed.non-financialtransactions.other_non-financials+arrival_event\", \"inquiries_transaction_history+deposit_debit_10+dr_10_branch_initiated_-_curdate\", \"done_fulfill/complete.customercontact.salesandservicelead+done.directbankingcontact.+arrival_event\", \"arrival_event+departure_event+arrival_event\", \"done.directbankingcontact.manualauthentication+transferred_to_agentsuccessful_transfer_with_cti_data.+ivr_session_endall_other_request\", \"closed.non-financialtransactions.other_non-financials+arrival_event+departure_event\", \"spcl_20_amend_account_status_transaction+inquiries_14_account_details+departure_event\", \"deposit_debit_10+dr_10_branch_initiated_-_curdate+tfr_11_customer_initiated_-_curdate\", \"deposit_debit_10+dr_10_branch_initiated_-_curdate+departure_event\", \"deposit_debit_10+dr_10_branch_initiated_-_curdate+inquiries_account_balance\", \"arrival_event+deposit_debit_10+dr_10_branch_initiated_-_curdate\", \"cr_10_branch_initiated_-_curdate+inquiries_transaction_history+departure_event\", \"transfer_mech_accounts+tfr_11_customer_initiated_-_curdate+inquiries_account_details\", \"transfer_mech_accounts+tfr_11_customer_initiated_-_curdate+inquiries_transaction_history\", \"spcl_20_amend_account_status_transaction+inquiries_14_account_details+inquiries_account_details\", \"departure_event+arrival_event+transferred_to_agentsuccessful_transfer_with_cti_data.\", \"closed.accountadministration.bmo.com-present_id_at_branch+arrival_event+departure_event\", \"spcl_20_amend_account_status_transaction+inquiries_14_account_details+inquiries_transaction_history\", \"inquiries_14_account_details+inquiries_transaction_history+departure_event\", \"cr_10_branch_initiated_-_curdate+departure_event+arrival_event\", \"tfr_11_customer_initiated_-_curdate+inquiries_transaction_history+departure_event\", \"departure_event+open.customernote.accountoperation+arrival_event\", \"inquiries_account_details+deposit_debit_10+dr_10_branch_initiated_-_curdate\", \"authentication_card_numbersuccess+ivr_session_start_+triad_cda\", \"signout+getfeatureconfigurations+getappconfig\", \"inquiries_14_account_details+departure_event+arrival_event\", \"departure_event+arrival_event+credit_10_reverse_charge\", \"transfer_mech_accounts+tfr_11_customer_initiated_-_curdate+departure_event\", \"arrival_event+done.directbankingcontact.manualauthentication+arrival_event\", \"inquiries_account_details+departure_event+arrival_event\", \"deposit_debit_10+dr_10_branch_initiated_-_curdate+credit_10_reverse_charge\", \"departure_event+done.directbankingcontact.outboundfollow-up+arrival_event\", \"departure_event+arrival_event+cr_10_branch_initiated_-_curdate\", \"dr_10_branch_initiated_-_curdate+departure_event+arrival_event\", \"getbannerad+initotpsession+isotppilotenabled\", \"open.customernote.accountoperation+arrival_event+departure_event\", \"credit_10_reverse_charge+cr_10_branch_initiated_-_curdate+inquiries_transaction_history\", \"done.directbankingcontact.manualauthentication+arrival_event+triad_cda\", \"departure_event+done.directbankingcontact.+arrival_event\", \"departure_event+open.non-financialtransactions.other_non-financials+arrival_event\", \"arrival_event+mps_-_mid-tier_plan_linkage+moa_-_mid-tier_account_open\", \"departure_event+open.creditcard.credit_card_processing+arrival_event\", \"deposit+deposit_debit_10+dr_10_branch_initiated_-_curdate\", \"keepalive+getbannerad+initotpsession\", \"departure_event+arrival_event+done.directbankingcontact.manualauthentication\", \"departure_event+closed.loans.line_of_credit_processing+arrival_event\", \"inquiries_transaction_history+inquiries_account_details+departure_event\", \"inquiries_14_account_details+spcl_20_amend_account_status_transaction+inquiries_14_account_details\", \"departure_event+done_decline.customercontact.salesandservicelead+done.directbankingcontact.manualauthentication\", \"isotppilotenabled+login_success+activateuserrealms\", \"departure_event+closed.investigations.customer_complaint+arrival_event\", \"deposit_debit_10+dr_10_branch_initiated_-_curdate+transfer_mech_accounts\", \"done_fulfill/complete.customercontact.salesandservicelead+done_decline.customercontact.salesandservicelead+done.directbankingcontact.manualauthentication\", \"inquiries_account_details+inquiries_transaction_history+departure_event\", \"arrival_event+unofficial_payoff_request+signout\", \"unofficial_payoff_request+signout+getfeatureconfigurations\", \"departure_event+arrival_event+mps_-_mid-tier_plan_linkage\", \"dr_10_branch_initiated_-_curdate+deposit_debit_10+dr_10_branch_initiated_-_curdate\", \"login_success+activateuserrealms+arrival_event\", \"initotpsession+isotppilotenabled+login_success\", \"done_fulfill/complete.customercontact.salesandservicelead+done.directbankingcontact.manualauthentication+done.directbankingcontact.\", \"arrival_event+open_7_-_misc_amends_(amdafls)+inquiries_account_details\", \"inquiries_14_account_details+inquiries_account_details+departure_event\", \"arrival_event+authentication_card_numbersuccess+ivr_session_start_\", \"arrival_event+transferred_to_agentsuccessful_transfer_with_cti_data.+ivr_session_endone_transaction\", \"inquiries_account_balance+departure_event+arrival_event\", \"spcl_20_amend_account_status_transaction+inquiries_14_account_details+spcl_20_amend_account_status_transaction\", \"inquiries_transaction_history+spcl_20_amend_account_status_transaction+inquiries_14_account_details\", \"tfr_11_customer_initiated_-_curdate+inquiries_transaction_history+inquiries_account_details\"], \"xaxis\": \"x\", \"y\": [0.07049685259999999, 0.0675981244, 0.0674891077, 0.0598840731, 0.0588162946, 0.0554414908, 0.0497401154, 0.0445372745, 0.0427923383, 0.0418031675, 0.041358696, 0.040686186, 0.0399561065, 0.038170071, 0.0368399667, 0.035087544500000005, 0.0335565296, 0.033081287200000004, 0.0318683236, 0.0295383658, 0.0280600915, 0.026753515800000002, 0.025501898500000002, 0.025354913700000002, 0.025277425099999997, 0.0247250798, 0.024621560499999997, 0.024078217599999997, 0.0239893919, 0.0239723254, 0.0239175818, 0.023719755099999996, 0.023542604300000002, 0.0229212888, 0.0228382731, 0.0217577885, 0.021676651800000002, 0.0213897174, 0.0213672437, 0.0211526533, 0.0202518027, 0.0201106379, 0.0200416157, 0.0200300382, 0.0199531313, 0.019931564199999998, 0.019674532800000002, 0.018798231999999998, 0.018380806200000002, 0.0183432547, 0.0182203419, 0.0180279711, 0.0180225406, 0.0175444695, 0.0173642803, -0.017125401000000002, 0.0171195596, 0.016594043500000003, 0.0165610943, 0.016547141, 0.0162775827, 0.01621334, 0.0161506274, 0.0161458235, 0.0160654784, -0.015782716999999998, 0.015453600900000001, 0.0151754178, 0.015165519399999999, 0.015070380800000002, 0.014888546899999999, 0.014883031100000001, 0.0148211856, 0.0146249864, -0.014568171999999999, 0.0145491927, 0.0144819422, 0.01441876, 0.0143280827, 0.0143142727, -0.014284993999999999, 0.0142807626, 0.014230546299999999, 0.0141396927, 0.014067314, -0.01406467, -0.014059721, 0.0136909171, 0.0136867252, -0.013641778, -0.013623586000000002, 0.013602597, 0.013602597, 0.0134128687, 0.013344419299999999, 0.013342808400000001, 0.013299009799999999, 0.0132831866, 0.013188503600000002, 0.013173626499999999], \"yaxis\": \"y\"}],\n",
       "                        {\"barmode\": \"relative\", \"height\": 600, \"legend\": {\"tracegroupgap\": 0}, \"template\": {\"data\": {\"bar\": [{\"error_x\": {\"color\": \"#2a3f5f\"}, \"error_y\": {\"color\": \"#2a3f5f\"}, \"marker\": {\"line\": {\"color\": \"#E5ECF6\", \"width\": 0.5}}, \"type\": \"bar\"}], \"barpolar\": [{\"marker\": {\"line\": {\"color\": \"#E5ECF6\", \"width\": 0.5}}, \"type\": \"barpolar\"}], \"carpet\": [{\"aaxis\": {\"endlinecolor\": \"#2a3f5f\", \"gridcolor\": \"white\", \"linecolor\": \"white\", \"minorgridcolor\": \"white\", \"startlinecolor\": \"#2a3f5f\"}, \"baxis\": {\"endlinecolor\": \"#2a3f5f\", \"gridcolor\": \"white\", \"linecolor\": \"white\", \"minorgridcolor\": \"white\", \"startlinecolor\": \"#2a3f5f\"}, \"type\": \"carpet\"}], \"choropleth\": [{\"colorbar\": {\"outlinewidth\": 0, \"ticks\": \"\"}, \"type\": \"choropleth\"}], \"contour\": [{\"colorbar\": {\"outlinewidth\": 0, \"ticks\": \"\"}, \"colorscale\": [[0.0, \"#0d0887\"], [0.1111111111111111, \"#46039f\"], [0.2222222222222222, \"#7201a8\"], [0.3333333333333333, \"#9c179e\"], [0.4444444444444444, \"#bd3786\"], [0.5555555555555556, \"#d8576b\"], [0.6666666666666666, \"#ed7953\"], [0.7777777777777778, \"#fb9f3a\"], [0.8888888888888888, \"#fdca26\"], [1.0, \"#f0f921\"]], \"type\": \"contour\"}], \"contourcarpet\": [{\"colorbar\": {\"outlinewidth\": 0, \"ticks\": \"\"}, \"type\": \"contourcarpet\"}], \"heatmap\": [{\"colorbar\": {\"outlinewidth\": 0, \"ticks\": \"\"}, \"colorscale\": [[0.0, \"#0d0887\"], [0.1111111111111111, \"#46039f\"], [0.2222222222222222, \"#7201a8\"], [0.3333333333333333, \"#9c179e\"], [0.4444444444444444, \"#bd3786\"], [0.5555555555555556, \"#d8576b\"], [0.6666666666666666, \"#ed7953\"], [0.7777777777777778, \"#fb9f3a\"], [0.8888888888888888, \"#fdca26\"], [1.0, \"#f0f921\"]], \"type\": \"heatmap\"}], \"heatmapgl\": [{\"colorbar\": {\"outlinewidth\": 0, \"ticks\": \"\"}, \"colorscale\": [[0.0, \"#0d0887\"], [0.1111111111111111, \"#46039f\"], [0.2222222222222222, \"#7201a8\"], [0.3333333333333333, \"#9c179e\"], [0.4444444444444444, \"#bd3786\"], [0.5555555555555556, \"#d8576b\"], [0.6666666666666666, \"#ed7953\"], [0.7777777777777778, \"#fb9f3a\"], [0.8888888888888888, \"#fdca26\"], [1.0, \"#f0f921\"]], \"type\": \"heatmapgl\"}], \"histogram\": [{\"marker\": {\"colorbar\": {\"outlinewidth\": 0, \"ticks\": \"\"}}, \"type\": \"histogram\"}], \"histogram2d\": [{\"colorbar\": {\"outlinewidth\": 0, \"ticks\": \"\"}, \"colorscale\": [[0.0, \"#0d0887\"], [0.1111111111111111, \"#46039f\"], [0.2222222222222222, \"#7201a8\"], [0.3333333333333333, \"#9c179e\"], [0.4444444444444444, \"#bd3786\"], [0.5555555555555556, \"#d8576b\"], [0.6666666666666666, \"#ed7953\"], [0.7777777777777778, \"#fb9f3a\"], [0.8888888888888888, \"#fdca26\"], [1.0, \"#f0f921\"]], \"type\": \"histogram2d\"}], \"histogram2dcontour\": [{\"colorbar\": {\"outlinewidth\": 0, \"ticks\": \"\"}, \"colorscale\": [[0.0, \"#0d0887\"], [0.1111111111111111, \"#46039f\"], [0.2222222222222222, \"#7201a8\"], [0.3333333333333333, \"#9c179e\"], [0.4444444444444444, \"#bd3786\"], [0.5555555555555556, \"#d8576b\"], [0.6666666666666666, \"#ed7953\"], [0.7777777777777778, \"#fb9f3a\"], [0.8888888888888888, \"#fdca26\"], [1.0, \"#f0f921\"]], \"type\": \"histogram2dcontour\"}], \"mesh3d\": [{\"colorbar\": {\"outlinewidth\": 0, \"ticks\": \"\"}, \"type\": \"mesh3d\"}], \"parcoords\": [{\"line\": {\"colorbar\": {\"outlinewidth\": 0, \"ticks\": \"\"}}, \"type\": \"parcoords\"}], \"scatter\": [{\"marker\": {\"colorbar\": {\"outlinewidth\": 0, \"ticks\": \"\"}}, \"type\": \"scatter\"}], \"scatter3d\": [{\"line\": {\"colorbar\": {\"outlinewidth\": 0, \"ticks\": \"\"}}, \"marker\": {\"colorbar\": {\"outlinewidth\": 0, \"ticks\": \"\"}}, \"type\": \"scatter3d\"}], \"scattercarpet\": [{\"marker\": {\"colorbar\": {\"outlinewidth\": 0, \"ticks\": \"\"}}, \"type\": \"scattercarpet\"}], \"scattergeo\": [{\"marker\": {\"colorbar\": {\"outlinewidth\": 0, \"ticks\": \"\"}}, \"type\": \"scattergeo\"}], \"scattergl\": [{\"marker\": {\"colorbar\": {\"outlinewidth\": 0, \"ticks\": \"\"}}, \"type\": \"scattergl\"}], \"scattermapbox\": [{\"marker\": {\"colorbar\": {\"outlinewidth\": 0, \"ticks\": \"\"}}, \"type\": \"scattermapbox\"}], \"scatterpolar\": [{\"marker\": {\"colorbar\": {\"outlinewidth\": 0, \"ticks\": \"\"}}, \"type\": \"scatterpolar\"}], \"scatterpolargl\": [{\"marker\": {\"colorbar\": {\"outlinewidth\": 0, \"ticks\": \"\"}}, \"type\": \"scatterpolargl\"}], \"scatterternary\": [{\"marker\": {\"colorbar\": {\"outlinewidth\": 0, \"ticks\": \"\"}}, \"type\": \"scatterternary\"}], \"surface\": [{\"colorbar\": {\"outlinewidth\": 0, \"ticks\": \"\"}, \"colorscale\": [[0.0, \"#0d0887\"], [0.1111111111111111, \"#46039f\"], [0.2222222222222222, \"#7201a8\"], [0.3333333333333333, \"#9c179e\"], [0.4444444444444444, \"#bd3786\"], [0.5555555555555556, \"#d8576b\"], [0.6666666666666666, \"#ed7953\"], [0.7777777777777778, \"#fb9f3a\"], [0.8888888888888888, \"#fdca26\"], [1.0, \"#f0f921\"]], \"type\": \"surface\"}], \"table\": [{\"cells\": {\"fill\": {\"color\": \"#EBF0F8\"}, \"line\": {\"color\": \"white\"}}, \"header\": {\"fill\": {\"color\": \"#C8D4E3\"}, \"line\": {\"color\": \"white\"}}, \"type\": \"table\"}]}, \"layout\": {\"annotationdefaults\": {\"arrowcolor\": \"#2a3f5f\", \"arrowhead\": 0, \"arrowwidth\": 1}, \"colorscale\": {\"diverging\": [[0, \"#8e0152\"], [0.1, \"#c51b7d\"], [0.2, \"#de77ae\"], [0.3, \"#f1b6da\"], [0.4, \"#fde0ef\"], [0.5, \"#f7f7f7\"], [0.6, \"#e6f5d0\"], [0.7, \"#b8e186\"], [0.8, \"#7fbc41\"], [0.9, \"#4d9221\"], [1, \"#276419\"]], \"sequential\": [[0.0, \"#0d0887\"], [0.1111111111111111, \"#46039f\"], [0.2222222222222222, \"#7201a8\"], [0.3333333333333333, \"#9c179e\"], [0.4444444444444444, \"#bd3786\"], [0.5555555555555556, \"#d8576b\"], [0.6666666666666666, \"#ed7953\"], [0.7777777777777778, \"#fb9f3a\"], [0.8888888888888888, \"#fdca26\"], [1.0, \"#f0f921\"]], \"sequentialminus\": [[0.0, \"#0d0887\"], [0.1111111111111111, \"#46039f\"], [0.2222222222222222, \"#7201a8\"], [0.3333333333333333, \"#9c179e\"], [0.4444444444444444, \"#bd3786\"], [0.5555555555555556, \"#d8576b\"], [0.6666666666666666, \"#ed7953\"], [0.7777777777777778, \"#fb9f3a\"], [0.8888888888888888, \"#fdca26\"], [1.0, \"#f0f921\"]]}, \"colorway\": [\"#636efa\", \"#EF553B\", \"#00cc96\", \"#ab63fa\", \"#FFA15A\", \"#19d3f3\", \"#FF6692\", \"#B6E880\", \"#FF97FF\", \"#FECB52\"], \"font\": {\"color\": \"#2a3f5f\"}, \"geo\": {\"bgcolor\": \"white\", \"lakecolor\": \"white\", \"landcolor\": \"#E5ECF6\", \"showlakes\": true, \"showland\": true, \"subunitcolor\": \"white\"}, \"hoverlabel\": {\"align\": \"left\"}, \"hovermode\": \"closest\", \"mapbox\": {\"style\": \"light\"}, \"paper_bgcolor\": \"white\", \"plot_bgcolor\": \"#E5ECF6\", \"polar\": {\"angularaxis\": {\"gridcolor\": \"white\", \"linecolor\": \"white\", \"ticks\": \"\"}, \"bgcolor\": \"#E5ECF6\", \"radialaxis\": {\"gridcolor\": \"white\", \"linecolor\": \"white\", \"ticks\": \"\"}}, \"scene\": {\"xaxis\": {\"backgroundcolor\": \"#E5ECF6\", \"gridcolor\": \"white\", \"gridwidth\": 2, \"linecolor\": \"white\", \"showbackground\": true, \"ticks\": \"\", \"zerolinecolor\": \"white\"}, \"yaxis\": {\"backgroundcolor\": \"#E5ECF6\", \"gridcolor\": \"white\", \"gridwidth\": 2, \"linecolor\": \"white\", \"showbackground\": true, \"ticks\": \"\", \"zerolinecolor\": \"white\"}, \"zaxis\": {\"backgroundcolor\": \"#E5ECF6\", \"gridcolor\": \"white\", \"gridwidth\": 2, \"linecolor\": \"white\", \"showbackground\": true, \"ticks\": \"\", \"zerolinecolor\": \"white\"}}, \"shapedefaults\": {\"line\": {\"color\": \"#2a3f5f\"}}, \"ternary\": {\"aaxis\": {\"gridcolor\": \"white\", \"linecolor\": \"white\", \"ticks\": \"\"}, \"baxis\": {\"gridcolor\": \"white\", \"linecolor\": \"white\", \"ticks\": \"\"}, \"bgcolor\": \"#E5ECF6\", \"caxis\": {\"gridcolor\": \"white\", \"linecolor\": \"white\", \"ticks\": \"\"}}, \"title\": {\"x\": 0.05}, \"xaxis\": {\"automargin\": true, \"gridcolor\": \"white\", \"linecolor\": \"white\", \"ticks\": \"\", \"zerolinecolor\": \"white\", \"zerolinewidth\": 2}, \"yaxis\": {\"automargin\": true, \"gridcolor\": \"white\", \"linecolor\": \"white\", \"ticks\": \"\", \"zerolinecolor\": \"white\", \"zerolinewidth\": 2}}}, \"title\": {\"text\": \"Gram_size=3\"}, \"xaxis\": {\"anchor\": \"y\", \"domain\": [0.0, 0.98], \"title\": {\"text\": \"rec_name\"}}, \"yaxis\": {\"anchor\": \"x\", \"domain\": [0.0, 1.0], \"title\": {\"text\": \"attrited\"}}},\n",
       "                        {\"responsive\": true}\n",
       "                    ).then(function(){\n",
       "                            \n",
       "var gd = document.getElementById('e6f1e1d4-e911-417f-ac22-f14cde3a01cc');\n",
       "var x = new MutationObserver(function (mutations, observer) {{\n",
       "        var display = window.getComputedStyle(gd).display;\n",
       "        if (!display || display === 'none') {{\n",
       "            console.log([gd, 'removed!']);\n",
       "            Plotly.purge(gd);\n",
       "            observer.disconnect();\n",
       "        }}\n",
       "}});\n",
       "\n",
       "// Listen for the removal of the full notebook cells\n",
       "var notebookContainer = gd.closest('#notebook-container');\n",
       "if (notebookContainer) {{\n",
       "    x.observe(notebookContainer, {childList: true});\n",
       "}}\n",
       "\n",
       "// Listen for the clearing of the current output cell\n",
       "var outputEl = gd.closest('.output');\n",
       "if (outputEl) {{\n",
       "    x.observe(outputEl, {childList: true});\n",
       "}}\n",
       "\n",
       "                        })\n",
       "                };\n",
       "                });\n",
       "            </script>\n",
       "        </div>"
      ]
     },
     "metadata": {},
     "output_type": "display_data"
    }
   ],
   "source": [
    "fig = px.bar(univ[univ.grm_size==3], x=\"rec_name\", y=\"attrited\", orientation='v',title='Gram_size=3')\n",
    "\n",
    "fig.show()"
   ]
  },
  {
   "cell_type": "code",
   "execution_count": 97,
   "metadata": {},
   "outputs": [
    {
     "data": {
      "application/vnd.plotly.v1+json": {
       "config": {
        "plotlyServerURL": "https://plot.ly"
       },
       "data": [
        {
         "alignmentgroup": "True",
         "hoverlabel": {
          "namelength": 0
         },
         "hovertemplate": "rec_name=%{x}<br>attrited=%{y}",
         "legendgroup": "",
         "marker": {
          "color": "#636efa"
         },
         "name": "",
         "offsetgroup": "",
         "orientation": "v",
         "showlegend": false,
         "textposition": "auto",
         "type": "bar",
         "x": [
          "done_fulfill/complete.customercontact.salesandservicelead+done.directbankingcontact.manualauthentication+arrival_event+transferred_to_agentsuccessful_transfer_with_cti_data.",
          "departure_event+done_fulfill/complete.customercontact.salesandservicelead+done.directbankingcontact.manualauthentication+arrival_event",
          "done.directbankingcontact.manualauthentication+arrival_event+transferred_to_agentsuccessful_transfer_with_cti_data.+ivr_session_endall_other_request",
          "arrival_event+transferred_to_agentsuccessful_transfer_with_cti_data.+ivr_session_endall_other_request+authentication_challengessuccess",
          "done_fulfill/complete.customercontact.salesandservicelead+departure_event+done.directbankingcontact.manualauthentication+arrival_event",
          "ivr_session_endall_other_request+authentication_challengessuccess+authentication_card_numbersuccess+ivr_session_start_",
          "transferred_to_agentsuccessful_transfer_with_cti_data.+ivr_session_endall_other_request+authentication_challengessuccess+authentication_card_numbersuccess",
          "done_fulfill/complete.customercontact.salesandservicelead+done.directbankingcontact.+arrival_event+transferred_to_agentsuccessful_transfer_with_cti_data.",
          "withdrawal+dr_blank_withdrawal+departure_event+arrival_event",
          "departure_event+done.directbankingcontact.manualauthentication+arrival_event+transferred_to_agentsuccessful_transfer_with_cti_data.",
          "credit_10_reverse_charge+inquiries_transaction_history+departure_event+arrival_event",
          "done.directbankingcontact.+arrival_event+transferred_to_agentsuccessful_transfer_with_cti_data.+ivr_session_endall_other_request",
          "done.directbankingcontact.outboundfollow-up+arrival_event+departure_event+done.directbankingcontact.outboundfollow-up",
          "done_fulfill/complete.customercontact.salesandservicelead+departure_event+done.directbankingcontact.+arrival_event",
          "departure_event+arrival_event+transferred_to_agentsuccessful_transfer_with_cti_data.+ivr_session_endall_other_request",
          "departure_event+done_fulfill/complete.customercontact.salesandservicelead+done.directbankingcontact.+arrival_event",
          "done.directbankingcontact.+arrival_event+transferred_to_agentsuccessful_transfer_with_cti_data.+ivr_session_endauthentication_failed",
          "inquiries_transaction_history+departure_event+arrival_event+departure_event",
          "departure_event+closed.non-financialtransactions.other_non-financials+arrival_event+departure_event",
          "dr_blank_withdrawal+inquiries_transaction_history+departure_event+arrival_event",
          "done.directbankingcontact.manualauthentication+transferred_to_agentsuccessful_transfer_with_cti_data.+ivr_session_endall_other_request+authentication_challengessuccess",
          "departure_event+arrival_event+departure_event+arrival_event",
          "deposit_debit_10+dr_10_branch_initiated_-_curdate+departure_event+arrival_event",
          "departure_event+done.directbankingcontact.+arrival_event+transferred_to_agentsuccessful_transfer_with_cti_data.",
          "done.directbankingcontact.manualauthentication+done.directbankingcontact.+arrival_event+transferred_to_agentsuccessful_transfer_with_cti_data.",
          "dr_blank_withdrawal+departure_event+arrival_event+departure_event",
          "arrival_event+done.directbankingcontact.manualauthentication+arrival_event+transferred_to_agentsuccessful_transfer_with_cti_data.",
          "departure_event+done.directbankingcontact.outboundfollow-up+arrival_event+departure_event",
          "closed.non-financialtransactions.other_non-financials+arrival_event+departure_event+arrival_event",
          "arrival_event+departure_event+arrival_event+departure_event",
          "spcl_20_amend_account_status_transaction+inquiries_14_account_details+inquiries_account_details+departure_event",
          "cr_10_branch_initiated_-_curdate+inquiries_transaction_history+departure_event+arrival_event",
          "closed.accountadministration.bmo.com-present_id_at_branch+arrival_event+departure_event+arrival_event",
          "inquiries_14_account_details+inquiries_transaction_history+departure_event+arrival_event",
          "authentication_challengessuccess+authentication_card_numbersuccess+ivr_session_start_+triad_cda",
          "deposit_debit_10+dr_10_branch_initiated_-_curdate+inquiries_transaction_history+departure_event",
          "departure_event+closed.accountadministration.bmo.com-present_id_at_branch+arrival_event+departure_event",
          "arrival_event+transferred_to_agentsuccessful_transfer_with_cti_data.+ivr_session_endauthentication_failed+authentication_challengesmax_tries",
          "departure_event+done_decline.customercontact.salesandservicelead+done.directbankingcontact.manualauthentication+arrival_event",
          "departure_event+arrival_event+deposit_debit_10+dr_10_branch_initiated_-_curdate",
          "arrival_event+transferred_to_agentsuccessful_transfer_with_cti_data.+ivr_session_endauthentication_failed+authentication_challengessuccess",
          "spcl_20_amend_account_status_transaction+inquiries_14_account_details+inquiries_transaction_history+departure_event",
          "tfr_11_customer_initiated_-_curdate+inquiries_transaction_history+departure_event+arrival_event",
          "ivr_session_endall_other_request+authentication_challengessuccess+arrival_event+authentication_card_numbersuccess",
          "open.customernote.accountoperation+arrival_event+departure_event+arrival_event",
          "departure_event+open.customernote.accountoperation+arrival_event+departure_event",
          "departure_event+arrival_event+mps_-_mid-tier_plan_linkage+moa_-_mid-tier_account_open",
          "departure_event+done_fulfill/complete.customercontact.salesandservicelead+departure_event+done.directbankingcontact.manualauthentication",
          "unofficial_payoff_request+signout+getfeatureconfigurations+getappconfig",
          "transfer_mech_accounts+tfr_11_customer_initiated_-_curdate+departure_event+arrival_event",
          "arrival_event+unofficial_payoff_request+signout+getfeatureconfigurations",
          "keepalive+getbannerad+initotpsession+isotppilotenabled",
          "dr_10_branch_initiated_-_curdate+departure_event+arrival_event+departure_event",
          "inquiries_account_details+inquiries_transaction_history+departure_event+arrival_event",
          "initotpsession+isotppilotenabled+login_success+activateuserrealms",
          "isotppilotenabled+login_success+activateuserrealms+arrival_event",
          "done.directbankingcontact.manualauthentication+arrival_event+transferred_to_agentsuccessful_transfer_with_cti_data.+ivr_session_endzero_out_before_authentication",
          "spcl_20_amend_account_status_transaction+inquiries_14_account_details+spcl_20_amend_account_status_transaction+inquiries_14_account_details",
          "getbannerad+initotpsession+isotppilotenabled+login_success",
          "inquiries_account_details+departure_event+arrival_event+departure_event",
          "departure_event+arrival_event+done.directbankingcontact.manualauthentication+arrival_event",
          "signout+getfeatureconfigurations+getappconfig+inquiries_account_history",
          "departure_event+done.directbankingcontact.manualauthentication+arrival_event+triad_cda",
          "arrival_event+done.directbankingcontact.+arrival_event+transferred_to_agentsuccessful_transfer_with_cti_data.",
          "departure_event+arrival_event+departure_event+closed.non-financialtransactions.other_non-financials",
          "arrival_event+departure_event+arrival_event+transferred_to_agentsuccessful_transfer_with_cti_data.",
          "inquiries_transaction_history+departure_event+arrival_event+credit_10_reverse_charge",
          "departure_event+arrival_event+open_7_-_misc_amends_(amdafls)+inquiries_account_details",
          "inquiries_14_account_details+departure_event+arrival_event+departure_event",
          "deposit_debit_10+dr_10_branch_initiated_-_curdate+deposit_debit_10+dr_10_branch_initiated_-_curdate",
          "spcl_20_amend_account_status_transaction+inquiries_14_account_details+inquiries_transaction_history+inquiries_account_details",
          "cr_10_branch_initiated_-_curdate+departure_event+arrival_event+departure_event",
          "dr_10_branch_initiated_-_curdate+inquiries_transaction_history+departure_event+arrival_event",
          "arrival_event+departure_event+arrival_event+mps_-_mid-tier_plan_linkage",
          "login_success+activateuserrealms+arrival_event+unofficial_payoff_request",
          "activateuserrealms+arrival_event+unofficial_payoff_request+signout",
          "credit_10_reverse_charge+departure_event+arrival_event+departure_event",
          "arrival_event+departure_event+open.non-financialtransactions.other_non-financials+arrival_event",
          "inquiries_transaction_history+departure_event+arrival_event+inquiries_transaction_history",
          "initotpsession+isotppilotenabled+activateuserrealms+login_success",
          "isotppilotenabled+activateuserrealms+login_success+arrival_event",
          "inquiries_transaction_history+inquiries_account_details+departure_event+arrival_event",
          "spcl_20_amend_account_status_transaction+inquiries_14_account_details+departure_event+arrival_event",
          "inquiries_14_account_details+inquiries_account_details+departure_event+arrival_event",
          "inquiries_transaction_history+deposit_debit_10+dr_10_branch_initiated_-_curdate+inquiries_transaction_history",
          "inquiries_14_account_details+spcl_20_amend_account_status_transaction+inquiries_14_account_details+inquiries_transaction_history",
          "inquiries_14_account_details+departure_event+closed.non-financialtransactions.other_non-financials+arrival_event",
          "credit_10_reverse_charge+inquiries_transaction_history+inquiries_account_details+departure_event",
          "authentication_challengessuccess+authentication_card_numbersuccess+ivr_session_start_+departure_event",
          "credit_10_reverse_charge+deposit_debit_10+dr_10_branch_initiated_-_curdate+tfr_11_customer_initiated_-_curdate",
          "authentication_challengessuccess+arrival_event+authentication_card_numbersuccess+ivr_session_start_",
          "open.non-financialtransactions.other_non-financials+arrival_event+departure_event+arrival_event",
          "getbannerad+initotpsession+isotppilotenabled+activateuserrealms",
          "transfer_mech_accounts+tfr_11_customer_initiated_-_curdate+transfer_mech_accounts+tfr_11_customer_initiated_-_curdate",
          "departure_event+arrival_event+credit_10_reverse_charge+cr_10_branch_initiated_-_curdate",
          "departure_event+closed.investigations.customer_complaint+arrival_event+departure_event",
          "arrival_event+departure_event+closed.non-financialtransactions.other_non-financials+arrival_event",
          "departure_event+arrival_event+departure_event+open.non-financialtransactions.other_non-financials",
          "arrival_event+transferred_to_agentsuccessful_transfer_with_cti_data.+ivr_session_endzero_out_before_authentication+authentication_card_numberzero_out",
          "arrival_event+departure_event+arrival_event+cr_10_branch_initiated_-_curdate"
         ],
         "xaxis": "x",
         "y": [
          0.0843905788,
          0.0709248178,
          0.0670590454,
          0.0670333685,
          0.0415712987,
          0.0403140362,
          0.040268879900000006,
          0.040073521,
          0.039751577999999996,
          0.039457913,
          0.0317491942,
          0.0283534749,
          0.0250464834,
          0.0239847523,
          0.0236727242,
          0.0230091084,
          0.0221192473,
          0.021985693900000002,
          0.0219245359,
          0.0218618213,
          0.0218584747,
          0.0216700261,
          0.0215024663,
          0.0214377166,
          0.0213979713,
          0.0210097069,
          0.0209184501,
          0.019864224,
          0.0196962738,
          0.0196206635,
          0.019207035,
          0.0191155502,
          0.019109781399999998,
          0.0183415684,
          0.0182266037,
          0.0178526363,
          0.0167994071,
          0.016583641,
          0.0162892358,
          0.016105016899999998,
          0.0159796844,
          0.0156254537,
          0.015340456799999999,
          0.0148276865,
          0.0147524404,
          0.014643230600000001,
          0.0142308772,
          0.0141459439,
          -0.014073061000000001,
          0.014034425900000001,
          -0.014030262,
          -0.013992600000000001,
          0.0138670632,
          0.013672100800000002,
          -0.013615442,
          -0.013591468999999998,
          0.013457619799999999,
          0.0133228323,
          -0.01306429,
          0.013005766799999999,
          0.012920216299999999,
          -0.012890918999999999,
          0.0128087657,
          0.0127603298,
          0.012749714099999998,
          0.0126284182,
          0.012500816599999999,
          0.0123719659,
          0.0123697922,
          0.0123483133,
          0.0123401207,
          0.012261061100000002,
          0.012188508,
          0.0121705561,
          -0.012132529,
          -0.012126726,
          0.0120842643,
          0.011925124099999998,
          0.011853686200000001,
          -0.011814993999999999,
          -0.011696325,
          0.0116435136,
          0.0116404455,
          0.0115213792,
          0.0114146934,
          0.011400021599999999,
          0.011356918799999999,
          0.0113480825,
          0.0112966674,
          0.0112785054,
          0.0111730253,
          0.0111649498,
          -0.010919765,
          0.010818823799999999,
          0.010784408600000002,
          0.010779633500000002,
          0.0106459229,
          0.0105792196,
          0.010565498999999999,
          0.0104457764
         ],
         "yaxis": "y"
        }
       ],
       "layout": {
        "barmode": "relative",
        "height": 600,
        "legend": {
         "tracegroupgap": 0
        },
        "template": {
         "data": {
          "bar": [
           {
            "error_x": {
             "color": "#2a3f5f"
            },
            "error_y": {
             "color": "#2a3f5f"
            },
            "marker": {
             "line": {
              "color": "#E5ECF6",
              "width": 0.5
             }
            },
            "type": "bar"
           }
          ],
          "barpolar": [
           {
            "marker": {
             "line": {
              "color": "#E5ECF6",
              "width": 0.5
             }
            },
            "type": "barpolar"
           }
          ],
          "carpet": [
           {
            "aaxis": {
             "endlinecolor": "#2a3f5f",
             "gridcolor": "white",
             "linecolor": "white",
             "minorgridcolor": "white",
             "startlinecolor": "#2a3f5f"
            },
            "baxis": {
             "endlinecolor": "#2a3f5f",
             "gridcolor": "white",
             "linecolor": "white",
             "minorgridcolor": "white",
             "startlinecolor": "#2a3f5f"
            },
            "type": "carpet"
           }
          ],
          "choropleth": [
           {
            "colorbar": {
             "outlinewidth": 0,
             "ticks": ""
            },
            "type": "choropleth"
           }
          ],
          "contour": [
           {
            "colorbar": {
             "outlinewidth": 0,
             "ticks": ""
            },
            "colorscale": [
             [
              0,
              "#0d0887"
             ],
             [
              0.1111111111111111,
              "#46039f"
             ],
             [
              0.2222222222222222,
              "#7201a8"
             ],
             [
              0.3333333333333333,
              "#9c179e"
             ],
             [
              0.4444444444444444,
              "#bd3786"
             ],
             [
              0.5555555555555556,
              "#d8576b"
             ],
             [
              0.6666666666666666,
              "#ed7953"
             ],
             [
              0.7777777777777778,
              "#fb9f3a"
             ],
             [
              0.8888888888888888,
              "#fdca26"
             ],
             [
              1,
              "#f0f921"
             ]
            ],
            "type": "contour"
           }
          ],
          "contourcarpet": [
           {
            "colorbar": {
             "outlinewidth": 0,
             "ticks": ""
            },
            "type": "contourcarpet"
           }
          ],
          "heatmap": [
           {
            "colorbar": {
             "outlinewidth": 0,
             "ticks": ""
            },
            "colorscale": [
             [
              0,
              "#0d0887"
             ],
             [
              0.1111111111111111,
              "#46039f"
             ],
             [
              0.2222222222222222,
              "#7201a8"
             ],
             [
              0.3333333333333333,
              "#9c179e"
             ],
             [
              0.4444444444444444,
              "#bd3786"
             ],
             [
              0.5555555555555556,
              "#d8576b"
             ],
             [
              0.6666666666666666,
              "#ed7953"
             ],
             [
              0.7777777777777778,
              "#fb9f3a"
             ],
             [
              0.8888888888888888,
              "#fdca26"
             ],
             [
              1,
              "#f0f921"
             ]
            ],
            "type": "heatmap"
           }
          ],
          "heatmapgl": [
           {
            "colorbar": {
             "outlinewidth": 0,
             "ticks": ""
            },
            "colorscale": [
             [
              0,
              "#0d0887"
             ],
             [
              0.1111111111111111,
              "#46039f"
             ],
             [
              0.2222222222222222,
              "#7201a8"
             ],
             [
              0.3333333333333333,
              "#9c179e"
             ],
             [
              0.4444444444444444,
              "#bd3786"
             ],
             [
              0.5555555555555556,
              "#d8576b"
             ],
             [
              0.6666666666666666,
              "#ed7953"
             ],
             [
              0.7777777777777778,
              "#fb9f3a"
             ],
             [
              0.8888888888888888,
              "#fdca26"
             ],
             [
              1,
              "#f0f921"
             ]
            ],
            "type": "heatmapgl"
           }
          ],
          "histogram": [
           {
            "marker": {
             "colorbar": {
              "outlinewidth": 0,
              "ticks": ""
             }
            },
            "type": "histogram"
           }
          ],
          "histogram2d": [
           {
            "colorbar": {
             "outlinewidth": 0,
             "ticks": ""
            },
            "colorscale": [
             [
              0,
              "#0d0887"
             ],
             [
              0.1111111111111111,
              "#46039f"
             ],
             [
              0.2222222222222222,
              "#7201a8"
             ],
             [
              0.3333333333333333,
              "#9c179e"
             ],
             [
              0.4444444444444444,
              "#bd3786"
             ],
             [
              0.5555555555555556,
              "#d8576b"
             ],
             [
              0.6666666666666666,
              "#ed7953"
             ],
             [
              0.7777777777777778,
              "#fb9f3a"
             ],
             [
              0.8888888888888888,
              "#fdca26"
             ],
             [
              1,
              "#f0f921"
             ]
            ],
            "type": "histogram2d"
           }
          ],
          "histogram2dcontour": [
           {
            "colorbar": {
             "outlinewidth": 0,
             "ticks": ""
            },
            "colorscale": [
             [
              0,
              "#0d0887"
             ],
             [
              0.1111111111111111,
              "#46039f"
             ],
             [
              0.2222222222222222,
              "#7201a8"
             ],
             [
              0.3333333333333333,
              "#9c179e"
             ],
             [
              0.4444444444444444,
              "#bd3786"
             ],
             [
              0.5555555555555556,
              "#d8576b"
             ],
             [
              0.6666666666666666,
              "#ed7953"
             ],
             [
              0.7777777777777778,
              "#fb9f3a"
             ],
             [
              0.8888888888888888,
              "#fdca26"
             ],
             [
              1,
              "#f0f921"
             ]
            ],
            "type": "histogram2dcontour"
           }
          ],
          "mesh3d": [
           {
            "colorbar": {
             "outlinewidth": 0,
             "ticks": ""
            },
            "type": "mesh3d"
           }
          ],
          "parcoords": [
           {
            "line": {
             "colorbar": {
              "outlinewidth": 0,
              "ticks": ""
             }
            },
            "type": "parcoords"
           }
          ],
          "scatter": [
           {
            "marker": {
             "colorbar": {
              "outlinewidth": 0,
              "ticks": ""
             }
            },
            "type": "scatter"
           }
          ],
          "scatter3d": [
           {
            "line": {
             "colorbar": {
              "outlinewidth": 0,
              "ticks": ""
             }
            },
            "marker": {
             "colorbar": {
              "outlinewidth": 0,
              "ticks": ""
             }
            },
            "type": "scatter3d"
           }
          ],
          "scattercarpet": [
           {
            "marker": {
             "colorbar": {
              "outlinewidth": 0,
              "ticks": ""
             }
            },
            "type": "scattercarpet"
           }
          ],
          "scattergeo": [
           {
            "marker": {
             "colorbar": {
              "outlinewidth": 0,
              "ticks": ""
             }
            },
            "type": "scattergeo"
           }
          ],
          "scattergl": [
           {
            "marker": {
             "colorbar": {
              "outlinewidth": 0,
              "ticks": ""
             }
            },
            "type": "scattergl"
           }
          ],
          "scattermapbox": [
           {
            "marker": {
             "colorbar": {
              "outlinewidth": 0,
              "ticks": ""
             }
            },
            "type": "scattermapbox"
           }
          ],
          "scatterpolar": [
           {
            "marker": {
             "colorbar": {
              "outlinewidth": 0,
              "ticks": ""
             }
            },
            "type": "scatterpolar"
           }
          ],
          "scatterpolargl": [
           {
            "marker": {
             "colorbar": {
              "outlinewidth": 0,
              "ticks": ""
             }
            },
            "type": "scatterpolargl"
           }
          ],
          "scatterternary": [
           {
            "marker": {
             "colorbar": {
              "outlinewidth": 0,
              "ticks": ""
             }
            },
            "type": "scatterternary"
           }
          ],
          "surface": [
           {
            "colorbar": {
             "outlinewidth": 0,
             "ticks": ""
            },
            "colorscale": [
             [
              0,
              "#0d0887"
             ],
             [
              0.1111111111111111,
              "#46039f"
             ],
             [
              0.2222222222222222,
              "#7201a8"
             ],
             [
              0.3333333333333333,
              "#9c179e"
             ],
             [
              0.4444444444444444,
              "#bd3786"
             ],
             [
              0.5555555555555556,
              "#d8576b"
             ],
             [
              0.6666666666666666,
              "#ed7953"
             ],
             [
              0.7777777777777778,
              "#fb9f3a"
             ],
             [
              0.8888888888888888,
              "#fdca26"
             ],
             [
              1,
              "#f0f921"
             ]
            ],
            "type": "surface"
           }
          ],
          "table": [
           {
            "cells": {
             "fill": {
              "color": "#EBF0F8"
             },
             "line": {
              "color": "white"
             }
            },
            "header": {
             "fill": {
              "color": "#C8D4E3"
             },
             "line": {
              "color": "white"
             }
            },
            "type": "table"
           }
          ]
         },
         "layout": {
          "annotationdefaults": {
           "arrowcolor": "#2a3f5f",
           "arrowhead": 0,
           "arrowwidth": 1
          },
          "colorscale": {
           "diverging": [
            [
             0,
             "#8e0152"
            ],
            [
             0.1,
             "#c51b7d"
            ],
            [
             0.2,
             "#de77ae"
            ],
            [
             0.3,
             "#f1b6da"
            ],
            [
             0.4,
             "#fde0ef"
            ],
            [
             0.5,
             "#f7f7f7"
            ],
            [
             0.6,
             "#e6f5d0"
            ],
            [
             0.7,
             "#b8e186"
            ],
            [
             0.8,
             "#7fbc41"
            ],
            [
             0.9,
             "#4d9221"
            ],
            [
             1,
             "#276419"
            ]
           ],
           "sequential": [
            [
             0,
             "#0d0887"
            ],
            [
             0.1111111111111111,
             "#46039f"
            ],
            [
             0.2222222222222222,
             "#7201a8"
            ],
            [
             0.3333333333333333,
             "#9c179e"
            ],
            [
             0.4444444444444444,
             "#bd3786"
            ],
            [
             0.5555555555555556,
             "#d8576b"
            ],
            [
             0.6666666666666666,
             "#ed7953"
            ],
            [
             0.7777777777777778,
             "#fb9f3a"
            ],
            [
             0.8888888888888888,
             "#fdca26"
            ],
            [
             1,
             "#f0f921"
            ]
           ],
           "sequentialminus": [
            [
             0,
             "#0d0887"
            ],
            [
             0.1111111111111111,
             "#46039f"
            ],
            [
             0.2222222222222222,
             "#7201a8"
            ],
            [
             0.3333333333333333,
             "#9c179e"
            ],
            [
             0.4444444444444444,
             "#bd3786"
            ],
            [
             0.5555555555555556,
             "#d8576b"
            ],
            [
             0.6666666666666666,
             "#ed7953"
            ],
            [
             0.7777777777777778,
             "#fb9f3a"
            ],
            [
             0.8888888888888888,
             "#fdca26"
            ],
            [
             1,
             "#f0f921"
            ]
           ]
          },
          "colorway": [
           "#636efa",
           "#EF553B",
           "#00cc96",
           "#ab63fa",
           "#FFA15A",
           "#19d3f3",
           "#FF6692",
           "#B6E880",
           "#FF97FF",
           "#FECB52"
          ],
          "font": {
           "color": "#2a3f5f"
          },
          "geo": {
           "bgcolor": "white",
           "lakecolor": "white",
           "landcolor": "#E5ECF6",
           "showlakes": true,
           "showland": true,
           "subunitcolor": "white"
          },
          "hoverlabel": {
           "align": "left"
          },
          "hovermode": "closest",
          "mapbox": {
           "style": "light"
          },
          "paper_bgcolor": "white",
          "plot_bgcolor": "#E5ECF6",
          "polar": {
           "angularaxis": {
            "gridcolor": "white",
            "linecolor": "white",
            "ticks": ""
           },
           "bgcolor": "#E5ECF6",
           "radialaxis": {
            "gridcolor": "white",
            "linecolor": "white",
            "ticks": ""
           }
          },
          "scene": {
           "xaxis": {
            "backgroundcolor": "#E5ECF6",
            "gridcolor": "white",
            "gridwidth": 2,
            "linecolor": "white",
            "showbackground": true,
            "ticks": "",
            "zerolinecolor": "white"
           },
           "yaxis": {
            "backgroundcolor": "#E5ECF6",
            "gridcolor": "white",
            "gridwidth": 2,
            "linecolor": "white",
            "showbackground": true,
            "ticks": "",
            "zerolinecolor": "white"
           },
           "zaxis": {
            "backgroundcolor": "#E5ECF6",
            "gridcolor": "white",
            "gridwidth": 2,
            "linecolor": "white",
            "showbackground": true,
            "ticks": "",
            "zerolinecolor": "white"
           }
          },
          "shapedefaults": {
           "line": {
            "color": "#2a3f5f"
           }
          },
          "ternary": {
           "aaxis": {
            "gridcolor": "white",
            "linecolor": "white",
            "ticks": ""
           },
           "baxis": {
            "gridcolor": "white",
            "linecolor": "white",
            "ticks": ""
           },
           "bgcolor": "#E5ECF6",
           "caxis": {
            "gridcolor": "white",
            "linecolor": "white",
            "ticks": ""
           }
          },
          "title": {
           "x": 0.05
          },
          "xaxis": {
           "automargin": true,
           "gridcolor": "white",
           "linecolor": "white",
           "ticks": "",
           "zerolinecolor": "white",
           "zerolinewidth": 2
          },
          "yaxis": {
           "automargin": true,
           "gridcolor": "white",
           "linecolor": "white",
           "ticks": "",
           "zerolinecolor": "white",
           "zerolinewidth": 2
          }
         }
        },
        "title": {
         "text": "Gram_size=4"
        },
        "xaxis": {
         "anchor": "y",
         "domain": [
          0,
          0.98
         ],
         "title": {
          "text": "rec_name"
         }
        },
        "yaxis": {
         "anchor": "x",
         "domain": [
          0,
          1
         ],
         "title": {
          "text": "attrited"
         }
        }
       }
      },
      "text/html": [
       "<div>\n",
       "        \n",
       "        \n",
       "            <div id=\"4ba02deb-4cfb-4a65-9645-f303a87d8af8\" class=\"plotly-graph-div\" style=\"height:600px; width:100%;\"></div>\n",
       "            <script type=\"text/javascript\">\n",
       "                require([\"plotly\"], function(Plotly) {\n",
       "                    window.PLOTLYENV=window.PLOTLYENV || {};\n",
       "                    \n",
       "                if (document.getElementById(\"4ba02deb-4cfb-4a65-9645-f303a87d8af8\")) {\n",
       "                    Plotly.newPlot(\n",
       "                        '4ba02deb-4cfb-4a65-9645-f303a87d8af8',\n",
       "                        [{\"alignmentgroup\": \"True\", \"hoverlabel\": {\"namelength\": 0}, \"hovertemplate\": \"rec_name=%{x}<br>attrited=%{y}\", \"legendgroup\": \"\", \"marker\": {\"color\": \"#636efa\"}, \"name\": \"\", \"offsetgroup\": \"\", \"orientation\": \"v\", \"showlegend\": false, \"textposition\": \"auto\", \"type\": \"bar\", \"x\": [\"done_fulfill/complete.customercontact.salesandservicelead+done.directbankingcontact.manualauthentication+arrival_event+transferred_to_agentsuccessful_transfer_with_cti_data.\", \"departure_event+done_fulfill/complete.customercontact.salesandservicelead+done.directbankingcontact.manualauthentication+arrival_event\", \"done.directbankingcontact.manualauthentication+arrival_event+transferred_to_agentsuccessful_transfer_with_cti_data.+ivr_session_endall_other_request\", \"arrival_event+transferred_to_agentsuccessful_transfer_with_cti_data.+ivr_session_endall_other_request+authentication_challengessuccess\", \"done_fulfill/complete.customercontact.salesandservicelead+departure_event+done.directbankingcontact.manualauthentication+arrival_event\", \"ivr_session_endall_other_request+authentication_challengessuccess+authentication_card_numbersuccess+ivr_session_start_\", \"transferred_to_agentsuccessful_transfer_with_cti_data.+ivr_session_endall_other_request+authentication_challengessuccess+authentication_card_numbersuccess\", \"done_fulfill/complete.customercontact.salesandservicelead+done.directbankingcontact.+arrival_event+transferred_to_agentsuccessful_transfer_with_cti_data.\", \"withdrawal+dr_blank_withdrawal+departure_event+arrival_event\", \"departure_event+done.directbankingcontact.manualauthentication+arrival_event+transferred_to_agentsuccessful_transfer_with_cti_data.\", \"credit_10_reverse_charge+inquiries_transaction_history+departure_event+arrival_event\", \"done.directbankingcontact.+arrival_event+transferred_to_agentsuccessful_transfer_with_cti_data.+ivr_session_endall_other_request\", \"done.directbankingcontact.outboundfollow-up+arrival_event+departure_event+done.directbankingcontact.outboundfollow-up\", \"done_fulfill/complete.customercontact.salesandservicelead+departure_event+done.directbankingcontact.+arrival_event\", \"departure_event+arrival_event+transferred_to_agentsuccessful_transfer_with_cti_data.+ivr_session_endall_other_request\", \"departure_event+done_fulfill/complete.customercontact.salesandservicelead+done.directbankingcontact.+arrival_event\", \"done.directbankingcontact.+arrival_event+transferred_to_agentsuccessful_transfer_with_cti_data.+ivr_session_endauthentication_failed\", \"inquiries_transaction_history+departure_event+arrival_event+departure_event\", \"departure_event+closed.non-financialtransactions.other_non-financials+arrival_event+departure_event\", \"dr_blank_withdrawal+inquiries_transaction_history+departure_event+arrival_event\", \"done.directbankingcontact.manualauthentication+transferred_to_agentsuccessful_transfer_with_cti_data.+ivr_session_endall_other_request+authentication_challengessuccess\", \"departure_event+arrival_event+departure_event+arrival_event\", \"deposit_debit_10+dr_10_branch_initiated_-_curdate+departure_event+arrival_event\", \"departure_event+done.directbankingcontact.+arrival_event+transferred_to_agentsuccessful_transfer_with_cti_data.\", \"done.directbankingcontact.manualauthentication+done.directbankingcontact.+arrival_event+transferred_to_agentsuccessful_transfer_with_cti_data.\", \"dr_blank_withdrawal+departure_event+arrival_event+departure_event\", \"arrival_event+done.directbankingcontact.manualauthentication+arrival_event+transferred_to_agentsuccessful_transfer_with_cti_data.\", \"departure_event+done.directbankingcontact.outboundfollow-up+arrival_event+departure_event\", \"closed.non-financialtransactions.other_non-financials+arrival_event+departure_event+arrival_event\", \"arrival_event+departure_event+arrival_event+departure_event\", \"spcl_20_amend_account_status_transaction+inquiries_14_account_details+inquiries_account_details+departure_event\", \"cr_10_branch_initiated_-_curdate+inquiries_transaction_history+departure_event+arrival_event\", \"closed.accountadministration.bmo.com-present_id_at_branch+arrival_event+departure_event+arrival_event\", \"inquiries_14_account_details+inquiries_transaction_history+departure_event+arrival_event\", \"authentication_challengessuccess+authentication_card_numbersuccess+ivr_session_start_+triad_cda\", \"deposit_debit_10+dr_10_branch_initiated_-_curdate+inquiries_transaction_history+departure_event\", \"departure_event+closed.accountadministration.bmo.com-present_id_at_branch+arrival_event+departure_event\", \"arrival_event+transferred_to_agentsuccessful_transfer_with_cti_data.+ivr_session_endauthentication_failed+authentication_challengesmax_tries\", \"departure_event+done_decline.customercontact.salesandservicelead+done.directbankingcontact.manualauthentication+arrival_event\", \"departure_event+arrival_event+deposit_debit_10+dr_10_branch_initiated_-_curdate\", \"arrival_event+transferred_to_agentsuccessful_transfer_with_cti_data.+ivr_session_endauthentication_failed+authentication_challengessuccess\", \"spcl_20_amend_account_status_transaction+inquiries_14_account_details+inquiries_transaction_history+departure_event\", \"tfr_11_customer_initiated_-_curdate+inquiries_transaction_history+departure_event+arrival_event\", \"ivr_session_endall_other_request+authentication_challengessuccess+arrival_event+authentication_card_numbersuccess\", \"open.customernote.accountoperation+arrival_event+departure_event+arrival_event\", \"departure_event+open.customernote.accountoperation+arrival_event+departure_event\", \"departure_event+arrival_event+mps_-_mid-tier_plan_linkage+moa_-_mid-tier_account_open\", \"departure_event+done_fulfill/complete.customercontact.salesandservicelead+departure_event+done.directbankingcontact.manualauthentication\", \"unofficial_payoff_request+signout+getfeatureconfigurations+getappconfig\", \"transfer_mech_accounts+tfr_11_customer_initiated_-_curdate+departure_event+arrival_event\", \"arrival_event+unofficial_payoff_request+signout+getfeatureconfigurations\", \"keepalive+getbannerad+initotpsession+isotppilotenabled\", \"dr_10_branch_initiated_-_curdate+departure_event+arrival_event+departure_event\", \"inquiries_account_details+inquiries_transaction_history+departure_event+arrival_event\", \"initotpsession+isotppilotenabled+login_success+activateuserrealms\", \"isotppilotenabled+login_success+activateuserrealms+arrival_event\", \"done.directbankingcontact.manualauthentication+arrival_event+transferred_to_agentsuccessful_transfer_with_cti_data.+ivr_session_endzero_out_before_authentication\", \"spcl_20_amend_account_status_transaction+inquiries_14_account_details+spcl_20_amend_account_status_transaction+inquiries_14_account_details\", \"getbannerad+initotpsession+isotppilotenabled+login_success\", \"inquiries_account_details+departure_event+arrival_event+departure_event\", \"departure_event+arrival_event+done.directbankingcontact.manualauthentication+arrival_event\", \"signout+getfeatureconfigurations+getappconfig+inquiries_account_history\", \"departure_event+done.directbankingcontact.manualauthentication+arrival_event+triad_cda\", \"arrival_event+done.directbankingcontact.+arrival_event+transferred_to_agentsuccessful_transfer_with_cti_data.\", \"departure_event+arrival_event+departure_event+closed.non-financialtransactions.other_non-financials\", \"arrival_event+departure_event+arrival_event+transferred_to_agentsuccessful_transfer_with_cti_data.\", \"inquiries_transaction_history+departure_event+arrival_event+credit_10_reverse_charge\", \"departure_event+arrival_event+open_7_-_misc_amends_(amdafls)+inquiries_account_details\", \"inquiries_14_account_details+departure_event+arrival_event+departure_event\", \"deposit_debit_10+dr_10_branch_initiated_-_curdate+deposit_debit_10+dr_10_branch_initiated_-_curdate\", \"spcl_20_amend_account_status_transaction+inquiries_14_account_details+inquiries_transaction_history+inquiries_account_details\", \"cr_10_branch_initiated_-_curdate+departure_event+arrival_event+departure_event\", \"dr_10_branch_initiated_-_curdate+inquiries_transaction_history+departure_event+arrival_event\", \"arrival_event+departure_event+arrival_event+mps_-_mid-tier_plan_linkage\", \"login_success+activateuserrealms+arrival_event+unofficial_payoff_request\", \"activateuserrealms+arrival_event+unofficial_payoff_request+signout\", \"credit_10_reverse_charge+departure_event+arrival_event+departure_event\", \"arrival_event+departure_event+open.non-financialtransactions.other_non-financials+arrival_event\", \"inquiries_transaction_history+departure_event+arrival_event+inquiries_transaction_history\", \"initotpsession+isotppilotenabled+activateuserrealms+login_success\", \"isotppilotenabled+activateuserrealms+login_success+arrival_event\", \"inquiries_transaction_history+inquiries_account_details+departure_event+arrival_event\", \"spcl_20_amend_account_status_transaction+inquiries_14_account_details+departure_event+arrival_event\", \"inquiries_14_account_details+inquiries_account_details+departure_event+arrival_event\", \"inquiries_transaction_history+deposit_debit_10+dr_10_branch_initiated_-_curdate+inquiries_transaction_history\", \"inquiries_14_account_details+spcl_20_amend_account_status_transaction+inquiries_14_account_details+inquiries_transaction_history\", \"inquiries_14_account_details+departure_event+closed.non-financialtransactions.other_non-financials+arrival_event\", \"credit_10_reverse_charge+inquiries_transaction_history+inquiries_account_details+departure_event\", \"authentication_challengessuccess+authentication_card_numbersuccess+ivr_session_start_+departure_event\", \"credit_10_reverse_charge+deposit_debit_10+dr_10_branch_initiated_-_curdate+tfr_11_customer_initiated_-_curdate\", \"authentication_challengessuccess+arrival_event+authentication_card_numbersuccess+ivr_session_start_\", \"open.non-financialtransactions.other_non-financials+arrival_event+departure_event+arrival_event\", \"getbannerad+initotpsession+isotppilotenabled+activateuserrealms\", \"transfer_mech_accounts+tfr_11_customer_initiated_-_curdate+transfer_mech_accounts+tfr_11_customer_initiated_-_curdate\", \"departure_event+arrival_event+credit_10_reverse_charge+cr_10_branch_initiated_-_curdate\", \"departure_event+closed.investigations.customer_complaint+arrival_event+departure_event\", \"arrival_event+departure_event+closed.non-financialtransactions.other_non-financials+arrival_event\", \"departure_event+arrival_event+departure_event+open.non-financialtransactions.other_non-financials\", \"arrival_event+transferred_to_agentsuccessful_transfer_with_cti_data.+ivr_session_endzero_out_before_authentication+authentication_card_numberzero_out\", \"arrival_event+departure_event+arrival_event+cr_10_branch_initiated_-_curdate\"], \"xaxis\": \"x\", \"y\": [0.0843905788, 0.0709248178, 0.0670590454, 0.0670333685, 0.0415712987, 0.0403140362, 0.040268879900000006, 0.040073521, 0.039751577999999996, 0.039457913, 0.0317491942, 0.0283534749, 0.0250464834, 0.0239847523, 0.0236727242, 0.0230091084, 0.0221192473, 0.021985693900000002, 0.0219245359, 0.0218618213, 0.0218584747, 0.0216700261, 0.0215024663, 0.0214377166, 0.0213979713, 0.0210097069, 0.0209184501, 0.019864224, 0.0196962738, 0.0196206635, 0.019207035, 0.0191155502, 0.019109781399999998, 0.0183415684, 0.0182266037, 0.0178526363, 0.0167994071, 0.016583641, 0.0162892358, 0.016105016899999998, 0.0159796844, 0.0156254537, 0.015340456799999999, 0.0148276865, 0.0147524404, 0.014643230600000001, 0.0142308772, 0.0141459439, -0.014073061000000001, 0.014034425900000001, -0.014030262, -0.013992600000000001, 0.0138670632, 0.013672100800000002, -0.013615442, -0.013591468999999998, 0.013457619799999999, 0.0133228323, -0.01306429, 0.013005766799999999, 0.012920216299999999, -0.012890918999999999, 0.0128087657, 0.0127603298, 0.012749714099999998, 0.0126284182, 0.012500816599999999, 0.0123719659, 0.0123697922, 0.0123483133, 0.0123401207, 0.012261061100000002, 0.012188508, 0.0121705561, -0.012132529, -0.012126726, 0.0120842643, 0.011925124099999998, 0.011853686200000001, -0.011814993999999999, -0.011696325, 0.0116435136, 0.0116404455, 0.0115213792, 0.0114146934, 0.011400021599999999, 0.011356918799999999, 0.0113480825, 0.0112966674, 0.0112785054, 0.0111730253, 0.0111649498, -0.010919765, 0.010818823799999999, 0.010784408600000002, 0.010779633500000002, 0.0106459229, 0.0105792196, 0.010565498999999999, 0.0104457764], \"yaxis\": \"y\"}],\n",
       "                        {\"barmode\": \"relative\", \"height\": 600, \"legend\": {\"tracegroupgap\": 0}, \"template\": {\"data\": {\"bar\": [{\"error_x\": {\"color\": \"#2a3f5f\"}, \"error_y\": {\"color\": \"#2a3f5f\"}, \"marker\": {\"line\": {\"color\": \"#E5ECF6\", \"width\": 0.5}}, \"type\": \"bar\"}], \"barpolar\": [{\"marker\": {\"line\": {\"color\": \"#E5ECF6\", \"width\": 0.5}}, \"type\": \"barpolar\"}], \"carpet\": [{\"aaxis\": {\"endlinecolor\": \"#2a3f5f\", \"gridcolor\": \"white\", \"linecolor\": \"white\", \"minorgridcolor\": \"white\", \"startlinecolor\": \"#2a3f5f\"}, \"baxis\": {\"endlinecolor\": \"#2a3f5f\", \"gridcolor\": \"white\", \"linecolor\": \"white\", \"minorgridcolor\": \"white\", \"startlinecolor\": \"#2a3f5f\"}, \"type\": \"carpet\"}], \"choropleth\": [{\"colorbar\": {\"outlinewidth\": 0, \"ticks\": \"\"}, \"type\": \"choropleth\"}], \"contour\": [{\"colorbar\": {\"outlinewidth\": 0, \"ticks\": \"\"}, \"colorscale\": [[0.0, \"#0d0887\"], [0.1111111111111111, \"#46039f\"], [0.2222222222222222, \"#7201a8\"], [0.3333333333333333, \"#9c179e\"], [0.4444444444444444, \"#bd3786\"], [0.5555555555555556, \"#d8576b\"], [0.6666666666666666, \"#ed7953\"], [0.7777777777777778, \"#fb9f3a\"], [0.8888888888888888, \"#fdca26\"], [1.0, \"#f0f921\"]], \"type\": \"contour\"}], \"contourcarpet\": [{\"colorbar\": {\"outlinewidth\": 0, \"ticks\": \"\"}, \"type\": \"contourcarpet\"}], \"heatmap\": [{\"colorbar\": {\"outlinewidth\": 0, \"ticks\": \"\"}, \"colorscale\": [[0.0, \"#0d0887\"], [0.1111111111111111, \"#46039f\"], [0.2222222222222222, \"#7201a8\"], [0.3333333333333333, \"#9c179e\"], [0.4444444444444444, \"#bd3786\"], [0.5555555555555556, \"#d8576b\"], [0.6666666666666666, \"#ed7953\"], [0.7777777777777778, \"#fb9f3a\"], [0.8888888888888888, \"#fdca26\"], [1.0, \"#f0f921\"]], \"type\": \"heatmap\"}], \"heatmapgl\": [{\"colorbar\": {\"outlinewidth\": 0, \"ticks\": \"\"}, \"colorscale\": [[0.0, \"#0d0887\"], [0.1111111111111111, \"#46039f\"], [0.2222222222222222, \"#7201a8\"], [0.3333333333333333, \"#9c179e\"], [0.4444444444444444, \"#bd3786\"], [0.5555555555555556, \"#d8576b\"], [0.6666666666666666, \"#ed7953\"], [0.7777777777777778, \"#fb9f3a\"], [0.8888888888888888, \"#fdca26\"], [1.0, \"#f0f921\"]], \"type\": \"heatmapgl\"}], \"histogram\": [{\"marker\": {\"colorbar\": {\"outlinewidth\": 0, \"ticks\": \"\"}}, \"type\": \"histogram\"}], \"histogram2d\": [{\"colorbar\": {\"outlinewidth\": 0, \"ticks\": \"\"}, \"colorscale\": [[0.0, \"#0d0887\"], [0.1111111111111111, \"#46039f\"], [0.2222222222222222, \"#7201a8\"], [0.3333333333333333, \"#9c179e\"], [0.4444444444444444, \"#bd3786\"], [0.5555555555555556, \"#d8576b\"], [0.6666666666666666, \"#ed7953\"], [0.7777777777777778, \"#fb9f3a\"], [0.8888888888888888, \"#fdca26\"], [1.0, \"#f0f921\"]], \"type\": \"histogram2d\"}], \"histogram2dcontour\": [{\"colorbar\": {\"outlinewidth\": 0, \"ticks\": \"\"}, \"colorscale\": [[0.0, \"#0d0887\"], [0.1111111111111111, \"#46039f\"], [0.2222222222222222, \"#7201a8\"], [0.3333333333333333, \"#9c179e\"], [0.4444444444444444, \"#bd3786\"], [0.5555555555555556, \"#d8576b\"], [0.6666666666666666, \"#ed7953\"], [0.7777777777777778, \"#fb9f3a\"], [0.8888888888888888, \"#fdca26\"], [1.0, \"#f0f921\"]], \"type\": \"histogram2dcontour\"}], \"mesh3d\": [{\"colorbar\": {\"outlinewidth\": 0, \"ticks\": \"\"}, \"type\": \"mesh3d\"}], \"parcoords\": [{\"line\": {\"colorbar\": {\"outlinewidth\": 0, \"ticks\": \"\"}}, \"type\": \"parcoords\"}], \"scatter\": [{\"marker\": {\"colorbar\": {\"outlinewidth\": 0, \"ticks\": \"\"}}, \"type\": \"scatter\"}], \"scatter3d\": [{\"line\": {\"colorbar\": {\"outlinewidth\": 0, \"ticks\": \"\"}}, \"marker\": {\"colorbar\": {\"outlinewidth\": 0, \"ticks\": \"\"}}, \"type\": \"scatter3d\"}], \"scattercarpet\": [{\"marker\": {\"colorbar\": {\"outlinewidth\": 0, \"ticks\": \"\"}}, \"type\": \"scattercarpet\"}], \"scattergeo\": [{\"marker\": {\"colorbar\": {\"outlinewidth\": 0, \"ticks\": \"\"}}, \"type\": \"scattergeo\"}], \"scattergl\": [{\"marker\": {\"colorbar\": {\"outlinewidth\": 0, \"ticks\": \"\"}}, \"type\": \"scattergl\"}], \"scattermapbox\": [{\"marker\": {\"colorbar\": {\"outlinewidth\": 0, \"ticks\": \"\"}}, \"type\": \"scattermapbox\"}], \"scatterpolar\": [{\"marker\": {\"colorbar\": {\"outlinewidth\": 0, \"ticks\": \"\"}}, \"type\": \"scatterpolar\"}], \"scatterpolargl\": [{\"marker\": {\"colorbar\": {\"outlinewidth\": 0, \"ticks\": \"\"}}, \"type\": \"scatterpolargl\"}], \"scatterternary\": [{\"marker\": {\"colorbar\": {\"outlinewidth\": 0, \"ticks\": \"\"}}, \"type\": \"scatterternary\"}], \"surface\": [{\"colorbar\": {\"outlinewidth\": 0, \"ticks\": \"\"}, \"colorscale\": [[0.0, \"#0d0887\"], [0.1111111111111111, \"#46039f\"], [0.2222222222222222, \"#7201a8\"], [0.3333333333333333, \"#9c179e\"], [0.4444444444444444, \"#bd3786\"], [0.5555555555555556, \"#d8576b\"], [0.6666666666666666, \"#ed7953\"], [0.7777777777777778, \"#fb9f3a\"], [0.8888888888888888, \"#fdca26\"], [1.0, \"#f0f921\"]], \"type\": \"surface\"}], \"table\": [{\"cells\": {\"fill\": {\"color\": \"#EBF0F8\"}, \"line\": {\"color\": \"white\"}}, \"header\": {\"fill\": {\"color\": \"#C8D4E3\"}, \"line\": {\"color\": \"white\"}}, \"type\": \"table\"}]}, \"layout\": {\"annotationdefaults\": {\"arrowcolor\": \"#2a3f5f\", \"arrowhead\": 0, \"arrowwidth\": 1}, \"colorscale\": {\"diverging\": [[0, \"#8e0152\"], [0.1, \"#c51b7d\"], [0.2, \"#de77ae\"], [0.3, \"#f1b6da\"], [0.4, \"#fde0ef\"], [0.5, \"#f7f7f7\"], [0.6, \"#e6f5d0\"], [0.7, \"#b8e186\"], [0.8, \"#7fbc41\"], [0.9, \"#4d9221\"], [1, \"#276419\"]], \"sequential\": [[0.0, \"#0d0887\"], [0.1111111111111111, \"#46039f\"], [0.2222222222222222, \"#7201a8\"], [0.3333333333333333, \"#9c179e\"], [0.4444444444444444, \"#bd3786\"], [0.5555555555555556, \"#d8576b\"], [0.6666666666666666, \"#ed7953\"], [0.7777777777777778, \"#fb9f3a\"], [0.8888888888888888, \"#fdca26\"], [1.0, \"#f0f921\"]], \"sequentialminus\": [[0.0, \"#0d0887\"], [0.1111111111111111, \"#46039f\"], [0.2222222222222222, \"#7201a8\"], [0.3333333333333333, \"#9c179e\"], [0.4444444444444444, \"#bd3786\"], [0.5555555555555556, \"#d8576b\"], [0.6666666666666666, \"#ed7953\"], [0.7777777777777778, \"#fb9f3a\"], [0.8888888888888888, \"#fdca26\"], [1.0, \"#f0f921\"]]}, \"colorway\": [\"#636efa\", \"#EF553B\", \"#00cc96\", \"#ab63fa\", \"#FFA15A\", \"#19d3f3\", \"#FF6692\", \"#B6E880\", \"#FF97FF\", \"#FECB52\"], \"font\": {\"color\": \"#2a3f5f\"}, \"geo\": {\"bgcolor\": \"white\", \"lakecolor\": \"white\", \"landcolor\": \"#E5ECF6\", \"showlakes\": true, \"showland\": true, \"subunitcolor\": \"white\"}, \"hoverlabel\": {\"align\": \"left\"}, \"hovermode\": \"closest\", \"mapbox\": {\"style\": \"light\"}, \"paper_bgcolor\": \"white\", \"plot_bgcolor\": \"#E5ECF6\", \"polar\": {\"angularaxis\": {\"gridcolor\": \"white\", \"linecolor\": \"white\", \"ticks\": \"\"}, \"bgcolor\": \"#E5ECF6\", \"radialaxis\": {\"gridcolor\": \"white\", \"linecolor\": \"white\", \"ticks\": \"\"}}, \"scene\": {\"xaxis\": {\"backgroundcolor\": \"#E5ECF6\", \"gridcolor\": \"white\", \"gridwidth\": 2, \"linecolor\": \"white\", \"showbackground\": true, \"ticks\": \"\", \"zerolinecolor\": \"white\"}, \"yaxis\": {\"backgroundcolor\": \"#E5ECF6\", \"gridcolor\": \"white\", \"gridwidth\": 2, \"linecolor\": \"white\", \"showbackground\": true, \"ticks\": \"\", \"zerolinecolor\": \"white\"}, \"zaxis\": {\"backgroundcolor\": \"#E5ECF6\", \"gridcolor\": \"white\", \"gridwidth\": 2, \"linecolor\": \"white\", \"showbackground\": true, \"ticks\": \"\", \"zerolinecolor\": \"white\"}}, \"shapedefaults\": {\"line\": {\"color\": \"#2a3f5f\"}}, \"ternary\": {\"aaxis\": {\"gridcolor\": \"white\", \"linecolor\": \"white\", \"ticks\": \"\"}, \"baxis\": {\"gridcolor\": \"white\", \"linecolor\": \"white\", \"ticks\": \"\"}, \"bgcolor\": \"#E5ECF6\", \"caxis\": {\"gridcolor\": \"white\", \"linecolor\": \"white\", \"ticks\": \"\"}}, \"title\": {\"x\": 0.05}, \"xaxis\": {\"automargin\": true, \"gridcolor\": \"white\", \"linecolor\": \"white\", \"ticks\": \"\", \"zerolinecolor\": \"white\", \"zerolinewidth\": 2}, \"yaxis\": {\"automargin\": true, \"gridcolor\": \"white\", \"linecolor\": \"white\", \"ticks\": \"\", \"zerolinecolor\": \"white\", \"zerolinewidth\": 2}}}, \"title\": {\"text\": \"Gram_size=4\"}, \"xaxis\": {\"anchor\": \"y\", \"domain\": [0.0, 0.98], \"title\": {\"text\": \"rec_name\"}}, \"yaxis\": {\"anchor\": \"x\", \"domain\": [0.0, 1.0], \"title\": {\"text\": \"attrited\"}}},\n",
       "                        {\"responsive\": true}\n",
       "                    ).then(function(){\n",
       "                            \n",
       "var gd = document.getElementById('4ba02deb-4cfb-4a65-9645-f303a87d8af8');\n",
       "var x = new MutationObserver(function (mutations, observer) {{\n",
       "        var display = window.getComputedStyle(gd).display;\n",
       "        if (!display || display === 'none') {{\n",
       "            console.log([gd, 'removed!']);\n",
       "            Plotly.purge(gd);\n",
       "            observer.disconnect();\n",
       "        }}\n",
       "}});\n",
       "\n",
       "// Listen for the removal of the full notebook cells\n",
       "var notebookContainer = gd.closest('#notebook-container');\n",
       "if (notebookContainer) {{\n",
       "    x.observe(notebookContainer, {childList: true});\n",
       "}}\n",
       "\n",
       "// Listen for the clearing of the current output cell\n",
       "var outputEl = gd.closest('.output');\n",
       "if (outputEl) {{\n",
       "    x.observe(outputEl, {childList: true});\n",
       "}}\n",
       "\n",
       "                        })\n",
       "                };\n",
       "                });\n",
       "            </script>\n",
       "        </div>"
      ]
     },
     "metadata": {},
     "output_type": "display_data"
    }
   ],
   "source": [
    "fig = px.bar(univ[univ.grm_size==4], x=\"rec_name\", y=\"attrited\", orientation='v',title='Gram_size=4')\n",
    "\n",
    "fig.show()"
   ]
  },
  {
   "cell_type": "code",
   "execution_count": null,
   "metadata": {},
   "outputs": [],
   "source": []
  }
 ],
 "metadata": {
  "kernelspec": {
   "display_name": "Python 3",
   "language": "python",
   "name": "python3"
  },
  "language_info": {
   "codemirror_mode": {
    "name": "ipython",
    "version": 3
   },
   "file_extension": ".py",
   "mimetype": "text/x-python",
   "name": "python",
   "nbconvert_exporter": "python",
   "pygments_lexer": "ipython3",
   "version": "3.6.7"
  }
 },
 "nbformat": 4,
 "nbformat_minor": 2
}
