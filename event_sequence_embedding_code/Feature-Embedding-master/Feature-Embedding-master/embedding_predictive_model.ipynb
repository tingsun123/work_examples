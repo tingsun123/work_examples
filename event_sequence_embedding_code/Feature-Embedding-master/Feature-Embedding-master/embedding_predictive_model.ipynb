{
 "cells": [
  {
   "cell_type": "code",
   "execution_count": 1,
   "metadata": {},
   "outputs": [],
   "source": [
    "#import SparkSession\n",
    "from pyspark.sql import SparkSession\n",
    "#create spark object\n",
    "spark=SparkSession.builder.appName('emb').getOrCreate()"
   ]
  },
  {
   "cell_type": "code",
   "execution_count": 2,
   "metadata": {},
   "outputs": [],
   "source": [
    "#reading a file\n",
    "df=spark.read.csv('br_lstm_data.csv',header=True,inferSchema=True)"
   ]
  },
  {
   "cell_type": "code",
   "execution_count": 3,
   "metadata": {},
   "outputs": [
    {
     "data": {
      "text/plain": [
       "1096955"
      ]
     },
     "execution_count": 3,
     "metadata": {},
     "output_type": "execute_result"
    }
   ],
   "source": [
    "df.count()"
   ]
  },
  {
   "cell_type": "code",
   "execution_count": 4,
   "metadata": {},
   "outputs": [],
   "source": [
    "df = df.filter(\"page_category != ''\")"
   ]
  },
  {
   "cell_type": "code",
   "execution_count": 5,
   "metadata": {},
   "outputs": [
    {
     "data": {
      "text/plain": [
       "25"
      ]
     },
     "execution_count": 5,
     "metadata": {},
     "output_type": "execute_result"
    }
   ],
   "source": [
    "df.select('page_category').distinct().count()"
   ]
  },
  {
   "cell_type": "code",
   "execution_count": 6,
   "metadata": {},
   "outputs": [
    {
     "data": {
      "text/plain": [
       "104160"
      ]
     },
     "execution_count": 6,
     "metadata": {},
     "output_type": "execute_result"
    }
   ],
   "source": [
    "df.select('visitor_id').distinct().count()"
   ]
  },
  {
   "cell_type": "code",
   "execution_count": 7,
   "metadata": {},
   "outputs": [],
   "source": [
    "from pyspark.sql.types import StringType\n",
    "from pyspark.sql.functions import udf\n",
    "\n",
    "def page_udf(page):\n",
    "    if page =='error':\n",
    "        return 'others'\n",
    "    elif page =='social':\n",
    "        return 'others'\n",
    "    else:\n",
    "        return page\n",
    "        \n",
    "nissan_udf = udf(page_udf, StringType())\n",
    "\n",
    "df_updated=df.withColumn(\"page_new\", nissan_udf(df.page_category))"
   ]
  },
  {
   "cell_type": "code",
   "execution_count": 11,
   "metadata": {},
   "outputs": [],
   "source": [
    "## filter converted visitors\n",
    "##conv_visitors=[x[0] for x in df_updated.filter(df_updated['page_new']=='testdriveconfirmation').select('visitor_id').distinct().collect()]"
   ]
  },
  {
   "cell_type": "code",
   "execution_count": 12,
   "metadata": {},
   "outputs": [],
   "source": [
    "# from pyspark.sql.types import IntegerType\n",
    "# from pyspark.sql.functions import udf\n",
    "\n",
    "# def is_converted(vis_id):\n",
    "#     if vis_id in conv_visitors:\n",
    "#         return 1\n",
    "#     else:\n",
    "#         return 0\n",
    "        \n",
    "# converted_udf = udf(is_converted, IntegerType())\n",
    "\n",
    "# df_updated_1=df_updated.withColumn(\"is_converted\", converted_udf(df_updated['visitor_id']))"
   ]
  },
  {
   "cell_type": "code",
   "execution_count": 8,
   "metadata": {},
   "outputs": [
    {
     "name": "stdout",
     "output_type": "stream",
     "text": [
      "+------------+-------+\n",
      "|is_converted|count  |\n",
      "+------------+-------+\n",
      "|1           |96955  |\n",
      "|0           |1000000|\n",
      "+------------+-------+\n",
      "\n"
     ]
    }
   ],
   "source": [
    "df_updated.groupBy('is_converted').count().orderBy('count').show(10,False)"
   ]
  },
  {
   "cell_type": "code",
   "execution_count": 16,
   "metadata": {},
   "outputs": [
    {
     "data": {
      "text/plain": [
       "5782"
      ]
     },
     "execution_count": 16,
     "metadata": {},
     "output_type": "execute_result"
    }
   ],
   "source": [
    "df_updated.filter(df_updated['is_converted']==1).select('visitor_id').distinct().count()"
   ]
  },
  {
   "cell_type": "code",
   "execution_count": 17,
   "metadata": {},
   "outputs": [
    {
     "data": {
      "text/plain": [
       "98378"
      ]
     },
     "execution_count": 17,
     "metadata": {},
     "output_type": "execute_result"
    }
   ],
   "source": [
    "df_updated.filter(df_updated['is_converted']==0).select('visitor_id').distinct().count()"
   ]
  },
  {
   "cell_type": "code",
   "execution_count": 18,
   "metadata": {},
   "outputs": [],
   "source": [
    "from pyspark.ml.feature import StringIndexer\n",
    "import sys\n",
    "from pyspark.sql.window import Window\n",
    "import pyspark.sql.functions as func\n",
    "from pyspark.sql.functions import  lag\n"
   ]
  },
  {
   "cell_type": "code",
   "execution_count": 15,
   "metadata": {},
   "outputs": [],
   "source": [
    "# indexer = StringIndexer(inputCol=\"page_new\", outputCol=\"categoryIndex\")\n",
    "# indexed_df = indexer.fit(df_updated).transform(df_updated)\n",
    "\n"
   ]
  },
  {
   "cell_type": "code",
   "execution_count": 19,
   "metadata": {},
   "outputs": [],
   "source": [
    "#not considering session\n",
    "w = Window.partitionBy([\"visitor_id\"]).orderBy('date_time_ts')\n",
    "\n",
    "#replacing null values with drop\n",
    "\n",
    "new_df=df_updated.withColumn(\"output\", lag(\"page_new\", -1, 'dropped').over(w))"
   ]
  },
  {
   "cell_type": "code",
   "execution_count": 20,
   "metadata": {},
   "outputs": [
    {
     "data": {
      "text/plain": [
       "1096955"
      ]
     },
     "execution_count": 20,
     "metadata": {},
     "output_type": "execute_result"
    }
   ],
   "source": [
    "new_df.count()"
   ]
  },
  {
   "cell_type": "code",
   "execution_count": 21,
   "metadata": {},
   "outputs": [],
   "source": [
    "data=new_df.filter(new_df['page_new'] != new_df['output'])"
   ]
  },
  {
   "cell_type": "code",
   "execution_count": 22,
   "metadata": {},
   "outputs": [
    {
     "data": {
      "text/plain": [
       "669879"
      ]
     },
     "execution_count": 22,
     "metadata": {},
     "output_type": "execute_result"
    }
   ],
   "source": [
    "data.count()"
   ]
  },
  {
   "cell_type": "code",
   "execution_count": 23,
   "metadata": {},
   "outputs": [],
   "source": [
    "new_data=data.select('visitor_id','page_new','output','is_converted', func.collect_list(data.page_new).over(w).alias('features'))\n"
   ]
  },
  {
   "cell_type": "code",
   "execution_count": 24,
   "metadata": {},
   "outputs": [
    {
     "name": "stdout",
     "output_type": "stream",
     "text": [
      "+---------------------------------------+--------------+--------------+------------+-------------------------------------------------------------------+\n",
      "|visitor_id                             |page_new      |output        |is_converted|features                                                           |\n",
      "+---------------------------------------+--------------+--------------+------------+-------------------------------------------------------------------+\n",
      "|1014693057261549843_9055106623262667991|homepage      |vehiclenew    |1           |[homepage]                                                         |\n",
      "|1014693057261549843_9055106623262667991|vehiclenew    |specifications|1           |[homepage, vehiclenew]                                             |\n",
      "|1014693057261549843_9055106623262667991|specifications|accessories   |1           |[homepage, vehiclenew, specifications]                             |\n",
      "|1014693057261549843_9055106623262667991|accessories   |specifications|1           |[homepage, vehiclenew, specifications, accessories]                |\n",
      "|1014693057261549843_9055106623262667991|specifications|homepage      |1           |[homepage, vehiclenew, specifications, accessories, specifications]|\n",
      "+---------------------------------------+--------------+--------------+------------+-------------------------------------------------------------------+\n",
      "only showing top 5 rows\n",
      "\n"
     ]
    }
   ],
   "source": [
    "new_data.show(5,False)"
   ]
  },
  {
   "cell_type": "code",
   "execution_count": 25,
   "metadata": {},
   "outputs": [],
   "source": [
    "from pyspark.sql.types import IntegerType\n",
    "from pyspark.sql.functions import udf\n",
    "\n",
    "slen = udf(lambda s: len(s), IntegerType())\n",
    "\n",
    "new_data = new_data.withColumn(\"Length\", slen(new_data.features))\n"
   ]
  },
  {
   "cell_type": "code",
   "execution_count": 139,
   "metadata": {},
   "outputs": [],
   "source": [
    "# join_udf = udf(lambda x: \" \".join(x))\n",
    "# new_data=new_data.withColumn(\"processed_features\", join_udf(new_data[\"features\"]))"
   ]
  },
  {
   "cell_type": "code",
   "execution_count": 26,
   "metadata": {},
   "outputs": [
    {
     "data": {
      "text/plain": [
       "[Row(visitor_id='1014693057261549843_9055106623262667991', page_new='homepage', output='vehiclenew', is_converted=1, features=['homepage'], Length=1),\n",
       " Row(visitor_id='1014693057261549843_9055106623262667991', page_new='vehiclenew', output='specifications', is_converted=1, features=['homepage', 'vehiclenew'], Length=2),\n",
       " Row(visitor_id='1014693057261549843_9055106623262667991', page_new='specifications', output='accessories', is_converted=1, features=['homepage', 'vehiclenew', 'specifications'], Length=3),\n",
       " Row(visitor_id='1014693057261549843_9055106623262667991', page_new='accessories', output='specifications', is_converted=1, features=['homepage', 'vehiclenew', 'specifications', 'accessories'], Length=4),\n",
       " Row(visitor_id='1014693057261549843_9055106623262667991', page_new='specifications', output='homepage', is_converted=1, features=['homepage', 'vehiclenew', 'specifications', 'accessories', 'specifications'], Length=5)]"
      ]
     },
     "execution_count": 26,
     "metadata": {},
     "output_type": "execute_result"
    }
   ],
   "source": [
    "new_data.head(5)"
   ]
  },
  {
   "cell_type": "code",
   "execution_count": 27,
   "metadata": {},
   "outputs": [],
   "source": [
    "lstm_df=new_data.select(['visitor_id','features','Length','is_converted'])"
   ]
  },
  {
   "cell_type": "code",
   "execution_count": 28,
   "metadata": {},
   "outputs": [],
   "source": [
    "pd_df=lstm_df.toPandas()"
   ]
  },
  {
   "cell_type": "code",
   "execution_count": 29,
   "metadata": {},
   "outputs": [],
   "source": [
    "import numpy as np"
   ]
  },
  {
   "cell_type": "code",
   "execution_count": 30,
   "metadata": {},
   "outputs": [
    {
     "name": "stdout",
     "output_type": "stream",
     "text": [
      "Collecting gensim\n",
      "  Downloading gensim-3.4.0-cp36-cp36m-manylinux1_x86_64.whl (22.6MB)\n",
      "\u001b[K    100% |████████████████████████████████| 22.6MB 33kB/s \n",
      "\u001b[?25hCollecting smart-open>=1.2.1 (from gensim)\n",
      "  Downloading smart_open-1.5.7.tar.gz\n",
      "Requirement already satisfied: six>=1.5.0 in /opt/conda/lib/python3.6/site-packages (from gensim)\n",
      "Requirement already satisfied: scipy>=0.18.1 in /opt/conda/lib/python3.6/site-packages (from gensim)\n",
      "Requirement already satisfied: numpy>=1.11.3 in /opt/conda/lib/python3.6/site-packages (from gensim)\n",
      "Collecting boto>=2.32 (from smart-open>=1.2.1->gensim)\n",
      "  Downloading boto-2.48.0-py2.py3-none-any.whl (1.4MB)\n",
      "\u001b[K    100% |████████████████████████████████| 1.4MB 564kB/s \n",
      "\u001b[?25hCollecting bz2file (from smart-open>=1.2.1->gensim)\n",
      "  Downloading bz2file-0.98.tar.gz\n",
      "Requirement already satisfied: requests in /opt/conda/lib/python3.6/site-packages (from smart-open>=1.2.1->gensim)\n",
      "Collecting boto3 (from smart-open>=1.2.1->gensim)\n",
      "  Downloading boto3-1.6.16-py2.py3-none-any.whl (128kB)\n",
      "\u001b[K    100% |████████████████████████████████| 133kB 2.2MB/s \n",
      "\u001b[?25hRequirement already satisfied: chardet<3.1.0,>=3.0.2 in /opt/conda/lib/python3.6/site-packages (from requests->smart-open>=1.2.1->gensim)\n",
      "Requirement already satisfied: idna<2.7,>=2.5 in /opt/conda/lib/python3.6/site-packages (from requests->smart-open>=1.2.1->gensim)\n",
      "Requirement already satisfied: urllib3<1.23,>=1.21.1 in /opt/conda/lib/python3.6/site-packages (from requests->smart-open>=1.2.1->gensim)\n",
      "Requirement already satisfied: certifi>=2017.4.17 in /opt/conda/lib/python3.6/site-packages (from requests->smart-open>=1.2.1->gensim)\n",
      "Collecting botocore<1.10.0,>=1.9.16 (from boto3->smart-open>=1.2.1->gensim)\n",
      "  Downloading botocore-1.9.16-py2.py3-none-any.whl (4.1MB)\n",
      "\u001b[K    100% |████████████████████████████████| 4.1MB 184kB/s \n",
      "\u001b[?25hCollecting jmespath<1.0.0,>=0.7.1 (from boto3->smart-open>=1.2.1->gensim)\n",
      "  Downloading jmespath-0.9.3-py2.py3-none-any.whl\n",
      "Collecting s3transfer<0.2.0,>=0.1.10 (from boto3->smart-open>=1.2.1->gensim)\n",
      "  Downloading s3transfer-0.1.13-py2.py3-none-any.whl (59kB)\n",
      "\u001b[K    100% |████████████████████████████████| 61kB 2.1MB/s \n",
      "\u001b[?25hCollecting python-dateutil<2.7.0,>=2.1 (from botocore<1.10.0,>=1.9.16->boto3->smart-open>=1.2.1->gensim)\n",
      "  Downloading python_dateutil-2.6.1-py2.py3-none-any.whl (194kB)\n",
      "\u001b[K    100% |████████████████████████████████| 194kB 1.6MB/s \n",
      "\u001b[?25hCollecting docutils>=0.10 (from botocore<1.10.0,>=1.9.16->boto3->smart-open>=1.2.1->gensim)\n",
      "  Downloading docutils-0.14-py3-none-any.whl (543kB)\n",
      "\u001b[K    100% |████████████████████████████████| 552kB 878kB/s \n",
      "\u001b[?25hBuilding wheels for collected packages: smart-open, bz2file\n",
      "  Running setup.py bdist_wheel for smart-open ... \u001b[?25ldone\n",
      "\u001b[?25h  Stored in directory: /home/jovyan/.cache/pip/wheels/cf/54/36/b003d8c2d26aadffc21f0677009ed53cf9575a97fc71fbba76\n",
      "  Running setup.py bdist_wheel for bz2file ... \u001b[?25ldone\n",
      "\u001b[?25h  Stored in directory: /home/jovyan/.cache/pip/wheels/31/9c/20/996d65ca104cbca940b1b053299b68459391c01c774d073126\n",
      "Successfully built smart-open bz2file\n",
      "Installing collected packages: boto, bz2file, jmespath, python-dateutil, docutils, botocore, s3transfer, boto3, smart-open, gensim\n",
      "  Found existing installation: python-dateutil 2.7.0\n",
      "    Uninstalling python-dateutil-2.7.0:\n",
      "      Successfully uninstalled python-dateutil-2.7.0\n",
      "Successfully installed boto-2.48.0 boto3-1.6.16 botocore-1.9.16 bz2file-0.98 docutils-0.14 gensim-3.4.0 jmespath-0.9.3 python-dateutil-2.6.1 s3transfer-0.1.13 smart-open-1.5.7\n",
      "\u001b[33mYou are using pip version 9.0.1, however version 9.0.3 is available.\n",
      "You should consider upgrading via the 'pip install --upgrade pip' command.\u001b[0m\n"
     ]
    }
   ],
   "source": [
    "!pip install gensim"
   ]
  },
  {
   "cell_type": "code",
   "execution_count": 32,
   "metadata": {},
   "outputs": [
    {
     "name": "stdout",
     "output_type": "stream",
     "text": [
      "Requirement already satisfied: nltk in /opt/conda/lib/python3.6/site-packages\n",
      "Requirement already satisfied: six in /opt/conda/lib/python3.6/site-packages (from nltk)\n",
      "\u001b[33mYou are using pip version 9.0.1, however version 9.0.3 is available.\n",
      "You should consider upgrading via the 'pip install --upgrade pip' command.\u001b[0m\n"
     ]
    }
   ],
   "source": [
    "!pip install nltk\n",
    "import nltk"
   ]
  },
  {
   "cell_type": "code",
   "execution_count": 33,
   "metadata": {},
   "outputs": [],
   "source": [
    "from gensim.models.doc2vec import LabeledSentence\n",
    "from gensim.models import Doc2Vec\n",
    "from nltk.corpus import stopwords\n",
    "from nltk.tokenize import word_tokenize, sent_tokenize\n",
    "from nltk.stem.wordnet import WordNetLemmatizer\n",
    "import re\n",
    "from random import sample\n",
    "import pandas as pd"
   ]
  },
  {
   "cell_type": "code",
   "execution_count": 34,
   "metadata": {},
   "outputs": [
    {
     "name": "stdout",
     "output_type": "stream",
     "text": [
      "90\n"
     ]
    }
   ],
   "source": [
    "#creating max length variable\n",
    "max_length=max(pd_df.Length)\n",
    "print(max_length)"
   ]
  },
  {
   "cell_type": "code",
   "execution_count": 37,
   "metadata": {},
   "outputs": [
    {
     "data": {
      "text/html": [
       "<div>\n",
       "<table border=\"1\" class=\"dataframe\">\n",
       "  <thead>\n",
       "    <tr style=\"text-align: right;\">\n",
       "      <th></th>\n",
       "      <th>visitor_id</th>\n",
       "      <th>features</th>\n",
       "      <th>Length</th>\n",
       "      <th>is_converted</th>\n",
       "    </tr>\n",
       "  </thead>\n",
       "  <tbody>\n",
       "    <tr>\n",
       "      <th>0</th>\n",
       "      <td>1014693057261549843_9055106623262667991</td>\n",
       "      <td>[homepage]</td>\n",
       "      <td>1</td>\n",
       "      <td>1</td>\n",
       "    </tr>\n",
       "    <tr>\n",
       "      <th>1</th>\n",
       "      <td>1014693057261549843_9055106623262667991</td>\n",
       "      <td>[homepage, vehiclenew]</td>\n",
       "      <td>2</td>\n",
       "      <td>1</td>\n",
       "    </tr>\n",
       "    <tr>\n",
       "      <th>2</th>\n",
       "      <td>1014693057261549843_9055106623262667991</td>\n",
       "      <td>[homepage, vehiclenew, specifications]</td>\n",
       "      <td>3</td>\n",
       "      <td>1</td>\n",
       "    </tr>\n",
       "    <tr>\n",
       "      <th>3</th>\n",
       "      <td>1014693057261549843_9055106623262667991</td>\n",
       "      <td>[homepage, vehiclenew, specifications, accesso...</td>\n",
       "      <td>4</td>\n",
       "      <td>1</td>\n",
       "    </tr>\n",
       "    <tr>\n",
       "      <th>4</th>\n",
       "      <td>1014693057261549843_9055106623262667991</td>\n",
       "      <td>[homepage, vehiclenew, specifications, accesso...</td>\n",
       "      <td>5</td>\n",
       "      <td>1</td>\n",
       "    </tr>\n",
       "    <tr>\n",
       "      <th>5</th>\n",
       "      <td>1014693057261549843_9055106623262667991</td>\n",
       "      <td>[homepage, vehiclenew, specifications, accesso...</td>\n",
       "      <td>6</td>\n",
       "      <td>1</td>\n",
       "    </tr>\n",
       "    <tr>\n",
       "      <th>6</th>\n",
       "      <td>1014693057261549843_9055106623262667991</td>\n",
       "      <td>[homepage, vehiclenew, specifications, accesso...</td>\n",
       "      <td>7</td>\n",
       "      <td>1</td>\n",
       "    </tr>\n",
       "    <tr>\n",
       "      <th>7</th>\n",
       "      <td>1014693057261549843_9055106623262667991</td>\n",
       "      <td>[homepage, vehiclenew, specifications, accesso...</td>\n",
       "      <td>8</td>\n",
       "      <td>1</td>\n",
       "    </tr>\n",
       "    <tr>\n",
       "      <th>8</th>\n",
       "      <td>1014693057261549843_9055106623262667991</td>\n",
       "      <td>[homepage, vehiclenew, specifications, accesso...</td>\n",
       "      <td>9</td>\n",
       "      <td>1</td>\n",
       "    </tr>\n",
       "    <tr>\n",
       "      <th>9</th>\n",
       "      <td>1014693057261549843_9055106623262667991</td>\n",
       "      <td>[homepage, vehiclenew, specifications, accesso...</td>\n",
       "      <td>10</td>\n",
       "      <td>1</td>\n",
       "    </tr>\n",
       "    <tr>\n",
       "      <th>10</th>\n",
       "      <td>1014693057261549843_9055106623262667991</td>\n",
       "      <td>[homepage, vehiclenew, specifications, accesso...</td>\n",
       "      <td>11</td>\n",
       "      <td>1</td>\n",
       "    </tr>\n",
       "    <tr>\n",
       "      <th>11</th>\n",
       "      <td>1014693057261549843_9055106623262667991</td>\n",
       "      <td>[homepage, vehiclenew, specifications, accesso...</td>\n",
       "      <td>12</td>\n",
       "      <td>1</td>\n",
       "    </tr>\n",
       "    <tr>\n",
       "      <th>12</th>\n",
       "      <td>1014693057261549843_9055106623262667991</td>\n",
       "      <td>[homepage, vehiclenew, specifications, accesso...</td>\n",
       "      <td>13</td>\n",
       "      <td>1</td>\n",
       "    </tr>\n",
       "    <tr>\n",
       "      <th>13</th>\n",
       "      <td>1193075758963550701_5934198127755465564</td>\n",
       "      <td>[homepage]</td>\n",
       "      <td>1</td>\n",
       "      <td>1</td>\n",
       "    </tr>\n",
       "    <tr>\n",
       "      <th>14</th>\n",
       "      <td>1193075758963550701_5934198127755465564</td>\n",
       "      <td>[homepage, dealerfinder]</td>\n",
       "      <td>2</td>\n",
       "      <td>1</td>\n",
       "    </tr>\n",
       "    <tr>\n",
       "      <th>15</th>\n",
       "      <td>1193075758963550701_5934198127755465564</td>\n",
       "      <td>[homepage, dealerfinder, testdrive]</td>\n",
       "      <td>3</td>\n",
       "      <td>1</td>\n",
       "    </tr>\n",
       "    <tr>\n",
       "      <th>16</th>\n",
       "      <td>1193075758963550701_5934198127755465564</td>\n",
       "      <td>[homepage, dealerfinder, testdrive, selectvehi...</td>\n",
       "      <td>4</td>\n",
       "      <td>1</td>\n",
       "    </tr>\n",
       "    <tr>\n",
       "      <th>17</th>\n",
       "      <td>1193075758963550701_5934198127755465564</td>\n",
       "      <td>[homepage, dealerfinder, testdrive, selectvehi...</td>\n",
       "      <td>5</td>\n",
       "      <td>1</td>\n",
       "    </tr>\n",
       "    <tr>\n",
       "      <th>18</th>\n",
       "      <td>1193075758963550701_5934198127755465564</td>\n",
       "      <td>[homepage, dealerfinder, testdrive, selectvehi...</td>\n",
       "      <td>6</td>\n",
       "      <td>1</td>\n",
       "    </tr>\n",
       "    <tr>\n",
       "      <th>19</th>\n",
       "      <td>1193075758963550701_5934198127755465564</td>\n",
       "      <td>[homepage, dealerfinder, testdrive, selectvehi...</td>\n",
       "      <td>7</td>\n",
       "      <td>1</td>\n",
       "    </tr>\n",
       "  </tbody>\n",
       "</table>\n",
       "</div>"
      ],
      "text/plain": [
       "                                 visitor_id  \\\n",
       "0   1014693057261549843_9055106623262667991   \n",
       "1   1014693057261549843_9055106623262667991   \n",
       "2   1014693057261549843_9055106623262667991   \n",
       "3   1014693057261549843_9055106623262667991   \n",
       "4   1014693057261549843_9055106623262667991   \n",
       "5   1014693057261549843_9055106623262667991   \n",
       "6   1014693057261549843_9055106623262667991   \n",
       "7   1014693057261549843_9055106623262667991   \n",
       "8   1014693057261549843_9055106623262667991   \n",
       "9   1014693057261549843_9055106623262667991   \n",
       "10  1014693057261549843_9055106623262667991   \n",
       "11  1014693057261549843_9055106623262667991   \n",
       "12  1014693057261549843_9055106623262667991   \n",
       "13  1193075758963550701_5934198127755465564   \n",
       "14  1193075758963550701_5934198127755465564   \n",
       "15  1193075758963550701_5934198127755465564   \n",
       "16  1193075758963550701_5934198127755465564   \n",
       "17  1193075758963550701_5934198127755465564   \n",
       "18  1193075758963550701_5934198127755465564   \n",
       "19  1193075758963550701_5934198127755465564   \n",
       "\n",
       "                                             features  Length  is_converted  \n",
       "0                                          [homepage]       1             1  \n",
       "1                              [homepage, vehiclenew]       2             1  \n",
       "2              [homepage, vehiclenew, specifications]       3             1  \n",
       "3   [homepage, vehiclenew, specifications, accesso...       4             1  \n",
       "4   [homepage, vehiclenew, specifications, accesso...       5             1  \n",
       "5   [homepage, vehiclenew, specifications, accesso...       6             1  \n",
       "6   [homepage, vehiclenew, specifications, accesso...       7             1  \n",
       "7   [homepage, vehiclenew, specifications, accesso...       8             1  \n",
       "8   [homepage, vehiclenew, specifications, accesso...       9             1  \n",
       "9   [homepage, vehiclenew, specifications, accesso...      10             1  \n",
       "10  [homepage, vehiclenew, specifications, accesso...      11             1  \n",
       "11  [homepage, vehiclenew, specifications, accesso...      12             1  \n",
       "12  [homepage, vehiclenew, specifications, accesso...      13             1  \n",
       "13                                         [homepage]       1             1  \n",
       "14                           [homepage, dealerfinder]       2             1  \n",
       "15                [homepage, dealerfinder, testdrive]       3             1  \n",
       "16  [homepage, dealerfinder, testdrive, selectvehi...       4             1  \n",
       "17  [homepage, dealerfinder, testdrive, selectvehi...       5             1  \n",
       "18  [homepage, dealerfinder, testdrive, selectvehi...       6             1  \n",
       "19  [homepage, dealerfinder, testdrive, selectvehi...       7             1  "
      ]
     },
     "execution_count": 37,
     "metadata": {},
     "output_type": "execute_result"
    }
   ],
   "source": [
    "pd_df.head(20)"
   ]
  },
  {
   "cell_type": "code",
   "execution_count": 64,
   "metadata": {},
   "outputs": [],
   "source": [
    "#select one row for each user with entire journey\n",
    "df_test=pd_df.loc[pd_df.groupby('visitor_id').Length.idxmax()]\n"
   ]
  },
  {
   "cell_type": "code",
   "execution_count": 65,
   "metadata": {},
   "outputs": [
    {
     "data": {
      "text/plain": [
       "(104160, 4)"
      ]
     },
     "execution_count": 65,
     "metadata": {},
     "output_type": "execute_result"
    }
   ],
   "source": [
    "df_test.shape"
   ]
  },
  {
   "cell_type": "code",
   "execution_count": 66,
   "metadata": {},
   "outputs": [],
   "source": [
    "df_test=df_test[df_test['Length'] >7 ]"
   ]
  },
  {
   "cell_type": "code",
   "execution_count": 67,
   "metadata": {},
   "outputs": [
    {
     "data": {
      "text/plain": [
       "(28310, 4)"
      ]
     },
     "execution_count": 67,
     "metadata": {},
     "output_type": "execute_result"
    }
   ],
   "source": [
    "df_test.shape"
   ]
  },
  {
   "cell_type": "code",
   "execution_count": 68,
   "metadata": {},
   "outputs": [
    {
     "data": {
      "text/html": [
       "<div>\n",
       "<table border=\"1\" class=\"dataframe\">\n",
       "  <thead>\n",
       "    <tr style=\"text-align: right;\">\n",
       "      <th></th>\n",
       "      <th>visitor_id</th>\n",
       "      <th>features</th>\n",
       "      <th>Length</th>\n",
       "      <th>is_converted</th>\n",
       "    </tr>\n",
       "  </thead>\n",
       "  <tbody>\n",
       "    <tr>\n",
       "      <th>232535</th>\n",
       "      <td>1000033165547002624_2468521393999998888</td>\n",
       "      <td>[homepage, vehiclenew, design, specifications,...</td>\n",
       "      <td>12</td>\n",
       "      <td>0</td>\n",
       "    </tr>\n",
       "    <tr>\n",
       "      <th>658629</th>\n",
       "      <td>1000094205682403674_1484823365532188873</td>\n",
       "      <td>[vehiclenew, testdrive, selectvehicle, selectd...</td>\n",
       "      <td>12</td>\n",
       "      <td>1</td>\n",
       "    </tr>\n",
       "    <tr>\n",
       "      <th>2003</th>\n",
       "      <td>1000366325094376096_3779292198979600284</td>\n",
       "      <td>[homepage, vehiclenew, dealerfinder, vehiclene...</td>\n",
       "      <td>18</td>\n",
       "      <td>0</td>\n",
       "    </tr>\n",
       "    <tr>\n",
       "      <th>171475</th>\n",
       "      <td>1001366196642129311_1672595353662667182</td>\n",
       "      <td>[vehiclenew, specifications, homepage, vehicle...</td>\n",
       "      <td>13</td>\n",
       "      <td>0</td>\n",
       "    </tr>\n",
       "    <tr>\n",
       "      <th>441734</th>\n",
       "      <td>1001642570818743120_8793323108420566146</td>\n",
       "      <td>[vehiclenew, testdrive, selectvehicle, selectd...</td>\n",
       "      <td>9</td>\n",
       "      <td>1</td>\n",
       "    </tr>\n",
       "    <tr>\n",
       "      <th>661799</th>\n",
       "      <td>100188116067709474_5506541548974818692</td>\n",
       "      <td>[vehiclenew, testdrive, selectvehicle, selectd...</td>\n",
       "      <td>10</td>\n",
       "      <td>1</td>\n",
       "    </tr>\n",
       "    <tr>\n",
       "      <th>2026</th>\n",
       "      <td>1002045948280667277_1004268876873254179</td>\n",
       "      <td>[dealerfinder, homepage, vehiclenew, character...</td>\n",
       "      <td>12</td>\n",
       "      <td>0</td>\n",
       "    </tr>\n",
       "    <tr>\n",
       "      <th>221620</th>\n",
       "      <td>1002559771776967978_8816921436075327261</td>\n",
       "      <td>[dealerfinder, vehiclenew, testdrive, selectve...</td>\n",
       "      <td>18</td>\n",
       "      <td>1</td>\n",
       "    </tr>\n",
       "    <tr>\n",
       "      <th>282903</th>\n",
       "      <td>1002739088955864602_3328706305801007516</td>\n",
       "      <td>[homepage, vehiclenew, offers, vehiclenew, hom...</td>\n",
       "      <td>10</td>\n",
       "      <td>0</td>\n",
       "    </tr>\n",
       "    <tr>\n",
       "      <th>609550</th>\n",
       "      <td>1002925152364179654_413958169808869211</td>\n",
       "      <td>[homepage, contactus, services, contactus, hom...</td>\n",
       "      <td>8</td>\n",
       "      <td>0</td>\n",
       "    </tr>\n",
       "    <tr>\n",
       "      <th>443401</th>\n",
       "      <td>1003101808311892617_7434413317242667061</td>\n",
       "      <td>[periodicreview, dealerfinder, vehiclenew, hom...</td>\n",
       "      <td>11</td>\n",
       "      <td>0</td>\n",
       "    </tr>\n",
       "    <tr>\n",
       "      <th>495780</th>\n",
       "      <td>1003483088857532120_4135957789154767885</td>\n",
       "      <td>[dealerfinder, testdrive, selectvehicle, selec...</td>\n",
       "      <td>12</td>\n",
       "      <td>1</td>\n",
       "    </tr>\n",
       "    <tr>\n",
       "      <th>559965</th>\n",
       "      <td>1003774941908089746_6396161640130247825</td>\n",
       "      <td>[vehiclenew, testdrive, selectvehicle, testdri...</td>\n",
       "      <td>10</td>\n",
       "      <td>0</td>\n",
       "    </tr>\n",
       "    <tr>\n",
       "      <th>171485</th>\n",
       "      <td>1003907359434856895_5573787390904049757</td>\n",
       "      <td>[homepage, vehiclenew, specifications, vehicle...</td>\n",
       "      <td>10</td>\n",
       "      <td>0</td>\n",
       "    </tr>\n",
       "    <tr>\n",
       "      <th>67988</th>\n",
       "      <td>1003991304811191337_4252297348576902401</td>\n",
       "      <td>[vehiclenew, offers, vehiclenew, dealerfinder,...</td>\n",
       "      <td>8</td>\n",
       "      <td>0</td>\n",
       "    </tr>\n",
       "    <tr>\n",
       "      <th>559974</th>\n",
       "      <td>1004129256317471202_3287150968019016265</td>\n",
       "      <td>[homepage, vehiclenew, homepage, vehiclenew, s...</td>\n",
       "      <td>9</td>\n",
       "      <td>0</td>\n",
       "    </tr>\n",
       "    <tr>\n",
       "      <th>2035</th>\n",
       "      <td>1004199353227235670_5101364676485224113</td>\n",
       "      <td>[homepage, dealerfinder, directselling, vehicl...</td>\n",
       "      <td>9</td>\n",
       "      <td>0</td>\n",
       "    </tr>\n",
       "    <tr>\n",
       "      <th>171512</th>\n",
       "      <td>1004304111490862721_9105521680884422049</td>\n",
       "      <td>[dealerfinder, homepage, vehiclenew, specifica...</td>\n",
       "      <td>22</td>\n",
       "      <td>0</td>\n",
       "    </tr>\n",
       "    <tr>\n",
       "      <th>332759</th>\n",
       "      <td>1004489163991301105_6192373463892695957</td>\n",
       "      <td>[vehiclenew, homepage, vehiclenew, homepage, v...</td>\n",
       "      <td>21</td>\n",
       "      <td>0</td>\n",
       "    </tr>\n",
       "    <tr>\n",
       "      <th>121369</th>\n",
       "      <td>100450674327879035_3637251368904491624</td>\n",
       "      <td>[homepage, offers, testdrive, offers, dealerfi...</td>\n",
       "      <td>12</td>\n",
       "      <td>0</td>\n",
       "    </tr>\n",
       "  </tbody>\n",
       "</table>\n",
       "</div>"
      ],
      "text/plain": [
       "                                     visitor_id  \\\n",
       "232535  1000033165547002624_2468521393999998888   \n",
       "658629  1000094205682403674_1484823365532188873   \n",
       "2003    1000366325094376096_3779292198979600284   \n",
       "171475  1001366196642129311_1672595353662667182   \n",
       "441734  1001642570818743120_8793323108420566146   \n",
       "661799   100188116067709474_5506541548974818692   \n",
       "2026    1002045948280667277_1004268876873254179   \n",
       "221620  1002559771776967978_8816921436075327261   \n",
       "282903  1002739088955864602_3328706305801007516   \n",
       "609550   1002925152364179654_413958169808869211   \n",
       "443401  1003101808311892617_7434413317242667061   \n",
       "495780  1003483088857532120_4135957789154767885   \n",
       "559965  1003774941908089746_6396161640130247825   \n",
       "171485  1003907359434856895_5573787390904049757   \n",
       "67988   1003991304811191337_4252297348576902401   \n",
       "559974  1004129256317471202_3287150968019016265   \n",
       "2035    1004199353227235670_5101364676485224113   \n",
       "171512  1004304111490862721_9105521680884422049   \n",
       "332759  1004489163991301105_6192373463892695957   \n",
       "121369   100450674327879035_3637251368904491624   \n",
       "\n",
       "                                                 features  Length  \\\n",
       "232535  [homepage, vehiclenew, design, specifications,...      12   \n",
       "658629  [vehiclenew, testdrive, selectvehicle, selectd...      12   \n",
       "2003    [homepage, vehiclenew, dealerfinder, vehiclene...      18   \n",
       "171475  [vehiclenew, specifications, homepage, vehicle...      13   \n",
       "441734  [vehiclenew, testdrive, selectvehicle, selectd...       9   \n",
       "661799  [vehiclenew, testdrive, selectvehicle, selectd...      10   \n",
       "2026    [dealerfinder, homepage, vehiclenew, character...      12   \n",
       "221620  [dealerfinder, vehiclenew, testdrive, selectve...      18   \n",
       "282903  [homepage, vehiclenew, offers, vehiclenew, hom...      10   \n",
       "609550  [homepage, contactus, services, contactus, hom...       8   \n",
       "443401  [periodicreview, dealerfinder, vehiclenew, hom...      11   \n",
       "495780  [dealerfinder, testdrive, selectvehicle, selec...      12   \n",
       "559965  [vehiclenew, testdrive, selectvehicle, testdri...      10   \n",
       "171485  [homepage, vehiclenew, specifications, vehicle...      10   \n",
       "67988   [vehiclenew, offers, vehiclenew, dealerfinder,...       8   \n",
       "559974  [homepage, vehiclenew, homepage, vehiclenew, s...       9   \n",
       "2035    [homepage, dealerfinder, directselling, vehicl...       9   \n",
       "171512  [dealerfinder, homepage, vehiclenew, specifica...      22   \n",
       "332759  [vehiclenew, homepage, vehiclenew, homepage, v...      21   \n",
       "121369  [homepage, offers, testdrive, offers, dealerfi...      12   \n",
       "\n",
       "        is_converted  \n",
       "232535             0  \n",
       "658629             1  \n",
       "2003               0  \n",
       "171475             0  \n",
       "441734             1  \n",
       "661799             1  \n",
       "2026               0  \n",
       "221620             1  \n",
       "282903             0  \n",
       "609550             0  \n",
       "443401             0  \n",
       "495780             1  \n",
       "559965             0  \n",
       "171485             0  \n",
       "67988              0  \n",
       "559974             0  \n",
       "2035               0  \n",
       "171512             0  \n",
       "332759             0  \n",
       "121369             0  "
      ]
     },
     "execution_count": 68,
     "metadata": {},
     "output_type": "execute_result"
    }
   ],
   "source": [
    "df_test.head(20)"
   ]
  },
  {
   "cell_type": "code",
   "execution_count": 69,
   "metadata": {},
   "outputs": [],
   "source": [
    "df_test = df_test.reset_index(drop=True)"
   ]
  },
  {
   "cell_type": "code",
   "execution_count": 70,
   "metadata": {},
   "outputs": [
    {
     "data": {
      "text/plain": [
       "0    24041\n",
       "1     4269\n",
       "Name: is_converted, dtype: int64"
      ]
     },
     "execution_count": 70,
     "metadata": {},
     "output_type": "execute_result"
    }
   ],
   "source": [
    "df_test.is_converted.value_counts()"
   ]
  },
  {
   "cell_type": "markdown",
   "metadata": {},
   "source": [
    "# Feature engineering"
   ]
  },
  {
   "cell_type": "code",
   "execution_count": 71,
   "metadata": {},
   "outputs": [],
   "source": [
    "def label_sentences(df_test):\n",
    "    labeled_sentences = []\n",
    "    for index, datapoint in df_test.iterrows():\n",
    "        tokenized_words = datapoint['features']\n",
    "        labeled_sentences.append(LabeledSentence(words=tokenized_words, tags=['SENT_%s' %index]))\n",
    "    return labeled_sentences"
   ]
  },
  {
   "cell_type": "code",
   "execution_count": 72,
   "metadata": {},
   "outputs": [
    {
     "name": "stderr",
     "output_type": "stream",
     "text": [
      "/opt/conda/lib/python3.6/site-packages/ipykernel_launcher.py:5: DeprecationWarning: Call to deprecated `LabeledSentence` (Class will be removed in 4.0.0, use TaggedDocument instead).\n",
      "  \"\"\"\n"
     ]
    }
   ],
   "source": [
    "def train_doc2vec_model(labeled_sentences):\n",
    "    model = Doc2Vec(min_count=1,alpha=0.025, min_alpha=0.025)\n",
    "    model.build_vocab(labeled_sentences)\n",
    "\n",
    "    \n",
    "    return model\n",
    "\n",
    "sen = label_sentences(df_test)\n",
    "model = train_doc2vec_model(sen)"
   ]
  },
  {
   "cell_type": "code",
   "execution_count": 73,
   "metadata": {},
   "outputs": [
    {
     "name": "stdout",
     "output_type": "stream",
     "text": [
      "                                visitor_id  \\\n",
      "0  1000033165547002624_2468521393999998888   \n",
      "1  1000094205682403674_1484823365532188873   \n",
      "\n",
      "                                            features  Length  is_converted  \\\n",
      "0  [homepage, vehiclenew, design, specifications,...      12             0   \n",
      "1  [vehiclenew, testdrive, selectvehicle, selectd...      12             1   \n",
      "\n",
      "                                    embedded_vectors  \n",
      "0  [0.00334393, 0.00154151, 0.000471794, 0.000334...  \n",
      "1  [-0.0032888, -0.00454355, 0.000835247, -0.0040...  \n"
     ]
    }
   ],
   "source": [
    "def vectorize_comments(df_test,d2v_model):\n",
    "    y = []\n",
    "    comments = []\n",
    "    for i in range(0,df_test.shape[0]):\n",
    "        label = 'SENT_%s' %i\n",
    "        comments.append(d2v_model.docvecs[label])\n",
    "    df_test['embedded_vectors'] = comments\n",
    "    \n",
    "    return df_test\n",
    "\n",
    "df_test = vectorize_comments(df_test,model)\n",
    "print (df_test.head(2))"
   ]
  },
  {
   "cell_type": "code",
   "execution_count": 74,
   "metadata": {},
   "outputs": [],
   "source": [
    "model_data=df_test[['embedded_vectors','is_converted']]"
   ]
  },
  {
   "cell_type": "code",
   "execution_count": 75,
   "metadata": {},
   "outputs": [
    {
     "data": {
      "text/plain": [
       "(28310, 2)"
      ]
     },
     "execution_count": 75,
     "metadata": {},
     "output_type": "execute_result"
    }
   ],
   "source": [
    "model_data.shape"
   ]
  },
  {
   "cell_type": "code",
   "execution_count": 76,
   "metadata": {},
   "outputs": [
    {
     "data": {
      "text/html": [
       "<div>\n",
       "<table border=\"1\" class=\"dataframe\">\n",
       "  <thead>\n",
       "    <tr style=\"text-align: right;\">\n",
       "      <th></th>\n",
       "      <th>embedded_vectors</th>\n",
       "      <th>is_converted</th>\n",
       "    </tr>\n",
       "  </thead>\n",
       "  <tbody>\n",
       "    <tr>\n",
       "      <th>0</th>\n",
       "      <td>[0.00334393, 0.00154151, 0.000471794, 0.000334...</td>\n",
       "      <td>0</td>\n",
       "    </tr>\n",
       "    <tr>\n",
       "      <th>1</th>\n",
       "      <td>[-0.0032888, -0.00454355, 0.000835247, -0.0040...</td>\n",
       "      <td>1</td>\n",
       "    </tr>\n",
       "    <tr>\n",
       "      <th>2</th>\n",
       "      <td>[-0.00321095, -0.000878524, -0.00268286, -0.00...</td>\n",
       "      <td>0</td>\n",
       "    </tr>\n",
       "    <tr>\n",
       "      <th>3</th>\n",
       "      <td>[-0.0014065, 0.00363566, -0.00124648, -0.00143...</td>\n",
       "      <td>0</td>\n",
       "    </tr>\n",
       "    <tr>\n",
       "      <th>4</th>\n",
       "      <td>[-0.00309479, 0.0030261, 0.00466941, 0.0019726...</td>\n",
       "      <td>1</td>\n",
       "    </tr>\n",
       "  </tbody>\n",
       "</table>\n",
       "</div>"
      ],
      "text/plain": [
       "                                    embedded_vectors  is_converted\n",
       "0  [0.00334393, 0.00154151, 0.000471794, 0.000334...             0\n",
       "1  [-0.0032888, -0.00454355, 0.000835247, -0.0040...             1\n",
       "2  [-0.00321095, -0.000878524, -0.00268286, -0.00...             0\n",
       "3  [-0.0014065, 0.00363566, -0.00124648, -0.00143...             0\n",
       "4  [-0.00309479, 0.0030261, 0.00466941, 0.0019726...             1"
      ]
     },
     "execution_count": 76,
     "metadata": {},
     "output_type": "execute_result"
    }
   ],
   "source": [
    "model_data.head(5)"
   ]
  },
  {
   "cell_type": "code",
   "execution_count": 77,
   "metadata": {},
   "outputs": [],
   "source": [
    "#converting columns fo each embedded value\n",
    "model_df=pd.DataFrame(model_data.embedded_vectors.values.tolist(), index= model_data.index)"
   ]
  },
  {
   "cell_type": "code",
   "execution_count": 78,
   "metadata": {},
   "outputs": [],
   "source": [
    "final_class_df=pd.concat((model_df, model_data['is_converted']), axis=1)"
   ]
  },
  {
   "cell_type": "code",
   "execution_count": 79,
   "metadata": {},
   "outputs": [
    {
     "data": {
      "text/plain": [
       "(28310, 101)"
      ]
     },
     "execution_count": 79,
     "metadata": {},
     "output_type": "execute_result"
    }
   ],
   "source": [
    "final_class_df.shape"
   ]
  },
  {
   "cell_type": "code",
   "execution_count": 80,
   "metadata": {},
   "outputs": [
    {
     "data": {
      "text/html": [
       "<div>\n",
       "<table border=\"1\" class=\"dataframe\">\n",
       "  <thead>\n",
       "    <tr style=\"text-align: right;\">\n",
       "      <th></th>\n",
       "      <th>0</th>\n",
       "      <th>1</th>\n",
       "      <th>2</th>\n",
       "      <th>3</th>\n",
       "      <th>4</th>\n",
       "      <th>5</th>\n",
       "      <th>6</th>\n",
       "      <th>7</th>\n",
       "      <th>8</th>\n",
       "      <th>9</th>\n",
       "      <th>...</th>\n",
       "      <th>91</th>\n",
       "      <th>92</th>\n",
       "      <th>93</th>\n",
       "      <th>94</th>\n",
       "      <th>95</th>\n",
       "      <th>96</th>\n",
       "      <th>97</th>\n",
       "      <th>98</th>\n",
       "      <th>99</th>\n",
       "      <th>is_converted</th>\n",
       "    </tr>\n",
       "  </thead>\n",
       "  <tbody>\n",
       "    <tr>\n",
       "      <th>0</th>\n",
       "      <td>0.003344</td>\n",
       "      <td>0.001542</td>\n",
       "      <td>0.000472</td>\n",
       "      <td>0.000335</td>\n",
       "      <td>-0.004685</td>\n",
       "      <td>-0.001924</td>\n",
       "      <td>0.000334</td>\n",
       "      <td>0.004553</td>\n",
       "      <td>0.003976</td>\n",
       "      <td>0.003012</td>\n",
       "      <td>...</td>\n",
       "      <td>-0.000393</td>\n",
       "      <td>-0.002355</td>\n",
       "      <td>-0.000967</td>\n",
       "      <td>-0.001367</td>\n",
       "      <td>-0.003338</td>\n",
       "      <td>0.004972</td>\n",
       "      <td>0.001966</td>\n",
       "      <td>0.004891</td>\n",
       "      <td>-0.000076</td>\n",
       "      <td>0</td>\n",
       "    </tr>\n",
       "    <tr>\n",
       "      <th>1</th>\n",
       "      <td>-0.003289</td>\n",
       "      <td>-0.004544</td>\n",
       "      <td>0.000835</td>\n",
       "      <td>-0.004084</td>\n",
       "      <td>0.004143</td>\n",
       "      <td>-0.002361</td>\n",
       "      <td>-0.004219</td>\n",
       "      <td>0.001885</td>\n",
       "      <td>-0.000027</td>\n",
       "      <td>0.004495</td>\n",
       "      <td>...</td>\n",
       "      <td>0.003820</td>\n",
       "      <td>0.002799</td>\n",
       "      <td>0.002695</td>\n",
       "      <td>0.000930</td>\n",
       "      <td>0.004115</td>\n",
       "      <td>-0.001211</td>\n",
       "      <td>-0.000320</td>\n",
       "      <td>0.004972</td>\n",
       "      <td>-0.001643</td>\n",
       "      <td>1</td>\n",
       "    </tr>\n",
       "    <tr>\n",
       "      <th>2</th>\n",
       "      <td>-0.003211</td>\n",
       "      <td>-0.000879</td>\n",
       "      <td>-0.002683</td>\n",
       "      <td>-0.000402</td>\n",
       "      <td>-0.002053</td>\n",
       "      <td>0.002973</td>\n",
       "      <td>0.000199</td>\n",
       "      <td>-0.000686</td>\n",
       "      <td>0.002556</td>\n",
       "      <td>0.001836</td>\n",
       "      <td>...</td>\n",
       "      <td>0.000888</td>\n",
       "      <td>-0.002949</td>\n",
       "      <td>0.004172</td>\n",
       "      <td>-0.001626</td>\n",
       "      <td>0.003489</td>\n",
       "      <td>0.004556</td>\n",
       "      <td>-0.002553</td>\n",
       "      <td>-0.002818</td>\n",
       "      <td>-0.002139</td>\n",
       "      <td>0</td>\n",
       "    </tr>\n",
       "    <tr>\n",
       "      <th>3</th>\n",
       "      <td>-0.001406</td>\n",
       "      <td>0.003636</td>\n",
       "      <td>-0.001246</td>\n",
       "      <td>-0.001433</td>\n",
       "      <td>0.002732</td>\n",
       "      <td>-0.004971</td>\n",
       "      <td>0.000748</td>\n",
       "      <td>0.003277</td>\n",
       "      <td>-0.001641</td>\n",
       "      <td>0.001185</td>\n",
       "      <td>...</td>\n",
       "      <td>-0.001111</td>\n",
       "      <td>-0.004947</td>\n",
       "      <td>0.001764</td>\n",
       "      <td>-0.003473</td>\n",
       "      <td>-0.002958</td>\n",
       "      <td>0.000680</td>\n",
       "      <td>-0.001751</td>\n",
       "      <td>-0.003415</td>\n",
       "      <td>0.003920</td>\n",
       "      <td>0</td>\n",
       "    </tr>\n",
       "    <tr>\n",
       "      <th>4</th>\n",
       "      <td>-0.003095</td>\n",
       "      <td>0.003026</td>\n",
       "      <td>0.004669</td>\n",
       "      <td>0.001973</td>\n",
       "      <td>0.002507</td>\n",
       "      <td>0.003637</td>\n",
       "      <td>0.004516</td>\n",
       "      <td>-0.000766</td>\n",
       "      <td>0.000416</td>\n",
       "      <td>-0.003251</td>\n",
       "      <td>...</td>\n",
       "      <td>-0.000617</td>\n",
       "      <td>0.000498</td>\n",
       "      <td>-0.004219</td>\n",
       "      <td>0.002261</td>\n",
       "      <td>0.001054</td>\n",
       "      <td>0.003643</td>\n",
       "      <td>0.000768</td>\n",
       "      <td>-0.000213</td>\n",
       "      <td>0.000338</td>\n",
       "      <td>1</td>\n",
       "    </tr>\n",
       "  </tbody>\n",
       "</table>\n",
       "<p>5 rows × 101 columns</p>\n",
       "</div>"
      ],
      "text/plain": [
       "          0         1         2         3         4         5         6  \\\n",
       "0  0.003344  0.001542  0.000472  0.000335 -0.004685 -0.001924  0.000334   \n",
       "1 -0.003289 -0.004544  0.000835 -0.004084  0.004143 -0.002361 -0.004219   \n",
       "2 -0.003211 -0.000879 -0.002683 -0.000402 -0.002053  0.002973  0.000199   \n",
       "3 -0.001406  0.003636 -0.001246 -0.001433  0.002732 -0.004971  0.000748   \n",
       "4 -0.003095  0.003026  0.004669  0.001973  0.002507  0.003637  0.004516   \n",
       "\n",
       "          7         8         9      ...             91        92        93  \\\n",
       "0  0.004553  0.003976  0.003012      ...      -0.000393 -0.002355 -0.000967   \n",
       "1  0.001885 -0.000027  0.004495      ...       0.003820  0.002799  0.002695   \n",
       "2 -0.000686  0.002556  0.001836      ...       0.000888 -0.002949  0.004172   \n",
       "3  0.003277 -0.001641  0.001185      ...      -0.001111 -0.004947  0.001764   \n",
       "4 -0.000766  0.000416 -0.003251      ...      -0.000617  0.000498 -0.004219   \n",
       "\n",
       "         94        95        96        97        98        99  is_converted  \n",
       "0 -0.001367 -0.003338  0.004972  0.001966  0.004891 -0.000076             0  \n",
       "1  0.000930  0.004115 -0.001211 -0.000320  0.004972 -0.001643             1  \n",
       "2 -0.001626  0.003489  0.004556 -0.002553 -0.002818 -0.002139             0  \n",
       "3 -0.003473 -0.002958  0.000680 -0.001751 -0.003415  0.003920             0  \n",
       "4  0.002261  0.001054  0.003643  0.000768 -0.000213  0.000338             1  \n",
       "\n",
       "[5 rows x 101 columns]"
      ]
     },
     "execution_count": 80,
     "metadata": {},
     "output_type": "execute_result"
    }
   ],
   "source": [
    "final_class_df.head(5)"
   ]
  },
  {
   "cell_type": "markdown",
   "metadata": {},
   "source": [
    "# Classificiation Model"
   ]
  },
  {
   "cell_type": "code",
   "execution_count": 81,
   "metadata": {},
   "outputs": [],
   "source": [
    "import pandas as pd\n",
    "import matplotlib.pyplot as plt\n",
    "from sklearn.preprocessing import StandardScaler, MinMaxScaler\n",
    "from sklearn.model_selection import train_test_split, GridSearchCV\n",
    "from sklearn.linear_model import LogisticRegression\n",
    "from sklearn.ensemble import RandomForestClassifier\n",
    "from sklearn.tree import DecisionTreeClassifier\n",
    "from sklearn.dummy import DummyClassifier\n",
    "import itertools\n",
    "from statsmodels.api import Logit\n",
    "from sklearn.decomposition import PCA\n",
    "from sklearn import metrics\n",
    "import numpy as np\n",
    "%matplotlib inline\n",
    "from sklearn.metrics import classification_report"
   ]
  },
  {
   "cell_type": "code",
   "execution_count": 82,
   "metadata": {},
   "outputs": [],
   "source": [
    "from sklearn.model_selection import train_test_split"
   ]
  },
  {
   "cell_type": "code",
   "execution_count": 83,
   "metadata": {},
   "outputs": [],
   "source": [
    "X =final_class_df.loc[:,final_class_df.columns !='is_converted'].as_matrix().astype('float')\n",
    "y = final_class_df['is_converted'].ravel()"
   ]
  },
  {
   "cell_type": "code",
   "execution_count": 84,
   "metadata": {},
   "outputs": [],
   "source": [
    "X_train, X_test, y_train, y_test = train_test_split(X, y, test_size=0.3, random_state=12, stratify=y)"
   ]
  },
  {
   "cell_type": "code",
   "execution_count": 85,
   "metadata": {},
   "outputs": [
    {
     "data": {
      "text/plain": [
       "(2988, 1281)"
      ]
     },
     "execution_count": 85,
     "metadata": {},
     "output_type": "execute_result"
    }
   ],
   "source": [
    "sum(y_train), sum(y_test)"
   ]
  },
  {
   "cell_type": "code",
   "execution_count": 86,
   "metadata": {},
   "outputs": [],
   "source": [
    "# Common functions to train and evaluate model\n",
    "def plot_roc_confusion_matrix(fpr, tpr, auc, title,cm, cmap=plt.cm.Blues):\n",
    "    f, (ax1, ax2) = plt.subplots(1,2, figsize=(14,5))\n",
    "    \n",
    "    # ROC curve\n",
    "    ax1.set_title('ROC Curve : ' +  title)\n",
    "    ax1.set_ylabel('True Positive Rate')\n",
    "    ax1.set_xlabel('False Positive Rate')\n",
    "    ax1.plot(fpr, tpr, 'c', label = 'AUC = {0:.2f}'.format(auc))\n",
    "    ax1.plot([0, 1], [0, 1], linestyle='--', color='grey')\n",
    "    ax1.set_xlim([0, 1])\n",
    "    ax1.set_ylim([0, 1])\n",
    "    ax1.legend(loc='best')\n",
    "    \n",
    "    # Confusion matrix\n",
    "    classes = ['Not Converted', 'Converted']\n",
    "    im = ax2.imshow(cm, interpolation='nearest', cmap=cmap)\n",
    "    ax2.set_title('Confusion Matrix')\n",
    "    f.colorbar(im, ax=ax2)\n",
    "    tick_marks = np.arange(len(classes))\n",
    "    ax2.set_xticks(tick_marks)\n",
    "    ax2.set_xticklabels(classes)\n",
    "    ax2.set_yticks(tick_marks)\n",
    "    ax2.set_yticklabels(classes)\n",
    "    ax2.set_ylabel('True label')\n",
    "    ax2.set_xlabel('Predicted label')\n",
    "    thresh = cm.max() / 2.\n",
    "    for i, j in itertools.product(range(cm.shape[0]), range(cm.shape[1])):\n",
    "        plt.text(j, i, cm[i, j],horizontalalignment=\"center\", \n",
    "                 color=\"white\" if cm[i, j] > thresh else \"black\")\n",
    "    plt.grid(False)\n",
    "    \n",
    "    plt.tight_layout()\n",
    "    plt.show()\n",
    "    \n",
    "# Show Confusion Matrix\n",
    "def plot_confusion_matrix(cm, cmap=plt.cm.Blues):\n",
    "    ''' Show confusion matrix plot\n",
    "    '''\n",
    "    classes = ['Not Converted', 'Converted']\n",
    "    plt.figure(figsize=(5,3))\n",
    "    plt.imshow(cm, interpolation='nearest', cmap=cmap)\n",
    "    plt.title('Confusion Matrix')\n",
    "    plt.colorbar()\n",
    "    tick_marks = np.arange(len(classes))\n",
    "    plt.xticks(tick_marks, classes, rotation=45)\n",
    "    plt.yticks(tick_marks, classes)\n",
    "    plt.tight_layout()\n",
    "    plt.ylabel('True label')\n",
    "    plt.xlabel('Predicted label')\n",
    "    for i, j in itertools.product(range(cm.shape[0]), range(cm.shape[1])):\n",
    "        plt.text(j, i, cm[i, j],\n",
    "                 horizontalalignment=\"center\",\n",
    "                 color=\"c\")\n",
    "    plt.grid(False)\n",
    "    \n",
    "\n",
    "\n",
    "# Plot ROC curve\n",
    "def Plot_ROC_Curve(fpr, tpr, auc, title):\n",
    "    f, ax = plt.subplots(figsize=(6,4))\n",
    "    ax.set_title('ROC Curve : ' +  title)\n",
    "    ax.set_ylabel('True Positive Rate')\n",
    "    ax.set_xlabel('False Positive Rate')\n",
    "    ax.plot(fpr, tpr, 'c', label = 'AUC = {0:.2f}'.format(auc))\n",
    "    ax.plot([0, 1], [0, 1], linestyle='--', color='grey')\n",
    "    ax.set_xlim([0, 1])\n",
    "    ax.set_ylim([0, 1])\n",
    "    plt.legend(loc = 'best')\n",
    "    plt.tight_layout()\n",
    "    plt.show()\n",
    "\n",
    "# Get Model report\n",
    "def Model_Report(model, title, X_train, y_train, X_test, y_test, trained=False):\n",
    "    print('Model : ', title)\n",
    "    # Fit the model using training data if not already trained\n",
    "    if trained == False:\n",
    "        model.fit(X_train,y_train)\n",
    "    # get the predicted labels\n",
    "    test_preds = model.predict(X_test)\n",
    "    # get the predicted probabilities\n",
    "    test_preds_proba = model.predict_proba(X_test)[:,1]\n",
    "    # get the false positive rate and true positive rate\n",
    "    fpr, tpr, _ = metrics.roc_curve(y_test, test_preds_proba)\n",
    "    # calculate AUC (area under the curve)\n",
    "    auc = metrics.auc(fpr,tpr)\n",
    "    print('Model Report')\n",
    "    print('Test Accuracy : {0:.2f}'.format(metrics.accuracy_score(y_test, test_preds)))\n",
    "    print('Test AUC :{0:.2f}'.format(auc))\n",
    "    cm = metrics.confusion_matrix(y_test, test_preds)\n",
    "    # plot ROC and Confusion Matrix\n",
    "    plot_roc_confusion_matrix(fpr, tpr, auc, title, cm)\n",
    "    print(classification_report(y_test, test_preds,\n",
    "                            target_names=[\"visitors\", \"Buyers\"]))\n",
    "    return model, fpr, tpr, auc\n",
    "\n",
    "# Compare ROC Curves from different models\n",
    "def Compare_ROC_Curve(metrics_list):\n",
    "    f, ax = plt.subplots(figsize=(6,4))\n",
    "    ax.set_title('ROC Curve Comparison ')\n",
    "    ax.set_ylabel('True Positive Rate')\n",
    "    ax.set_xlabel('False Positive Rate')\n",
    "    for fpr, tpr, auc, title in metrics_list:\n",
    "        ax.plot(fpr, tpr, label = 'AUC ({0}) = {1:.2f}'.format(title,auc))\n",
    "    ax.plot([0, 1], [0, 1], linestyle='--', color='grey')\n",
    "    ax.set_xlim([0, 1])\n",
    "    ax.set_ylim([0, 1])\n",
    "    plt.legend(loc = 'best')\n",
    "    plt.tight_layout()\n",
    "    plt.show()\n",
    "    \n",
    "def Perform_Grid_Search(model, param_grid, X_train, y_train, cv=None,scoring='roc_auc'):\n",
    "    # Using GridSearchCV to perform GridSearch,  Default Scoring metrics : AUC\n",
    "    grid = GridSearchCV(verbose=1,estimator=model,param_grid=param_grid, scoring=scoring)\n",
    "    # Fit the grid using original training data\n",
    "    grid_result = grid.fit(X_train, y_train)\n",
    "    # Best Score\n",
    "    print('Best Score: ', grid_result.best_score_)\n",
    "    # Best Parameters\n",
    "    print('Best Parameters: ', grid_result.best_params_)\n",
    "    return grid_result.best_score_, grid_result.best_params_, grid_result.best_estimator_\n",
    "    "
   ]
  },
  {
   "cell_type": "code",
   "execution_count": 87,
   "metadata": {},
   "outputs": [
    {
     "name": "stdout",
     "output_type": "stream",
     "text": [
      "Model :  Logistic Regression\n",
      "Model Report\n",
      "Test Accuracy : 0.53\n",
      "Test AUC :0.50\n"
     ]
    },
    {
     "data": {
      "image/png": "[encoded data removed]",
      "text/plain": [
       "<matplotlib.figure.Figure at 0x7fa552ca0ef0>"
      ]
     },
     "metadata": {},
     "output_type": "display_data"
    },
    {
     "name": "stdout",
     "output_type": "stream",
     "text": [
      "             precision    recall  f1-score   support\n",
      "\n",
      "   visitors       0.85      0.54      0.66      7212\n",
      "     Buyers       0.15      0.47      0.23      1281\n",
      "\n",
      "avg / total       0.75      0.53      0.60      8493\n",
      "\n"
     ]
    }
   ],
   "source": [
    "# Create Logistic Regression Model\n",
    "# We are using class_weight to be balanced so that weights are adjusted as per output class proportion\n",
    "model = LogisticRegression(class_weight='balanced', random_state=99)\n",
    "model_lr, fpr_lr, tpr_lr, auc_lr = Model_Report(model,'Logistic Regression', X_train, y_train, X_test, y_test)"
   ]
  },
  {
   "cell_type": "code",
   "execution_count": 63,
   "metadata": {},
   "outputs": [
    {
     "name": "stdout",
     "output_type": "stream",
     "text": [
      "Model :  Random Forest\n",
      "Model Report\n",
      "Test Accuracy : 0.78\n",
      "Test AUC :0.50\n"
     ]
    },
    {
     "data": {
      "image/png": "[encoded data removed]",
      "text/plain": [
       "<matplotlib.figure.Figure at 0x7fa551a12128>"
      ]
     },
     "metadata": {},
     "output_type": "display_data"
    },
    {
     "name": "stdout",
     "output_type": "stream",
     "text": [
      "             precision    recall  f1-score   support\n",
      "\n",
      "   visitors       0.90      0.84      0.87     15899\n",
      "     Buyers       0.10      0.15      0.12      1728\n",
      "\n",
      "avg / total       0.82      0.78      0.80     17627\n",
      "\n"
     ]
    }
   ],
   "source": [
    "\n",
    "model = RandomForestClassifier(random_state=99,n_estimators = 10,min_samples_leaf=100, class_weight='balanced')\n",
    "model_rf, fpr_rf, tpr_rf, auc_rf = Model_Report(model,'Random Forest', X_train, y_train, X_test, y_test)"
   ]
  },
  {
   "cell_type": "code",
   "execution_count": null,
   "metadata": {},
   "outputs": [],
   "source": []
  },
  {
   "cell_type": "code",
   "execution_count": null,
   "metadata": {},
   "outputs": [],
   "source": []
  },
  {
   "cell_type": "markdown",
   "metadata": {},
   "source": [
    "## Word Embeddings"
   ]
  },
  {
   "cell_type": "code",
   "execution_count": 35,
   "metadata": {},
   "outputs": [],
   "source": [
    "from gensim.models import Word2Vec"
   ]
  },
  {
   "cell_type": "code",
   "execution_count": 36,
   "metadata": {},
   "outputs": [],
   "source": [
    "# train model\n",
    "model = Word2Vec(df_test['features'])"
   ]
  },
  {
   "cell_type": "code",
   "execution_count": 37,
   "metadata": {},
   "outputs": [
    {
     "name": "stdout",
     "output_type": "stream",
     "text": [
      "Word2Vec(vocab=23, size=100, alpha=0.025)\n"
     ]
    }
   ],
   "source": [
    "# summarize the loaded model\n",
    "print(model)"
   ]
  },
  {
   "cell_type": "code",
   "execution_count": 38,
   "metadata": {},
   "outputs": [],
   "source": [
    "# summarize vocabulary\n",
    "words = list(model.wv.vocab)"
   ]
  },
  {
   "cell_type": "code",
   "execution_count": 39,
   "metadata": {},
   "outputs": [
    {
     "name": "stdout",
     "output_type": "stream",
     "text": [
      "['homepage', 'vehiclenew', 'specifications', 'accessories', 'design', 'features', 'dealerfinder', 'directselling', 'contactus', 'offers', 'characteristics', 'performance', 'testdrive', 'selectvehicle', 'selectdealer', 'testdriveconfirmation', 'manuals', 'experience', 'others', 'warranty', 'pcd', 'periodicreview', 'services']\n"
     ]
    }
   ],
   "source": [
    "print(words)"
   ]
  },
  {
   "cell_type": "code",
   "execution_count": 41,
   "metadata": {},
   "outputs": [
    {
     "name": "stdout",
     "output_type": "stream",
     "text": [
      "[  1.93176135e-01  -8.10505807e-01   2.47006401e-01  -1.42927423e-01\n",
      "  -4.29099321e-01  -5.30267879e-02   4.03574668e-04  -2.65440881e-01\n",
      "   3.59653056e-01   2.38276228e-01   5.57534158e-01   2.43672401e-01\n",
      "  -6.52929425e-01  -1.72729000e-01  -7.25569576e-02  -2.36851186e-01\n",
      "  -2.81817466e-01   2.16679052e-01   1.27564237e-01   4.38337117e-01\n",
      "  -3.26112658e-01   7.42170820e-03  -5.08978628e-02   2.18759820e-01\n",
      "  -1.90164968e-01   3.57893348e-01   4.37918812e-01  -5.70148647e-01\n",
      "   3.12233657e-01   3.46350551e-01   3.66084099e-01  -4.27795440e-01\n",
      "   2.55788863e-02   3.29759985e-01  -2.77751386e-01   3.18462327e-02\n",
      "  -1.81212544e-01   3.55157673e-01   2.62764785e-02  -6.93437338e-01\n",
      "  -2.53659010e-01   5.29482186e-01  -2.88212985e-01   5.86108029e-01\n",
      "   1.86107740e-01   7.13820755e-01   2.51812547e-01  -2.23107114e-01\n",
      "  -7.18821362e-02   1.60312831e-01  -4.54970330e-01  -4.59379070e-02\n",
      "  -8.56774449e-01  -4.97794271e-01   1.45525753e-01   6.46535873e-01\n",
      "   5.70277870e-01  -2.88405389e-01  -6.17844164e-01   7.74079338e-02\n",
      "   6.34011388e-01  -2.77310789e-01   1.36876985e-01  -3.47846627e-01\n",
      "  -1.83323771e-02   3.04523796e-01   3.35623026e-01  -8.48731473e-02\n",
      "   3.58091056e-01  -7.54120052e-01   2.54861206e-01   2.37371773e-01\n",
      "  -2.02663884e-01   3.60114187e-01   3.76266241e-02  -4.56571169e-02\n",
      "  -3.59831184e-01   1.84921876e-01  -1.61582995e-02  -9.16183472e-01\n",
      "   3.93322222e-02   3.82925183e-01  -7.14372937e-03   3.71509157e-02\n",
      "   1.06096871e-01   4.31547016e-01  -5.68117201e-01  -2.31704637e-01\n",
      "  -7.56183565e-01   1.32554725e-01   1.35829613e-01  -6.02087736e-01\n",
      "  -4.96003598e-01   5.79515755e-01   2.87678480e-01   8.71355951e-01\n",
      "   3.97494212e-02   5.24373889e-01  -3.95156562e-01  -7.94899389e-02]\n"
     ]
    },
    {
     "name": "stderr",
     "output_type": "stream",
     "text": [
      "/opt/conda/lib/python3.6/site-packages/ipykernel_launcher.py:1: DeprecationWarning: Call to deprecated `__getitem__` (Method will be removed in 4.0.0, use self.wv.__getitem__() instead).\n",
      "  \"\"\"Entry point for launching an IPython kernel.\n"
     ]
    }
   ],
   "source": [
    "print(model['vehiclenew'])"
   ]
  },
  {
   "cell_type": "code",
   "execution_count": 42,
   "metadata": {},
   "outputs": [
    {
     "name": "stderr",
     "output_type": "stream",
     "text": [
      "/opt/conda/lib/python3.6/site-packages/ipykernel_launcher.py:1: DeprecationWarning: Call to deprecated `__getitem__` (Method will be removed in 4.0.0, use self.wv.__getitem__() instead).\n",
      "  \"\"\"Entry point for launching an IPython kernel.\n"
     ]
    }
   ],
   "source": [
    "X=model[model.wv.vocab]"
   ]
  },
  {
   "cell_type": "code",
   "execution_count": 43,
   "metadata": {},
   "outputs": [
    {
     "data": {
      "text/plain": [
       "(23, 100)"
      ]
     },
     "execution_count": 43,
     "metadata": {},
     "output_type": "execute_result"
    }
   ],
   "source": [
    "X.shape"
   ]
  },
  {
   "cell_type": "markdown",
   "metadata": {},
   "source": [
    "## PCA "
   ]
  },
  {
   "cell_type": "code",
   "execution_count": 44,
   "metadata": {},
   "outputs": [],
   "source": [
    "from sklearn.decomposition import PCA\n",
    "import matplotlib.pyplot as plt\n",
    "%matplotlib inline"
   ]
  },
  {
   "cell_type": "code",
   "execution_count": 45,
   "metadata": {},
   "outputs": [],
   "source": [
    "pca = PCA(n_components=2)\n",
    "result = pca.fit_transform(X)"
   ]
  },
  {
   "cell_type": "code",
   "execution_count": 48,
   "metadata": {},
   "outputs": [
    {
     "data": {
      "image/png": "[encoded data removed]",
      "text/plain": [
       "<matplotlib.figure.Figure at 0x7fbdfad969b0>"
      ]
     },
     "metadata": {},
     "output_type": "display_data"
    }
   ],
   "source": [
    "# plotting with words\n",
    "\n",
    "# create a scatter plot of the projection\n",
    "plt.figure(figsize=(10,10))\n",
    "plt.scatter(result[:, 0], result[:, 1])\n",
    "words = list(model.wv.vocab)\n",
    "\n",
    "\n",
    "for i,word in enumerate(words):\n",
    "    \n",
    "    plt.annotate(word,horizontalalignment='right', verticalalignment='top',xy=(result[i, 0], result[i, 1]))\n",
    "\n",
    "plt.show()"
   ]
  },
  {
   "cell_type": "code",
   "execution_count": null,
   "metadata": {},
   "outputs": [],
   "source": []
  },
  {
   "cell_type": "code",
   "execution_count": null,
   "metadata": {},
   "outputs": [],
   "source": []
  },
  {
   "cell_type": "markdown",
   "metadata": {},
   "source": [
    "# T-sne Plots"
   ]
  },
  {
   "cell_type": "code",
   "execution_count": 49,
   "metadata": {},
   "outputs": [],
   "source": [
    "df_tsne=df_test.sample(7000)"
   ]
  },
  {
   "cell_type": "code",
   "execution_count": 50,
   "metadata": {},
   "outputs": [],
   "source": [
    "df_tsne = df_tsne.reset_index(drop=True)"
   ]
  },
  {
   "cell_type": "code",
   "execution_count": 51,
   "metadata": {},
   "outputs": [],
   "source": [
    "def label_sentences(df_tsne):\n",
    "    labeled_sentences = []\n",
    "    for index, datapoint in df_tsne.iterrows():\n",
    "        tokenized_words = datapoint['features']\n",
    "        labeled_sentences.append(LabeledSentence(words=tokenized_words, tags=['SENT_%s' %index]))\n",
    "    return labeled_sentences"
   ]
  },
  {
   "cell_type": "code",
   "execution_count": 52,
   "metadata": {},
   "outputs": [
    {
     "name": "stderr",
     "output_type": "stream",
     "text": [
      "/opt/conda/lib/python3.6/site-packages/ipykernel_launcher.py:5: DeprecationWarning: Call to deprecated `LabeledSentence` (Class will be removed in 4.0.0, use TaggedDocument instead).\n",
      "  \"\"\"\n"
     ]
    }
   ],
   "source": [
    "def train_doc2vec_model(labeled_sentences):\n",
    "    model = Doc2Vec(min_count=1,alpha=0.025, min_alpha=0.025)\n",
    "    model.build_vocab(labeled_sentences)\n",
    "\n",
    "    \n",
    "    return model\n",
    "\n",
    "sen = label_sentences(df_tsne)\n",
    "model = train_doc2vec_model(sen)"
   ]
  },
  {
   "cell_type": "code",
   "execution_count": 53,
   "metadata": {},
   "outputs": [
    {
     "name": "stdout",
     "output_type": "stream",
     "text": [
      "                                            features         output  Length  \\\n",
      "0  [vehiclenew, design, specifications, vehiclene...       homepage      18   \n",
      "1  [dealerfinder, directselling, dealerfinder, di...  directselling       9   \n",
      "\n",
      "                                 vectorized_comments  \n",
      "0  [0.00454655, -0.00367942, 0.00179465, 0.002506...  \n",
      "1  [0.000788649, 7.21791e-05, 0.00453595, -0.0003...  \n"
     ]
    }
   ],
   "source": [
    "def vectorize_comments(df_tsne,d2v_model):\n",
    "    y = []\n",
    "    comments = []\n",
    "    for i in range(0,df_tsne.shape[0]):\n",
    "        label = 'SENT_%s' %i\n",
    "        comments.append(d2v_model.docvecs[label])\n",
    "    df_tsne['vectorized_comments'] = comments\n",
    "    \n",
    "    return df_tsne\n",
    "\n",
    "df_tsne = vectorize_comments(df_tsne,model)\n",
    "print (df_tsne.head(2))"
   ]
  },
  {
   "cell_type": "code",
   "execution_count": 54,
   "metadata": {},
   "outputs": [
    {
     "data": {
      "text/html": [
       "<div>\n",
       "<table border=\"1\" class=\"dataframe\">\n",
       "  <thead>\n",
       "    <tr style=\"text-align: right;\">\n",
       "      <th></th>\n",
       "      <th>features</th>\n",
       "      <th>output</th>\n",
       "      <th>Length</th>\n",
       "      <th>vectorized_comments</th>\n",
       "    </tr>\n",
       "  </thead>\n",
       "  <tbody>\n",
       "    <tr>\n",
       "      <th>0</th>\n",
       "      <td>[vehiclenew, design, specifications, vehiclene...</td>\n",
       "      <td>homepage</td>\n",
       "      <td>18</td>\n",
       "      <td>[0.00454655, -0.00367942, 0.00179465, 0.002506...</td>\n",
       "    </tr>\n",
       "    <tr>\n",
       "      <th>1</th>\n",
       "      <td>[dealerfinder, directselling, dealerfinder, di...</td>\n",
       "      <td>directselling</td>\n",
       "      <td>9</td>\n",
       "      <td>[0.000788649, 7.21791e-05, 0.00453595, -0.0003...</td>\n",
       "    </tr>\n",
       "    <tr>\n",
       "      <th>2</th>\n",
       "      <td>[offers, vehiclenew, design, specifications, d...</td>\n",
       "      <td>offers</td>\n",
       "      <td>6</td>\n",
       "      <td>[-0.00273082, 0.00104955, -0.00150479, 0.00380...</td>\n",
       "    </tr>\n",
       "    <tr>\n",
       "      <th>3</th>\n",
       "      <td>[directselling, offers, directselling, homepag...</td>\n",
       "      <td>specifications</td>\n",
       "      <td>6</td>\n",
       "      <td>[-0.00242426, 0.00216165, -0.00481924, -0.0001...</td>\n",
       "    </tr>\n",
       "    <tr>\n",
       "      <th>4</th>\n",
       "      <td>[homepage, offers, vehiclenew, characteristics...</td>\n",
       "      <td>experience</td>\n",
       "      <td>15</td>\n",
       "      <td>[0.000628145, 0.00115879, 0.00301222, 0.004532...</td>\n",
       "    </tr>\n",
       "    <tr>\n",
       "      <th>5</th>\n",
       "      <td>[homepage, dealerfinder, homepage, contactus, ...</td>\n",
       "      <td>homepage</td>\n",
       "      <td>6</td>\n",
       "      <td>[0.00464629, 3.04931e-05, 0.00339047, -0.00198...</td>\n",
       "    </tr>\n",
       "    <tr>\n",
       "      <th>6</th>\n",
       "      <td>[homepage, vehiclenew, specifications, homepag...</td>\n",
       "      <td>specifications</td>\n",
       "      <td>7</td>\n",
       "      <td>[0.00226221, -0.00201379, 0.00233517, 0.002973...</td>\n",
       "    </tr>\n",
       "    <tr>\n",
       "      <th>7</th>\n",
       "      <td>[homepage, dealerfinder, testdrive, selectvehi...</td>\n",
       "      <td>dealerfinder</td>\n",
       "      <td>5</td>\n",
       "      <td>[-0.0018301, 0.00425973, 0.00054143, 0.0014656...</td>\n",
       "    </tr>\n",
       "    <tr>\n",
       "      <th>8</th>\n",
       "      <td>[vehiclenew, homepage, vehiclenew, specificati...</td>\n",
       "      <td>dropped</td>\n",
       "      <td>6</td>\n",
       "      <td>[-0.00348123, -0.00440645, -0.00307208, 6.0435...</td>\n",
       "    </tr>\n",
       "    <tr>\n",
       "      <th>9</th>\n",
       "      <td>[vehiclenew, homepage, vehiclenew, homepage, v...</td>\n",
       "      <td>vehiclenew</td>\n",
       "      <td>9</td>\n",
       "      <td>[0.00212142, 0.0046394, 0.00107941, -0.0048653...</td>\n",
       "    </tr>\n",
       "  </tbody>\n",
       "</table>\n",
       "</div>"
      ],
      "text/plain": [
       "                                            features          output  Length  \\\n",
       "0  [vehiclenew, design, specifications, vehiclene...        homepage      18   \n",
       "1  [dealerfinder, directselling, dealerfinder, di...   directselling       9   \n",
       "2  [offers, vehiclenew, design, specifications, d...          offers       6   \n",
       "3  [directselling, offers, directselling, homepag...  specifications       6   \n",
       "4  [homepage, offers, vehiclenew, characteristics...      experience      15   \n",
       "5  [homepage, dealerfinder, homepage, contactus, ...        homepage       6   \n",
       "6  [homepage, vehiclenew, specifications, homepag...  specifications       7   \n",
       "7  [homepage, dealerfinder, testdrive, selectvehi...    dealerfinder       5   \n",
       "8  [vehiclenew, homepage, vehiclenew, specificati...         dropped       6   \n",
       "9  [vehiclenew, homepage, vehiclenew, homepage, v...      vehiclenew       9   \n",
       "\n",
       "                                 vectorized_comments  \n",
       "0  [0.00454655, -0.00367942, 0.00179465, 0.002506...  \n",
       "1  [0.000788649, 7.21791e-05, 0.00453595, -0.0003...  \n",
       "2  [-0.00273082, 0.00104955, -0.00150479, 0.00380...  \n",
       "3  [-0.00242426, 0.00216165, -0.00481924, -0.0001...  \n",
       "4  [0.000628145, 0.00115879, 0.00301222, 0.004532...  \n",
       "5  [0.00464629, 3.04931e-05, 0.00339047, -0.00198...  \n",
       "6  [0.00226221, -0.00201379, 0.00233517, 0.002973...  \n",
       "7  [-0.0018301, 0.00425973, 0.00054143, 0.0014656...  \n",
       "8  [-0.00348123, -0.00440645, -0.00307208, 6.0435...  \n",
       "9  [0.00212142, 0.0046394, 0.00107941, -0.0048653...  "
      ]
     },
     "execution_count": 54,
     "metadata": {},
     "output_type": "execute_result"
    }
   ],
   "source": [
    "df_tsne.head(10)"
   ]
  },
  {
   "cell_type": "code",
   "execution_count": 55,
   "metadata": {},
   "outputs": [
    {
     "data": {
      "text/plain": [
       "100"
      ]
     },
     "execution_count": 55,
     "metadata": {},
     "output_type": "execute_result"
    }
   ],
   "source": [
    "len(df_tsne.vectorized_comments[0])"
   ]
  },
  {
   "cell_type": "code",
   "execution_count": 56,
   "metadata": {},
   "outputs": [],
   "source": [
    "import pandas as pd"
   ]
  },
  {
   "cell_type": "code",
   "execution_count": 57,
   "metadata": {},
   "outputs": [],
   "source": [
    "df_new=pd.DataFrame(df_tsne.vectorized_comments.values.tolist(), index= df_tsne.index)"
   ]
  },
  {
   "cell_type": "code",
   "execution_count": 58,
   "metadata": {},
   "outputs": [
    {
     "data": {
      "text/plain": [
       "(7000, 100)"
      ]
     },
     "execution_count": 58,
     "metadata": {},
     "output_type": "execute_result"
    }
   ],
   "source": [
    "df_new.shape"
   ]
  },
  {
   "cell_type": "code",
   "execution_count": 68,
   "metadata": {},
   "outputs": [
    {
     "name": "stdout",
     "output_type": "stream",
     "text": [
      "[t-SNE] Computing 181 nearest neighbors...\n",
      "[t-SNE] Indexed 7000 samples in 0.025s...\n",
      "[t-SNE] Computed neighbors for 7000 samples in 8.807s...\n",
      "[t-SNE] Computed conditional probabilities for sample 1000 / 7000\n",
      "[t-SNE] Computed conditional probabilities for sample 2000 / 7000\n",
      "[t-SNE] Computed conditional probabilities for sample 3000 / 7000\n",
      "[t-SNE] Computed conditional probabilities for sample 4000 / 7000\n",
      "[t-SNE] Computed conditional probabilities for sample 5000 / 7000\n",
      "[t-SNE] Computed conditional probabilities for sample 6000 / 7000\n",
      "[t-SNE] Computed conditional probabilities for sample 7000 / 7000\n",
      "[t-SNE] Mean sigma: 0.007365\n",
      "[t-SNE] KL divergence after 250 iterations with early exaggeration: 83.915939\n",
      "[t-SNE] Error after 300 iterations: 4.380549\n",
      "t-SNE done! Time elapsed: 94.3802101612091 seconds\n"
     ]
    }
   ],
   "source": [
    "import time\n",
    "\n",
    "from sklearn.manifold import TSNE\n",
    "\n",
    "n_sne = 7000\n",
    "\n",
    "time_start = time.time()\n",
    "tsne = TSNE(n_components=2, verbose=1, perplexity=60, n_iter=300)\n",
    "tsne_results = tsne.fit_transform(df_new)\n",
    "\n",
    "print('t-SNE done! Time elapsed: {} seconds'.format(time.time()-time_start))"
   ]
  },
  {
   "cell_type": "code",
   "execution_count": 69,
   "metadata": {},
   "outputs": [
    {
     "data": {
      "image/png": "[encoded data removed]",
      "text/plain": [
       "<matplotlib.figure.Figure at 0x7fbe0fd76a20>"
      ]
     },
     "metadata": {},
     "output_type": "display_data"
    }
   ],
   "source": [
    "import matplotlib.pyplot as plt\n",
    "%matplotlib inline\n",
    "plt.figure(figsize=(10, 10))\n",
    "plt.scatter(tsne_results[:, 0], tsne_results[:, 1]);\n",
    "plt.xticks(()); plt.yticks(());\n",
    "plt.show()"
   ]
  },
  {
   "cell_type": "code",
   "execution_count": 47,
   "metadata": {},
   "outputs": [
    {
     "name": "stdout",
     "output_type": "stream",
     "text": [
      "Collecting MulticoreTSNE\n",
      "  Downloading MulticoreTSNE-0.0.1.1-py2.py3-none-manylinux1_x86_64.whl (52kB)\n",
      "\u001b[K    100% |████████████████████████████████| 61kB 626kB/s ta 0:00:01\n",
      "\u001b[?25hRequirement already satisfied: cffi in /opt/conda/lib/python3.6/site-packages (from MulticoreTSNE)\n",
      "Requirement already satisfied: numpy in /opt/conda/lib/python3.6/site-packages (from MulticoreTSNE)\n",
      "Requirement already satisfied: pycparser in /opt/conda/lib/python3.6/site-packages (from cffi->MulticoreTSNE)\n",
      "Installing collected packages: MulticoreTSNE\n",
      "Successfully installed MulticoreTSNE-0.0.1.1\n",
      "\u001b[33mYou are using pip version 9.0.1, however version 9.0.2 is available.\n",
      "You should consider upgrading via the 'pip install --upgrade pip' command.\u001b[0m\n"
     ]
    }
   ],
   "source": [
    "!pip install MulticoreTSNE"
   ]
  },
  {
   "cell_type": "code",
   "execution_count": 48,
   "metadata": {},
   "outputs": [],
   "source": [
    "from MulticoreTSNE import MulticoreTSNE as TSNE"
   ]
  },
  {
   "cell_type": "code",
   "execution_count": 138,
   "metadata": {},
   "outputs": [],
   "source": [
    "tsne = TSNE(n_jobs=4,perplexity=10,n_iter=300,n_jobs=)\n",
    "Y = tsne.fit_transform(df_new)"
   ]
  },
  {
   "cell_type": "code",
   "execution_count": 139,
   "metadata": {},
   "outputs": [
    {
     "data": {
      "image/png": "[encoded data removed]",
      "text/plain": [
       "<matplotlib.figure.Figure at 0x7fe10c1647f0>"
      ]
     },
     "metadata": {},
     "output_type": "display_data"
    }
   ],
   "source": [
    "import matplotlib.pyplot as plt\n",
    "%matplotlib inline\n",
    "plt.figure(figsize=(10, 10))\n",
    "plt.scatter(Y[:, 0], Y[:, 1]);\n",
    "plt.xticks(()); plt.yticks(());\n",
    "plt.show()"
   ]
  },
  {
   "cell_type": "code",
   "execution_count": null,
   "metadata": {},
   "outputs": [],
   "source": []
  },
  {
   "cell_type": "code",
   "execution_count": 26,
   "metadata": {},
   "outputs": [
    {
     "data": {
      "text/plain": [
       "257496"
      ]
     },
     "execution_count": 26,
     "metadata": {},
     "output_type": "execute_result"
    }
   ],
   "source": [
    "len(pd_df[(pd_df.output == 'dropped')])"
   ]
  },
  {
   "cell_type": "code",
   "execution_count": 27,
   "metadata": {},
   "outputs": [],
   "source": [
    "import numpy as np"
   ]
  },
  {
   "cell_type": "code",
   "execution_count": 28,
   "metadata": {},
   "outputs": [
    {
     "name": "stderr",
     "output_type": "stream",
     "text": [
      "Using TensorFlow backend.\n"
     ]
    }
   ],
   "source": [
    "from sklearn.feature_extraction.text import CountVectorizer\n",
    "from keras.preprocessing.text import Tokenizer\n",
    "from keras.preprocessing.sequence import pad_sequences\n",
    "from keras.models import Sequential\n",
    "from keras.layers import Dense, Embedding, LSTM\n",
    "from sklearn.model_selection import train_test_split\n",
    "\n"
   ]
  },
  {
   "cell_type": "code",
   "execution_count": 29,
   "metadata": {},
   "outputs": [
    {
     "data": {
      "text/plain": [
       "(680856, 3)"
      ]
     },
     "execution_count": 29,
     "metadata": {},
     "output_type": "execute_result"
    }
   ],
   "source": [
    "#validating shape of final dataset\n",
    "pd_df.shape"
   ]
  },
  {
   "cell_type": "code",
   "execution_count": 30,
   "metadata": {},
   "outputs": [
    {
     "name": "stdout",
     "output_type": "stream",
     "text": [
      "56\n"
     ]
    }
   ],
   "source": [
    "#creating max length variable\n",
    "max_length=max(pd_df.Length)\n",
    "print(max_length)"
   ]
  },
  {
   "cell_type": "code",
   "execution_count": 31,
   "metadata": {},
   "outputs": [],
   "source": [
    "#using tokenizer to convert features into numerical vectors\n",
    "tokenizer = Tokenizer(num_words=max_length, split=' ')\n",
    "tokenizer.fit_on_texts(pd_df['processed_features'].values)\n",
    "#creating sequence vectors \n",
    "X = tokenizer.texts_to_sequences(pd_df['processed_features'].values)\n",
    "#padding to make each input vector of same length as max length \n",
    "X = pad_sequences(X,maxlen=max_length)"
   ]
  },
  {
   "cell_type": "code",
   "execution_count": 32,
   "metadata": {},
   "outputs": [
    {
     "name": "stdout",
     "output_type": "stream",
     "text": [
      "{'vehicle': 1, 'homepage': 2, 'promo': 3, 'form': 4, 'specifications': 5, 'others': 6, 'design': 7, 'finance': 8, 'features': 9, 'performance': 10, 'dealerfinder': 11, 'aftersales': 12, 'testdrive': 13, 'article': 14, 'press': 15, 'accessories': 16, 'career': 17, 'experience': 18, 'owners': 19, 'testdriveconfirmation': 20}\n"
     ]
    },
    {
     "data": {
      "text/plain": [
       "20"
      ]
     },
     "execution_count": 32,
     "metadata": {},
     "output_type": "execute_result"
    }
   ],
   "source": [
    "word_index=tokenizer.word_index\n",
    "print(word_index)\n",
    "len(word_index)"
   ]
  },
  {
   "cell_type": "code",
   "execution_count": 33,
   "metadata": {},
   "outputs": [
    {
     "data": {
      "text/plain": [
       "(680856, 56)"
      ]
     },
     "execution_count": 33,
     "metadata": {},
     "output_type": "execute_result"
    }
   ],
   "source": [
    "#validating shape of new df after tokenization\n",
    "X.shape"
   ]
  },
  {
   "cell_type": "code",
   "execution_count": 33,
   "metadata": {},
   "outputs": [
    {
     "data": {
      "text/plain": [
       "array([[ 0,  0,  0, ...,  0,  0,  1],\n",
       "       [ 0,  0,  0, ...,  0,  0, 17],\n",
       "       [ 0,  0,  0, ...,  0,  0,  5],\n",
       "       ..., \n",
       "       [ 0,  0,  0, ...,  0,  0,  1],\n",
       "       [ 0,  0,  0, ...,  0,  0,  1],\n",
       "       [ 0,  0,  0, ...,  0,  1,  5]], dtype=int32)"
      ]
     },
     "execution_count": 33,
     "metadata": {},
     "output_type": "execute_result"
    }
   ],
   "source": [
    "X"
   ]
  },
  {
   "cell_type": "code",
   "execution_count": 35,
   "metadata": {},
   "outputs": [],
   "source": [
    "import pandas as pd"
   ]
  },
  {
   "cell_type": "code",
   "execution_count": 36,
   "metadata": {},
   "outputs": [
    {
     "name": "stdout",
     "output_type": "stream",
     "text": [
      "(510642, 56) (510642, 21)\n",
      "(170214, 56) (170214, 21)\n"
     ]
    }
   ],
   "source": [
    "Y = pd.get_dummies(pd_df['output']).values\n",
    "train_x, test_x, train_y, test_y = train_test_split(X,Y, test_size = 0.25, random_state = 42)\n",
    "print(train_x.shape,train_y.shape)\n",
    "print(test_x.shape,test_y.shape)"
   ]
  },
  {
   "cell_type": "code",
   "execution_count": 37,
   "metadata": {},
   "outputs": [
    {
     "name": "stderr",
     "output_type": "stream",
     "text": [
      "/opt/conda/lib/python3.6/site-packages/ipykernel_launcher.py:7: UserWarning: Update your `LSTM` call to the Keras 2 API: `LSTM(100, dropout=0.2, recurrent_dropout=0.2)`\n",
      "  import sys\n"
     ]
    },
    {
     "name": "stdout",
     "output_type": "stream",
     "text": [
      "_________________________________________________________________\n",
      "Layer (type)                 Output Shape              Param #   \n",
      "=================================================================\n",
      "embedding_1 (Embedding)      (None, 56, 100)           5600      \n",
      "_________________________________________________________________\n",
      "dense_1 (Dense)              (None, 56, 100)           10100     \n",
      "_________________________________________________________________\n",
      "lstm_1 (LSTM)                (None, 100)               80400     \n",
      "_________________________________________________________________\n",
      "dense_2 (Dense)              (None, 21)                2121      \n",
      "=================================================================\n",
      "Total params: 98,221\n",
      "Trainable params: 98,221\n",
      "Non-trainable params: 0\n",
      "_________________________________________________________________\n",
      "None\n"
     ]
    }
   ],
   "source": [
    "embed_dim = 100\n",
    "lstm_out =100\n",
    "\n",
    "model = Sequential()\n",
    "model.add(Embedding(max_length, embed_dim,input_length = X.shape[1]))\n",
    "model.add(Dense(100,activation='relu'))\n",
    "model.add(LSTM(lstm_out, dropout_U=0.2, dropout_W=0.2))\n",
    "model.add(Dense(21,activation='softmax'))\n",
    "model.compile(loss = 'categorical_crossentropy', optimizer='adam',metrics = ['accuracy'])\n",
    "print(model.summary())"
   ]
  },
  {
   "cell_type": "code",
   "execution_count": 39,
   "metadata": {},
   "outputs": [
    {
     "name": "stdout",
     "output_type": "stream",
     "text": [
      "Epoch 1/10\n",
      " - 446s - loss: 1.5602 - acc: 0.5003\n",
      "Epoch 2/10\n",
      " - 431s - loss: 1.5542 - acc: 0.5008\n",
      "Epoch 3/10\n",
      " - 444s - loss: 1.5497 - acc: 0.5019\n",
      "Epoch 4/10\n",
      " - 452s - loss: 1.5467 - acc: 0.5030\n",
      "Epoch 5/10\n",
      " - 437s - loss: 1.5440 - acc: 0.5034\n",
      "Epoch 6/10\n",
      " - 466s - loss: 1.5419 - acc: 0.5043\n",
      "Epoch 7/10\n",
      " - 508s - loss: 1.5402 - acc: 0.5041\n",
      "Epoch 8/10\n",
      " - 470s - loss: 1.5388 - acc: 0.5048\n",
      "Epoch 9/10\n",
      " - 407s - loss: 1.5374 - acc: 0.5050\n",
      "Epoch 10/10\n",
      " - 425s - loss: 1.5361 - acc: 0.5053\n"
     ]
    },
    {
     "data": {
      "text/plain": [
       "<keras.callbacks.History at 0x7f2f09680e48>"
      ]
     },
     "execution_count": 39,
     "metadata": {},
     "output_type": "execute_result"
    }
   ],
   "source": [
    "batch_size = 1000\n",
    "model.fit(train_x, train_y, epochs = 10, batch_size=batch_size, verbose = 2)"
   ]
  },
  {
   "cell_type": "code",
   "execution_count": 40,
   "metadata": {},
   "outputs": [
    {
     "name": "stdout",
     "output_type": "stream",
     "text": [
      "score: 1.54\n",
      "acc: 0.50\n"
     ]
    }
   ],
   "source": [
    "score,acc = model.evaluate(test_x, test_y, verbose = 2, batch_size = batch_size)\n",
    "print(\"score: %.2f\" % (score))\n",
    "print(\"acc: %.2f\" % (acc))"
   ]
  },
  {
   "cell_type": "code",
   "execution_count": 43,
   "metadata": {},
   "outputs": [],
   "source": [
    "predictions=model.predict(test_x)\n",
    "predictions=np.argmax(predictions,axis=1)"
   ]
  },
  {
   "cell_type": "markdown",
   "metadata": {},
   "source": [
    "## Plot confusion matrix"
   ]
  },
  {
   "cell_type": "code",
   "execution_count": 42,
   "metadata": {},
   "outputs": [],
   "source": [
    "import numpy as np"
   ]
  },
  {
   "cell_type": "code",
   "execution_count": 44,
   "metadata": {},
   "outputs": [],
   "source": [
    "from sklearn.metrics import confusion_matrix,classification_report"
   ]
  },
  {
   "cell_type": "code",
   "execution_count": 45,
   "metadata": {},
   "outputs": [
    {
     "name": "stdout",
     "output_type": "stream",
     "text": [
      "[[   16     0     0     0     0    17   484     0    52     2     0    14\n",
      "      0     0    38     0     3    78     0     0   152]\n",
      " [    0   359     3     1    14     6  1131     4     6     9     7    75\n",
      "     79     7     6     1    38    11     1     0   847]\n",
      " [    1    11    87     0     1     1   204     1     3     2     0     7\n",
      "      3     0     0     0     5     1     0     0   193]\n",
      " [    0     5     1    59     0     0   300     1     1     3     3    33\n",
      "      5     1     1     1    21     3     0     0   292]\n",
      " [    2    33     5     4   115     3  1966     1     8    41    15    91\n",
      "     53     1     6     0   105    18     8     0  1007]\n",
      " [    1     1     1     0     0   363  3359     0    75   110    24   136\n",
      "      1     0   211     0     4   360     0     0   542]\n",
      " [    6   197    47    60    64   264 46196    18   701   595    89   956\n",
      "    353    13   349     3  1034   923     1     0 12344]\n",
      " [    0     9     1     4     2     2   294    77     1    10     1    31\n",
      "      4     2     0     0     6    15     0     0   208]\n",
      " [    1     1     0     0     0    58  1310     0  2334    24     4    47\n",
      "      0     0    20     0     1   240     0     0   425]\n",
      " [    0     9     2     2     1    23  3623     2     7  1088    23   174\n",
      "     13     1     5     0    53    50     0     0   207]\n",
      " [    0    25     5     9    25    29  7477     1    11   338   105   317\n",
      "    189     0     2     0   195   137     0     0  1327]\n",
      " [    2    13     3    19    19    91  4735     2    69   129    32  1475\n",
      "     40     2    33     0   114   198     1     0   859]\n",
      " [    3    24     2     1    29     2  1041     0     3    16    11    17\n",
      "   1055     0     1     0   223    10     0     0   905]\n",
      " [    1    12     0     0     2     0   226     1     0     4     3    11\n",
      "      2    97     0     0     3     2     0     0    52]\n",
      " [    1     2     2     1     0    56  1035     1   194     6    10    40\n",
      "      4     0  1558     0     4    86     0     0   561]\n",
      " [    0    14    10     4     7     2   738     0     9     9     6    31\n",
      "     19     0     1     4    50     4     0     0   300]\n",
      " [    1    33    10     2    46    18  7259     2    23   351    37   272\n",
      "     39     1    10     1  2198    97     6     0  1628]\n",
      " [    3     1     1     0     1   125  3680     1   434    54    21   148\n",
      "      1     0   357     0     3  2682     1     0   363]\n",
      " [    0     6     5     0    11     3  1332     1     2    21     8    48\n",
      "     26     0     2     0    53    11     6     0   216]\n",
      " [    0     1     0     1     0     0     4     0     0     0     0     7\n",
      "      2     0     0     0     5     0     0     0    21]\n",
      " [    2   100    18    11    22    92  5359    15   958    15    16   278\n",
      "    113     2   336     0   375   363     1     0 25871]]\n"
     ]
    }
   ],
   "source": [
    "print(confusion_matrix(np.argmax(test_y,axis=1),predictions))"
   ]
  },
  {
   "cell_type": "code",
   "execution_count": 46,
   "metadata": {
    "scrolled": true
   },
   "outputs": [
    {
     "name": "stdout",
     "output_type": "stream",
     "text": [
      "             precision    recall  f1-score   support\n",
      "\n",
      "          0       0.40      0.02      0.04       856\n",
      "          1       0.42      0.14      0.21      2605\n",
      "          2       0.43      0.17      0.24       520\n",
      "          3       0.33      0.08      0.13       730\n",
      "          4       0.32      0.03      0.06      3482\n",
      "          5       0.31      0.07      0.11      5188\n",
      "          6       0.50      0.72      0.59     64213\n",
      "          7       0.60      0.12      0.19       667\n",
      "          8       0.48      0.52      0.50      4465\n",
      "          9       0.38      0.21      0.27      5283\n",
      "         10       0.25      0.01      0.02     10192\n",
      "         11       0.35      0.19      0.24      7836\n",
      "         12       0.53      0.32      0.39      3343\n",
      "         13       0.76      0.23      0.36       416\n",
      "         14       0.53      0.44      0.48      3561\n",
      "         15       0.40      0.00      0.01      1208\n",
      "         16       0.49      0.18      0.27     12034\n",
      "         17       0.51      0.34      0.41      7876\n",
      "         18       0.24      0.00      0.01      1751\n",
      "         19       0.00      0.00      0.00        41\n",
      "         20       0.54      0.76      0.63     33947\n",
      "\n",
      "avg / total       0.47      0.50      0.45    170214\n",
      "\n"
     ]
    },
    {
     "name": "stderr",
     "output_type": "stream",
     "text": [
      "/opt/conda/lib/python3.6/site-packages/sklearn/metrics/classification.py:1113: UndefinedMetricWarning: Precision and F-score are ill-defined and being set to 0.0 in labels with no predicted samples.\n",
      "  'precision', 'predicted', average, warn_for)\n"
     ]
    }
   ],
   "source": [
    "print(classification_report(np.argmax(test_y,axis=1),predictions))"
   ]
  },
  {
   "cell_type": "code",
   "execution_count": 47,
   "metadata": {},
   "outputs": [],
   "source": [
    "encode=np.argmax(Y[:][:],axis=1)"
   ]
  },
  {
   "cell_type": "code",
   "execution_count": 48,
   "metadata": {},
   "outputs": [],
   "source": [
    "look_up_target=pd_df['output'][:]"
   ]
  },
  {
   "cell_type": "code",
   "execution_count": 49,
   "metadata": {},
   "outputs": [],
   "source": [
    "dic=dict(zip(encode,look_up_target))"
   ]
  },
  {
   "cell_type": "code",
   "execution_count": 51,
   "metadata": {},
   "outputs": [
    {
     "data": {
      "text/plain": [
       "{0: 'accessories',\n",
       " 1: 'aftersales',\n",
       " 2: 'article',\n",
       " 3: 'career',\n",
       " 4: 'dealerfinder',\n",
       " 5: 'design',\n",
       " 6: 'dropped',\n",
       " 7: 'experience',\n",
       " 8: 'features',\n",
       " 9: 'finance',\n",
       " 10: 'form',\n",
       " 11: 'homepage',\n",
       " 12: 'others',\n",
       " 13: 'owners',\n",
       " 14: 'performance',\n",
       " 15: 'press',\n",
       " 16: 'promo',\n",
       " 17: 'specifications',\n",
       " 18: 'testdrive',\n",
       " 19: 'testdriveconfirmation',\n",
       " 20: 'vehicle'}"
      ]
     },
     "execution_count": 51,
     "metadata": {},
     "output_type": "execute_result"
    }
   ],
   "source": [
    "dic"
   ]
  },
  {
   "cell_type": "code",
   "execution_count": null,
   "metadata": {},
   "outputs": [],
   "source": []
  }
 ],
 "metadata": {
  "kernelspec": {
   "display_name": "Python 3",
   "language": "python",
   "name": "python3"
  },
  "language_info": {
   "codemirror_mode": {
    "name": "ipython",
    "version": 3
   },
   "file_extension": ".py",
   "mimetype": "text/x-python",
   "name": "python",
   "nbconvert_exporter": "python",
   "pygments_lexer": "ipython3",
   "version": "3.6.3"
  }
 },
 "nbformat": 4,
 "nbformat_minor": 2
}
