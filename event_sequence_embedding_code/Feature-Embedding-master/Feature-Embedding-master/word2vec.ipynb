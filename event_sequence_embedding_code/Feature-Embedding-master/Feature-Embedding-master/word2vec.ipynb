{
 "cells": [
  {
   "cell_type": "markdown",
   "metadata": {},
   "source": [
    "# Word Embeddings\n",
    "A word embedding is an approach to provide a dense vector representation of words that capture something about their meaning"
   ]
  },
  {
   "cell_type": "markdown",
   "metadata": {},
   "source": [
    "Word embeddings are an improvement over simpler bag-of-word model word encoding schemes like word counts and frequencies that result in large and sparse vectors (mostly 0 values) that describe documents but not the meaning of the words.\n"
   ]
  },
  {
   "cell_type": "markdown",
   "metadata": {},
   "source": [
    "Word embeddings work by using an algorithm to train a set of fixed-length dense and continuous-valued vectors based on a large corpus of text. Each word is represented by a point in the embedding space and these points are learned and moved around based on the words that surround the target word."
   ]
  },
  {
   "cell_type": "markdown",
   "metadata": {},
   "source": [
    "Gensim is an open source Python library for natural language processing, with a focus on topic modeling"
   ]
  },
  {
   "cell_type": "code",
   "execution_count": 2,
   "metadata": {},
   "outputs": [
    {
     "name": "stdout",
     "output_type": "stream",
     "text": [
      "Collecting gensim\n",
      "  Downloading https://files.pythonhosted.org/packages/33/33/df6cb7acdcec5677ed130f4800f67509d24dbec74a03c329fcbf6b0864f0/gensim-3.4.0-cp36-cp36m-manylinux1_x86_64.whl (22.6MB)\n",
      "\u001b[K    100% |████████████████████████████████| 22.6MB 36kB/s eta 0:00:011  13% |████▍                           | 3.1MB 3.7MB/s eta 0:00:06    24% |████████                        | 5.6MB 7.3MB/s eta 0:00:03    28% |█████████                       | 6.4MB 8.4MB/s eta 0:00:02    61% |███████████████████▌            | 13.8MB 11.6MB/s eta 0:00:01\n",
      "\u001b[?25hCollecting smart-open>=1.2.1 (from gensim)\n",
      "  Downloading https://files.pythonhosted.org/packages/4b/69/c92661a333f733510628f28b8282698b62cdead37291c8491f3271677c02/smart_open-1.5.7.tar.gz\n",
      "Requirement already satisfied: six>=1.5.0 in /opt/conda/lib/python3.6/site-packages (from gensim)\n",
      "Requirement already satisfied: numpy>=1.11.3 in /opt/conda/lib/python3.6/site-packages (from gensim)\n",
      "Requirement already satisfied: scipy>=0.18.1 in /opt/conda/lib/python3.6/site-packages (from gensim)\n",
      "Collecting boto>=2.32 (from smart-open>=1.2.1->gensim)\n",
      "  Downloading https://files.pythonhosted.org/packages/bd/b7/a88a67002b1185ed9a8e8a6ef15266728c2361fcb4f1d02ea331e4c7741d/boto-2.48.0-py2.py3-none-any.whl (1.4MB)\n",
      "\u001b[K    100% |████████████████████████████████| 1.4MB 541kB/s ta 0:00:011\n",
      "\u001b[?25hCollecting bz2file (from smart-open>=1.2.1->gensim)\n",
      "  Downloading https://files.pythonhosted.org/packages/61/39/122222b5e85cd41c391b68a99ee296584b2a2d1d233e7ee32b4532384f2d/bz2file-0.98.tar.gz\n",
      "Requirement already satisfied: requests in /opt/conda/lib/python3.6/site-packages (from smart-open>=1.2.1->gensim)\n",
      "Collecting boto3 (from smart-open>=1.2.1->gensim)\n",
      "  Downloading https://files.pythonhosted.org/packages/90/88/acf7e4ec3a31c0d3da51037c6c94cc93a7595d4eb04fbb01e7f4f4e2dbc5/boto3-1.7.31-py2.py3-none-any.whl (128kB)\n",
      "\u001b[K    100% |████████████████████████████████| 133kB 3.0MB/s ta 0:00:011\n",
      "\u001b[?25hRequirement already satisfied: chardet<3.1.0,>=3.0.2 in /opt/conda/lib/python3.6/site-packages (from requests->smart-open>=1.2.1->gensim)\n",
      "Requirement already satisfied: idna<2.7,>=2.5 in /opt/conda/lib/python3.6/site-packages (from requests->smart-open>=1.2.1->gensim)\n",
      "Requirement already satisfied: urllib3<1.23,>=1.21.1 in /opt/conda/lib/python3.6/site-packages (from requests->smart-open>=1.2.1->gensim)\n",
      "Requirement already satisfied: certifi>=2017.4.17 in /opt/conda/lib/python3.6/site-packages (from requests->smart-open>=1.2.1->gensim)\n",
      "Collecting botocore<1.11.0,>=1.10.31 (from boto3->smart-open>=1.2.1->gensim)\n",
      "  Downloading https://files.pythonhosted.org/packages/11/5c/a64d7550362200100e145519952a651e43342c848c9988f37c3403caab7a/botocore-1.10.31-py2.py3-none-any.whl (4.3MB)\n",
      "\u001b[K    100% |████████████████████████████████| 4.3MB 186kB/s ta 0:00:011   16% |█████▏                          | 696kB 7.3MB/s eta 0:00:01\n",
      "\u001b[?25hCollecting s3transfer<0.2.0,>=0.1.10 (from boto3->smart-open>=1.2.1->gensim)\n",
      "  Downloading https://files.pythonhosted.org/packages/d7/14/2a0004d487464d120c9fb85313a75cd3d71a7506955be458eebfe19a6b1d/s3transfer-0.1.13-py2.py3-none-any.whl (59kB)\n",
      "\u001b[K    100% |████████████████████████████████| 61kB 2.6MB/s ta 0:00:011\n",
      "\u001b[?25hCollecting jmespath<1.0.0,>=0.7.1 (from boto3->smart-open>=1.2.1->gensim)\n",
      "  Downloading https://files.pythonhosted.org/packages/b7/31/05c8d001f7f87f0f07289a5fc0fc3832e9a57f2dbd4d3b0fee70e0d51365/jmespath-0.9.3-py2.py3-none-any.whl\n",
      "Collecting docutils>=0.10 (from botocore<1.11.0,>=1.10.31->boto3->smart-open>=1.2.1->gensim)\n",
      "  Downloading https://files.pythonhosted.org/packages/36/fa/08e9e6e0e3cbd1d362c3bbee8d01d0aedb2155c4ac112b19ef3cae8eed8d/docutils-0.14-py3-none-any.whl (543kB)\n",
      "\u001b[K    100% |████████████████████████████████| 552kB 1.5MB/s eta 0:00:01\n",
      "\u001b[?25hRequirement already satisfied: python-dateutil<3.0.0,>=2.1; python_version >= \"2.7\" in /opt/conda/lib/python3.6/site-packages (from botocore<1.11.0,>=1.10.31->boto3->smart-open>=1.2.1->gensim)\n",
      "Building wheels for collected packages: smart-open, bz2file\n",
      "  Running setup.py bdist_wheel for smart-open ... \u001b[?25ldone\n",
      "\u001b[?25h  Stored in directory: /home/jovyan/.cache/pip/wheels/b1/9e/7d/bb3d3b55c597e72617140a0638c06382a5f17283881eae163e\n",
      "  Running setup.py bdist_wheel for bz2file ... \u001b[?25ldone\n",
      "\u001b[?25h  Stored in directory: /home/jovyan/.cache/pip/wheels/81/75/d6/e1317bf09bf1af5a30befc2a007869fa6e1f516b8f7c591cb9\n",
      "Successfully built smart-open bz2file\n",
      "Installing collected packages: boto, bz2file, docutils, jmespath, botocore, s3transfer, boto3, smart-open, gensim\n",
      "Successfully installed boto-2.48.0 boto3-1.7.31 botocore-1.10.31 bz2file-0.98 docutils-0.14 gensim-3.4.0 jmespath-0.9.3 s3transfer-0.1.13 smart-open-1.5.7\n",
      "\u001b[33mYou are using pip version 9.0.1, however version 10.0.1 is available.\n",
      "You should consider upgrading via the 'pip install --upgrade pip' command.\u001b[0m\n"
     ]
    }
   ],
   "source": [
    "!pip install gensim"
   ]
  },
  {
   "cell_type": "markdown",
   "metadata": {},
   "source": [
    "* size: (default 100) The number of dimensions of the embedding, e.g. the length of the dense vector to represent each token (word).\n",
    "* window: (default 5) The maximum distance between a target word and words around the target word.\n",
    "* min_count: (default 5) The minimum count of words to consider when training the model; words with an occurrence less than this count will be ignored.\n",
    "* workers: (default 3) The number of threads to use while training.\n",
    "* sg: (default 0 or CBOW) The training algorithm, either CBOW (0) or skip gram (1"
   ]
  },
  {
   "cell_type": "code",
   "execution_count": 3,
   "metadata": {},
   "outputs": [],
   "source": [
    "import gensim"
   ]
  },
  {
   "cell_type": "code",
   "execution_count": 4,
   "metadata": {},
   "outputs": [],
   "source": [
    "from gensim.models import Word2Vec"
   ]
  },
  {
   "cell_type": "code",
   "execution_count": 5,
   "metadata": {},
   "outputs": [],
   "source": [
    "# define training data\n",
    "sentences = [['this', 'is', 'the', 'first', 'sentence', 'for', 'word2vec'],\n",
    "             ['this', 'is', 'the', 'second', 'sentence'],\n",
    "             ['yet', 'another', 'sentence'],\n",
    "             ['one', 'more', 'sentence'],\n",
    "             ['and', 'the', 'final', 'sentence']]"
   ]
  },
  {
   "cell_type": "code",
   "execution_count": 6,
   "metadata": {},
   "outputs": [],
   "source": [
    "# train model\n",
    "model = Word2Vec(sentences, min_count=1)"
   ]
  },
  {
   "cell_type": "code",
   "execution_count": 7,
   "metadata": {},
   "outputs": [
    {
     "name": "stdout",
     "output_type": "stream",
     "text": [
      "Word2Vec(vocab=14, size=100, alpha=0.025)\n"
     ]
    }
   ],
   "source": [
    "# summarize the loaded model\n",
    "print(model)"
   ]
  },
  {
   "cell_type": "code",
   "execution_count": 8,
   "metadata": {},
   "outputs": [],
   "source": [
    "# summarize vocabulary\n",
    "words = list(model.wv.vocab)"
   ]
  },
  {
   "cell_type": "code",
   "execution_count": 9,
   "metadata": {},
   "outputs": [
    {
     "data": {
      "text/plain": [
       "['this',\n",
       " 'is',\n",
       " 'the',\n",
       " 'first',\n",
       " 'sentence',\n",
       " 'for',\n",
       " 'word2vec',\n",
       " 'second',\n",
       " 'yet',\n",
       " 'another',\n",
       " 'one',\n",
       " 'more',\n",
       " 'and',\n",
       " 'final']"
      ]
     },
     "execution_count": 9,
     "metadata": {},
     "output_type": "execute_result"
    }
   ],
   "source": [
    "words\n"
   ]
  },
  {
   "cell_type": "code",
   "execution_count": 10,
   "metadata": {},
   "outputs": [
    {
     "name": "stdout",
     "output_type": "stream",
     "text": [
      "[ -1.26956205e-03   2.57847086e-03   1.65186683e-03  -9.67474247e-04\n",
      "  -2.91275186e-03   3.36612720e-04   4.88209585e-03  -6.89524109e-04\n",
      "  -4.36244905e-03  -7.72329164e-04  -2.60435883e-03   1.22760213e-03\n",
      "   6.53339303e-05  -6.38498983e-04   4.95865988e-03   4.83098580e-03\n",
      "  -2.26933672e-03  -9.35183431e-04   3.18531558e-04   2.61861645e-03\n",
      "   4.66634566e-03   1.30437769e-03  -4.60971985e-03  -1.08207052e-03\n",
      "  -1.08986674e-03  -2.25137151e-03  -6.19933009e-04   4.91061900e-03\n",
      "   3.18462937e-03  -3.05437273e-03   1.08086923e-03   4.16298350e-03\n",
      "   3.49295023e-03   1.44492800e-03  -1.67568040e-03   3.06357979e-04\n",
      "   2.44697090e-03  -3.58970091e-03   2.65719206e-03  -2.52905069e-03\n",
      "   1.29277422e-03  -3.96614335e-03  -3.76847107e-03  -3.30755860e-03\n",
      "  -4.37811203e-03  -3.52004333e-03   3.73974303e-03  -3.17658111e-03\n",
      "  -3.21462424e-03   3.59716569e-03   4.67127468e-03  -1.19730353e-03\n",
      "   4.84050810e-03  -2.85812770e-03   2.72097322e-03   2.15429906e-03\n",
      "  -4.55529941e-03   4.55523515e-03  -2.25392767e-04   3.88020929e-03\n",
      "   3.27729667e-03   3.80255748e-03  -8.86456284e-04  -8.34710198e-04\n",
      "   5.37032029e-04  -2.49153073e-03   2.98328605e-03  -3.97094572e-03\n",
      "  -4.65498917e-04  -1.92387460e-03  -3.95173533e-03  -1.83201977e-03\n",
      "  -1.50805514e-04  -2.91788671e-03  -7.10131135e-04   4.00105724e-03\n",
      "  -6.17029727e-04  -1.58468506e-03   4.44075180e-04  -4.64377226e-03\n",
      "  -1.35780661e-03  -3.36417556e-03   1.88322423e-03  -1.45780563e-03\n",
      "  -2.46009469e-04   4.22200095e-03   2.19986867e-03   9.53906158e-04\n",
      "  -2.06290232e-03  -1.02476384e-04  -2.91445787e-04  -3.28328740e-03\n",
      "   4.98800678e-03  -3.05761117e-03   1.80794881e-03   4.38163569e-03\n",
      "   4.10348829e-03  -1.32527994e-03   4.86815581e-03   2.50842702e-03]\n"
     ]
    },
    {
     "name": "stderr",
     "output_type": "stream",
     "text": [
      "/opt/conda/lib/python3.6/site-packages/ipykernel_launcher.py:2: DeprecationWarning: Call to deprecated `__getitem__` (Method will be removed in 4.0.0, use self.wv.__getitem__() instead).\n",
      "  \n"
     ]
    }
   ],
   "source": [
    "# access vector for one word\n",
    "print(model['more'])"
   ]
  },
  {
   "cell_type": "markdown",
   "metadata": {},
   "source": [
    "# Sentence Vector "
   ]
  },
  {
   "cell_type": "code",
   "execution_count": 12,
   "metadata": {},
   "outputs": [],
   "source": [
    "import numpy as np"
   ]
  },
  {
   "cell_type": "code",
   "execution_count": 13,
   "metadata": {},
   "outputs": [
    {
     "name": "stderr",
     "output_type": "stream",
     "text": [
      "/opt/conda/lib/python3.6/site-packages/ipykernel_launcher.py:2: DeprecationWarning: Call to deprecated `__getitem__` (Method will be removed in 4.0.0, use self.wv.__getitem__() instead).\n",
      "  \n"
     ]
    }
   ],
   "source": [
    "# Processing sentences is not as simple as with Spacy:\n",
    "vectors = np.array([model[x] for x in \"this is the second sentence\".split(' ')])"
   ]
  },
  {
   "cell_type": "code",
   "execution_count": 14,
   "metadata": {},
   "outputs": [],
   "source": [
    "final_sent=vectors.sum(axis=0)"
   ]
  },
  {
   "cell_type": "code",
   "execution_count": 15,
   "metadata": {},
   "outputs": [
    {
     "data": {
      "text/plain": [
       "(100,)"
      ]
     },
     "execution_count": 15,
     "metadata": {},
     "output_type": "execute_result"
    }
   ],
   "source": [
    "final_sent.shape"
   ]
  },
  {
   "cell_type": "code",
   "execution_count": 16,
   "metadata": {},
   "outputs": [
    {
     "data": {
      "text/plain": [
       "array([ 0.00512553,  0.00753538,  0.00380937,  0.00256127,  0.00202511,\n",
       "        0.00061104, -0.0025634 ,  0.00628405, -0.00568757,  0.00039765,\n",
       "        0.00158886,  0.00034985,  0.0066004 , -0.00320944,  0.0014687 ,\n",
       "        0.00163751, -0.00615395, -0.00619273, -0.00590252,  0.00210619,\n",
       "       -0.00065075,  0.00527864,  0.00335825,  0.00392724, -0.00287339,\n",
       "       -0.00676278,  0.00879901,  0.00044252,  0.00448595, -0.00441785,\n",
       "       -0.00582735, -0.00516625,  0.00115112, -0.00347584,  0.00864894,\n",
       "       -0.00132769,  0.00957755,  0.00143966, -0.00264998,  0.0181527 ,\n",
       "        0.00238072, -0.00591915,  0.00801951,  0.00775982,  0.00110044,\n",
       "       -0.00528615, -0.00633104, -0.00577243,  0.00081442,  0.01009321,\n",
       "        0.00216704,  0.00101184,  0.00538189,  0.00527494,  0.0009698 ,\n",
       "       -0.00703135, -0.00447499, -0.00160621, -0.00802077, -0.00338456,\n",
       "       -0.0043207 ,  0.0060369 ,  0.01693478,  0.00941087, -0.00774644,\n",
       "        0.00334842, -0.00954389,  0.00098362, -0.00267814,  0.00181111,\n",
       "       -0.00660867,  0.00120698, -0.01298265, -0.01050534,  0.00028403,\n",
       "        0.00451133, -0.00292255, -0.0056125 , -0.00710078, -0.0026497 ,\n",
       "        0.01110284,  0.00180396, -0.00359422,  0.00422292,  0.00369368,\n",
       "        0.00966841,  0.00021678,  0.00354576,  0.01173732,  0.00220645,\n",
       "        0.00230416, -0.00618123,  0.00380636, -0.00323045, -0.00393005,\n",
       "       -0.00010099, -0.0023201 ,  0.00182725,  0.00767067,  0.00856717], dtype=float32)"
      ]
     },
     "execution_count": 16,
     "metadata": {},
     "output_type": "execute_result"
    }
   ],
   "source": [
    "final_sent"
   ]
  },
  {
   "cell_type": "code",
   "execution_count": null,
   "metadata": {},
   "outputs": [],
   "source": []
  }
 ],
 "metadata": {
  "kernelspec": {
   "display_name": "Python 3",
   "language": "python",
   "name": "python3"
  },
  "language_info": {
   "codemirror_mode": {
    "name": "ipython",
    "version": 3
   },
   "file_extension": ".py",
   "mimetype": "text/x-python",
   "name": "python",
   "nbconvert_exporter": "python",
   "pygments_lexer": "ipython3",
   "version": "3.6.3"
  }
 },
 "nbformat": 4,
 "nbformat_minor": 2
}
