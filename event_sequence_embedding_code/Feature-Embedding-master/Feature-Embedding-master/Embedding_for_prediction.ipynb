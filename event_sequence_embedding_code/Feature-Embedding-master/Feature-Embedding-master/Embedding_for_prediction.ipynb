{
 "cells": [
  {
   "cell_type": "code",
   "execution_count": 2,
   "metadata": {},
   "outputs": [],
   "source": [
    "#import SparkSession\n",
    "from pyspark.sql import SparkSession\n",
    "#create spark object\n",
    "spark=SparkSession.builder.appName('total_time').getOrCreate()"
   ]
  },
  {
   "cell_type": "code",
   "execution_count": 3,
   "metadata": {},
   "outputs": [],
   "source": [
    "#reading a file\n",
    "df=spark.read.csv('br_word_emb_data.csv',header=True,inferSchema=True)"
   ]
  },
  {
   "cell_type": "code",
   "execution_count": 4,
   "metadata": {},
   "outputs": [
    {
     "name": "stdout",
     "output_type": "stream",
     "text": [
      "root\n",
      " |-- visitor_id: string (nullable = true)\n",
      " |-- date_time_ts: timestamp (nullable = true)\n",
      " |-- session_id: integer (nullable = true)\n",
      " |-- page_category: string (nullable = true)\n",
      " |-- time_spent_in_mins: double (nullable = true)\n",
      " |-- is_converted: integer (nullable = true)\n",
      "\n"
     ]
    }
   ],
   "source": [
    "df.printSchema()"
   ]
  },
  {
   "cell_type": "code",
   "execution_count": 5,
   "metadata": {},
   "outputs": [
    {
     "name": "stdout",
     "output_type": "stream",
     "text": [
      "+---------------------------------------+-------------------+----------+--------------+------------------+------------+\n",
      "|visitor_id                             |date_time_ts       |session_id|page_category |time_spent_in_mins|is_converted|\n",
      "+---------------------------------------+-------------------+----------+--------------+------------------+------------+\n",
      "|1014693057261549843_9055106623262667991|2017-05-24 22:00:41|0         |homepage      |0.16666667        |1           |\n",
      "|1014693057261549843_9055106623262667991|2017-05-24 22:00:51|0         |vehiclenew    |0.4               |1           |\n",
      "|1014693057261549843_9055106623262667991|2017-05-24 22:01:15|0         |specifications|0.31666666        |1           |\n",
      "|1014693057261549843_9055106623262667991|2017-05-24 22:02:42|0         |accessories   |0.6333333         |1           |\n",
      "|1014693057261549843_9055106623262667991|2017-05-24 22:03:20|0         |specifications|0.15              |1           |\n",
      "|1014693057261549843_9055106623262667991|2017-05-25 21:10:55|1         |homepage      |0.8333333         |1           |\n",
      "|1014693057261549843_9055106623262667991|2017-05-25 21:11:45|1         |vehiclenew    |0.16666667        |1           |\n",
      "|1014693057261549843_9055106623262667991|2017-05-25 22:13:13|2         |vehiclenew    |0.16666667        |1           |\n",
      "|1014693057261549843_9055106623262667991|2017-05-25 22:13:23|2         |testdrive     |0.016666668       |1           |\n",
      "|1014693057261549843_9055106623262667991|2017-05-25 22:13:24|2         |selectvehicle |0.41666666        |1           |\n",
      "+---------------------------------------+-------------------+----------+--------------+------------------+------------+\n",
      "only showing top 10 rows\n",
      "\n"
     ]
    }
   ],
   "source": [
    "df.show(10,False)"
   ]
  },
  {
   "cell_type": "code",
   "execution_count": 6,
   "metadata": {},
   "outputs": [],
   "source": [
    "df = df.filter(\"page_category != ''\")"
   ]
  },
  {
   "cell_type": "code",
   "execution_count": 7,
   "metadata": {},
   "outputs": [
    {
     "data": {
      "text/plain": [
       "25"
      ]
     },
     "execution_count": 7,
     "metadata": {},
     "output_type": "execute_result"
    }
   ],
   "source": [
    "df.select('page_category').distinct().count()"
   ]
  },
  {
   "cell_type": "code",
   "execution_count": 7,
   "metadata": {},
   "outputs": [
    {
     "name": "stdout",
     "output_type": "stream",
     "text": [
      "+---------------------+------+\n",
      "|page_category        |count |\n",
      "+---------------------+------+\n",
      "|vehiclenew           |543405|\n",
      "|homepage             |137195|\n",
      "|specifications       |86565 |\n",
      "|dealerfinder         |43385 |\n",
      "|offers               |32003 |\n",
      "|performance          |29409 |\n",
      "|design               |27560 |\n",
      "|periodicreview       |23443 |\n",
      "|characteristics      |22820 |\n",
      "|directselling        |17518 |\n",
      "|testdrive            |17317 |\n",
      "|accessories          |16334 |\n",
      "|pcd                  |16192 |\n",
      "|selectvehicle        |16190 |\n",
      "|features             |13361 |\n",
      "|experience           |10075 |\n",
      "|services             |9593  |\n",
      "|testdriveconfirmation|7599  |\n",
      "|selectdealer         |7512  |\n",
      "|manuals              |5846  |\n",
      "|contactus            |5261  |\n",
      "|error                |3058  |\n",
      "|others               |3053  |\n",
      "|warranty             |2163  |\n",
      "|social               |98    |\n",
      "+---------------------+------+\n",
      "\n"
     ]
    }
   ],
   "source": [
    "df.groupBy('page_category').count().orderBy('count',ascending=False).show(50,False)"
   ]
  },
  {
   "cell_type": "code",
   "execution_count": 9,
   "metadata": {},
   "outputs": [],
   "source": [
    "from pyspark.sql.types import StringType\n",
    "from pyspark.sql.functions import udf\n",
    "\n",
    "def page_udf(page):\n",
    "    if page =='error':\n",
    "        return 'others'\n",
    "    elif page =='social':\n",
    "        return 'others'\n",
    "    elif page =='dealerfinder':\n",
    "        return 'others'\n",
    "    elif page =='testdrive':\n",
    "        return 'others'\n",
    "    elif page =='testdriveconfirmation':\n",
    "        return 'others'\n",
    "    elif page =='selectdealer':\n",
    "        return 'others'\n",
    "    else:\n",
    "        return page\n",
    "        \n",
    "nissan_udf = udf(page_udf, StringType())\n",
    "\n",
    "df_updated=df.withColumn(\"page_new\", nissan_udf(df.page_category))"
   ]
  },
  {
   "cell_type": "code",
   "execution_count": 10,
   "metadata": {},
   "outputs": [
    {
     "data": {
      "text/plain": [
       "19"
      ]
     },
     "execution_count": 10,
     "metadata": {},
     "output_type": "execute_result"
    }
   ],
   "source": [
    "df_updated.select('page_new').distinct().count()"
   ]
  },
  {
   "cell_type": "code",
   "execution_count": 11,
   "metadata": {},
   "outputs": [
    {
     "name": "stdout",
     "output_type": "stream",
     "text": [
      "+---------------+------+\n",
      "|page_new       |count |\n",
      "+---------------+------+\n",
      "|vehiclenew     |543405|\n",
      "|homepage       |137195|\n",
      "|specifications |86565 |\n",
      "|others         |82022 |\n",
      "|offers         |32003 |\n",
      "|performance    |29409 |\n",
      "|design         |27560 |\n",
      "|periodicreview |23443 |\n",
      "|characteristics|22820 |\n",
      "|directselling  |17518 |\n",
      "|accessories    |16334 |\n",
      "|pcd            |16192 |\n",
      "|selectvehicle  |16190 |\n",
      "|features       |13361 |\n",
      "|experience     |10075 |\n",
      "|services       |9593  |\n",
      "|manuals        |5846  |\n",
      "|contactus      |5261  |\n",
      "|warranty       |2163  |\n",
      "+---------------+------+\n",
      "\n"
     ]
    }
   ],
   "source": [
    "df_updated.groupBy('page_new').count().orderBy('count',ascending=False).show(50,False)"
   ]
  },
  {
   "cell_type": "code",
   "execution_count": 12,
   "metadata": {},
   "outputs": [],
   "source": [
    "from pyspark.ml.feature import StringIndexer\n",
    "import sys\n",
    "from pyspark.sql.window import Window\n",
    "import pyspark.sql.functions as func\n",
    "from pyspark.sql.functions import  lag\n"
   ]
  },
  {
   "cell_type": "code",
   "execution_count": 13,
   "metadata": {},
   "outputs": [],
   "source": [
    "#not considering session\n",
    "w = Window.partitionBy(\"visitor_id\").orderBy('date_time_ts')"
   ]
  },
  {
   "cell_type": "code",
   "execution_count": 14,
   "metadata": {},
   "outputs": [],
   "source": [
    "#replacing null values with drop\n",
    "\n",
    "new_df=df_updated.withColumn(\"next_page\", lag(\"page_new\", 1, 'started').over(w))"
   ]
  },
  {
   "cell_type": "code",
   "execution_count": 15,
   "metadata": {},
   "outputs": [],
   "source": [
    "from pyspark.sql.functions import *\n",
    "from pyspark.sql.types import *\n",
    "import math\n",
    "\n",
    "def indicator(old_page, new_page):\n",
    "    if old_page == new_page:\n",
    "        return 0\n",
    "    else:\n",
    "        return 1\n",
    "    \n",
    "\n",
    "ind_udf = udf(indicator,IntegerType())\n",
    "new_df=new_df.withColumn(\"Indicator\",ind_udf(new_df.page_new,new_df.next_page))"
   ]
  },
  {
   "cell_type": "code",
   "execution_count": 16,
   "metadata": {},
   "outputs": [],
   "source": [
    "\n",
    "from pyspark.sql.functions import sum"
   ]
  },
  {
   "cell_type": "code",
   "execution_count": 17,
   "metadata": {},
   "outputs": [
    {
     "name": "stdout",
     "output_type": "stream",
     "text": [
      "+---------------------------------------+-------------------+---------+----------------+\n",
      "|visitor_id                             |date_time_ts       |Indicator|indi_cummulative|\n",
      "+---------------------------------------+-------------------+---------+----------------+\n",
      "|1000739068748979102_8438638593588432327|2018-02-24 17:15:07|1        |1               |\n",
      "|1000739068748979102_8438638593588432327|2018-02-24 17:15:29|1        |2               |\n",
      "|1000739068748979102_8438638593588432327|2018-02-24 17:15:40|1        |3               |\n",
      "|1000739068748979102_8438638593588432327|2018-02-24 17:16:04|1        |4               |\n",
      "|1000739068748979102_8438638593588432327|2018-02-24 17:16:50|1        |5               |\n",
      "|1000739068748979102_8438638593588432327|2018-02-24 17:17:19|1        |6               |\n",
      "|1000739068748979102_8438638593588432327|2018-02-24 17:17:47|1        |7               |\n",
      "|1000739068748979102_8438638593588432327|2018-02-24 17:17:56|1        |8               |\n",
      "|1000739068748979102_8438638593588432327|2018-02-24 17:18:58|1        |9               |\n",
      "|1000739068748979102_8438638593588432327|2018-02-24 17:19:27|1        |10              |\n",
      "|1006914087676136208_822912129193238379 |2017-08-17 14:23:58|1        |1               |\n",
      "|1006914087676136208_822912129193238379 |2017-08-17 14:24:48|1        |2               |\n",
      "|1006914087676136208_822912129193238379 |2017-08-17 14:25:03|1        |3               |\n",
      "|1006914087676136208_822912129193238379 |2017-08-17 14:25:37|1        |4               |\n",
      "|1006914087676136208_822912129193238379 |2017-08-17 14:26:05|1        |5               |\n",
      "|1006914087676136208_822912129193238379 |2017-08-17 14:26:34|0        |5               |\n",
      "|1006914087676136208_822912129193238379 |2017-08-17 14:27:07|1        |6               |\n",
      "|1006914087676136208_822912129193238379 |2017-08-17 14:27:54|1        |7               |\n",
      "|1006914087676136208_822912129193238379 |2017-08-17 14:28:38|1        |8               |\n",
      "|1007736467347330611_3088346363836709695|2017-04-20 20:22:25|1        |1               |\n",
      "|1007736467347330611_3088346363836709695|2017-04-20 20:24:02|0        |1               |\n",
      "|1007736467347330611_3088346363836709695|2017-04-20 20:24:23|1        |2               |\n",
      "|1007736467347330611_3088346363836709695|2017-04-20 20:30:56|1        |3               |\n",
      "|1007736467347330611_3088346363836709695|2017-04-20 20:31:35|1        |4               |\n",
      "|1007736467347330611_3088346363836709695|2017-04-20 20:31:58|1        |5               |\n",
      "|1008021102132442001_4614566631671393451|2017-06-15 13:06:29|1        |1               |\n",
      "|1008021102132442001_4614566631671393451|2017-06-15 13:06:40|1        |2               |\n",
      "|1008021102132442001_4614566631671393451|2017-06-15 13:07:13|1        |3               |\n",
      "|1008021102132442001_4614566631671393451|2017-06-15 13:07:37|1        |4               |\n",
      "|1008021102132442001_4614566631671393451|2017-06-15 13:16:23|1        |5               |\n",
      "+---------------------------------------+-------------------+---------+----------------+\n",
      "only showing top 30 rows\n",
      "\n"
     ]
    }
   ],
   "source": [
    "df_cumsum = new_df.withColumn('indi_cummulative',sum(new_df.Indicator).over(w))\n",
    "df_cumsum.select(['visitor_id','date_time_ts','Indicator','indi_cummulative']).show(30,False)"
   ]
  },
  {
   "cell_type": "code",
   "execution_count": 18,
   "metadata": {},
   "outputs": [],
   "source": [
    "w2 = Window.partitionBy([\"visitor_id\",'indi_cummulative']).orderBy('date_time_ts')"
   ]
  },
  {
   "cell_type": "code",
   "execution_count": 19,
   "metadata": {},
   "outputs": [
    {
     "name": "stdout",
     "output_type": "stream",
     "text": [
      "+---------------------------------------+-------------------+--------------+--------------+-----------+------------------+---------+----------------+\n",
      "|visitor_id                             |date_time_ts       |page_new      |next_page     |time_cumm  |time_spent_in_mins|Indicator|indi_cummulative|\n",
      "+---------------------------------------+-------------------+--------------+--------------+-----------+------------------+---------+----------------+\n",
      "|1000739068748979102_8438638593588432327|2018-02-24 17:15:07|homepage      |started       |0.36666667 |0.36666667        |1        |1               |\n",
      "|1000739068748979102_8438638593588432327|2018-02-24 17:15:29|vehiclenew    |homepage      |0.18333334 |0.18333334        |1        |2               |\n",
      "|1000739068748979102_8438638593588432327|2018-02-24 17:15:40|specifications|vehiclenew    |0.06666667 |0.06666667        |1        |3               |\n",
      "|1000739068748979102_8438638593588432327|2018-02-24 17:16:04|accessories   |specifications|0.48333332 |0.48333332        |1        |4               |\n",
      "|1000739068748979102_8438638593588432327|2018-02-24 17:16:50|design        |accessories   |0.25       |0.25              |1        |5               |\n",
      "|1000739068748979102_8438638593588432327|2018-02-24 17:17:19|specifications|design        |0.033333335|0.033333335       |1        |6               |\n",
      "|1000739068748979102_8438638593588432327|2018-02-24 17:17:47|vehiclenew    |specifications|0.15       |0.15              |1        |7               |\n",
      "|1000739068748979102_8438638593588432327|2018-02-24 17:17:56|specifications|vehiclenew    |0.033333335|0.033333335       |1        |8               |\n",
      "|1000739068748979102_8438638593588432327|2018-02-24 17:18:58|accessories   |specifications|0.48333332 |0.48333332        |1        |9               |\n",
      "|1000739068748979102_8438638593588432327|2018-02-24 17:19:27|features      |accessories   |1.9333333  |1.9333333         |1        |10              |\n",
      "|1006914087676136208_822912129193238379 |2017-08-17 14:23:58|vehiclenew    |started       |0.5        |0.5               |1        |1               |\n",
      "|1006914087676136208_822912129193238379 |2017-08-17 14:24:48|others        |vehiclenew    |0.25       |0.25              |1        |2               |\n",
      "|1006914087676136208_822912129193238379 |2017-08-17 14:25:03|vehiclenew    |others        |0.56666666 |0.56666666        |1        |3               |\n",
      "|1006914087676136208_822912129193238379 |2017-08-17 14:25:37|others        |vehiclenew    |0.46666667 |0.46666667        |1        |4               |\n",
      "|1006914087676136208_822912129193238379 |2017-08-17 14:26:05|vehiclenew    |others        |0.48333332 |0.48333332        |1        |5               |\n",
      "|1006914087676136208_822912129193238379 |2017-08-17 14:26:34|vehiclenew    |vehiclenew    |1.03333332 |0.55              |0        |5               |\n",
      "|1006914087676136208_822912129193238379 |2017-08-17 14:27:07|directselling |vehiclenew    |0.78333336 |0.78333336        |1        |6               |\n",
      "|1006914087676136208_822912129193238379 |2017-08-17 14:27:54|vehiclenew    |directselling |0.73333335 |0.73333335        |1        |7               |\n",
      "|1006914087676136208_822912129193238379 |2017-08-17 14:28:38|contactus     |vehiclenew    |0.08       |0.08              |1        |8               |\n",
      "|1007736467347330611_3088346363836709695|2017-04-20 20:22:25|vehiclenew    |started       |0.51666665 |0.51666665        |1        |1               |\n",
      "|1007736467347330611_3088346363836709695|2017-04-20 20:24:02|vehiclenew    |vehiclenew    |0.86666665 |0.35              |0        |1               |\n",
      "|1007736467347330611_3088346363836709695|2017-04-20 20:24:23|offers        |vehiclenew    |6.55       |6.55              |1        |2               |\n",
      "|1007736467347330611_3088346363836709695|2017-04-20 20:30:56|homepage      |offers        |0.65       |0.65              |1        |3               |\n",
      "|1007736467347330611_3088346363836709695|2017-04-20 20:31:35|vehiclenew    |homepage      |0.38333333 |0.38333333        |1        |4               |\n",
      "|1007736467347330611_3088346363836709695|2017-04-20 20:31:58|homepage      |vehiclenew    |0.08       |0.08              |1        |5               |\n",
      "|1008021102132442001_4614566631671393451|2017-06-15 13:06:29|homepage      |started       |0.18333334 |0.18333334        |1        |1               |\n",
      "|1008021102132442001_4614566631671393451|2017-06-15 13:06:40|vehiclenew    |homepage      |0.55       |0.55              |1        |2               |\n",
      "|1008021102132442001_4614566631671393451|2017-06-15 13:07:13|design        |vehiclenew    |0.05       |0.05              |1        |3               |\n",
      "|1008021102132442001_4614566631671393451|2017-06-15 13:07:37|features      |design        |0.06666667 |0.06666667        |1        |4               |\n",
      "|1008021102132442001_4614566631671393451|2017-06-15 13:16:23|specifications|features      |0.56666666 |0.56666666        |1        |5               |\n",
      "+---------------------------------------+-------------------+--------------+--------------+-----------+------------------+---------+----------------+\n",
      "only showing top 30 rows\n",
      "\n"
     ]
    }
   ],
   "source": [
    "df_final = df_cumsum.withColumn('time_cumm',sum(df_cumsum.time_spent_in_mins).over(w2))\n",
    "df_final.select(['visitor_id','date_time_ts','page_new','next_page','time_cumm','time_spent_in_mins','Indicator','indi_cummulative']).show(30,False)"
   ]
  },
  {
   "cell_type": "code",
   "execution_count": 20,
   "metadata": {},
   "outputs": [],
   "source": [
    "w5 = Window.partitionBy([\"visitor_id\",'indi_cummulative']).orderBy(col('date_time_ts').desc())"
   ]
  },
  {
   "cell_type": "code",
   "execution_count": 21,
   "metadata": {},
   "outputs": [],
   "source": [
    "df_final_new= df_final.withColumn('final_category',first('page_new').over(w5))\\\n",
    "                        .withColumn('final_time_spent',first('time_cumm').over(w5))\n"
   ]
  },
  {
   "cell_type": "code",
   "execution_count": 22,
   "metadata": {},
   "outputs": [
    {
     "name": "stdout",
     "output_type": "stream",
     "text": [
      "+---------------------------------------+------------------+----------------+---------------+---------------+-----------------+\n",
      "|visitor_id                             |time_cumm         |indi_cummulative|page_new       |final_category |final_time_spent |\n",
      "+---------------------------------------+------------------+----------------+---------------+---------------+-----------------+\n",
      "|1000739068748979102_8438638593588432327|0.36666667        |1               |homepage       |homepage       |0.36666667       |\n",
      "|1000739068748979102_8438638593588432327|0.18333334        |2               |vehiclenew     |vehiclenew     |0.18333334       |\n",
      "|1000739068748979102_8438638593588432327|0.06666667        |3               |specifications |specifications |0.06666667       |\n",
      "|1000739068748979102_8438638593588432327|0.48333332        |4               |accessories    |accessories    |0.48333332       |\n",
      "|1000739068748979102_8438638593588432327|0.25              |5               |design         |design         |0.25             |\n",
      "|1000739068748979102_8438638593588432327|0.033333335       |6               |specifications |specifications |0.033333335      |\n",
      "|1000739068748979102_8438638593588432327|0.15              |7               |vehiclenew     |vehiclenew     |0.15             |\n",
      "|1000739068748979102_8438638593588432327|0.033333335       |8               |specifications |specifications |0.033333335      |\n",
      "|1000739068748979102_8438638593588432327|0.48333332        |9               |accessories    |accessories    |0.48333332       |\n",
      "|1000739068748979102_8438638593588432327|1.9333333         |10              |features       |features       |1.9333333        |\n",
      "|1006914087676136208_822912129193238379 |0.5               |1               |vehiclenew     |vehiclenew     |0.5              |\n",
      "|1006914087676136208_822912129193238379 |0.25              |2               |others         |others         |0.25             |\n",
      "|1006914087676136208_822912129193238379 |0.56666666        |3               |vehiclenew     |vehiclenew     |0.56666666       |\n",
      "|1006914087676136208_822912129193238379 |0.46666667        |4               |others         |others         |0.46666667       |\n",
      "|1006914087676136208_822912129193238379 |1.03333332        |5               |vehiclenew     |vehiclenew     |1.03333332       |\n",
      "|1006914087676136208_822912129193238379 |0.48333332        |5               |vehiclenew     |vehiclenew     |1.03333332       |\n",
      "|1006914087676136208_822912129193238379 |0.78333336        |6               |directselling  |directselling  |0.78333336       |\n",
      "|1006914087676136208_822912129193238379 |0.73333335        |7               |vehiclenew     |vehiclenew     |0.73333335       |\n",
      "|1006914087676136208_822912129193238379 |0.08              |8               |contactus      |contactus      |0.08             |\n",
      "|1007736467347330611_3088346363836709695|0.86666665        |1               |vehiclenew     |vehiclenew     |0.86666665       |\n",
      "|1007736467347330611_3088346363836709695|0.51666665        |1               |vehiclenew     |vehiclenew     |0.86666665       |\n",
      "|1007736467347330611_3088346363836709695|6.55              |2               |offers         |offers         |6.55             |\n",
      "|1007736467347330611_3088346363836709695|0.65              |3               |homepage       |homepage       |0.65             |\n",
      "|1007736467347330611_3088346363836709695|0.38333333        |4               |vehiclenew     |vehiclenew     |0.38333333       |\n",
      "|1007736467347330611_3088346363836709695|0.08              |5               |homepage       |homepage       |0.08             |\n",
      "|1008021102132442001_4614566631671393451|0.18333334        |1               |homepage       |homepage       |0.18333334       |\n",
      "|1008021102132442001_4614566631671393451|0.55              |2               |vehiclenew     |vehiclenew     |0.55             |\n",
      "|1008021102132442001_4614566631671393451|0.05              |3               |design         |design         |0.05             |\n",
      "|1008021102132442001_4614566631671393451|0.06666667        |4               |features       |features       |0.06666667       |\n",
      "|1008021102132442001_4614566631671393451|0.56666666        |5               |specifications |specifications |0.56666666       |\n",
      "|1008080590831496721_2177601849310086176|0.033333335       |1               |vehiclenew     |vehiclenew     |0.033333335      |\n",
      "|1008080590831496721_2177601849310086176|0.6166667         |2               |characteristics|characteristics|0.6166667        |\n",
      "|1008080590831496721_2177601849310086176|0.1               |3               |vehiclenew     |vehiclenew     |0.1              |\n",
      "|1008080590831496721_2177601849310086176|0.23333333        |4               |design         |design         |0.23333333       |\n",
      "|1008080590831496721_2177601849310086176|0.083333336       |5               |vehiclenew     |vehiclenew     |0.083333336      |\n",
      "|1008080590831496721_2177601849310086176|0.26666668        |6               |performance    |performance    |0.26666668       |\n",
      "|1008080590831496721_2177601849310086176|0.116666671       |7               |vehiclenew     |vehiclenew     |0.116666671      |\n",
      "|1008080590831496721_2177601849310086176|0.083333336       |7               |vehiclenew     |vehiclenew     |0.116666671      |\n",
      "|1011128922721334097_3514131616475378967|29.81666599999999 |1               |vehiclenew     |vehiclenew     |29.81666599999999|\n",
      "|1011128922721334097_3514131616475378967|29.736665999999992|1               |vehiclenew     |vehiclenew     |29.81666599999999|\n",
      "|1011128922721334097_3514131616475378967|29.656665999999994|1               |vehiclenew     |vehiclenew     |29.81666599999999|\n",
      "|1011128922721334097_3514131616475378967|29.656665999999994|1               |vehiclenew     |vehiclenew     |29.81666599999999|\n",
      "|1011128922721334097_3514131616475378967|29.576665999999996|1               |vehiclenew     |vehiclenew     |29.81666599999999|\n",
      "|1011128922721334097_3514131616475378967|29.496665999999998|1               |vehiclenew     |vehiclenew     |29.81666599999999|\n",
      "|1011128922721334097_3514131616475378967|29.416666         |1               |vehiclenew     |vehiclenew     |29.81666599999999|\n",
      "|101144077554684758_8433194384989771276 |0.25              |1               |specifications |specifications |0.25             |\n",
      "|101144077554684758_8433194384989771276 |0.23333333        |2               |vehiclenew     |vehiclenew     |0.23333333       |\n",
      "|101144077554684758_8433194384989771276 |0.1               |3               |design         |design         |0.1              |\n",
      "|101144077554684758_8433194384989771276 |1.41666664        |4               |vehiclenew     |vehiclenew     |1.41666664       |\n",
      "|101144077554684758_8433194384989771276 |0.96666664        |4               |vehiclenew     |vehiclenew     |1.41666664       |\n",
      "+---------------------------------------+------------------+----------------+---------------+---------------+-----------------+\n",
      "only showing top 50 rows\n",
      "\n"
     ]
    }
   ],
   "source": [
    "df_final_new.select(['visitor_id','time_cumm','indi_cummulative','page_new','final_category','final_time_spent']).show(50,False)"
   ]
  },
  {
   "cell_type": "code",
   "execution_count": 23,
   "metadata": {},
   "outputs": [],
   "source": [
    "aggregations=[]\n",
    "aggregations.append(max(col('final_category')).alias('page_category_emb'))\n",
    "aggregations.append(max(col('final_time_spent')).alias('time_spent_emb'))\n",
    "aggregations.append(max(col('is_converted')).alias('is_converted_emb'))\n",
    "\n"
   ]
  },
  {
   "cell_type": "code",
   "execution_count": 24,
   "metadata": {},
   "outputs": [],
   "source": [
    "df_embedding=df_final_new.select(['visitor_id','indi_cummulative','final_category','final_time_spent','is_converted']).groupBy(['visitor_id','indi_cummulative']).agg(*aggregations)"
   ]
  },
  {
   "cell_type": "code",
   "execution_count": 25,
   "metadata": {},
   "outputs": [
    {
     "data": {
      "text/plain": [
       "656541"
      ]
     },
     "execution_count": 25,
     "metadata": {},
     "output_type": "execute_result"
    }
   ],
   "source": [
    "df_embedding.count()"
   ]
  },
  {
   "cell_type": "code",
   "execution_count": 26,
   "metadata": {},
   "outputs": [],
   "source": [
    "w6=Window.partitionBy([\"visitor_id\"]).orderBy('indi_cummulative')"
   ]
  },
  {
   "cell_type": "code",
   "execution_count": 27,
   "metadata": {},
   "outputs": [],
   "source": [
    "df_embedding=df_embedding.withColumn('journey_temp',func.collect_list(df_embedding.page_category_emb).over(w6))\\\n",
    "                        .withColumn('journey_time_temp',func.collect_list(df_embedding.time_spent_emb).over(w6))"
   ]
  },
  {
   "cell_type": "code",
   "execution_count": 28,
   "metadata": {},
   "outputs": [],
   "source": [
    "w7 = Window.partitionBy([\"visitor_id\"]).orderBy(col('indi_cummulative').desc())"
   ]
  },
  {
   "cell_type": "code",
   "execution_count": 29,
   "metadata": {},
   "outputs": [],
   "source": [
    "df_embedding = df_embedding.withColumn('journey_final',first('journey_temp').over(w7))\\\n",
    "                           .withColumn('journey_time_final',first('journey_time_temp').over(w7))"
   ]
  },
  {
   "cell_type": "code",
   "execution_count": 30,
   "metadata": {},
   "outputs": [],
   "source": [
    "df_embedding_subset=df_embedding.select(['visitor_id','journey_final','journey_time_final','is_converted_emb'])"
   ]
  },
  {
   "cell_type": "code",
   "execution_count": 31,
   "metadata": {},
   "outputs": [
    {
     "data": {
      "text/plain": [
       "104087"
      ]
     },
     "execution_count": 31,
     "metadata": {},
     "output_type": "execute_result"
    }
   ],
   "source": [
    "df_embedding_subset.select('visitor_id').distinct().count()"
   ]
  },
  {
   "cell_type": "code",
   "execution_count": 32,
   "metadata": {},
   "outputs": [],
   "source": [
    "df_embedding_nissan=df_embedding_subset.dropDuplicates()"
   ]
  },
  {
   "cell_type": "code",
   "execution_count": 33,
   "metadata": {},
   "outputs": [
    {
     "name": "stdout",
     "output_type": "stream",
     "text": [
      "+--------------------+--------------------+--------------------+----------------+\n",
      "|          visitor_id|       journey_final|  journey_time_final|is_converted_emb|\n",
      "+--------------------+--------------------+--------------------+----------------+\n",
      "|10007390687489791...|[homepage, vehicl...|[0.36666667, 0.18...|               0|\n",
      "|10069140876761362...|[vehiclenew, othe...|[0.5, 0.25, 0.566...|               0|\n",
      "|10077364673473306...|[vehiclenew, offe...|[0.86666665, 6.55...|               0|\n",
      "|10080211021324420...|[homepage, vehicl...|[0.18333334, 0.55...|               0|\n",
      "|10080805908314967...|[vehiclenew, char...|[0.033333335, 0.6...|               0|\n",
      "|10111289227213340...|        [vehiclenew]| [29.81666599999999]|               0|\n",
      "|10114407755468475...|[specifications, ...|[0.25, 0.23333333...|               0|\n",
      "|10146930572615498...|[homepage, vehicl...|[0.16666667, 0.4,...|               1|\n",
      "|10151089221529976...|[vehiclenew, desi...|[2.91666664, 0.05...|               0|\n",
      "|10151432378709731...|[offers, vehiclen...|[0.35, 0.1, 0.283...|               0|\n",
      "|10158931542108314...|[vehiclenew, char...|[0.06666667, 0.43...|               0|\n",
      "|10169745948149712...|[offers, homepage...|[0.08, 1.8666667,...|               0|\n",
      "|10182771257347954...|[homepage, vehicl...|[0.48333332, 0.08...|               0|\n",
      "|10197271881956305...|[vehiclenew, spec...|[2.9333334, 0.283...|               0|\n",
      "|10208177373797058...|[homepage, vehicl...|[0.033333335, 0.0...|               0|\n",
      "|10208956058208835...|        [vehiclenew]|               [0.4]|               0|\n",
      "|10227251603033831...|[vehiclenew, home...|[0.51666665, 0.61...|               0|\n",
      "|10230954890863602...|[vehiclenew, othe...|[15.1099993750000...|               0|\n",
      "|10240715059139025...|[homepage, vehicl...|[1.8833333, 0.166...|               0|\n",
      "|10284359433867238...|[vehiclenew, home...|[0.48333333500000...|               0|\n",
      "|10300117129652421...|        [vehiclenew]| [41.06000059999999]|               0|\n",
      "|10305518355185544...|        [vehiclenew]|[1.2966666700000002]|               0|\n",
      "|10311958854521692...|[vehiclenew, perf...|[0.13333334, 1.15...|               0|\n",
      "|10313525206775801...|        [vehiclenew]|[0.48000000000000...|               0|\n",
      "|10318063518493764...|[vehiclenew, dire...|[0.75, 0.11666667...|               0|\n",
      "|10322884011839148...|[homepage, vehicl...|[0.45, 0.16666667...|               0|\n",
      "|10390590387224712...|[homepage, vehicl...|[1.1833333, 1.483...|               0|\n",
      "|10406220894016684...|[homepage, vehicl...|[0.48333332, 0.08...|               0|\n",
      "|10415289520093211...|[vehiclenew, othe...|[0.36666667, 0.06...|               0|\n",
      "|10426584865506682...|[vehiclenew, spec...|[0.16666667, 0.16...|               0|\n",
      "|10432109105789605...|[homepage, vehicl...|[0.083333336, 0.0...|               0|\n",
      "|10441344981316429...|        [vehiclenew]|       [7.653333268]|               0|\n",
      "|10445289807602911...|[specifications, ...|[0.15, 0.41666666...|               0|\n",
      "|10455980026584369...|[vehiclenew, othe...|[0.84999997, 0.15...|               0|\n",
      "|10461009425186709...|[homepage, others...|[2.0, 0.08, 0.146...|               0|\n",
      "|10467491285999126...|        [vehiclenew]|              [0.56]|               0|\n",
      "|10470500306836397...|[vehiclenew, desi...|[0.43333334, 0.46...|               0|\n",
      "|10471772537618901...|[homepage, vehicl...|[0.5, 0.73333335,...|               0|\n",
      "|10487627680968881...|[vehiclenew, spec...|[0.83333334, 0.23...|               0|\n",
      "|10490736516335260...|[vehiclenew, spec...|[0.25, 0.11666667...|               0|\n",
      "|10492277356465460...|[homepage, vehicl...|[0.46666667, 0.25...|               0|\n",
      "|10499547969123147...|[vehiclenew, desi...|[0.28333333, 0.13...|               0|\n",
      "|10499954839215384...|[homepage, vehicl...|[0.93333334, 6.76...|               0|\n",
      "|10503080226183105...|        [vehiclenew]|         [15.723333]|               0|\n",
      "|10505222884518297...|        [vehiclenew]|        [12.7633332]|               0|\n",
      "|10505604129807150...|[homepage, vehicl...|[0.46666667, 0.11...|               0|\n",
      "|10509187107831957...|        [vehiclenew]|               [0.4]|               0|\n",
      "|10520601407045667...|[homepage, vehicl...|[0.13333334, 0.23...|               0|\n",
      "|10533658825596194...|[vehiclenew, feat...|[1.1333333, 0.25,...|               0|\n",
      "|10544499796696435...|[vehiclenew, char...|[0.033333335, 0.3...|               0|\n",
      "+--------------------+--------------------+--------------------+----------------+\n",
      "only showing top 50 rows\n",
      "\n"
     ]
    }
   ],
   "source": [
    "df_embedding_nissan.show(50)"
   ]
  },
  {
   "cell_type": "code",
   "execution_count": 34,
   "metadata": {},
   "outputs": [],
   "source": [
    "from pyspark.sql.types import IntegerType\n",
    "from pyspark.sql.functions import udf\n",
    "\n",
    "slen = udf(lambda s: len(s), IntegerType())\n",
    "\n",
    "new_data = df_embedding_nissan.withColumn(\"Journey_Length\", slen(df_embedding_nissan.journey_final))\n",
    "new_data = new_data.withColumn(\"Time_spent_Length\", slen(new_data.journey_final))\n"
   ]
  },
  {
   "cell_type": "code",
   "execution_count": 35,
   "metadata": {},
   "outputs": [
    {
     "data": {
      "text/plain": [
       "0"
      ]
     },
     "execution_count": 35,
     "metadata": {},
     "output_type": "execute_result"
    }
   ],
   "source": [
    "new_data.filter(col('Journey_Length') != col('Time_spent_Length')).count()"
   ]
  },
  {
   "cell_type": "code",
   "execution_count": 36,
   "metadata": {},
   "outputs": [],
   "source": [
    "word_emb_df=new_data.filter(col('Journey_Length') > 4)"
   ]
  },
  {
   "cell_type": "code",
   "execution_count": 37,
   "metadata": {},
   "outputs": [
    {
     "data": {
      "text/plain": [
       "57767"
      ]
     },
     "execution_count": 37,
     "metadata": {},
     "output_type": "execute_result"
    }
   ],
   "source": [
    "word_emb_df.count()"
   ]
  },
  {
   "cell_type": "code",
   "execution_count": 38,
   "metadata": {},
   "outputs": [],
   "source": [
    "pd_df=word_emb_df.toPandas()"
   ]
  },
  {
   "cell_type": "code",
   "execution_count": 39,
   "metadata": {},
   "outputs": [],
   "source": [
    "import numpy as np"
   ]
  },
  {
   "cell_type": "code",
   "execution_count": 40,
   "metadata": {},
   "outputs": [
    {
     "name": "stdout",
     "output_type": "stream",
     "text": [
      "Requirement already satisfied: gensim in /opt/conda/lib/python3.6/site-packages\n",
      "Requirement already satisfied: six>=1.5.0 in /opt/conda/lib/python3.6/site-packages (from gensim)\n",
      "Requirement already satisfied: smart-open>=1.2.1 in /opt/conda/lib/python3.6/site-packages (from gensim)\n",
      "Requirement already satisfied: scipy>=0.18.1 in /opt/conda/lib/python3.6/site-packages (from gensim)\n",
      "Requirement already satisfied: numpy>=1.11.3 in /opt/conda/lib/python3.6/site-packages (from gensim)\n",
      "Requirement already satisfied: requests in /opt/conda/lib/python3.6/site-packages (from smart-open>=1.2.1->gensim)\n",
      "Requirement already satisfied: boto3 in /opt/conda/lib/python3.6/site-packages (from smart-open>=1.2.1->gensim)\n",
      "Requirement already satisfied: bz2file in /opt/conda/lib/python3.6/site-packages (from smart-open>=1.2.1->gensim)\n",
      "Requirement already satisfied: boto>=2.32 in /opt/conda/lib/python3.6/site-packages (from smart-open>=1.2.1->gensim)\n",
      "Requirement already satisfied: chardet<3.1.0,>=3.0.2 in /opt/conda/lib/python3.6/site-packages (from requests->smart-open>=1.2.1->gensim)\n",
      "Requirement already satisfied: idna<2.7,>=2.5 in /opt/conda/lib/python3.6/site-packages (from requests->smart-open>=1.2.1->gensim)\n",
      "Requirement already satisfied: urllib3<1.23,>=1.21.1 in /opt/conda/lib/python3.6/site-packages (from requests->smart-open>=1.2.1->gensim)\n",
      "Requirement already satisfied: certifi>=2017.4.17 in /opt/conda/lib/python3.6/site-packages (from requests->smart-open>=1.2.1->gensim)\n",
      "Requirement already satisfied: jmespath<1.0.0,>=0.7.1 in /opt/conda/lib/python3.6/site-packages (from boto3->smart-open>=1.2.1->gensim)\n",
      "Requirement already satisfied: botocore<1.10.0,>=1.9.19 in /opt/conda/lib/python3.6/site-packages (from boto3->smart-open>=1.2.1->gensim)\n",
      "Requirement already satisfied: s3transfer<0.2.0,>=0.1.10 in /opt/conda/lib/python3.6/site-packages (from boto3->smart-open>=1.2.1->gensim)\n",
      "Requirement already satisfied: python-dateutil<2.7.0,>=2.1 in /opt/conda/lib/python3.6/site-packages (from botocore<1.10.0,>=1.9.19->boto3->smart-open>=1.2.1->gensim)\n",
      "Requirement already satisfied: docutils>=0.10 in /opt/conda/lib/python3.6/site-packages (from botocore<1.10.0,>=1.9.19->boto3->smart-open>=1.2.1->gensim)\n",
      "\u001b[33mYou are using pip version 9.0.1, however version 9.0.3 is available.\n",
      "You should consider upgrading via the 'pip install --upgrade pip' command.\u001b[0m\n"
     ]
    }
   ],
   "source": [
    "!pip install gensim"
   ]
  },
  {
   "cell_type": "code",
   "execution_count": 41,
   "metadata": {},
   "outputs": [
    {
     "name": "stdout",
     "output_type": "stream",
     "text": [
      "Requirement already satisfied: nltk in /opt/conda/lib/python3.6/site-packages\n",
      "Requirement already satisfied: six in /opt/conda/lib/python3.6/site-packages (from nltk)\n",
      "\u001b[33mYou are using pip version 9.0.1, however version 9.0.3 is available.\n",
      "You should consider upgrading via the 'pip install --upgrade pip' command.\u001b[0m\n"
     ]
    }
   ],
   "source": [
    "!pip install nltk\n",
    "import nltk"
   ]
  },
  {
   "cell_type": "code",
   "execution_count": 42,
   "metadata": {},
   "outputs": [],
   "source": [
    "from gensim.models.doc2vec import LabeledSentence\n",
    "from gensim.models import Doc2Vec\n",
    "from nltk.corpus import stopwords\n",
    "from nltk.tokenize import word_tokenize, sent_tokenize\n",
    "from nltk.stem.wordnet import WordNetLemmatizer\n",
    "import re\n",
    "from random import sample"
   ]
  },
  {
   "cell_type": "code",
   "execution_count": 43,
   "metadata": {},
   "outputs": [
    {
     "data": {
      "text/html": [
       "<div>\n",
       "<table border=\"1\" class=\"dataframe\">\n",
       "  <thead>\n",
       "    <tr style=\"text-align: right;\">\n",
       "      <th></th>\n",
       "      <th>visitor_id</th>\n",
       "      <th>journey_final</th>\n",
       "      <th>journey_time_final</th>\n",
       "      <th>is_converted_emb</th>\n",
       "      <th>Journey_Length</th>\n",
       "      <th>Time_spent_Length</th>\n",
       "    </tr>\n",
       "  </thead>\n",
       "  <tbody>\n",
       "    <tr>\n",
       "      <th>0</th>\n",
       "      <td>1090251605873082495_2752460703675496372</td>\n",
       "      <td>[vehiclenew, homepage, others, directselling, ...</td>\n",
       "      <td>[20.103332999999992, 0.5, 0.33333334, 0.666666...</td>\n",
       "      <td>0</td>\n",
       "      <td>6</td>\n",
       "      <td>6</td>\n",
       "    </tr>\n",
       "    <tr>\n",
       "      <th>1</th>\n",
       "      <td>1510768841404838507_2693795377122240178</td>\n",
       "      <td>[homepage, offers, vehiclenew, offers, vehicle...</td>\n",
       "      <td>[0.15, 0.2, 0.31666666, 0.083333336, 0.1333333...</td>\n",
       "      <td>0</td>\n",
       "      <td>12</td>\n",
       "      <td>12</td>\n",
       "    </tr>\n",
       "    <tr>\n",
       "      <th>2</th>\n",
       "      <td>1793249497134049448_5362114527312760384</td>\n",
       "      <td>[homepage, vehiclenew, design, specifications,...</td>\n",
       "      <td>[0.33333334, 0.06666667, 0.46666667, 0.2166666...</td>\n",
       "      <td>0</td>\n",
       "      <td>5</td>\n",
       "      <td>5</td>\n",
       "    </tr>\n",
       "    <tr>\n",
       "      <th>3</th>\n",
       "      <td>2121324087455608913_96201523021831503</td>\n",
       "      <td>[homepage, vehiclenew, specifications, vehicle...</td>\n",
       "      <td>[0.81666666, 0.16666667, 0.1, 0.06666667, 0.08]</td>\n",
       "      <td>0</td>\n",
       "      <td>5</td>\n",
       "      <td>5</td>\n",
       "    </tr>\n",
       "    <tr>\n",
       "      <th>4</th>\n",
       "      <td>2170100761098433374_5134514360716701293</td>\n",
       "      <td>[homepage, others, vehiclenew, design, charact...</td>\n",
       "      <td>[0.5, 0.13333334, 0.083333336, 0.26666668, 0.6...</td>\n",
       "      <td>0</td>\n",
       "      <td>9</td>\n",
       "      <td>9</td>\n",
       "    </tr>\n",
       "  </tbody>\n",
       "</table>\n",
       "</div>"
      ],
      "text/plain": [
       "                                visitor_id  \\\n",
       "0  1090251605873082495_2752460703675496372   \n",
       "1  1510768841404838507_2693795377122240178   \n",
       "2  1793249497134049448_5362114527312760384   \n",
       "3    2121324087455608913_96201523021831503   \n",
       "4  2170100761098433374_5134514360716701293   \n",
       "\n",
       "                                       journey_final  \\\n",
       "0  [vehiclenew, homepage, others, directselling, ...   \n",
       "1  [homepage, offers, vehiclenew, offers, vehicle...   \n",
       "2  [homepage, vehiclenew, design, specifications,...   \n",
       "3  [homepage, vehiclenew, specifications, vehicle...   \n",
       "4  [homepage, others, vehiclenew, design, charact...   \n",
       "\n",
       "                                  journey_time_final  is_converted_emb  \\\n",
       "0  [20.103332999999992, 0.5, 0.33333334, 0.666666...                 0   \n",
       "1  [0.15, 0.2, 0.31666666, 0.083333336, 0.1333333...                 0   \n",
       "2  [0.33333334, 0.06666667, 0.46666667, 0.2166666...                 0   \n",
       "3    [0.81666666, 0.16666667, 0.1, 0.06666667, 0.08]                 0   \n",
       "4  [0.5, 0.13333334, 0.083333336, 0.26666668, 0.6...                 0   \n",
       "\n",
       "   Journey_Length  Time_spent_Length  \n",
       "0               6                  6  \n",
       "1              12                 12  \n",
       "2               5                  5  \n",
       "3               5                  5  \n",
       "4               9                  9  "
      ]
     },
     "execution_count": 43,
     "metadata": {},
     "output_type": "execute_result"
    }
   ],
   "source": [
    "pd_df.head(5)"
   ]
  },
  {
   "cell_type": "code",
   "execution_count": 44,
   "metadata": {},
   "outputs": [],
   "source": [
    "pd_df = pd_df[pd_df['Journey_Length'] > 4 ]"
   ]
  },
  {
   "cell_type": "code",
   "execution_count": 45,
   "metadata": {},
   "outputs": [],
   "source": [
    "del pd_df['Journey_Length']\n",
    "del pd_df['Time_spent_Length']"
   ]
  },
  {
   "cell_type": "code",
   "execution_count": 46,
   "metadata": {},
   "outputs": [],
   "source": [
    "df_test = pd_df.reset_index(drop=True)"
   ]
  },
  {
   "cell_type": "markdown",
   "metadata": {},
   "source": [
    "## Word Embeddings"
   ]
  },
  {
   "cell_type": "code",
   "execution_count": 47,
   "metadata": {},
   "outputs": [],
   "source": [
    "from gensim.models import Word2Vec"
   ]
  },
  {
   "cell_type": "code",
   "execution_count": 48,
   "metadata": {},
   "outputs": [],
   "source": [
    "# train model\n",
    "model = Word2Vec(df_test['journey_final'])"
   ]
  },
  {
   "cell_type": "code",
   "execution_count": 49,
   "metadata": {},
   "outputs": [
    {
     "name": "stdout",
     "output_type": "stream",
     "text": [
      "Word2Vec(vocab=19, size=100, alpha=0.025)\n"
     ]
    }
   ],
   "source": [
    "# summarize the loaded model\n",
    "print(model)"
   ]
  },
  {
   "cell_type": "code",
   "execution_count": 50,
   "metadata": {},
   "outputs": [],
   "source": [
    "# summarize vocabulary\n",
    "words = list(model.wv.vocab)"
   ]
  },
  {
   "cell_type": "code",
   "execution_count": 51,
   "metadata": {},
   "outputs": [
    {
     "name": "stdout",
     "output_type": "stream",
     "text": [
      "['vehiclenew', 'homepage', 'others', 'directselling', 'offers', 'specifications', 'design', 'characteristics', 'performance', 'accessories', 'experience', 'selectvehicle', 'periodicreview', 'contactus', 'services', 'manuals', 'features', 'pcd', 'warranty']\n"
     ]
    }
   ],
   "source": [
    "print(words)"
   ]
  },
  {
   "cell_type": "code",
   "execution_count": 52,
   "metadata": {},
   "outputs": [
    {
     "name": "stdout",
     "output_type": "stream",
     "text": [
      "[-0.04772591 -0.04167481  0.19210704  0.14672163 -0.12140156 -0.01274022\n",
      "  0.1706804  -0.05378112  0.18927281 -0.11722372  0.19962643  0.00125242\n",
      " -0.1043983   0.00304924  0.05052494  0.0158354  -0.15930167  0.04133056\n",
      "  0.3183603  -0.26873857 -0.2066022  -0.0442428   0.27239475 -0.10108963\n",
      "  0.0779876   0.00752872 -0.11482155  0.08033287  0.09246202 -0.17607336\n",
      "  0.17656356 -0.03781507  0.28691119  0.11566859  0.14909969 -0.04621717\n",
      "  0.19183882  0.12589605 -0.09101734 -0.18251802 -0.27297089  0.18653734\n",
      " -0.15134321  0.25379503 -0.18180494  0.15525094 -0.38306361  0.06689005\n",
      "  0.23344685 -0.128582    0.0621389  -0.17937444 -0.12724771 -0.01517399\n",
      "  0.11731938  0.01741882  0.1718443   0.09000698  0.06929589 -0.25211763\n",
      "  0.19931947 -0.13553366 -0.05492676  0.24600205  0.15269667  0.18070148\n",
      "  0.25869751  0.16415091 -0.06116391 -0.0550192   0.13383681 -0.11287972\n",
      " -0.26002297 -0.05761451 -0.04564952 -0.08283179 -0.22516674  0.01014763\n",
      "  0.22251759  0.30620483  0.05226942 -0.29936683  0.0128461   0.02846084\n",
      "  0.13179344 -0.09916823  0.23349647 -0.09369104 -0.0107929  -0.16799729\n",
      " -0.08399288  0.03041342 -0.15323608  0.01239469  0.02534377  0.21179929\n",
      "  0.03499651  0.175595   -0.1619058  -0.17496131]\n"
     ]
    },
    {
     "name": "stderr",
     "output_type": "stream",
     "text": [
      "/opt/conda/lib/python3.6/site-packages/ipykernel_launcher.py:1: DeprecationWarning: Call to deprecated `__getitem__` (Method will be removed in 4.0.0, use self.wv.__getitem__() instead).\n",
      "  \"\"\"Entry point for launching an IPython kernel.\n"
     ]
    }
   ],
   "source": [
    "print(model['vehiclenew'])"
   ]
  },
  {
   "cell_type": "code",
   "execution_count": 53,
   "metadata": {},
   "outputs": [
    {
     "name": "stderr",
     "output_type": "stream",
     "text": [
      "/opt/conda/lib/python3.6/site-packages/ipykernel_launcher.py:1: DeprecationWarning: Call to deprecated `__getitem__` (Method will be removed in 4.0.0, use self.wv.__getitem__() instead).\n",
      "  \"\"\"Entry point for launching an IPython kernel.\n"
     ]
    }
   ],
   "source": [
    "X=model[model.wv.vocab]"
   ]
  },
  {
   "cell_type": "code",
   "execution_count": 54,
   "metadata": {},
   "outputs": [
    {
     "data": {
      "text/plain": [
       "(19, 100)"
      ]
     },
     "execution_count": 54,
     "metadata": {},
     "output_type": "execute_result"
    }
   ],
   "source": [
    "X.shape"
   ]
  },
  {
   "cell_type": "code",
   "execution_count": 55,
   "metadata": {},
   "outputs": [],
   "source": [
    "dictionary = dict(zip(words, X))"
   ]
  },
  {
   "cell_type": "code",
   "execution_count": 56,
   "metadata": {},
   "outputs": [
    {
     "name": "stdout",
     "output_type": "stream",
     "text": [
      "<class 'pandas.core.frame.DataFrame'>\n",
      "RangeIndex: 57767 entries, 0 to 57766\n",
      "Data columns (total 4 columns):\n",
      "visitor_id            57767 non-null object\n",
      "journey_final         57767 non-null object\n",
      "journey_time_final    57767 non-null object\n",
      "is_converted_emb      57767 non-null int32\n",
      "dtypes: int32(1), object(3)\n",
      "memory usage: 1.5+ MB\n"
     ]
    }
   ],
   "source": [
    "df_test.info()"
   ]
  },
  {
   "cell_type": "code",
   "execution_count": 57,
   "metadata": {},
   "outputs": [
    {
     "data": {
      "text/html": [
       "<div>\n",
       "<table border=\"1\" class=\"dataframe\">\n",
       "  <thead>\n",
       "    <tr style=\"text-align: right;\">\n",
       "      <th></th>\n",
       "      <th>visitor_id</th>\n",
       "      <th>journey_final</th>\n",
       "      <th>journey_time_final</th>\n",
       "      <th>is_converted_emb</th>\n",
       "    </tr>\n",
       "  </thead>\n",
       "  <tbody>\n",
       "    <tr>\n",
       "      <th>0</th>\n",
       "      <td>1090251605873082495_2752460703675496372</td>\n",
       "      <td>[vehiclenew, homepage, others, directselling, ...</td>\n",
       "      <td>[20.103332999999992, 0.5, 0.33333334, 0.666666...</td>\n",
       "      <td>0</td>\n",
       "    </tr>\n",
       "    <tr>\n",
       "      <th>1</th>\n",
       "      <td>1510768841404838507_2693795377122240178</td>\n",
       "      <td>[homepage, offers, vehiclenew, offers, vehicle...</td>\n",
       "      <td>[0.15, 0.2, 0.31666666, 0.083333336, 0.1333333...</td>\n",
       "      <td>0</td>\n",
       "    </tr>\n",
       "    <tr>\n",
       "      <th>2</th>\n",
       "      <td>1793249497134049448_5362114527312760384</td>\n",
       "      <td>[homepage, vehiclenew, design, specifications,...</td>\n",
       "      <td>[0.33333334, 0.06666667, 0.46666667, 0.2166666...</td>\n",
       "      <td>0</td>\n",
       "    </tr>\n",
       "  </tbody>\n",
       "</table>\n",
       "</div>"
      ],
      "text/plain": [
       "                                visitor_id  \\\n",
       "0  1090251605873082495_2752460703675496372   \n",
       "1  1510768841404838507_2693795377122240178   \n",
       "2  1793249497134049448_5362114527312760384   \n",
       "\n",
       "                                       journey_final  \\\n",
       "0  [vehiclenew, homepage, others, directselling, ...   \n",
       "1  [homepage, offers, vehiclenew, offers, vehicle...   \n",
       "2  [homepage, vehiclenew, design, specifications,...   \n",
       "\n",
       "                                  journey_time_final  is_converted_emb  \n",
       "0  [20.103332999999992, 0.5, 0.33333334, 0.666666...                 0  \n",
       "1  [0.15, 0.2, 0.31666666, 0.083333336, 0.1333333...                 0  \n",
       "2  [0.33333334, 0.06666667, 0.46666667, 0.2166666...                 0  "
      ]
     },
     "execution_count": 57,
     "metadata": {},
     "output_type": "execute_result"
    }
   ],
   "source": [
    "df_test.head(3)"
   ]
  },
  {
   "cell_type": "code",
   "execution_count": 58,
   "metadata": {},
   "outputs": [],
   "source": [
    "sample_df=df_test.head(3)"
   ]
  },
  {
   "cell_type": "code",
   "execution_count": 59,
   "metadata": {},
   "outputs": [
    {
     "data": {
      "text/html": [
       "<div>\n",
       "<table border=\"1\" class=\"dataframe\">\n",
       "  <thead>\n",
       "    <tr style=\"text-align: right;\">\n",
       "      <th></th>\n",
       "      <th>visitor_id</th>\n",
       "      <th>journey_final</th>\n",
       "      <th>journey_time_final</th>\n",
       "      <th>is_converted_emb</th>\n",
       "    </tr>\n",
       "  </thead>\n",
       "  <tbody>\n",
       "    <tr>\n",
       "      <th>0</th>\n",
       "      <td>1090251605873082495_2752460703675496372</td>\n",
       "      <td>[vehiclenew, homepage, others, directselling, ...</td>\n",
       "      <td>[20.103332999999992, 0.5, 0.33333334, 0.666666...</td>\n",
       "      <td>0</td>\n",
       "    </tr>\n",
       "    <tr>\n",
       "      <th>1</th>\n",
       "      <td>1510768841404838507_2693795377122240178</td>\n",
       "      <td>[homepage, offers, vehiclenew, offers, vehicle...</td>\n",
       "      <td>[0.15, 0.2, 0.31666666, 0.083333336, 0.1333333...</td>\n",
       "      <td>0</td>\n",
       "    </tr>\n",
       "    <tr>\n",
       "      <th>2</th>\n",
       "      <td>1793249497134049448_5362114527312760384</td>\n",
       "      <td>[homepage, vehiclenew, design, specifications,...</td>\n",
       "      <td>[0.33333334, 0.06666667, 0.46666667, 0.2166666...</td>\n",
       "      <td>0</td>\n",
       "    </tr>\n",
       "  </tbody>\n",
       "</table>\n",
       "</div>"
      ],
      "text/plain": [
       "                                visitor_id  \\\n",
       "0  1090251605873082495_2752460703675496372   \n",
       "1  1510768841404838507_2693795377122240178   \n",
       "2  1793249497134049448_5362114527312760384   \n",
       "\n",
       "                                       journey_final  \\\n",
       "0  [vehiclenew, homepage, others, directselling, ...   \n",
       "1  [homepage, offers, vehiclenew, offers, vehicle...   \n",
       "2  [homepage, vehiclenew, design, specifications,...   \n",
       "\n",
       "                                  journey_time_final  is_converted_emb  \n",
       "0  [20.103332999999992, 0.5, 0.33333334, 0.666666...                 0  \n",
       "1  [0.15, 0.2, 0.31666666, 0.083333336, 0.1333333...                 0  \n",
       "2  [0.33333334, 0.06666667, 0.46666667, 0.2166666...                 0  "
      ]
     },
     "execution_count": 59,
     "metadata": {},
     "output_type": "execute_result"
    }
   ],
   "source": [
    "sample_df"
   ]
  },
  {
   "cell_type": "code",
   "execution_count": 60,
   "metadata": {},
   "outputs": [],
   "source": [
    "def seq_func(journey,time_spent):\n",
    "    user_result=np.zeros((len(journey),100))\n",
    "    \n",
    "    count=0\n",
    "    for category,category_time in zip(journey,time_spent):\n",
    "        user_vector=category_time*np.array(dictionary[category])\n",
    "        user_result[ count]=user_vector\n",
    "        count +=1\n",
    "    seq_emb=np.mean(user_result,axis=0)\n",
    "    return seq_emb"
   ]
  },
  {
   "cell_type": "code",
   "execution_count": 61,
   "metadata": {},
   "outputs": [],
   "source": [
    "def vec_emb():\n",
    "    import pandas as pd\n",
    "    final_vec_df=[]\n",
    "    for i in range(len(df_test)):\n",
    "        final_vec_df.append(seq_func(df_test.journey_final[i],df_test.journey_time_final[i]))\n",
    "    vec_df=pd.DataFrame(final_vec_df)\n",
    "    return vec_df"
   ]
  },
  {
   "cell_type": "code",
   "execution_count": 62,
   "metadata": {},
   "outputs": [],
   "source": [
    "final_vec=vec_emb()"
   ]
  },
  {
   "cell_type": "code",
   "execution_count": 64,
   "metadata": {},
   "outputs": [],
   "source": [
    "import pandas as pd"
   ]
  },
  {
   "cell_type": "code",
   "execution_count": 65,
   "metadata": {},
   "outputs": [],
   "source": [
    "super_data= pd.merge(df_test, final_vec,left_index=True, right_index=True)"
   ]
  },
  {
   "cell_type": "code",
   "execution_count": 66,
   "metadata": {},
   "outputs": [
    {
     "data": {
      "text/plain": [
       "(57767, 104)"
      ]
     },
     "execution_count": 66,
     "metadata": {},
     "output_type": "execute_result"
    }
   ],
   "source": [
    "super_data.shape"
   ]
  },
  {
   "cell_type": "markdown",
   "metadata": {},
   "source": [
    "## Model Building "
   ]
  },
  {
   "cell_type": "code",
   "execution_count": 67,
   "metadata": {},
   "outputs": [
    {
     "data": {
      "text/plain": [
       "0    52720\n",
       "1     5047\n",
       "Name: is_converted_emb, dtype: int64"
      ]
     },
     "execution_count": 67,
     "metadata": {},
     "output_type": "execute_result"
    }
   ],
   "source": [
    "super_data.is_converted_emb.value_counts()"
   ]
  },
  {
   "cell_type": "code",
   "execution_count": 68,
   "metadata": {},
   "outputs": [],
   "source": [
    "import pandas as pd\n",
    "import matplotlib.pyplot as plt\n",
    "from sklearn.preprocessing import StandardScaler, MinMaxScaler\n",
    "from sklearn.model_selection import train_test_split, GridSearchCV\n",
    "from sklearn.linear_model import LogisticRegression\n",
    "from sklearn.ensemble import RandomForestClassifier\n",
    "from sklearn.tree import DecisionTreeClassifier\n",
    "from sklearn.dummy import DummyClassifier\n",
    "import itertools\n",
    "from statsmodels.api import Logit\n",
    "from sklearn.decomposition import PCA\n",
    "from sklearn import metrics\n",
    "import numpy as np\n",
    "%matplotlib inline\n",
    "from sklearn.metrics import classification_report"
   ]
  },
  {
   "cell_type": "code",
   "execution_count": 69,
   "metadata": {},
   "outputs": [],
   "source": [
    "from sklearn.model_selection import train_test_split"
   ]
  },
  {
   "cell_type": "code",
   "execution_count": 70,
   "metadata": {},
   "outputs": [],
   "source": [
    "X =super_data.loc[:,super_data.columns !='visitor_id']\n",
    "X=X.loc[:,X.columns !='journey_final']\n",
    "X =X.loc[:,X.columns !='journey_time_final']\n",
    "X =X.loc[:,X.columns !='is_converted_emb'].as_matrix().astype('float')\n",
    "\n",
    "\n",
    "y = super_data['is_converted_emb'].astype('float').ravel()"
   ]
  },
  {
   "cell_type": "code",
   "execution_count": 71,
   "metadata": {},
   "outputs": [
    {
     "data": {
      "text/plain": [
       "(57767, 100)"
      ]
     },
     "execution_count": 71,
     "metadata": {},
     "output_type": "execute_result"
    }
   ],
   "source": [
    "X.shape"
   ]
  },
  {
   "cell_type": "code",
   "execution_count": 72,
   "metadata": {},
   "outputs": [
    {
     "data": {
      "text/plain": [
       "(57767,)"
      ]
     },
     "execution_count": 72,
     "metadata": {},
     "output_type": "execute_result"
    }
   ],
   "source": [
    "y.shape"
   ]
  },
  {
   "cell_type": "code",
   "execution_count": 73,
   "metadata": {},
   "outputs": [],
   "source": [
    "X_train, X_test, y_train, y_test = train_test_split(X, y, test_size=0.3, random_state=12, stratify=y)"
   ]
  },
  {
   "cell_type": "code",
   "execution_count": 74,
   "metadata": {},
   "outputs": [],
   "source": [
    "# Common functions to train and evaluate model\n",
    "def plot_roc_confusion_matrix(fpr, tpr, auc, title,cm, cmap=plt.cm.Blues):\n",
    "    f, (ax1, ax2) = plt.subplots(1,2, figsize=(14,5))\n",
    "    \n",
    "    # ROC curve\n",
    "    ax1.set_title('ROC Curve : ' +  title)\n",
    "    ax1.set_ylabel('True Positive Rate')\n",
    "    ax1.set_xlabel('False Positive Rate')\n",
    "    ax1.plot(fpr, tpr, 'c', label = 'AUC = {0:.2f}'.format(auc))\n",
    "    ax1.plot([0, 1], [0, 1], linestyle='--', color='grey')\n",
    "    ax1.set_xlim([0, 1])\n",
    "    ax1.set_ylim([0, 1])\n",
    "    ax1.legend(loc='best')\n",
    "    \n",
    "    # Confusion matrix\n",
    "    classes = ['Not Converted', 'Converted']\n",
    "    im = ax2.imshow(cm, interpolation='nearest', cmap=cmap)\n",
    "    ax2.set_title('Confusion Matrix')\n",
    "    f.colorbar(im, ax=ax2)\n",
    "    tick_marks = np.arange(len(classes))\n",
    "    ax2.set_xticks(tick_marks)\n",
    "    ax2.set_xticklabels(classes)\n",
    "    ax2.set_yticks(tick_marks)\n",
    "    ax2.set_yticklabels(classes)\n",
    "    ax2.set_ylabel('True label')\n",
    "    ax2.set_xlabel('Predicted label')\n",
    "    thresh = cm.max() / 2.\n",
    "    for i, j in itertools.product(range(cm.shape[0]), range(cm.shape[1])):\n",
    "        plt.text(j, i, cm[i, j],horizontalalignment=\"center\", \n",
    "                 color=\"white\" if cm[i, j] > thresh else \"black\")\n",
    "    plt.grid(False)\n",
    "    \n",
    "    plt.tight_layout()\n",
    "    plt.show()\n",
    "    \n",
    "# Show Confusion Matrix\n",
    "def plot_confusion_matrix(cm, cmap=plt.cm.Blues):\n",
    "    ''' Show confusion matrix plot\n",
    "    '''\n",
    "    classes = ['Not Converted', 'Converted']\n",
    "    plt.figure(figsize=(5,3))\n",
    "    plt.imshow(cm, interpolation='nearest', cmap=cmap)\n",
    "    plt.title('Confusion Matrix')\n",
    "    plt.colorbar()\n",
    "    tick_marks = np.arange(len(classes))\n",
    "    plt.xticks(tick_marks, classes, rotation=45)\n",
    "    plt.yticks(tick_marks, classes)\n",
    "    plt.tight_layout()\n",
    "    plt.ylabel('True label')\n",
    "    plt.xlabel('Predicted label')\n",
    "    for i, j in itertools.product(range(cm.shape[0]), range(cm.shape[1])):\n",
    "        plt.text(j, i, cm[i, j],\n",
    "                 horizontalalignment=\"center\",\n",
    "                 color=\"c\")\n",
    "    plt.grid(False)\n",
    "    \n",
    "\n",
    "\n",
    "# Plot ROC curve\n",
    "def Plot_ROC_Curve(fpr, tpr, auc, title):\n",
    "    f, ax = plt.subplots(figsize=(6,4))\n",
    "    ax.set_title('ROC Curve : ' +  title)\n",
    "    ax.set_ylabel('True Positive Rate')\n",
    "    ax.set_xlabel('False Positive Rate')\n",
    "    ax.plot(fpr, tpr, 'c', label = 'AUC = {0:.2f}'.format(auc))\n",
    "    ax.plot([0, 1], [0, 1], linestyle='--', color='grey')\n",
    "    ax.set_xlim([0, 1])\n",
    "    ax.set_ylim([0, 1])\n",
    "    plt.legend(loc = 'best')\n",
    "    plt.tight_layout()\n",
    "    plt.show()\n",
    "\n",
    "# Get Model report\n",
    "def Model_Report(model, title, X_train, y_train, X_test, y_test, trained=False):\n",
    "    print('Model : ', title)\n",
    "    # Fit the model using training data if not already trained\n",
    "    if trained == False:\n",
    "        model.fit(X_train,y_train)\n",
    "    # get the predicted labels\n",
    "    test_preds = model.predict(X_test)\n",
    "    # get the predicted probabilities\n",
    "    test_preds_proba = model.predict_proba(X_test)[:,1]\n",
    "    # get the false positive rate and true positive rate\n",
    "    fpr, tpr, _ = metrics.roc_curve(y_test, test_preds_proba)\n",
    "    # calculate AUC (area under the curve)\n",
    "    auc = metrics.auc(fpr,tpr)\n",
    "    print('Model Report')\n",
    "    print('Test Accuracy : {0:.2f}'.format(metrics.accuracy_score(y_test, test_preds)))\n",
    "    print('Test AUC :{0:.2f}'.format(auc))\n",
    "    cm = metrics.confusion_matrix(y_test, test_preds)\n",
    "    # plot ROC and Confusion Matrix\n",
    "    plot_roc_confusion_matrix(fpr, tpr, auc, title, cm)\n",
    "    print(classification_report(y_test, test_preds,\n",
    "                            target_names=[\"visitors\", \"Buyers\"]))\n",
    "    return model, fpr, tpr, auc\n",
    "\n",
    "# Compare ROC Curves from different models\n",
    "def Compare_ROC_Curve(metrics_list):\n",
    "    f, ax = plt.subplots(figsize=(6,4))\n",
    "    ax.set_title('ROC Curve Comparison ')\n",
    "    ax.set_ylabel('True Positive Rate')\n",
    "    ax.set_xlabel('False Positive Rate')\n",
    "    for fpr, tpr, auc, title in metrics_list:\n",
    "        ax.plot(fpr, tpr, label = 'AUC ({0}) = {1:.2f}'.format(title,auc))\n",
    "    ax.plot([0, 1], [0, 1], linestyle='--', color='grey')\n",
    "    ax.set_xlim([0, 1])\n",
    "    ax.set_ylim([0, 1])\n",
    "    plt.legend(loc = 'best')\n",
    "    plt.tight_layout()\n",
    "    plt.show()\n",
    "    \n",
    "def Perform_Grid_Search(model, param_grid, X_train, y_train, cv=None,scoring='roc_auc'):\n",
    "    # Using GridSearchCV to perform GridSearch,  Default Scoring metrics : AUC\n",
    "    grid = GridSearchCV(verbose=1,estimator=model,param_grid=param_grid, scoring=scoring)\n",
    "    # Fit the grid using original training data\n",
    "    grid_result = grid.fit(X_train, y_train)\n",
    "    # Best Score\n",
    "    print('Best Score: ', grid_result.best_score_)\n",
    "    # Best Parameters\n",
    "    print('Best Parameters: ', grid_result.best_params_)\n",
    "    return grid_result.best_score_, grid_result.best_params_, grid_result.best_estimator_\n",
    "    "
   ]
  },
  {
   "cell_type": "code",
   "execution_count": 75,
   "metadata": {},
   "outputs": [
    {
     "name": "stdout",
     "output_type": "stream",
     "text": [
      "Model :  Logistic Regression\n",
      "Model Report\n",
      "Test Accuracy : 0.93\n",
      "Test AUC :0.96\n"
     ]
    },
    {
     "data": {
      "image/png": "[encoded data removed]",
      "text/plain": [
       "<matplotlib.figure.Figure at 0x7f593fbb8da0>"
      ]
     },
     "metadata": {},
     "output_type": "display_data"
    },
    {
     "name": "stdout",
     "output_type": "stream",
     "text": [
      "             precision    recall  f1-score   support\n",
      "\n",
      "   visitors       0.98      0.94      0.96     15817\n",
      "     Buyers       0.58      0.85      0.69      1514\n",
      "\n",
      "avg / total       0.95      0.93      0.94     17331\n",
      "\n"
     ]
    }
   ],
   "source": [
    "# Create Logistic Regression Model\n",
    "# We are using class_weight to be balanced so that weights are adjusted as per output class proportion\n",
    "model = LogisticRegression(class_weight='balanced', random_state=99)\n",
    "model_lr, fpr_lr, tpr_lr, auc_lr = Model_Report(model,'Logistic Regression', X_train, y_train, X_test, y_test)"
   ]
  },
  {
   "cell_type": "code",
   "execution_count": null,
   "metadata": {},
   "outputs": [],
   "source": []
  },
  {
   "cell_type": "markdown",
   "metadata": {},
   "source": [
    "# T-sne Plots"
   ]
  },
  {
   "cell_type": "code",
   "execution_count": 80,
   "metadata": {},
   "outputs": [],
   "source": [
    "df_tsne=final_vec.sample(5000)"
   ]
  },
  {
   "cell_type": "code",
   "execution_count": 81,
   "metadata": {},
   "outputs": [],
   "source": [
    "df_new = df_tsne.reset_index(drop=True)"
   ]
  },
  {
   "cell_type": "code",
   "execution_count": 82,
   "metadata": {},
   "outputs": [
    {
     "data": {
      "text/plain": [
       "(5000, 100)"
      ]
     },
     "execution_count": 82,
     "metadata": {},
     "output_type": "execute_result"
    }
   ],
   "source": [
    "df_new.shape"
   ]
  },
  {
   "cell_type": "code",
   "execution_count": 83,
   "metadata": {},
   "outputs": [
    {
     "name": "stdout",
     "output_type": "stream",
     "text": [
      "[t-SNE] Computing 181 nearest neighbors...\n",
      "[t-SNE] Indexed 5000 samples in 0.013s...\n",
      "[t-SNE] Computed neighbors for 5000 samples in 2.891s...\n",
      "[t-SNE] Computed conditional probabilities for sample 1000 / 5000\n",
      "[t-SNE] Computed conditional probabilities for sample 2000 / 5000\n",
      "[t-SNE] Computed conditional probabilities for sample 3000 / 5000\n",
      "[t-SNE] Computed conditional probabilities for sample 4000 / 5000\n",
      "[t-SNE] Computed conditional probabilities for sample 5000 / 5000\n",
      "[t-SNE] Mean sigma: 0.130774\n",
      "[t-SNE] KL divergence after 250 iterations with early exaggeration: 70.168808\n",
      "[t-SNE] Error after 300 iterations: 1.485842\n",
      "t-SNE done! Time elapsed: 44.86812138557434 seconds\n"
     ]
    }
   ],
   "source": [
    "import time\n",
    "\n",
    "from sklearn.manifold import TSNE\n",
    "\n",
    "n_sne = 7000\n",
    "\n",
    "time_start = time.time()\n",
    "tsne = TSNE(n_components=2, verbose=1, perplexity=60, n_iter=300)\n",
    "tsne_results = tsne.fit_transform(df_new)\n",
    "\n",
    "print('t-SNE done! Time elapsed: {} seconds'.format(time.time()-time_start))"
   ]
  },
  {
   "cell_type": "code",
   "execution_count": 69,
   "metadata": {},
   "outputs": [
    {
     "data": {
      "image/png": "[encoded data removed]",
      "text/plain": [
       "<matplotlib.figure.Figure at 0x7fbe0fd76a20>"
      ]
     },
     "metadata": {},
     "output_type": "display_data"
    }
   ],
   "source": [
    "import matplotlib.pyplot as plt\n",
    "%matplotlib inline\n",
    "plt.figure(figsize=(10, 10))\n",
    "plt.scatter(tsne_results[:, 0], tsne_results[:, 1]);\n",
    "plt.xticks(()); plt.yticks(());\n",
    "plt.show()"
   ]
  },
  {
   "cell_type": "code",
   "execution_count": 84,
   "metadata": {},
   "outputs": [
    {
     "name": "stdout",
     "output_type": "stream",
     "text": [
      "Collecting MulticoreTSNE\n",
      "  Downloading MulticoreTSNE-0.0.1.1-py2.py3-none-manylinux1_x86_64.whl (52kB)\n",
      "\u001b[K    100% |████████████████████████████████| 61kB 641kB/s \n",
      "\u001b[?25hRequirement already satisfied: numpy in /opt/conda/lib/python3.6/site-packages (from MulticoreTSNE)\n",
      "Requirement already satisfied: cffi in /opt/conda/lib/python3.6/site-packages (from MulticoreTSNE)\n",
      "Requirement already satisfied: pycparser in /opt/conda/lib/python3.6/site-packages (from cffi->MulticoreTSNE)\n",
      "Installing collected packages: MulticoreTSNE\n",
      "Successfully installed MulticoreTSNE-0.0.1.1\n",
      "\u001b[33mYou are using pip version 9.0.1, however version 9.0.3 is available.\n",
      "You should consider upgrading via the 'pip install --upgrade pip' command.\u001b[0m\n"
     ]
    }
   ],
   "source": [
    "!pip install MulticoreTSNE"
   ]
  },
  {
   "cell_type": "code",
   "execution_count": 103,
   "metadata": {},
   "outputs": [],
   "source": [
    "from MulticoreTSNE import MulticoreTSNE as TSNE"
   ]
  },
  {
   "cell_type": "code",
   "execution_count": 92,
   "metadata": {},
   "outputs": [],
   "source": [
    "tsne = TSNE(n_jobs=4,perplexity=30,n_iter=300)\n",
    "Y = tsne.fit_transform(df_new)"
   ]
  },
  {
   "cell_type": "code",
   "execution_count": 93,
   "metadata": {},
   "outputs": [
    {
     "data": {
      "image/png": "[encoded data removed]",
      "text/plain": [
       "<matplotlib.figure.Figure at 0x7f58f3ee62e8>"
      ]
     },
     "metadata": {},
     "output_type": "display_data"
    }
   ],
   "source": [
    "import matplotlib.pyplot as plt\n",
    "%matplotlib inline\n",
    "plt.figure(figsize=(10, 10))\n",
    "plt.scatter(Y[:, 0], Y[:, 1]);\n",
    "plt.xticks(()); plt.yticks(());\n",
    "plt.show()"
   ]
  },
  {
   "cell_type": "markdown",
   "metadata": {},
   "source": [
    "## Plotting t-sne with labels"
   ]
  },
  {
   "cell_type": "code",
   "execution_count": 137,
   "metadata": {},
   "outputs": [
    {
     "data": {
      "text/plain": [
       "(25000, 104)"
      ]
     },
     "execution_count": 137,
     "metadata": {},
     "output_type": "execute_result"
    }
   ],
   "source": [
    "df_tsne=super_data.sample(25000)\n",
    "df_new = df_tsne.reset_index(drop=True)\n",
    "df_new.shape"
   ]
  },
  {
   "cell_type": "code",
   "execution_count": 138,
   "metadata": {},
   "outputs": [],
   "source": [
    "tsne_df=df_new.loc[:, df_new.columns != 'visitor_id']\n",
    "tsne_df=tsne_df.loc[:, tsne_df.columns != 'journey_final']\n",
    "tsne_df=tsne_df.loc[:, tsne_df.columns != 'journey_time_final']\n",
    "tsne_df=tsne_df.loc[:, tsne_df.columns != 'is_converted_emb']\n",
    "\n",
    "y=df_new.loc[:, df_new.columns == 'is_converted_emb']"
   ]
  },
  {
   "cell_type": "code",
   "execution_count": null,
   "metadata": {},
   "outputs": [],
   "source": [
    "tsne = TSNE(n_jobs=2,perplexity=40,n_iter=300)\n",
    "X_tsne = tsne.fit_transform(tsne_df)"
   ]
  },
  {
   "cell_type": "code",
   "execution_count": null,
   "metadata": {},
   "outputs": [],
   "source": [
    "fig, ax = plt.subplots()\n",
    "\n",
    "groups = pd.DataFrame(X_tsne, columns=['x', 'y']).assign(category=y).groupby('category')\n",
    "for name, points in groups:\n",
    "    ax.scatter(points.x, points.y, label=name)\n",
    "\n",
    "ax.legend()"
   ]
  },
  {
   "cell_type": "code",
   "execution_count": null,
   "metadata": {},
   "outputs": [],
   "source": []
  }
 ],
 "metadata": {
  "kernelspec": {
   "display_name": "Python 3",
   "language": "python",
   "name": "python3"
  },
  "language_info": {
   "codemirror_mode": {
    "name": "ipython",
    "version": 3
   },
   "file_extension": ".py",
   "mimetype": "text/x-python",
   "name": "python",
   "nbconvert_exporter": "python",
   "pygments_lexer": "ipython3",
   "version": "3.6.4"
  }
 },
 "nbformat": 4,
 "nbformat_minor": 2
}
